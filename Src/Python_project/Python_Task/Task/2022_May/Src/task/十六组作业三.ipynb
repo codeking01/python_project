{
 "cells": [
  {
   "cell_type": "code",
   "execution_count": null,
   "metadata": {
    "collapsed": true,
    "pycharm": {
     "name": "#%%\n"
    }
   },
   "outputs": [],
   "source": [
    "# 这个作业的代码 我当时删除了\n",
    "# 这个地方，我简要讲一下实现的思路和总要的点\n",
    "# 分轻重关键组分\n",
    "# 求解是劳克斯方程，然后相对挥发度带入，算出来的组分，用临界条件判断是否满足，不满足重新迭代计算，直到算出合适的结果\n",
    "# 在一个就是求解未知数，python中有一个很好的计算库，叫做 sympy，这个可以很方便求解各种方程和函数计算\n"
   ]
  }
 ],
 "metadata": {
  "kernelspec": {
   "display_name": "Python 3",
   "language": "python",
   "name": "python3"
  },
  "language_info": {
   "codemirror_mode": {
    "name": "ipython",
    "version": 2
   },
   "file_extension": ".py",
   "mimetype": "text/x-python",
   "name": "python",
   "nbconvert_exporter": "python",
   "pygments_lexer": "ipython2",
   "version": "2.7.6"
  }
 },
 "nbformat": 4,
 "nbformat_minor": 0
}