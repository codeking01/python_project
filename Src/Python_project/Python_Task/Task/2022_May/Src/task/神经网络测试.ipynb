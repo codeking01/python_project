{
 "cells": [
  {
   "cell_type": "code",
   "execution_count": 1,
   "metadata": {
    "collapsed": true,
    "pycharm": {
     "name": "#%%\n"
    }
   },
   "outputs": [
    {
     "name": "stdout",
     "output_type": "stream",
     "text": [
      "<class 'pandas.core.frame.DataFrame'>\n"
     ]
    },
    {
     "name": "stderr",
     "output_type": "stream",
     "text": [
      "C:\\Users\\king\\AppData\\Local\\Temp\\ipykernel_3044\\2104092751.py:11: SettingWithCopyWarning: \n",
      "A value is trying to be set on a copy of a slice from a DataFrame.\n",
      "Try using .loc[row_indexer,col_indexer] = value instead\n",
      "\n",
      "See the caveats in the documentation: https://pandas.pydata.org/pandas-docs/stable/user_guide/indexing.html#returning-a-view-versus-a-copy\n",
      "  X_data['Mol_Weight']=X_data['Mol_Weight'].fillna(X_data['Mol_Weight'].mean())\n"
     ]
    },
    {
     "data": {
      "text/plain": "False"
     },
     "execution_count": 1,
     "metadata": {},
     "output_type": "execute_result"
    }
   ],
   "source": [
    "import pandas as pd\n",
    "import pandas\n",
    "df = pandas.read_excel(\"density_data.xlsx\",sheet_name='data_1')\n",
    "X_data=df[['Mol_Weight','Temperature, K']]\n",
    "Y_data=df['Property_number_all']\n",
    "Y_data=Y_data.fillna(Y_data.mean())\n",
    "import numpy as np\n",
    "print(type(X_data))\n",
    "X_data['Mol_Weight'].isnull().any()\n",
    "# X_data['Mol_Weight']=X_data['Mol_Weight'].copy()\n",
    "X_data['Mol_Weight']=X_data['Mol_Weight'].fillna(X_data['Mol_Weight'].mean())\n",
    "X_data['Mol_Weight'].isnull().any()"
   ]
  },
  {
   "cell_type": "code",
   "execution_count": 3,
   "outputs": [
    {
     "name": "stdout",
     "output_type": "stream",
     "text": [
      "fitting model right now\n"
     ]
    }
   ],
   "source": [
    "'''模型构建'''\n",
    "from sklearn.neural_network import MLPRegressor\n",
    "fit1 = MLPRegressor(\n",
    "    hidden_layer_sizes=(100,50), activation='relu',solver='adam',\n",
    "    # '''第一个隐藏层有100个节点，第二层有50个，激活函数用relu，梯度下降方法用adam'''\n",
    "    alpha=0.01,max_iter=200)\n",
    "# '''惩罚系数为0.01，最大迭代次数为200'''\n",
    "print (\"fitting model right now\")\n",
    "# .ravel()可以把列向量转化为一个一维数组\n",
    "fit1.fit(X_data,Y_data.ravel())\n",
    "pred1_train = fit1.predict(X_data)"
   ],
   "metadata": {
    "collapsed": false,
    "pycharm": {
     "name": "#%%\n"
    }
   }
  },
  {
   "cell_type": "code",
   "execution_count": 4,
   "outputs": [
    {
     "name": "stdout",
     "output_type": "stream",
     "text": [
      "Train ERROR =  23203.115598044154\n"
     ]
    },
    {
     "data": {
      "text/plain": "'计算测试集mse'"
     },
     "execution_count": 4,
     "metadata": {},
     "output_type": "execute_result"
    }
   ],
   "source": [
    "'''计算训练集 MSE'''\n",
    "from sklearn.metrics import mean_squared_error\n",
    "mse_1 = mean_squared_error(pred1_train,Y_data)\n",
    "print (\"Train ERROR = \", mse_1)\n",
    "'''计算测试集mse'''\n",
    "# pred1_test = fit1.predict(Y_data)\n",
    "# mse_2 = mean_squared_error(pred1_test,Y_data)\n",
    "# print (\"Test ERROR = \", mse_2)"
   ],
   "metadata": {
    "collapsed": false,
    "pycharm": {
     "name": "#%%\n"
    }
   }
  },
  {
   "cell_type": "code",
   "execution_count": 5,
   "outputs": [
    {
     "name": "stdout",
     "output_type": "stream",
     "text": [
      "evs: -270.24%\n"
     ]
    }
   ],
   "source": [
    "# 计算预测的分数\n",
    "from sklearn.metrics import explained_variance_score\n",
    "score=explained_variance_score(pred1_train,Y_data)\n",
    "print('evs: %.2f%%'%(score*100.0))"
   ],
   "metadata": {
    "collapsed": false,
    "pycharm": {
     "name": "#%%\n"
    }
   }
  },
  {
   "cell_type": "code",
   "execution_count": null,
   "outputs": [],
   "source": [],
   "metadata": {
    "collapsed": false,
    "pycharm": {
     "name": "#%%\n"
    }
   }
  }
 ],
 "metadata": {
  "kernelspec": {
   "display_name": "Python 3",
   "language": "python",
   "name": "python3"
  },
  "language_info": {
   "codemirror_mode": {
    "name": "ipython",
    "version": 2
   },
   "file_extension": ".py",
   "mimetype": "text/x-python",
   "name": "python",
   "nbconvert_exporter": "python",
   "pygments_lexer": "ipython2",
   "version": "2.7.6"
  }
 },
 "nbformat": 4,
 "nbformat_minor": 0
}