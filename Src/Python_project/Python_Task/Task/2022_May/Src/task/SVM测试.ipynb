{
 "cells": [
  {
   "cell_type": "code",
   "execution_count": 1,
   "outputs": [
    {
     "data": {
      "text/plain": "                                                    Name         Cation  \\\n0      1,2,3-tris(diethylamino)-cyclopropenylium bis(...          [TDC]   \n1      1,2,3-tris(diethylamino)-cyclopropenylium bis(...          [TDC]   \n2      1,2,3-tris(diethylamino)-cyclopropenylium bis(...          [TDC]   \n3      1,2,3-tris(diethylamino)-cyclopropenylium bis(...          [TDC]   \n4      1,2,3-tris(diethylamino)-cyclopropenylium bis(...          [TDC]   \n...                                                  ...            ...   \n19330     (3-aminopropyl)tributylphosphonium L-alaninate  [P444(prNH2)]   \n19331     (3-aminopropyl)tributylphosphonium L-alaninate  [P444(prNH2)]   \n19332     (3-aminopropyl)tributylphosphonium L-alaninate  [P444(prNH2)]   \n19333     (3-aminopropyl)tributylphosphonium L-alaninate  [P444(prNH2)]   \n19334     (3-aminopropyl)tributylphosphonium L-alaninate  [P444(prNH2)]   \n\n       N_Cation               Anion  N_Anion                              ILs  \\\n0             1        [N(SO2CF3)2]        1                [TDC][N(SO2CF3)2]   \n1             1        [N(SO2CF3)2]        1                [TDC][N(SO2CF3)2]   \n2             1        [N(SO2CF3)2]        1                [TDC][N(SO2CF3)2]   \n3             1        [N(SO2CF3)2]        1                [TDC][N(SO2CF3)2]   \n4             1        [N(SO2CF3)2]        1                [TDC][N(SO2CF3)2]   \n...         ...                 ...      ...                              ...   \n19330         1  [mCH(L-NH2)C(=O)O]        1  [P444(prNH2)][mCH(L-NH2)C(=O)O]   \n19331         1  [mCH(L-NH2)C(=O)O]        1  [P444(prNH2)][mCH(L-NH2)C(=O)O]   \n19332         1  [mCH(L-NH2)C(=O)O]        1  [P444(prNH2)][mCH(L-NH2)C(=O)O]   \n19333         1  [mCH(L-NH2)C(=O)O]        1  [P444(prNH2)][mCH(L-NH2)C(=O)O]   \n19334         1  [mCH(L-NH2)C(=O)O]        1  [P444(prNH2)][mCH(L-NH2)C(=O)O]   \n\n              Formula  Mol_Weight  \\\n0      C17H30F6N4O4S2      532.56   \n1      C17H30F6N4O4S2      532.56   \n2      C17H30F6N4O4S2      532.56   \n3      C17H30F6N4O4S2      532.56   \n4      C17H30F6N4O4S2      532.56   \n...               ...         ...   \n19330     C18H41N2O2P      348.51   \n19331     C18H41N2O2P      348.51   \n19332     C18H41N2O2P      348.51   \n19333     C18H41N2O2P      348.51   \n19334     C18H41N2O2P      348.51   \n\n                                          Structure_link  \\\n0      https://ilthermo.boulder.nist.gov/ILT2/ilimage...   \n1      https://ilthermo.boulder.nist.gov/ILT2/ilimage...   \n2      https://ilthermo.boulder.nist.gov/ILT2/ilimage...   \n3      https://ilthermo.boulder.nist.gov/ILT2/ilimage...   \n4      https://ilthermo.boulder.nist.gov/ILT2/ilimage...   \n...                                                  ...   \n19330  https://ilthermo.boulder.nist.gov/ILT2/ilimage...   \n19331  https://ilthermo.boulder.nist.gov/ILT2/ilimage...   \n19332  https://ilthermo.boulder.nist.gov/ILT2/ilimage...   \n19333  https://ilthermo.boulder.nist.gov/ILT2/ilimage...   \n19334  https://ilthermo.boulder.nist.gov/ILT2/ilimage...   \n\n                      Method  ... Property_number_all  \\\n0      Vibrating tube method  ...              1270.2   \n1      Vibrating tube method  ...              1260.2   \n2      Vibrating tube method  ...              1252.2   \n3      Vibrating tube method  ...              1243.9   \n4      Vibrating tube method  ...              1235.2   \n...                      ...  ...                 ...   \n19330  Vibrating tube method  ...               983.7   \n19331  Vibrating tube method  ...               977.6   \n19332  Vibrating tube method  ...               971.6   \n19333  Vibrating tube method  ...               965.7   \n19334  Vibrating tube method  ...               960.0   \n\n       Specific density, kg/m3\\nLiquid  Unnamed: 15  Reason for deletion  \\\n0                                    ±          0.0                  NaN   \n1                                    ±          0.0                  NaN   \n2                                    ±          0.0                  NaN   \n3                                    ±          0.0                  NaN   \n4                                    ±          0.0                  NaN   \n...                                ...          ...                  ...   \n19330                                ±          5.2                  NaN   \n19331                                ±          5.2                  NaN   \n19332                                ±          5.1                  NaN   \n19333                                ±          5.0                  NaN   \n19334                                ±          5.0                  NaN   \n\n                                               Reference  \\\n0      Activity coefficients at infinite dilution for...   \n1      Activity coefficients at infinite dilution for...   \n2      Activity coefficients at infinite dilution for...   \n3      Activity coefficients at infinite dilution for...   \n4      Activity coefficients at infinite dilution for...   \n...                                                  ...   \n19330  Density, Viscosity, and Conductivity for the B...   \n19331  Density, Viscosity, and Conductivity for the B...   \n19332  Density, Viscosity, and Conductivity for the B...   \n19333  Density, Viscosity, and Conductivity for the B...   \n19334  Density, Viscosity, and Conductivity for the B...   \n\n                                                     Ref XL_cation XL_anion  \\\n0      Baelhadj, A. C.; Mutelet, F.; Jiang, B.; Acree...         0        0   \n1      Baelhadj, A. C.; Mutelet, F.; Jiang, B.; Acree...         0        0   \n2      Baelhadj, A. C.; Mutelet, F.; Jiang, B.; Acree...         0        0   \n3      Baelhadj, A. C.; Mutelet, F.; Jiang, B.; Acree...         0        0   \n4      Baelhadj, A. C.; Mutelet, F.; Jiang, B.; Acree...         0        0   \n...                                                  ...       ...      ...   \n19330  Wang, Z.; Fu, L.; Xu, H.; Shang, Y.; Zhang, L....       515       91   \n19331  Wang, Z.; Fu, L.; Xu, H.; Shang, Y.; Zhang, L....       515       91   \n19332  Wang, Z.; Fu, L.; Xu, H.; Shang, Y.; Zhang, L....       515       91   \n19333  Wang, Z.; Fu, L.; Xu, H.; Shang, Y.; Zhang, L....       515       91   \n19334  Wang, Z.; Fu, L.; Xu, H.; Shang, Y.; Zhang, L....       515       91   \n\n      XL_IL  select  \n0         0       1  \n1         0       1  \n2         0       1  \n3         0       1  \n4         0       1  \n...     ...     ...  \n19330  1212       1  \n19331  1212       1  \n19332  1212       1  \n19333  1212       1  \n19334  1212       1  \n\n[19335 rows x 23 columns]",
      "text/html": "<div>\n<style scoped>\n    .dataframe tbody tr th:only-of-type {\n        vertical-align: middle;\n    }\n\n    .dataframe tbody tr th {\n        vertical-align: top;\n    }\n\n    .dataframe thead th {\n        text-align: right;\n    }\n</style>\n<table border=\"1\" class=\"dataframe\">\n  <thead>\n    <tr style=\"text-align: right;\">\n      <th></th>\n      <th>Name</th>\n      <th>Cation</th>\n      <th>N_Cation</th>\n      <th>Anion</th>\n      <th>N_Anion</th>\n      <th>ILs</th>\n      <th>Formula</th>\n      <th>Mol_Weight</th>\n      <th>Structure_link</th>\n      <th>Method</th>\n      <th>...</th>\n      <th>Property_number_all</th>\n      <th>Specific density, kg/m3\\nLiquid</th>\n      <th>Unnamed: 15</th>\n      <th>Reason for deletion</th>\n      <th>Reference</th>\n      <th>Ref</th>\n      <th>XL_cation</th>\n      <th>XL_anion</th>\n      <th>XL_IL</th>\n      <th>select</th>\n    </tr>\n  </thead>\n  <tbody>\n    <tr>\n      <th>0</th>\n      <td>1,2,3-tris(diethylamino)-cyclopropenylium bis(...</td>\n      <td>[TDC]</td>\n      <td>1</td>\n      <td>[N(SO2CF3)2]</td>\n      <td>1</td>\n      <td>[TDC][N(SO2CF3)2]</td>\n      <td>C17H30F6N4O4S2</td>\n      <td>532.56</td>\n      <td>https://ilthermo.boulder.nist.gov/ILT2/ilimage...</td>\n      <td>Vibrating tube method</td>\n      <td>...</td>\n      <td>1270.2</td>\n      <td>±</td>\n      <td>0.0</td>\n      <td>NaN</td>\n      <td>Activity coefficients at infinite dilution for...</td>\n      <td>Baelhadj, A. C.; Mutelet, F.; Jiang, B.; Acree...</td>\n      <td>0</td>\n      <td>0</td>\n      <td>0</td>\n      <td>1</td>\n    </tr>\n    <tr>\n      <th>1</th>\n      <td>1,2,3-tris(diethylamino)-cyclopropenylium bis(...</td>\n      <td>[TDC]</td>\n      <td>1</td>\n      <td>[N(SO2CF3)2]</td>\n      <td>1</td>\n      <td>[TDC][N(SO2CF3)2]</td>\n      <td>C17H30F6N4O4S2</td>\n      <td>532.56</td>\n      <td>https://ilthermo.boulder.nist.gov/ILT2/ilimage...</td>\n      <td>Vibrating tube method</td>\n      <td>...</td>\n      <td>1260.2</td>\n      <td>±</td>\n      <td>0.0</td>\n      <td>NaN</td>\n      <td>Activity coefficients at infinite dilution for...</td>\n      <td>Baelhadj, A. C.; Mutelet, F.; Jiang, B.; Acree...</td>\n      <td>0</td>\n      <td>0</td>\n      <td>0</td>\n      <td>1</td>\n    </tr>\n    <tr>\n      <th>2</th>\n      <td>1,2,3-tris(diethylamino)-cyclopropenylium bis(...</td>\n      <td>[TDC]</td>\n      <td>1</td>\n      <td>[N(SO2CF3)2]</td>\n      <td>1</td>\n      <td>[TDC][N(SO2CF3)2]</td>\n      <td>C17H30F6N4O4S2</td>\n      <td>532.56</td>\n      <td>https://ilthermo.boulder.nist.gov/ILT2/ilimage...</td>\n      <td>Vibrating tube method</td>\n      <td>...</td>\n      <td>1252.2</td>\n      <td>±</td>\n      <td>0.0</td>\n      <td>NaN</td>\n      <td>Activity coefficients at infinite dilution for...</td>\n      <td>Baelhadj, A. C.; Mutelet, F.; Jiang, B.; Acree...</td>\n      <td>0</td>\n      <td>0</td>\n      <td>0</td>\n      <td>1</td>\n    </tr>\n    <tr>\n      <th>3</th>\n      <td>1,2,3-tris(diethylamino)-cyclopropenylium bis(...</td>\n      <td>[TDC]</td>\n      <td>1</td>\n      <td>[N(SO2CF3)2]</td>\n      <td>1</td>\n      <td>[TDC][N(SO2CF3)2]</td>\n      <td>C17H30F6N4O4S2</td>\n      <td>532.56</td>\n      <td>https://ilthermo.boulder.nist.gov/ILT2/ilimage...</td>\n      <td>Vibrating tube method</td>\n      <td>...</td>\n      <td>1243.9</td>\n      <td>±</td>\n      <td>0.0</td>\n      <td>NaN</td>\n      <td>Activity coefficients at infinite dilution for...</td>\n      <td>Baelhadj, A. C.; Mutelet, F.; Jiang, B.; Acree...</td>\n      <td>0</td>\n      <td>0</td>\n      <td>0</td>\n      <td>1</td>\n    </tr>\n    <tr>\n      <th>4</th>\n      <td>1,2,3-tris(diethylamino)-cyclopropenylium bis(...</td>\n      <td>[TDC]</td>\n      <td>1</td>\n      <td>[N(SO2CF3)2]</td>\n      <td>1</td>\n      <td>[TDC][N(SO2CF3)2]</td>\n      <td>C17H30F6N4O4S2</td>\n      <td>532.56</td>\n      <td>https://ilthermo.boulder.nist.gov/ILT2/ilimage...</td>\n      <td>Vibrating tube method</td>\n      <td>...</td>\n      <td>1235.2</td>\n      <td>±</td>\n      <td>0.0</td>\n      <td>NaN</td>\n      <td>Activity coefficients at infinite dilution for...</td>\n      <td>Baelhadj, A. C.; Mutelet, F.; Jiang, B.; Acree...</td>\n      <td>0</td>\n      <td>0</td>\n      <td>0</td>\n      <td>1</td>\n    </tr>\n    <tr>\n      <th>...</th>\n      <td>...</td>\n      <td>...</td>\n      <td>...</td>\n      <td>...</td>\n      <td>...</td>\n      <td>...</td>\n      <td>...</td>\n      <td>...</td>\n      <td>...</td>\n      <td>...</td>\n      <td>...</td>\n      <td>...</td>\n      <td>...</td>\n      <td>...</td>\n      <td>...</td>\n      <td>...</td>\n      <td>...</td>\n      <td>...</td>\n      <td>...</td>\n      <td>...</td>\n      <td>...</td>\n    </tr>\n    <tr>\n      <th>19330</th>\n      <td>(3-aminopropyl)tributylphosphonium L-alaninate</td>\n      <td>[P444(prNH2)]</td>\n      <td>1</td>\n      <td>[mCH(L-NH2)C(=O)O]</td>\n      <td>1</td>\n      <td>[P444(prNH2)][mCH(L-NH2)C(=O)O]</td>\n      <td>C18H41N2O2P</td>\n      <td>348.51</td>\n      <td>https://ilthermo.boulder.nist.gov/ILT2/ilimage...</td>\n      <td>Vibrating tube method</td>\n      <td>...</td>\n      <td>983.7</td>\n      <td>±</td>\n      <td>5.2</td>\n      <td>NaN</td>\n      <td>Density, Viscosity, and Conductivity for the B...</td>\n      <td>Wang, Z.; Fu, L.; Xu, H.; Shang, Y.; Zhang, L....</td>\n      <td>515</td>\n      <td>91</td>\n      <td>1212</td>\n      <td>1</td>\n    </tr>\n    <tr>\n      <th>19331</th>\n      <td>(3-aminopropyl)tributylphosphonium L-alaninate</td>\n      <td>[P444(prNH2)]</td>\n      <td>1</td>\n      <td>[mCH(L-NH2)C(=O)O]</td>\n      <td>1</td>\n      <td>[P444(prNH2)][mCH(L-NH2)C(=O)O]</td>\n      <td>C18H41N2O2P</td>\n      <td>348.51</td>\n      <td>https://ilthermo.boulder.nist.gov/ILT2/ilimage...</td>\n      <td>Vibrating tube method</td>\n      <td>...</td>\n      <td>977.6</td>\n      <td>±</td>\n      <td>5.2</td>\n      <td>NaN</td>\n      <td>Density, Viscosity, and Conductivity for the B...</td>\n      <td>Wang, Z.; Fu, L.; Xu, H.; Shang, Y.; Zhang, L....</td>\n      <td>515</td>\n      <td>91</td>\n      <td>1212</td>\n      <td>1</td>\n    </tr>\n    <tr>\n      <th>19332</th>\n      <td>(3-aminopropyl)tributylphosphonium L-alaninate</td>\n      <td>[P444(prNH2)]</td>\n      <td>1</td>\n      <td>[mCH(L-NH2)C(=O)O]</td>\n      <td>1</td>\n      <td>[P444(prNH2)][mCH(L-NH2)C(=O)O]</td>\n      <td>C18H41N2O2P</td>\n      <td>348.51</td>\n      <td>https://ilthermo.boulder.nist.gov/ILT2/ilimage...</td>\n      <td>Vibrating tube method</td>\n      <td>...</td>\n      <td>971.6</td>\n      <td>±</td>\n      <td>5.1</td>\n      <td>NaN</td>\n      <td>Density, Viscosity, and Conductivity for the B...</td>\n      <td>Wang, Z.; Fu, L.; Xu, H.; Shang, Y.; Zhang, L....</td>\n      <td>515</td>\n      <td>91</td>\n      <td>1212</td>\n      <td>1</td>\n    </tr>\n    <tr>\n      <th>19333</th>\n      <td>(3-aminopropyl)tributylphosphonium L-alaninate</td>\n      <td>[P444(prNH2)]</td>\n      <td>1</td>\n      <td>[mCH(L-NH2)C(=O)O]</td>\n      <td>1</td>\n      <td>[P444(prNH2)][mCH(L-NH2)C(=O)O]</td>\n      <td>C18H41N2O2P</td>\n      <td>348.51</td>\n      <td>https://ilthermo.boulder.nist.gov/ILT2/ilimage...</td>\n      <td>Vibrating tube method</td>\n      <td>...</td>\n      <td>965.7</td>\n      <td>±</td>\n      <td>5.0</td>\n      <td>NaN</td>\n      <td>Density, Viscosity, and Conductivity for the B...</td>\n      <td>Wang, Z.; Fu, L.; Xu, H.; Shang, Y.; Zhang, L....</td>\n      <td>515</td>\n      <td>91</td>\n      <td>1212</td>\n      <td>1</td>\n    </tr>\n    <tr>\n      <th>19334</th>\n      <td>(3-aminopropyl)tributylphosphonium L-alaninate</td>\n      <td>[P444(prNH2)]</td>\n      <td>1</td>\n      <td>[mCH(L-NH2)C(=O)O]</td>\n      <td>1</td>\n      <td>[P444(prNH2)][mCH(L-NH2)C(=O)O]</td>\n      <td>C18H41N2O2P</td>\n      <td>348.51</td>\n      <td>https://ilthermo.boulder.nist.gov/ILT2/ilimage...</td>\n      <td>Vibrating tube method</td>\n      <td>...</td>\n      <td>960.0</td>\n      <td>±</td>\n      <td>5.0</td>\n      <td>NaN</td>\n      <td>Density, Viscosity, and Conductivity for the B...</td>\n      <td>Wang, Z.; Fu, L.; Xu, H.; Shang, Y.; Zhang, L....</td>\n      <td>515</td>\n      <td>91</td>\n      <td>1212</td>\n      <td>1</td>\n    </tr>\n  </tbody>\n</table>\n<p>19335 rows × 23 columns</p>\n</div>"
     },
     "execution_count": 1,
     "metadata": {},
     "output_type": "execute_result"
    }
   ],
   "source": [
    "import pandas\n",
    "df = pandas.read_excel(\"density_data.xlsx\",sheet_name='data_1')\n",
    "df"
   ],
   "metadata": {
    "collapsed": false,
    "pycharm": {
     "name": "#%%\n"
    }
   }
  },
  {
   "cell_type": "code",
   "execution_count": 2,
   "outputs": [
    {
     "data": {
      "text/plain": "       Mol_Weight  Temperature, K\n0          532.56          303.15\n1          532.56          313.15\n2          532.56          323.15\n3          532.56          333.15\n4          532.56          343.15\n...           ...             ...\n19330      348.51          303.15\n19331      348.51          313.15\n19332      348.51          323.15\n19333      348.51          333.15\n19334      348.51          343.15\n\n[19335 rows x 2 columns]",
      "text/html": "<div>\n<style scoped>\n    .dataframe tbody tr th:only-of-type {\n        vertical-align: middle;\n    }\n\n    .dataframe tbody tr th {\n        vertical-align: top;\n    }\n\n    .dataframe thead th {\n        text-align: right;\n    }\n</style>\n<table border=\"1\" class=\"dataframe\">\n  <thead>\n    <tr style=\"text-align: right;\">\n      <th></th>\n      <th>Mol_Weight</th>\n      <th>Temperature, K</th>\n    </tr>\n  </thead>\n  <tbody>\n    <tr>\n      <th>0</th>\n      <td>532.56</td>\n      <td>303.15</td>\n    </tr>\n    <tr>\n      <th>1</th>\n      <td>532.56</td>\n      <td>313.15</td>\n    </tr>\n    <tr>\n      <th>2</th>\n      <td>532.56</td>\n      <td>323.15</td>\n    </tr>\n    <tr>\n      <th>3</th>\n      <td>532.56</td>\n      <td>333.15</td>\n    </tr>\n    <tr>\n      <th>4</th>\n      <td>532.56</td>\n      <td>343.15</td>\n    </tr>\n    <tr>\n      <th>...</th>\n      <td>...</td>\n      <td>...</td>\n    </tr>\n    <tr>\n      <th>19330</th>\n      <td>348.51</td>\n      <td>303.15</td>\n    </tr>\n    <tr>\n      <th>19331</th>\n      <td>348.51</td>\n      <td>313.15</td>\n    </tr>\n    <tr>\n      <th>19332</th>\n      <td>348.51</td>\n      <td>323.15</td>\n    </tr>\n    <tr>\n      <th>19333</th>\n      <td>348.51</td>\n      <td>333.15</td>\n    </tr>\n    <tr>\n      <th>19334</th>\n      <td>348.51</td>\n      <td>343.15</td>\n    </tr>\n  </tbody>\n</table>\n<p>19335 rows × 2 columns</p>\n</div>"
     },
     "execution_count": 2,
     "metadata": {},
     "output_type": "execute_result"
    }
   ],
   "source": [
    "X_data=df[['Mol_Weight','Temperature, K']]\n",
    "Y_data=df['Property_number_all']\n",
    "X_data"
   ],
   "metadata": {
    "collapsed": false,
    "pycharm": {
     "name": "#%%\n"
    }
   }
  },
  {
   "cell_type": "code",
   "execution_count": 3,
   "outputs": [
    {
     "name": "stdout",
     "output_type": "stream",
     "text": [
      "<class 'pandas.core.frame.DataFrame'>\n"
     ]
    },
    {
     "name": "stderr",
     "output_type": "stream",
     "text": [
      "C:\\Users\\king\\AppData\\Local\\Temp\\ipykernel_14436\\1873214166.py:6: SettingWithCopyWarning: \n",
      "A value is trying to be set on a copy of a slice from a DataFrame.\n",
      "Try using .loc[row_indexer,col_indexer] = value instead\n",
      "\n",
      "See the caveats in the documentation: https://pandas.pydata.org/pandas-docs/stable/user_guide/indexing.html#returning-a-view-versus-a-copy\n",
      "  X_data['Mol_Weight']=X_data['Mol_Weight'].fillna(X_data['Mol_Weight'].mean())\n"
     ]
    },
    {
     "data": {
      "text/plain": "False"
     },
     "execution_count": 3,
     "metadata": {},
     "output_type": "execute_result"
    }
   ],
   "source": [
    "Y_data=Y_data.fillna(Y_data.mean())\n",
    "Y_data\n",
    "import numpy as np\n",
    "print(type(X_data))\n",
    "X_data['Mol_Weight'].isnull().any()\n",
    "X_data['Mol_Weight']=X_data['Mol_Weight'].fillna(X_data['Mol_Weight'].mean())\n",
    "X_data['Mol_Weight'].isnull().any()\n",
    "# X_data[[1]]\n",
    "# X_data=np.array(X_data)\n",
    "# X_data[:,0]\n",
    "# print(type(X_data))\n",
    "# print(Y_data.isnull().any())\n",
    "# print(X_data.isnull().any())"
   ],
   "metadata": {
    "collapsed": false,
    "pycharm": {
     "name": "#%%\n"
    }
   }
  },
  {
   "cell_type": "code",
   "execution_count": 39,
   "outputs": [
    {
     "name": "stdout",
     "output_type": "stream",
     "text": [
      "True\n"
     ]
    }
   ],
   "source": [
    "import numpy as np\n",
    "# X_data=np.array(X_data)\n",
    "# Y_data=np.array(Y_data)\n",
    "# print(Y_data.isnull().any())"
   ],
   "metadata": {
    "collapsed": false,
    "pycharm": {
     "name": "#%%\n"
    }
   }
  },
  {
   "cell_type": "code",
   "execution_count": 4,
   "outputs": [
    {
     "data": {
      "text/plain": "SVR(kernel='poly')"
     },
     "execution_count": 4,
     "metadata": {},
     "output_type": "execute_result"
    }
   ],
   "source": [
    "from sklearn.svm import SVR\n",
    "# 线性\n",
    "svr_linear= SVR(kernel='linear')\n",
    "# 高斯核函数RBF\n",
    "svr_rbf= SVR(kernel='rbf')\n",
    "# 多项式\n",
    "svr_poly= SVR(kernel='poly')\n",
    "# 训练模型\n",
    "svr_linear.fit(X_data,Y_data.ravel())\n",
    "svr_rbf.fit(X_data,Y_data.ravel())\n",
    "svr_poly.fit(X_data,Y_data.ravel())"
   ],
   "metadata": {
    "collapsed": false,
    "pycharm": {
     "name": "#%%\n"
    }
   }
  },
  {
   "cell_type": "code",
   "execution_count": 84,
   "outputs": [
    {
     "data": {
      "text/plain": "array([1227.7537611 , 1224.15869847, 1220.46722219, ..., 1328.87332607,\n       1322.82646241, 1316.0141458 ])"
     },
     "execution_count": 84,
     "metadata": {},
     "output_type": "execute_result"
    }
   ],
   "source": [
    "y2=svr_rbf.predict(X_data)\n",
    "y1=svr_linear.predict(X_data)\n",
    "y3=svr_poly.predict(X_data)"
   ],
   "metadata": {
    "collapsed": false,
    "pycharm": {
     "name": "#%%\n"
    }
   }
  },
  {
   "cell_type": "code",
   "execution_count": 85,
   "outputs": [
    {
     "name": "stdout",
     "output_type": "stream",
     "text": [
      "evs: 24.08%\n"
     ]
    }
   ],
   "source": [
    "# 计算预测的分数\n",
    "from sklearn.metrics import explained_variance_score\n",
    "score=explained_variance_score(Y_data,y2)\n",
    "score1=explained_variance_score(Y_data,y1)\n",
    "score3=explained_variance_score(Y_data,y3)\n",
    "print('y2 evs: %.2f%%'%(score*100.0))\n",
    "print('y1 evs: %.2f%%'%(score1*100.0))\n",
    "print('y3 evs: %.2f%%'%(score3*100.0))"
   ],
   "metadata": {
    "collapsed": false,
    "pycharm": {
     "name": "#%%\n"
    }
   }
  },
  {
   "cell_type": "code",
   "execution_count": null,
   "outputs": [],
   "source": [],
   "metadata": {
    "collapsed": false,
    "pycharm": {
     "name": "#%%\n"
    }
   }
  }
 ],
 "metadata": {
  "kernelspec": {
   "display_name": "Python 3",
   "language": "python",
   "name": "python3"
  },
  "language_info": {
   "codemirror_mode": {
    "name": "ipython",
    "version": 2
   },
   "file_extension": ".py",
   "mimetype": "text/x-python",
   "name": "python",
   "nbconvert_exporter": "python",
   "pygments_lexer": "ipython2",
   "version": "2.7.6"
  }
 },
 "nbformat": 4,
 "nbformat_minor": 0
}