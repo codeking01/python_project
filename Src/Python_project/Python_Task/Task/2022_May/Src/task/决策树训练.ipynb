{
 "cells": [
  {
   "cell_type": "code",
   "execution_count": 5,
   "metadata": {
    "pycharm": {
     "name": "#%%\n"
    }
   },
   "outputs": [],
   "source": [
    "import pandas\n",
    "import numpy as np\n",
    "\n",
    "loadData = np.load(r'E:\\A_beifeng\\all_software\\Other_Softwares\\Common_Apps\\Tencent\\WeChat\\Downloads\\WeChat Files\\wxid_r24hlo4eeq7c22\\FileStorage\\File\\2022-05\\XT_SDM_d\\XT_SDM_d.npy')\n",
    "re_all=np.load(r'C:\\Users\\king\\Desktop\\data_npy\\result_S.npz',allow_pickle=True)\n",
    "ii_all=re_all['ii_all']\n",
    "list_index=ii_all[29]\n",
    "X_data=loadData[:,list_index]\n",
    "# 查找是否有空值\n",
    "np.isnan(X_data).all()\n",
    "df = pandas.read_excel(\"density_data.xlsx\",sheet_name='data_1')\n",
    "Y_data=df['Property_number_all']\n",
    "# result_all=re_all['result_all']\n",
    "# bb_all=re_all['bb_all']\n",
    "# 切分训练数据和测试数据\n",
    "# from sklearn.model_selection import train_test_split\n",
    "## 30%测试数据，70%训练数据，stratify=y表示训练数据和测试数据具有相同的类别比例\n",
    "# X_train,X_test,y_train,y_test = train_test_split(X_data,Y_data,test_size=0.3,random_state=1)"
   ]
  },
  {
   "cell_type": "code",
   "execution_count": null,
   "metadata": {
    "pycharm": {
     "is_executing": true,
     "name": "#%%\n"
    }
   },
   "outputs": [],
   "source": [
    "from multiprocessing import Process, Queue\n",
    "\n",
    "def f(q):\n",
    "    q.put([42, None, 'hello'])\n",
    "\n",
    "q = Queue()\n",
    "p = Process(target=f, args=(q,))\n",
    "p.start()\n",
    "print(q.get())    # prints \"[42, None, 'hello']\"\n",
    "p.join()"
   ]
  },
  {
   "cell_type": "code",
   "execution_count": 4,
   "metadata": {
    "pycharm": {
     "name": "#%%\n"
    }
   },
   "outputs": [
    {
     "ename": "IndexError",
     "evalue": "index 0 is out of bounds for axis 0 with size 0",
     "output_type": "error",
     "traceback": [
      "\u001B[1;31m---------------------------------------------------------------------------\u001B[0m",
      "\u001B[1;31mIndexError\u001B[0m                                Traceback (most recent call last)",
      "Input \u001B[1;32mIn [4]\u001B[0m, in \u001B[0;36m<cell line: 6>\u001B[1;34m()\u001B[0m\n\u001B[0;32m      4\u001B[0m NullLine\u001B[38;5;241m=\u001B[39mY_data[Y_data\u001B[38;5;241m.\u001B[39misnull()\u001B[38;5;241m.\u001B[39mvalues\u001B[38;5;241m==\u001B[39m\u001B[38;5;28;01mTrue\u001B[39;00m]\n\u001B[0;32m      5\u001B[0m \u001B[38;5;66;03m# 找到索引\u001B[39;00m\n\u001B[1;32m----> 6\u001B[0m NullIndex\u001B[38;5;241m=\u001B[39m\u001B[43mNullLine\u001B[49m\u001B[38;5;241;43m.\u001B[39;49m\u001B[43mindex\u001B[49m\u001B[38;5;241;43m.\u001B[39;49m\u001B[43mvalues\u001B[49m\u001B[43m[\u001B[49m\u001B[38;5;241;43m0\u001B[39;49m\u001B[43m]\u001B[49m\n",
      "\u001B[1;31mIndexError\u001B[0m: index 0 is out of bounds for axis 0 with size 0"
     ]
    }
   ],
   "source": [
    "# 查找缺失的行\n",
    "# Y_data.isna().values.any()\n",
    "# Y_data[Y_data.isna().values==True]\n",
    "NullLine=Y_data[Y_data.isnull().values==True]\n",
    "# 找到索引 numpy.int64类型的\n",
    "NullIndex=NullLine.index.values[0]\n",
    "type(NullIndex)\n",
    "Y_data = Y_data.drop(Y_data.index[NullIndex])"
   ]
  },
  {
   "cell_type": "code",
   "execution_count": 11,
   "metadata": {
    "pycharm": {
     "name": "#%%\n"
    }
   },
   "outputs": [
    {
     "data": {
      "text/plain": [
       "array([[5.35616416e+00, 1.36848032e+01, 2.98027100e-03, ...,\n",
       "        6.76653175e-02, 5.27791522e-02, 1.97003473e-02],\n",
       "       [5.53284778e+00, 1.36848032e+01, 2.88510029e-03, ...,\n",
       "        6.55045218e-02, 5.10937251e-02, 1.90712448e-02],\n",
       "       [5.70953141e+00, 1.36848032e+01, 2.79581976e-03, ...,\n",
       "        6.34774594e-02, 4.95126102e-02, 1.84810778e-02],\n",
       "       ...,\n",
       "       [0.00000000e+00, 1.19304406e+01, 3.23386883e-03, ...,\n",
       "        5.76834264e-02, 3.09453814e-02, 9.29053851e-03],\n",
       "       [0.00000000e+00, 1.19304406e+01, 3.13679938e-03, ...,\n",
       "        5.59519713e-02, 3.00165091e-02, 9.01166897e-03],\n",
       "       [0.00000000e+00, 1.19304406e+01, 3.04538748e-03, ...,\n",
       "        5.43214315e-02, 2.91417747e-02, 8.74905295e-03]])"
      ]
     },
     "execution_count": 11,
     "metadata": {},
     "output_type": "execute_result"
    }
   ],
   "source": [
    "# Y_data\n",
    "X_data=np.delete(X_data,int(NullIndex),axis=-2)\n",
    "X_data"
   ]
  },
  {
   "cell_type": "code",
   "execution_count": 12,
   "metadata": {
    "pycharm": {
     "name": "#%%\n"
    }
   },
   "outputs": [
    {
     "data": {
      "text/plain": [
       "False"
      ]
     },
     "execution_count": 12,
     "metadata": {},
     "output_type": "execute_result"
    }
   ],
   "source": [
    "Y_data.isnull().any()"
   ]
  },
  {
   "cell_type": "code",
   "execution_count": 51,
   "metadata": {
    "pycharm": {
     "name": "#%%\n"
    }
   },
   "outputs": [],
   "source": [
    "from sklearn.tree import DecisionTreeRegressor\n",
    "from sklearn.ensemble import RandomForestRegressor\n",
    "\n",
    "#建立两个模型 看不同的模型深度对训练集的拟合程度 最大深度设的小会限制模型队训练集的拟合\n",
    "regr_1 = DecisionTreeRegressor(max_depth=2)#最大深度为2\n",
    "regr_2 = DecisionTreeRegressor(max_depth=10)#最大深度为5\n",
    "regr_3 = RandomForestRegressor(max_depth=15)#最大深度为5"
   ]
  },
  {
   "cell_type": "code",
   "execution_count": 52,
   "metadata": {
    "pycharm": {
     "name": "#%%\n"
    }
   },
   "outputs": [
    {
     "data": {
      "text/plain": [
       "RandomForestRegressor(max_depth=15)"
      ]
     },
     "execution_count": 52,
     "metadata": {},
     "output_type": "execute_result"
    }
   ],
   "source": [
    "regr_1.fit(X_data,Y_data)\n",
    "regr_2.fit(X_data,Y_data)\n",
    "regr_3.fit(X_data,Y_data)"
   ]
  },
  {
   "cell_type": "code",
   "execution_count": 53,
   "metadata": {
    "pycharm": {
     "name": "#%%\n"
    }
   },
   "outputs": [],
   "source": [
    "y_1 = regr_1.predict(X_data)\n",
    "y_2 = regr_2.predict(X_data)\n",
    "y_3 = regr_3.predict(X_data)"
   ]
  },
  {
   "cell_type": "code",
   "execution_count": 54,
   "metadata": {
    "pycharm": {
     "name": "#%%\n"
    }
   },
   "outputs": [
    {
     "name": "stdout",
     "output_type": "stream",
     "text": [
      "0.7515829148831898\n",
      "0.9896121053022325\n",
      "0.9995226759072765\n"
     ]
    }
   ],
   "source": [
    "#计算拟合的结果\n",
    "from sklearn.metrics import r2_score\n",
    "\n",
    "y1_score=r2_score(Y_data,y_1)\n",
    "y2_score=r2_score(Y_data,y_2)\n",
    "y3_score=r2_score(Y_data,y_3)\n",
    "print(y1_score)\n",
    "print(y2_score)\n",
    "print(y3_score)"
   ]
  },
  {
   "cell_type": "code",
   "execution_count": 55,
   "metadata": {
    "pycharm": {
     "name": "#%%\n"
    }
   },
   "outputs": [
    {
     "data": {
      "text/plain": [
       "array([1207.8866749, 1207.8866749, 1207.8866749, ..., 1064.4173478,\n",
       "       1064.4173478, 1064.4173478])"
      ]
     },
     "execution_count": 55,
     "metadata": {},
     "output_type": "execute_result"
    }
   ],
   "source": [
    "# y1 evs: 81.41%\n",
    "# y2 evs: 95.09%\n",
    "# y3 evs: 96.25%\n",
    "y_1"
   ]
  },
  {
   "cell_type": "code",
   "execution_count": 21,
   "metadata": {
    "pycharm": {
     "name": "#%%\n"
    }
   },
   "outputs": [
    {
     "data": {
      "text/plain": [
       "0.9861130873651484"
      ]
     },
     "execution_count": 21,
     "metadata": {},
     "output_type": "execute_result"
    }
   ],
   "source": [
    "from sklearn.metrics import r2_score\n",
    "r2_score(Y_data,y_3)"
   ]
  },
  {
   "cell_type": "code",
   "execution_count": null,
   "metadata": {
    "pycharm": {
     "name": "#%%\n"
    }
   },
   "outputs": [],
   "source": []
  }
 ],
 "metadata": {
  "kernelspec": {
   "display_name": "Python 3 (ipykernel)",
   "language": "python",
   "name": "python3"
  },
  "language_info": {
   "codemirror_mode": {
    "name": "ipython",
    "version": 2
   },
   "file_extension": ".py",
   "mimetype": "text/x-python",
   "name": "python",
   "nbconvert_exporter": "python",
   "pygments_lexer": "ipython2",
   "version": "2.7.6"
  }
 },
 "nbformat": 4,
 "nbformat_minor": 1
}