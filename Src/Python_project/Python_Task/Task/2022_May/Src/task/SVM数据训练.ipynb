{
 "cells": [
  {
   "cell_type": "code",
   "execution_count": 1,
   "outputs": [],
   "source": [
    "import re\n",
    "import pandas\n",
    "import numpy as np\n",
    "\n",
    "loadData = np.load(\n",
    "    r'E:\\A_beifeng\\all_software\\Other_Softwares\\Common_Apps\\Tencent\\WeChat\\Downloads\\WeChat Files\\wxid_r24hlo4eeq7c22\\FileStorage\\File\\2022-05\\XT_SDM_d\\XT_SDM_d.npy')\n",
    "re_all = np.load(r'C:\\Users\\king\\Desktop\\data_npy\\result_S.npz', allow_pickle=True)\n",
    "ii_all = re_all['ii_all']\n",
    "list_index = ii_all[29]\n",
    "X_data = loadData[:, list_index]\n",
    "# 查找是否有空值\n",
    "np.isnan(X_data).all()\n",
    "df = pandas.read_excel(\"density_data.xlsx\", sheet_name='data_1')\n",
    "Y_data = df['Property_number_all']\n",
    "# Y_data=df['Property_number_all']\n",
    "# 手动划分训练集测试集\n",
    "num_pattern = re.compile(r\"(\\d+)\")\n",
    "f = open(\"train.txt\", encoding=\"utf-8\")\n",
    "f_test = open(\"test.txt\", encoding=\"utf-8\")\n",
    "train_content = f.read()\n",
    "test_content = f_test.read()\n",
    "train_line = num_pattern.findall(train_content)\n",
    "test_line = num_pattern.findall(test_content)\n",
    "# 查找缺失的行\n",
    "# Y_data.isna().values.any()\n",
    "# Y_data[Y_data.isna().values==True]\n",
    "NullLine = Y_data[Y_data.isnull().values == True]\n",
    "# 找到索引\n",
    "NullIndex = NullLine.index.values[0]\n",
    "# 删除训练集测试的一些 空值行\n",
    "if str(NullIndex) in train_line:\n",
    "    train_line.remove(str(NullIndex))\n",
    "if str(NullIndex) in test_line:\n",
    "    test_line.remove(str(NullIndex))\n",
    "# Y_data = Y_data.drop(Y_data.index[NullIndex])\n",
    "# 将列表转化为int\n",
    "train_line = [int(x) for x in train_line]\n",
    "test_line = [int(x) for x in test_line]\n",
    "x_train = X_data[train_line, :]\n",
    "y_train = Y_data[train_line]\n",
    "x_test = X_data[test_line, :]\n",
    "y_test = Y_data[test_line]"
   ],
   "metadata": {
    "collapsed": false,
    "pycharm": {
     "name": "#%%\n"
    }
   }
  },
  {
   "cell_type": "code",
   "execution_count": null,
   "outputs": [],
   "source": [
    "# X_train,X_test,y_train,y_test = train_test_split(X_data,Y_data,test_size=0.3,random_state=1)\n",
    "from sklearn.svm import SVR\n",
    "\n",
    "# 线性\n",
    "svr_linear = SVR(kernel='linear', degree=4, gamma=\"scale\", C=1.0)\n",
    "# 高斯核函数RBF  径向基核函数\n",
    "svr_rbf = SVR(kernel='rbf', degree=4, gamma=\"scale\", C=1.0)\n",
    "# 多项式\n",
    "svr_poly = SVR(kernel='poly', degree=4, gamma=\"scale\", C=1.0)\n",
    "# 训练模型\n",
    "svr_linear.fit(x_train, y_train.ravel())\n",
    "svr_rbf.fit(x_train, y_train.ravel())\n",
    "svr_poly.fit(x_train, y_train.ravel())"
   ],
   "metadata": {
    "collapsed": false,
    "pycharm": {
     "name": "#%%\n",
     "is_executing": true
    }
   }
  },
  {
   "cell_type": "code",
   "execution_count": null,
   "outputs": [],
   "source": [
    "y1=svr_linear.predict(x_test)\n",
    "y2=svr_rbf.predict(x_test)\n",
    "y3=svr_poly.predict(x_test)"
   ],
   "metadata": {
    "collapsed": false,
    "pycharm": {
     "name": "#%%\n",
     "is_executing": true
    }
   }
  },
  {
   "cell_type": "code",
   "execution_count": null,
   "outputs": [],
   "source": [
    "# print('y1 evs: %.2f%%'%(score1*100.0))\n",
    "#计算拟合的结果\n",
    "from sklearn.metrics import r2_score\n",
    "\n",
    "y1_score = r2_score(y_test, y1)\n",
    "y2_score = r2_score(y_test, y2)\n",
    "y3_score = r2_score(y_test, y3)\n",
    "print(y1)\n",
    "print(y2)\n",
    "print(y3)"
   ],
   "metadata": {
    "collapsed": false,
    "pycharm": {
     "name": "#%%\n",
     "is_executing": true
    }
   }
  },
  {
   "cell_type": "code",
   "execution_count": null,
   "outputs": [],
   "source": [],
   "metadata": {
    "collapsed": false,
    "pycharm": {
     "name": "#%%\n"
    }
   }
  }
 ],
 "metadata": {
  "kernelspec": {
   "display_name": "Python 3",
   "language": "python",
   "name": "python3"
  },
  "language_info": {
   "codemirror_mode": {
    "name": "ipython",
    "version": 2
   },
   "file_extension": ".py",
   "mimetype": "text/x-python",
   "name": "python",
   "nbconvert_exporter": "python",
   "pygments_lexer": "ipython2",
   "version": "2.7.6"
  }
 },
 "nbformat": 4,
 "nbformat_minor": 0
}