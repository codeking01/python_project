{
 "cells": [
  {
   "cell_type": "code",
   "execution_count": 11,
   "outputs": [
    {
     "name": "stdout",
     "output_type": "stream",
     "text": [
      "<class 'pandas.core.frame.DataFrame'>\n"
     ]
    },
    {
     "name": "stderr",
     "output_type": "stream",
     "text": [
      "C:\\Users\\king\\AppData\\Local\\Temp\\ipykernel_11268\\2104092751.py:11: SettingWithCopyWarning: \n",
      "A value is trying to be set on a copy of a slice from a DataFrame.\n",
      "Try using .loc[row_indexer,col_indexer] = value instead\n",
      "\n",
      "See the caveats in the documentation: https://pandas.pydata.org/pandas-docs/stable/user_guide/indexing.html#returning-a-view-versus-a-copy\n",
      "  X_data['Mol_Weight']=X_data['Mol_Weight'].fillna(X_data['Mol_Weight'].mean())\n"
     ]
    },
    {
     "data": {
      "text/plain": "False"
     },
     "execution_count": 11,
     "metadata": {},
     "output_type": "execute_result"
    }
   ],
   "source": [
    "import pandas as pd\n",
    "import pandas\n",
    "df = pandas.read_excel(\"density_data.xlsx\",sheet_name='data_1')\n",
    "X_data=df[['Mol_Weight','Temperature, K']]\n",
    "Y_data=df['Property_number_all']\n",
    "Y_data=Y_data.fillna(Y_data.mean())\n",
    "import numpy as np\n",
    "print(type(X_data))\n",
    "X_data['Mol_Weight'].isnull().any()\n",
    "# X_data['Mol_Weight']=X_data['Mol_Weight'].copy()\n",
    "X_data['Mol_Weight']=X_data['Mol_Weight'].fillna(X_data['Mol_Weight'].mean())\n",
    "X_data['Mol_Weight'].isnull().any()"
   ],
   "metadata": {
    "collapsed": false,
    "pycharm": {
     "name": "#%%\n"
    }
   }
  },
  {
   "cell_type": "code",
   "execution_count": 12,
   "outputs": [
    {
     "data": {
      "text/plain": "RandomForestRegressor(max_depth=5)"
     },
     "execution_count": 12,
     "metadata": {},
     "output_type": "execute_result"
    }
   ],
   "source": [
    "from sklearn.tree import DecisionTreeRegressor\n",
    "from sklearn.ensemble import RandomForestRegressor\n",
    "\n",
    "#建立两个模型 看不同的模型深度对训练集的拟合程度 最大深度设的小会限制模型队训练集的拟合\n",
    "regr_1 = DecisionTreeRegressor(max_depth=2)#最大深度为2\n",
    "regr_2 = DecisionTreeRegressor(max_depth=5)#最大深度为5\n",
    "regr_3 = RandomForestRegressor(max_depth=5)#最大深度为5\n",
    "regr_1.fit(X_data,Y_data)\n",
    "regr_2.fit(X_data,Y_data)\n",
    "regr_3.fit(X_data,Y_data)"
   ],
   "metadata": {
    "collapsed": false,
    "pycharm": {
     "name": "#%%\n"
    }
   }
  },
  {
   "cell_type": "code",
   "execution_count": 13,
   "outputs": [],
   "source": [
    "y_1 = regr_1.predict(X_data)\n",
    "y_2 = regr_2.predict(X_data)\n",
    "y_3 = regr_3.predict(X_data)"
   ],
   "metadata": {
    "collapsed": false,
    "pycharm": {
     "name": "#%%\n"
    }
   }
  },
  {
   "cell_type": "code",
   "execution_count": 14,
   "outputs": [
    {
     "name": "stdout",
     "output_type": "stream",
     "text": [
      "y1 evs: 28.88%\n",
      "y2 evs: 46.27%\n",
      "y3 evs: 48.41%\n"
     ]
    }
   ],
   "source": [
    "# 计算预测的分数\n",
    "from sklearn.metrics import explained_variance_score\n",
    "score1=explained_variance_score(Y_data,y_1)\n",
    "score2=explained_variance_score(Y_data,y_2)\n",
    "score3=explained_variance_score(Y_data,y_3)\n",
    "print('y1 evs: %.2f%%'%(score1*100.0))\n",
    "print('y2 evs: %.2f%%'%(score2*100.0))\n",
    "print('y3 evs: %.2f%%'%(score3*100.0))"
   ],
   "metadata": {
    "collapsed": false,
    "pycharm": {
     "name": "#%%\n"
    }
   }
  },
  {
   "cell_type": "code",
   "execution_count": null,
   "outputs": [],
   "source": [],
   "metadata": {
    "collapsed": false,
    "pycharm": {
     "name": "#%%\n"
    }
   }
  }
 ],
 "metadata": {
  "kernelspec": {
   "display_name": "Python 3",
   "language": "python",
   "name": "python3"
  },
  "language_info": {
   "codemirror_mode": {
    "name": "ipython",
    "version": 2
   },
   "file_extension": ".py",
   "mimetype": "text/x-python",
   "name": "python",
   "nbconvert_exporter": "python",
   "pygments_lexer": "ipython2",
   "version": "2.7.6"
  }
 },
 "nbformat": 4,
 "nbformat_minor": 0
}