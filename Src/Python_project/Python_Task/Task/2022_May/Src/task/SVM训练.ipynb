{
 "cells": [
  {
   "cell_type": "code",
   "execution_count": 112,
   "outputs": [],
   "source": [
    "import pandas\n",
    "import numpy as np\n",
    "\n",
    "loadData = np.load(r'E:\\A_beifeng\\all_software\\Other_Softwares\\Common_Apps\\Tencent\\WeChat\\Downloads\\WeChat Files\\wxid_r24hlo4eeq7c22\\FileStorage\\File\\2022-05\\XT_SDM_d\\XT_SDM_d.npy')\n",
    "re_all=np.load(r'C:\\Users\\king\\Desktop\\data_npy\\result_S.npz',allow_pickle=True)\n",
    "ii_all=re_all['ii_all']\n",
    "list_index=ii_all[29]\n",
    "X_data=loadData[:,list_index]\n",
    "# 查找是否有空值\n",
    "np.isnan(X_data).all()\n",
    "df = pandas.read_excel(\"density_data.xlsx\",sheet_name='data_1')\n",
    "Y_data=df['Property_number_all']\n",
    "# result_all=re_all['result_all']\n",
    "# bb_all=re_all['bb_all']"
   ],
   "metadata": {
    "collapsed": false,
    "pycharm": {
     "name": "#%%\n"
    }
   }
  },
  {
   "cell_type": "code",
   "execution_count": 113,
   "outputs": [
    {
     "data": {
      "text/plain": "array([[5.35616416e+00, 1.36848032e+01, 2.98027100e-03, ...,\n        6.76653175e-02, 5.27791522e-02, 1.97003473e-02],\n       [5.53284778e+00, 1.36848032e+01, 2.88510029e-03, ...,\n        6.55045218e-02, 5.10937251e-02, 1.90712448e-02],\n       [5.70953141e+00, 1.36848032e+01, 2.79581976e-03, ...,\n        6.34774594e-02, 4.95126102e-02, 1.84810778e-02],\n       ...,\n       [0.00000000e+00, 1.19304406e+01, 3.23386883e-03, ...,\n        5.76834264e-02, 3.09453814e-02, 9.29053851e-03],\n       [0.00000000e+00, 1.19304406e+01, 3.13679938e-03, ...,\n        5.59519713e-02, 3.00165091e-02, 9.01166897e-03],\n       [0.00000000e+00, 1.19304406e+01, 3.04538748e-03, ...,\n        5.43214315e-02, 2.91417747e-02, 8.74905295e-03]])"
     },
     "execution_count": 113,
     "metadata": {},
     "output_type": "execute_result"
    }
   ],
   "source": [
    "X_data"
   ],
   "metadata": {
    "collapsed": false,
    "pycharm": {
     "name": "#%%\n"
    }
   }
  },
  {
   "cell_type": "code",
   "execution_count": 114,
   "outputs": [
    {
     "data": {
      "text/plain": "0        1270.2\n1        1260.2\n2        1252.2\n3        1243.9\n4        1235.2\n          ...  \n19330     983.7\n19331     977.6\n19332     971.6\n19333     965.7\n19334     960.0\nName: Property_number_all, Length: 19335, dtype: float64"
     },
     "execution_count": 114,
     "metadata": {},
     "output_type": "execute_result"
    }
   ],
   "source": [
    "Y_data.isnull().any()\n",
    "type(Y_data)\n",
    "Y_data\n",
    "# type(Y_data)"
   ],
   "metadata": {
    "collapsed": false,
    "pycharm": {
     "name": "#%%\n"
    }
   }
  },
  {
   "cell_type": "code",
   "execution_count": 115,
   "outputs": [],
   "source": [
    "# 查找缺失的行\n",
    "# Y_data.isna().values.any()\n",
    "# Y_data[Y_data.isna().values==True]\n",
    "NullLine=Y_data[Y_data.isnull().values==True]\n",
    "# 找到索引\n",
    "NullIndex=NullLine.index.values[0]\n",
    "Y_data = Y_data.drop(Y_data.index[NullIndex])"
   ],
   "metadata": {
    "collapsed": false,
    "pycharm": {
     "name": "#%%\n"
    }
   }
  },
  {
   "cell_type": "code",
   "execution_count": 120,
   "outputs": [
    {
     "data": {
      "text/plain": "array([[5.35616416e+00, 1.36848032e+01, 2.98027100e-03, ...,\n        6.76653175e-02, 5.27791522e-02, 1.97003473e-02],\n       [5.53284778e+00, 1.36848032e+01, 2.88510029e-03, ...,\n        6.55045218e-02, 5.10937251e-02, 1.90712448e-02],\n       [5.70953141e+00, 1.36848032e+01, 2.79581976e-03, ...,\n        6.34774594e-02, 4.95126102e-02, 1.84810778e-02],\n       ...,\n       [0.00000000e+00, 1.19304406e+01, 3.23386883e-03, ...,\n        5.76834264e-02, 3.09453814e-02, 9.29053851e-03],\n       [0.00000000e+00, 1.19304406e+01, 3.13679938e-03, ...,\n        5.59519713e-02, 3.00165091e-02, 9.01166897e-03],\n       [0.00000000e+00, 1.19304406e+01, 3.04538748e-03, ...,\n        5.43214315e-02, 2.91417747e-02, 8.74905295e-03]])"
     },
     "execution_count": 120,
     "metadata": {},
     "output_type": "execute_result"
    }
   ],
   "source": [
    "# Y_data\n",
    "X_data=np.delete(X_data,int(NullIndex),axis=-2)\n",
    "X_data"
   ],
   "metadata": {
    "collapsed": false,
    "pycharm": {
     "name": "#%%\n"
    }
   }
  },
  {
   "cell_type": "code",
   "execution_count": 121,
   "outputs": [],
   "source": [
    "# 删除某一列\n",
    "# dataset=[[1,2,3],[2,3,4],[4,5,6]]\n",
    "# import numpy as np\n",
    "# dataset = np.delete(dataset, -1, axis=1)\n",
    "# dataset\n",
    "# 删除某一行\n",
    "# dataset=[[1,2,3],[2,3,4],[4,5,6]]\n",
    "# import numpy as np\n",
    "# dataset = np.delete(dataset, 1, axis=-2)\n",
    "# dataset"
   ],
   "metadata": {
    "collapsed": false,
    "pycharm": {
     "name": "#%%\n"
    }
   }
  },
  {
   "cell_type": "code",
   "execution_count": 122,
   "outputs": [],
   "source": [
    "\n",
    "# 切分训练数据和测试数据\n",
    "from sklearn.model_selection import train_test_split\n",
    "## 30%测试数据，70%训练数据，stratify=y表示训练数据和测试数据具有相同的类别比例\n",
    "# X_train,X_test,y_train,y_test = train_test_split(X_data,Y_data,test_size=0.3,random_state=1)"
   ],
   "metadata": {
    "collapsed": false,
    "pycharm": {
     "name": "#%%\n"
    }
   }
  },
  {
   "cell_type": "code",
   "execution_count": null,
   "outputs": [],
   "source": [
    "from sklearn.svm import SVR\n",
    "# 线性\n",
    "svr_linear= SVR(kernel='linear',degree=4,gamma=\"scale\",C=1.0)\n",
    "# 高斯核函数RBF\n",
    "svr_rbf= SVR(kernel='rbf',degree=4,gamma=\"scale\",C=1.0)\n",
    "# 多项式\n",
    "svr_poly= SVR(kernel='poly',degree=4,gamma=\"scale\",C=1.0)\n",
    "# 训练模型\n",
    "svr_linear.fit(X_data,Y_data.ravel())\n",
    "svr_rbf.fit(X_data,Y_data.ravel())\n",
    "svr_poly.fit(X_data,Y_data.ravel())"
   ],
   "metadata": {
    "collapsed": false,
    "pycharm": {
     "name": "#%%\n",
     "is_executing": true
    }
   }
  },
  {
   "cell_type": "code",
   "execution_count": null,
   "outputs": [],
   "source": [
    "y1=svr_linear.predict(X_data)\n",
    "y2=svr_rbf.predict(X_data)\n",
    "y3=svr_poly.predict(X_data)"
   ],
   "metadata": {
    "collapsed": false,
    "pycharm": {
     "name": "#%%\n",
     "is_executing": true
    }
   }
  },
  {
   "cell_type": "code",
   "execution_count": null,
   "outputs": [],
   "source": [
    "# 计算预测的分数\n",
    "# from sklearn.metrics import explained_variance_score\n",
    "# score=explained_variance_score(Y_data,y2)\n",
    "# score1=explained_variance_score(Y_data,y1)\n",
    "# score3=explained_variance_score(Y_data,y3)\n",
    "# print('y2 evs: %.2f%%'%(score*100.0))\n",
    "# print('y3 evs: %.2f%%'%(score3*100.0))\n",
    "# print('y1 evs: %.2f%%'%(score1*100.0))"
   ],
   "metadata": {
    "collapsed": false,
    "pycharm": {
     "name": "#%%\n"
    }
   }
  },
  {
   "cell_type": "code",
   "execution_count": null,
   "outputs": [],
   "source": [
    "#计算拟合的结果\n",
    "from sklearn.metrics import r2_score\n",
    "\n",
    "y1_score=r2_score(Y_data,y1)\n",
    "y2_score=r2_score(Y_data,y2)\n",
    "y3_score=r2_score(Y_data,y3)\n",
    "print(y1)\n",
    "print(y2)\n",
    "print(y3)"
   ],
   "metadata": {
    "collapsed": false,
    "pycharm": {
     "name": "#%%\n"
    }
   }
  }
 ],
 "metadata": {
  "kernelspec": {
   "display_name": "Python 3",
   "language": "python",
   "name": "python3"
  },
  "language_info": {
   "codemirror_mode": {
    "name": "ipython",
    "version": 2
   },
   "file_extension": ".py",
   "mimetype": "text/x-python",
   "name": "python",
   "nbconvert_exporter": "python",
   "pygments_lexer": "ipython2",
   "version": "2.7.6"
  }
 },
 "nbformat": 4,
 "nbformat_minor": 0
}