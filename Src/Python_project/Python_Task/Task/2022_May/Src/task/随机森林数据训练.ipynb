{
 "cells": [
  {
   "cell_type": "code",
   "execution_count": 1,
   "metadata": {
    "collapsed": true,
    "pycharm": {
     "name": "#%%\n"
    }
   },
   "outputs": [],
   "source": [
    "import re\n",
    "import pandas\n",
    "import numpy as np\n",
    "\n",
    "loadData = np.load(r'E:\\A_beifeng\\all_software\\Other_Softwares\\Common_Apps\\Tencent\\WeChat\\Downloads\\WeChat Files\\wxid_r24hlo4eeq7c22\\FileStorage\\File\\2022-05\\XT_SDM_d\\XT_SDM_d.npy')\n",
    "re_all=np.load(r'C:\\Users\\king\\Desktop\\data_npy\\result_S.npz',allow_pickle=True)\n",
    "ii_all=re_all['ii_all']\n",
    "list_index=ii_all[29]\n",
    "X_data=loadData[:,list_index]\n",
    "# 查找是否有空值\n",
    "np.isnan(X_data).all()\n",
    "df = pandas.read_excel(\"density_data.xlsx\",sheet_name='data_1')\n",
    "Y_data=df['Property_number_all']\n",
    "# Y_data=df['Property_number_all']\n",
    "# 手动划分训练集测试集\n",
    "num_pattern = re.compile(r\"(\\d+)\")\n",
    "f = open(\"train.txt\",encoding = \"utf-8\")\n",
    "f_test = open(\"test.txt\",encoding = \"utf-8\")\n",
    "train_content=f.read()\n",
    "test_content=f_test.read()\n",
    "train_line=num_pattern.findall(train_content)\n",
    "test_line=num_pattern.findall(test_content)"
   ]
  },
  {
   "cell_type": "code",
   "execution_count": 2,
   "outputs": [],
   "source": [
    "# 查找缺失的行\n",
    "# Y_data.isna().values.any()\n",
    "# Y_data[Y_data.isna().values==True]\n",
    "NullLine=Y_data[Y_data.isnull().values==True]\n",
    "# 找到索引\n",
    "NullIndex=NullLine.index.values[0]\n",
    "# 删除训练集测试的一些 空值行\n",
    "if str(NullIndex) in train_line:\n",
    "    train_line.remove(str(NullIndex))\n",
    "if str(NullIndex) in test_line:\n",
    "    test_line.remove(str(NullIndex))\n",
    "# Y_data = Y_data.drop(Y_data.index[NullIndex])\n",
    "# 将列表转化为int\n",
    "train_line = [ int(x) for x in train_line ]\n",
    "test_line = [ int(x) for x in test_line ]"
   ],
   "metadata": {
    "collapsed": false,
    "pycharm": {
     "name": "#%%\n"
    }
   }
  },
  {
   "cell_type": "code",
   "execution_count": 3,
   "outputs": [],
   "source": [
    "x_train=X_data[train_line,:]\n",
    "y_train=Y_data[train_line]\n",
    "x_test=X_data[test_line,:]\n",
    "y_test=Y_data[test_line]"
   ],
   "metadata": {
    "collapsed": false,
    "pycharm": {
     "name": "#%%\n"
    }
   }
  },
  {
   "cell_type": "code",
   "execution_count": 4,
   "outputs": [
    {
     "data": {
      "text/plain": "array([[5.35616416e+00, 1.36848032e+01, 2.98027100e-03, ...,\n        6.76653175e-02, 5.27791522e-02, 1.97003473e-02],\n       [5.53284778e+00, 1.36848032e+01, 2.88510029e-03, ...,\n        6.55045218e-02, 5.10937251e-02, 1.90712448e-02],\n       [5.70953141e+00, 1.36848032e+01, 2.79581976e-03, ...,\n        6.34774594e-02, 4.95126102e-02, 1.84810778e-02],\n       ...,\n       [0.00000000e+00, 1.19304406e+01, 3.23386883e-03, ...,\n        5.76834264e-02, 3.09453814e-02, 9.29053851e-03],\n       [0.00000000e+00, 1.19304406e+01, 3.13679938e-03, ...,\n        5.59519713e-02, 3.00165091e-02, 9.01166897e-03],\n       [0.00000000e+00, 1.19304406e+01, 3.04538748e-03, ...,\n        5.43214315e-02, 2.91417747e-02, 8.74905295e-03]])"
     },
     "execution_count": 4,
     "metadata": {},
     "output_type": "execute_result"
    }
   ],
   "source": [
    "x_train"
   ],
   "metadata": {
    "collapsed": false,
    "pycharm": {
     "name": "#%%\n"
    }
   }
  },
  {
   "cell_type": "code",
   "execution_count": 8,
   "outputs": [],
   "source": [
    "#写入到npy格式\n",
    "# np.save('x_train.npy',x_train)\n",
    "# np.save('y_train.npy',y_train)\n",
    "# np.save('x_test.npy',x_test)\n",
    "# np.save('y_test.npy',y_test)"
   ],
   "metadata": {
    "collapsed": false,
    "pycharm": {
     "name": "#%%\n"
    }
   }
  },
  {
   "cell_type": "code",
   "execution_count": 36,
   "outputs": [],
   "source": [
    "from sklearn.tree import DecisionTreeRegressor\n",
    "from sklearn.ensemble import RandomForestRegressor, ExtraTreesRegressor, GradientBoostingRegressor\n",
    "#建立两个模型 看不同的模型深度对训练集的拟合程度 最大深度设的小会限制模型队训练集的拟合\n",
    "regr_1 = DecisionTreeRegressor(max_depth=2)#最大深度为2\n",
    "regr_2 = DecisionTreeRegressor(max_depth=8)#最大深度为5\n",
    "regr_3 = RandomForestRegressor()#最大深度为5\n",
    "# 极端随机森林\n",
    "regr_4 = ExtraTreesRegressor()\n",
    "# 提升树模型\n",
    "regr_5 = GradientBoostingRegressor()"
   ],
   "metadata": {
    "collapsed": false,
    "pycharm": {
     "name": "#%%\n"
    }
   }
  },
  {
   "cell_type": "code",
   "execution_count": 37,
   "outputs": [
    {
     "data": {
      "text/plain": "GradientBoostingRegressor()"
     },
     "execution_count": 37,
     "metadata": {},
     "output_type": "execute_result"
    }
   ],
   "source": [
    "regr_1.fit(x_train,y_train)\n",
    "regr_2.fit(x_train,y_train)\n",
    "regr_3.fit(x_train,y_train)\n",
    "regr_4.fit(x_train,y_train)\n",
    "regr_5.fit(x_train,y_train)"
   ],
   "metadata": {
    "collapsed": false,
    "pycharm": {
     "name": "#%%\n"
    }
   }
  },
  {
   "cell_type": "code",
   "execution_count": 38,
   "outputs": [],
   "source": [
    "#测试数据\n",
    "y_1 = regr_1.predict(x_test)\n",
    "y_2 = regr_2.predict(x_test)\n",
    "y_3 = regr_3.predict(x_test)\n",
    "y_4 = regr_3.predict(x_test)\n",
    "y_5 = regr_3.predict(x_test)"
   ],
   "metadata": {
    "collapsed": false,
    "pycharm": {
     "name": "#%%\n"
    }
   }
  },
  {
   "cell_type": "code",
   "execution_count": 39,
   "outputs": [
    {
     "name": "stdout",
     "output_type": "stream",
     "text": [
      "0.6508901022260367\n",
      "0.8845402034654065\n",
      "0.9383647089810421\n",
      "0.9383647089810421\n",
      "0.9383647089810421\n"
     ]
    }
   ],
   "source": [
    "#计算拟合的结果\n",
    "from sklearn.metrics import r2_score\n",
    "\n",
    "y1_score=r2_score(y_test,y_1)\n",
    "y2_score=r2_score(y_test,y_2)\n",
    "y3_score=r2_score(y_test,y_3)\n",
    "y4_score=r2_score(y_test,y_4)\n",
    "y5_score=r2_score(y_test,y_5)\n",
    "print(y1_score)\n",
    "print(y2_score)\n",
    "print(y3_score)\n",
    "print(y4_score)\n",
    "print(y5_score)"
   ],
   "metadata": {
    "collapsed": false,
    "pycharm": {
     "name": "#%%\n"
    }
   }
  },
  {
   "cell_type": "code",
   "execution_count": 40,
   "outputs": [
    {
     "name": "stdout",
     "output_type": "stream",
     "text": [
      "0.7726284593821184\n",
      "0.9785494638115445\n",
      "0.9997862362667796\n",
      "0.9997862362667796\n",
      "0.9997862362667796\n"
     ]
    }
   ],
   "source": [
    "#测试数据\n",
    "y_1 = regr_1.predict(x_train)\n",
    "y_2 = regr_2.predict(x_train)\n",
    "y_3 = regr_3.predict(x_train)\n",
    "y_4 = regr_3.predict(x_train)\n",
    "y_5 = regr_3.predict(x_train)\n",
    "#计算拟合的结果\n",
    "from sklearn.metrics import r2_score\n",
    "\n",
    "y1_score = r2_score(y_train,y_1)\n",
    "y2_score = r2_score(y_train,y_2)\n",
    "y3_score = r2_score(y_train,y_3)\n",
    "y4_score = r2_score(y_train,y_4)\n",
    "y5_score = r2_score(y_train,y_5)\n",
    "print(y1_score)\n",
    "print(y2_score)\n",
    "print(y3_score)\n",
    "print(y4_score)\n",
    "print(y5_score)"
   ],
   "metadata": {
    "collapsed": false,
    "pycharm": {
     "name": "#%%\n"
    }
   }
  },
  {
   "cell_type": "code",
   "execution_count": null,
   "outputs": [],
   "source": [],
   "metadata": {
    "collapsed": false,
    "pycharm": {
     "name": "#%%\n"
    }
   }
  }
 ],
 "metadata": {
  "kernelspec": {
   "display_name": "Python 3",
   "language": "python",
   "name": "python3"
  },
  "language_info": {
   "codemirror_mode": {
    "name": "ipython",
    "version": 2
   },
   "file_extension": ".py",
   "mimetype": "text/x-python",
   "name": "python",
   "nbconvert_exporter": "python",
   "pygments_lexer": "ipython2",
   "version": "2.7.6"
  }
 },
 "nbformat": 4,
 "nbformat_minor": 0
}