{
 "cells": [
  {
   "cell_type": "code",
   "execution_count": 1,
   "outputs": [
    {
     "data": {
      "text/plain": "array([[9.47084016e-04, 5.96662930e-02, 3.30072561e-03, ...,\n        3.03150000e+02, 3.29869701e-03, 1.01325000e+02],\n       [9.47084016e-04, 5.96662930e-02, 3.30072561e-03, ...,\n        3.13150000e+02, 3.19335782e-03, 1.01325000e+02],\n       [9.47084016e-04, 5.96662930e-02, 3.30072561e-03, ...,\n        3.23150000e+02, 3.09453814e-03, 1.01325000e+02],\n       ...,\n       [1.30813566e-03, 8.37206823e-02, 7.36042450e-03, ...,\n        3.23150000e+02, 3.09453814e-03, 1.01000000e+02],\n       [1.30813566e-03, 8.37206823e-02, 7.36042450e-03, ...,\n        3.33150000e+02, 3.00165091e-03, 1.01000000e+02],\n       [1.30813566e-03, 8.37206823e-02, 7.36042450e-03, ...,\n        3.43150000e+02, 2.91417747e-03, 1.01000000e+02]])"
     },
     "execution_count": 1,
     "metadata": {},
     "output_type": "execute_result"
    }
   ],
   "source": [
    "import pandas\n",
    "import numpy as np\n",
    "\n",
    "loadData = np.load(\n",
    "    r'E:\\A_beifeng\\all_software\\Other_Softwares\\Common_Apps\\Tencent\\WeChat\\Downloads\\WeChat Files\\wxid_r24hlo4eeq7c22\\FileStorage\\File\\2022-05\\XT_SDM_d\\XT_SDM_d.npy')\n",
    "# 获取数据\n",
    "X_data = loadData[:, :]\n",
    "df = pandas.read_excel(\"density_data.xlsx\", sheet_name='data_1')\n",
    "Y_data = df['Property_number_all']\n",
    "loadData"
   ],
   "metadata": {
    "collapsed": false,
    "pycharm": {
     "name": "#%%\n"
    }
   }
  },
  {
   "cell_type": "code",
   "execution_count": 4,
   "outputs": [
    {
     "data": {
      "text/plain": "False"
     },
     "execution_count": 4,
     "metadata": {},
     "output_type": "execute_result"
    }
   ],
   "source": [
    "Y_data = Y_data.fillna(Y_data.mean())\n",
    "Y_data.isnull().any()"
   ],
   "metadata": {
    "collapsed": false,
    "pycharm": {
     "name": "#%%\n"
    }
   }
  },
  {
   "cell_type": "code",
   "execution_count": 12,
   "outputs": [
    {
     "name": "stdout",
     "output_type": "stream",
     "text": [
      "fitting model right now\n"
     ]
    }
   ],
   "source": [
    "'''模型构建'''\n",
    "from sklearn.neural_network import MLPRegressor\n",
    "fit1 = MLPRegressor(\n",
    "    hidden_layer_sizes=(100,50), activation='relu',solver='adam',\n",
    "    # '''第一个隐藏层有100个节点，第二层有50个，激活函数用relu，梯度下降方法用adam'''\n",
    "    alpha=0.01,max_iter=200)\n",
    "# '''惩罚系数为0.01，最大迭代次数为200'''\n",
    "print (\"fitting model right now\")\n",
    "# .ravel()可以把列向量转化为一个一维数组\n",
    "fit1.fit(X_data,Y_data)\n",
    "pred1_train = fit1.predict(X_data)"
   ],
   "metadata": {
    "collapsed": false,
    "pycharm": {
     "name": "#%%\n"
    }
   }
  },
  {
   "cell_type": "code",
   "execution_count": 13,
   "outputs": [
    {
     "name": "stdout",
     "output_type": "stream",
     "text": [
      "Train ERROR =  77467154008.7267\n"
     ]
    },
    {
     "data": {
      "text/plain": "'计算测试集mse'"
     },
     "execution_count": 13,
     "metadata": {},
     "output_type": "execute_result"
    }
   ],
   "source": [
    "'''计算训练集 MSE'''\n",
    "from sklearn.metrics import mean_squared_error\n",
    "mse_1 = mean_squared_error(pred1_train,Y_data)\n",
    "print (\"Train ERROR = \", mse_1)\n",
    "'''计算测试集mse'''\n",
    "# pred1_test = fit1.predict(x_test)\n",
    "# mse_2 = mean_squared_error(pred1_test,y_test)\n",
    "# print (\"Test ERROR = \", mse_2)"
   ],
   "metadata": {
    "collapsed": false,
    "pycharm": {
     "name": "#%%\n"
    }
   }
  },
  {
   "cell_type": "code",
   "execution_count": 14,
   "outputs": [
    {
     "name": "stdout",
     "output_type": "stream",
     "text": [
      "evs: 0.02%\n"
     ]
    }
   ],
   "source": [
    "# 计算预测的分数\n",
    "from sklearn.metrics import explained_variance_score\n",
    "score=explained_variance_score(pred1_train,Y_data)\n",
    "print('evs: %.2f%%'%(score*100.0))"
   ],
   "metadata": {
    "collapsed": false,
    "pycharm": {
     "name": "#%%\n"
    }
   }
  },
  {
   "cell_type": "code",
   "execution_count": null,
   "outputs": [],
   "source": [],
   "metadata": {
    "collapsed": false,
    "pycharm": {
     "name": "#%%\n"
    }
   }
  }
 ],
 "metadata": {
  "kernelspec": {
   "display_name": "Python 3",
   "language": "python",
   "name": "python3"
  },
  "language_info": {
   "codemirror_mode": {
    "name": "ipython",
    "version": 2
   },
   "file_extension": ".py",
   "mimetype": "text/x-python",
   "name": "python",
   "nbconvert_exporter": "python",
   "pygments_lexer": "ipython2",
   "version": "2.7.6"
  }
 },
 "nbformat": 4,
 "nbformat_minor": 0
}