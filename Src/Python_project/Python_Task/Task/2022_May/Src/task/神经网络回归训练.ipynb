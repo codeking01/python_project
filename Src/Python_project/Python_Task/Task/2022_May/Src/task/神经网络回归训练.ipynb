{
 "cells": [
  {
   "cell_type": "code",
   "execution_count": null,
   "outputs": [],
   "source": [
    "import matplotlib.pyplot as plt\n",
    "import numpy as np\n",
    "import pandas\n",
    "import pandas as pd\n",
    "import tensorflow as tf\n",
    "\n",
    "loadData = np.load(r'E:\\A_beifeng\\all_software\\Other_Softwares\\Common_Apps\\Tencent\\WeChat\\Downloads\\WeChat Files\\wxid_r24hlo4eeq7c22\\FileStorage\\File\\2022-05\\XT_SDM_d\\XT_SDM_d.npy')\n",
    "# 获取数据\n",
    "X_data=loadData[:,:]\n",
    "df = pandas.read_excel(\"density_data.xlsx\",sheet_name='data_1')\n",
    "Y_data=df['Property_number_all']\n",
    "#读取数据\n",
    "# data=pd.read_csv('Advertisement.csv')\n",
    "# x=data.iloc[:,:-1]\n",
    "# y=data.iloc[:,-1]\n",
    "# 建立模型\n",
    "model=tf.compat.v2.keras.Sequential()\n",
    "# 10个神经元进行线性拟合\n",
    "model.add(tf.compat.v2.keras.layers.Dense(10,input_shape=(3,)))\n",
    "# 输出层\n",
    "model.add(tf.compat.v2.keras.layers.Dense(1))\n",
    "# 定义梯度下降算法和损失函数\n",
    "model.compile(optimizer='adam',loss='mse')\n",
    "# 训练2500次\n",
    "history=model.fit(X_data,Y_data,epochs=2500)\n",
    "\n",
    "# 绘制损失函数图像\n",
    "plt.plot(history.epoch,history.history.get('loss'))\n"
   ],
   "metadata": {
    "collapsed": false,
    "pycharm": {
     "name": "#%%\n"
    }
   }
  },
  {
   "cell_type": "code",
   "execution_count": null,
   "outputs": [],
   "source": [
    "# 这里直接取了训练集做测试\n",
    "test_data=df.iloc[:3,:-1]\n",
    "model.predict(test_data)"
   ],
   "metadata": {
    "collapsed": false,
    "pycharm": {
     "name": "#%%\n"
    }
   }
  },
  {
   "cell_type": "code",
   "execution_count": null,
   "outputs": [],
   "source": [
    "df.iloc[:3,:-1]"
   ],
   "metadata": {
    "collapsed": false,
    "pycharm": {
     "name": "#%%\n"
    }
   }
  },
  {
   "cell_type": "code",
   "execution_count": null,
   "outputs": [],
   "source": [
    "# 计算预测的分数\n",
    "from sklearn.metrics import explained_variance_score\n",
    "y_pred=model.predict(test_data)\n",
    "score=explained_variance_score(df.iloc[:3,:-1],y_pred)\n",
    "print('y1 evs: %.2f%%'%(score*100.0))"
   ],
   "metadata": {
    "collapsed": false,
    "pycharm": {
     "name": "#%%\n"
    }
   }
  }
 ],
 "metadata": {
  "kernelspec": {
   "display_name": "Python 3",
   "language": "python",
   "name": "python3"
  },
  "language_info": {
   "codemirror_mode": {
    "name": "ipython",
    "version": 2
   },
   "file_extension": ".py",
   "mimetype": "text/x-python",
   "name": "python",
   "nbconvert_exporter": "python",
   "pygments_lexer": "ipython2",
   "version": "2.7.6"
  }
 },
 "nbformat": 4,
 "nbformat_minor": 0
}