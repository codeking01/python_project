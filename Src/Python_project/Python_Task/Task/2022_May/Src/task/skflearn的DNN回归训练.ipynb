{
 "cells": [
  {
   "cell_type": "code",
   "execution_count": 32,
   "outputs": [],
   "source": [
    "import re\n",
    "import pandas\n",
    "import numpy as np\n",
    "\n",
    "loadData = np.load(\n",
    "    r'E:\\A_beifeng\\all_software\\Other_Softwares\\Common_Apps\\Tencent\\WeChat\\Downloads\\WeChat Files\\wxid_r24hlo4eeq7c22\\FileStorage\\File\\2022-05\\XT_SDM_d\\XT_SDM_d.npy')\n",
    "re_all = np.load(r'C:\\Users\\king\\Desktop\\data_npy\\result_S.npz', allow_pickle=True)\n",
    "ii_all = re_all['ii_all']\n",
    "list_index = ii_all[29]\n",
    "X_data = loadData[:, list_index]\n",
    "# 查找是否有空值\n",
    "np.isnan(X_data).all()\n",
    "df = pandas.read_excel(\"density_data.xlsx\", sheet_name='data_1')\n",
    "Y_data = df['Property_number_all']\n",
    "# Y_data=df['Property_number_all']\n",
    "# 手动划分训练集测试集\n",
    "num_pattern = re.compile(r\"(\\d+)\")\n",
    "f = open(\"train.txt\", encoding=\"utf-8\")\n",
    "f_test = open(\"test.txt\", encoding=\"utf-8\")\n",
    "train_content = f.read()\n",
    "test_content = f_test.read()\n",
    "train_line = num_pattern.findall(train_content)\n",
    "test_line = num_pattern.findall(test_content)\n",
    "# 查找缺失的行\n",
    "# Y_data.isna().values.any()\n",
    "# Y_data[Y_data.isna().values==True]\n",
    "NullLine = Y_data[Y_data.isnull().values == True]\n",
    "# 找到索引\n",
    "NullIndex = NullLine.index.values[0]\n",
    "# 删除训练集测试的一些 空值行\n",
    "if str(NullIndex) in train_line:\n",
    "    train_line.remove(str(NullIndex))\n",
    "if str(NullIndex) in test_line:\n",
    "    test_line.remove(str(NullIndex))\n",
    "# Y_data = Y_data.drop(Y_data.index[NullIndex])\n",
    "# 将列表转化为int\n",
    "train_line = [int(x) for x in train_line]\n",
    "test_line = [int(x) for x in test_line]\n",
    "x_train = X_data[train_line, :]\n",
    "y_train = Y_data[train_line]\n",
    "x_test = X_data[test_line, :]\n",
    "y_test = Y_data[test_line]"
   ],
   "metadata": {
    "collapsed": false,
    "pycharm": {
     "name": "#%%\n"
    }
   }
  },
  {
   "cell_type": "code",
   "execution_count": 44,
   "outputs": [
    {
     "data": {
      "text/plain": "BaggingRegressor()"
     },
     "execution_count": 44,
     "metadata": {},
     "output_type": "execute_result"
    }
   ],
   "source": [
    "from sklearn.ensemble import BaggingRegressor\n",
    "\n",
    "dnn_regressor=BaggingRegressor()\n",
    "dnn_regressor.fit(x_train,y_train)"
   ],
   "metadata": {
    "collapsed": false,
    "pycharm": {
     "name": "#%%\n"
    }
   }
  },
  {
   "cell_type": "code",
   "execution_count": 45,
   "outputs": [],
   "source": [
    "y_pred = dnn_regressor.predict(x_test)"
   ],
   "metadata": {
    "collapsed": false,
    "pycharm": {
     "name": "#%%\n"
    }
   }
  },
  {
   "cell_type": "code",
   "execution_count": 46,
   "outputs": [
    {
     "name": "stdout",
     "output_type": "stream",
     "text": [
      "0.9418202318761099\n"
     ]
    }
   ],
   "source": [
    "from sklearn.metrics import r2_score\n",
    "y1_score=r2_score(y_test,y_pred)\n",
    "print(y1_score)"
   ],
   "metadata": {
    "collapsed": false,
    "pycharm": {
     "name": "#%%\n"
    }
   }
  },
  {
   "cell_type": "code",
   "execution_count": 47,
   "outputs": [
    {
     "name": "stdout",
     "output_type": "stream",
     "text": [
      "0.9995022046039772\n"
     ]
    }
   ],
   "source": [
    "y_pred = dnn_regressor.predict(x_train)\n",
    "from sklearn.metrics import r2_score\n",
    "\n",
    "y1_score = r2_score(y_train, y_pred)\n",
    "print(y1_score)"
   ],
   "metadata": {
    "collapsed": false,
    "pycharm": {
     "name": "#%%\n"
    }
   }
  }
 ],
 "metadata": {
  "kernelspec": {
   "display_name": "Python 3",
   "language": "python",
   "name": "python3"
  },
  "language_info": {
   "codemirror_mode": {
    "name": "ipython",
    "version": 2
   },
   "file_extension": ".py",
   "mimetype": "text/x-python",
   "name": "python",
   "nbconvert_exporter": "python",
   "pygments_lexer": "ipython2",
   "version": "2.7.6"
  }
 },
 "nbformat": 4,
 "nbformat_minor": 0
}