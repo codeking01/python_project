{
 "cells": [
  {
   "cell_type": "code",
   "execution_count": 1,
   "outputs": [],
   "source": [
    "# 1.获取数据\n",
    "from sklearn import datasets\n",
    "iris = datasets.load_iris() # 导入数据集\n",
    "X = iris.data # 获得其特征向量\n",
    "y = iris.target # 获得样本label"
   ],
   "metadata": {
    "collapsed": false,
    "pycharm": {
     "name": "#%%\n"
    }
   }
  },
  {
   "cell_type": "code",
   "execution_count": 4,
   "outputs": [],
   "source": [
    "from sklearn.datasets import make_classification\n",
    "\n",
    "X, y = make_classification(n_samples=6, n_features=5, n_informative=2,\n",
    "                           n_redundant=2, n_classes=2, n_clusters_per_class=2, scale=1.0,\n",
    "                           random_state=20)\n",
    "\n",
    "# n_samples：指定样本数\n",
    "# n_features：指定特征数\n",
    "# n_classes：指定几分类\n",
    "# random_state：随机种子，使得随机状可重"
   ],
   "metadata": {
    "collapsed": false,
    "pycharm": {
     "name": "#%%\n"
    }
   }
  },
  {
   "cell_type": "code",
   "execution_count": 7,
   "outputs": [
    {
     "name": "stdout",
     "output_type": "stream",
     "text": [
      "0: [-0.6600737  -0.0558978   0.82286793  1.1003977  -0.93493796]\n",
      "1: [ 0.4113583   0.06249216 -0.90760075 -1.41296696  2.059838  ]\n",
      "1: [ 1.52452016 -0.01867812  0.20900899  1.34422289 -1.61299022]\n",
      "0: [-1.25725859  0.02347952 -0.28764782 -1.32091378 -0.88549315]\n",
      "0: [-3.28323172  0.03899168 -0.43251277 -2.86249859 -1.10457948]\n",
      "1: [ 1.68841011  0.06754955 -1.02805579 -0.83132182  0.93286635]\n"
     ]
    }
   ],
   "source": [
    "for x_,y_ in zip(X,y):\n",
    "    print(y_,end=': ')\n",
    "    print(x_)"
   ],
   "metadata": {
    "collapsed": false,
    "pycharm": {
     "name": "#%%\n"
    }
   }
  },
  {
   "cell_type": "code",
   "execution_count": 10,
   "outputs": [],
   "source": [
    "# 2.数据预处理\n",
    "from sklearn import preprocessing"
   ],
   "metadata": {
    "collapsed": false,
    "pycharm": {
     "name": "#%%\n"
    }
   }
  },
  {
   "cell_type": "code",
   "execution_count": null,
   "outputs": [],
   "source": [],
   "metadata": {
    "collapsed": false,
    "pycharm": {
     "name": "#%%\n"
    }
   }
  }
 ],
 "metadata": {
  "kernelspec": {
   "display_name": "Python 3",
   "language": "python",
   "name": "python3"
  },
  "language_info": {
   "codemirror_mode": {
    "name": "ipython",
    "version": 2
   },
   "file_extension": ".py",
   "mimetype": "text/x-python",
   "name": "python",
   "nbconvert_exporter": "python",
   "pygments_lexer": "ipython2",
   "version": "2.7.6"
  }
 },
 "nbformat": 4,
 "nbformat_minor": 0
}