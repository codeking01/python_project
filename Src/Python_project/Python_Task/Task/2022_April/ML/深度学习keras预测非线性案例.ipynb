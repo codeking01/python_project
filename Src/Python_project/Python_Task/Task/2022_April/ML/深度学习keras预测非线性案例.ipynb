{
 "cells": [
  {
   "cell_type": "code",
   "execution_count": 61,
   "outputs": [
    {
     "name": "stdout",
     "output_type": "stream",
     "text": [
      "cost: 0.009538393467664719\n",
      "cost: 0.007946571335196495\n",
      "cost: 0.007691429927945137\n",
      "cost: 0.007489063777029514\n",
      "cost: 0.007304938044399023\n",
      "cost: 0.007141703739762306\n",
      "cost: 0.0070330798625946045\n",
      "cost: 0.006993643008172512\n",
      "cost: 0.0069702197797596455\n",
      "cost: 0.006950546056032181\n",
      "cost: 0.006932622753083706\n",
      "W: [[ 0.0477303   0.45140493 -0.49421445  0.29200774  0.36399907  0.5426791\n",
      "  -0.6201155  -0.5031676  -0.22647338  0.37173396]] b: [-0.00179943  0.00333344 -0.0020009  -0.00608682  0.01287455  0.00553566\n",
      " -0.00510984 -0.01068494 -0.11323783 -0.00213523]\n"
     ]
    },
    {
     "data": {
      "text/plain": "<Figure size 432x288 with 1 Axes>",
      "image/png": "[encoded data removed]"
     },
     "metadata": {
      "needs_background": "light"
     },
     "output_type": "display_data"
    }
   ],
   "source": [
    "import keras\n",
    "import numpy as np\n",
    "import matplotlib.pyplot as plt\n",
    "#Sequential 按顺序构成的模型\n",
    "from keras.models import Sequential#Sequential是模型结构，输入层，隐藏层，输出层\n",
    "#Dense 全连接层,Activation激活函数\n",
    "from keras.layers import Dense,Activation\n",
    "# from keras.optimizers import SGD\n",
    "\n",
    "x_data=np.linspace(-0.5,0.5,200)#从-0.5到0.5范围内生成200个随机点\n",
    "noise=np.random.normal(0,0.02,x_data.shape)#生成和x_data形状一样的噪声\n",
    "y_data=np.square(x_data)+noise\n",
    "\n",
    "#显示随机点\n",
    "#plt.scatter(x_data,y_data)\n",
    "#plt.show()\n",
    "\n",
    "#构建一个顺序模型\n",
    "model=Sequential()\n",
    "\n",
    "#1-10-1，添加一个隐藏层\n",
    "model.add(Dense(units=10,input_dim=1,activation='relu'))#units是隐藏层，输出维度，输出y，input_dim是输入维度，输入x\n",
    "#model.add(Activation('tanh'))#给这一层添加一个双曲正切激活函数tanh函数\n",
    "model.add(Dense(units=1,input_dim=10,activation='relu'))#input_dim可以不写，它可以识别到上一句的输出是10维\n",
    "#model.add(Activation('tanh'))#给这一层添加一个双曲正切激活函数tanh函数\n",
    "# 优化器选择的是 sgd 随机梯度下降 损失函数 是mse 均方误差\n",
    "model.compile(optimizer='sgd',loss='mse')\n",
    "#定义优化器 导入不进来，我猜测是python版本太高了\n",
    "# sgd=SGD(lr=0.3)#学习率提高到0.3，训练速度会加快\n",
    "\n",
    "model.compile(optimizer='sgd',loss='mse')#编译这个模型，sgd是随机梯度下降法，优化器.mse是均方误差\n",
    "\n",
    "#训练模型\n",
    "for step in range(5001):\n",
    "    #每次训练一个批次\n",
    "    cost=model.train_on_batch(x_data,y_data)#代价函数的值，其实就是loss\n",
    "    #每500个batch打印一次cost值\n",
    "    if step %500==0:\n",
    "        print('cost:',cost)\n",
    "\n",
    "#打印权值和偏置值\n",
    "W,b=model.layers[0].get_weights()#线性回归，只有一层\n",
    "print('W:',W,'b:',b)\n",
    "\n",
    "#x_data输入网络中，得到预测值y_pred\n",
    "y_pred=model.predict(x_data)\n",
    "\n",
    "#显示随机点s\n",
    "plt.scatter(x_data,y_data)\n",
    "#显示预测结果\n",
    "plt.plot(x_data,y_pred,'r-',lw=3)#r-表示红色的线，lw表示线宽\n",
    "plt.show()"
   ],
   "metadata": {
    "collapsed": false,
    "pycharm": {
     "name": "#%%\n"
    }
   }
  },
  {
   "cell_type": "code",
   "execution_count": 60,
   "outputs": [
    {
     "data": {
      "text/plain": "<Figure size 432x288 with 1 Axes>",
      "image/png": "[encoded data removed]"
     },
     "metadata": {
      "needs_background": "light"
     },
     "output_type": "display_data"
    }
   ],
   "source": [
    "import keras\n",
    "import numpy as np\n",
    "import matplotlib.pyplot as plt\n",
    "#Sequential 按顺序构成的模型\n",
    "from keras.models import Sequential#Sequential是模型结构，输入层，隐藏层，输出层\n",
    "#Dense 全连接层,Activation激活函数\n",
    "from keras.layers import Dense,Activation\n",
    "# from keras.optimizers import SGD\n",
    "import tensorflow as tf\n",
    "\n",
    "import matplotlib.pyplot as plt#约定俗成的写法plt\n",
    "#首先定义两个函数（正弦&余弦）\n",
    "import numpy as np\n",
    "# 获取数据\n",
    "x_data=np.linspace(0,3*np.pi,200).reshape(-1,1)\n",
    "y_data=np.array(x_data)\n",
    "# noise=np.random.normal(0,0.02,x_data.shape)#生成和x_data形状一样的噪声\n",
    "# y_data=y+noise\n",
    "\n",
    "# 获取模型\n",
    "model = Sequential()\n",
    "model.add(Dense(32, activation='relu'))\n",
    "model.add(Dense(1,))\n",
    "optimizer = tf.keras.optimizers.RMSprop(0.001)\n",
    "\n",
    "model.compile(loss='mse',\n",
    "              optimizer=optimizer,\n",
    "              metrics=['mae', 'mse'])\n",
    "#构建一个顺序模型\n",
    "model=Sequential()\n",
    "\n",
    "#1-10-1，添加一个隐藏层\n",
    "model.add(Dense(units=10,input_dim=1,activation='relu'))#units是隐藏层，输出维度，输出y，input_dim是输入维度，输入x\n",
    "#model.add(Activation('tanh'))#给这一层添加一个双曲正切激活函数tanh函数\n",
    "model.add(Dense(units=1,input_dim=10,activation='relu'))#input_dim可以不写，它可以识别到上一句的输出是10维\n",
    "model.add(Dense(1,))\n",
    "model.add(Activation('tanh'))#给这一层添加一个双曲正切激活函数tanh函数\n",
    "# 优化器选择的是 sgd 随机梯度下降 损失函数 是mse 均方误差\n",
    "model.compile(optimizer='sgd',loss='mse')\n",
    "#定义优化器 导入不进来，我猜测是python版本太高了\n",
    "# sgd=SGD(lr=0.3)#学习率提高到0.3，训练速度会加快\n",
    "\n",
    "model.compile(optimizer='sgd',loss='mse')#编译这个模型，sgd是随机梯度下降法，优化器.mse是均方误差\n",
    "model.fit(x_data,y_data,epochs=0, batch_size=32)\n",
    "#训练模型\n",
    "# for step in range(3001):\n",
    "#     #每次训练一个批次\n",
    "#     cost=model.train_on_batch(x_data,y_data)#代价函数的值，其实就是loss\n",
    "#     #每500个batch打印一次cost值\n",
    "#     if step %500==0:\n",
    "#         print('cost:',cost)\n",
    "\n",
    "#打印权值和偏置值\n",
    "W,b=model.layers[0].get_weights()#线性回归，只有一层\n",
    "print('W:',W,'b:',b)\n",
    "\n",
    "#x_data输入网络中，得到预测值y_pred\n",
    "y_pred=model.predict(x_data)\n",
    "\n",
    "#显示随机点s\n",
    "plt.scatter(x_data,y_data)\n",
    "#显示预测结果\n",
    "plt.plot(x_data,y_pred,'r-',lw=3)#r-表示红色的线，lw表示线宽\n",
    "plt.show()"
   ],
   "metadata": {
    "collapsed": false,
    "pycharm": {
     "name": "#%%\n"
    }
   }
  },
  {
   "cell_type": "code",
   "execution_count": 44,
   "outputs": [],
   "source": [
    "import matplotlib.pyplot as plt#约定俗成的写法plt\n",
    "#首先定义两个函数（正弦&余弦）\n",
    "import numpy as np\n",
    "import keras\n",
    "import numpy as np\n",
    "import matplotlib.pyplot as plt\n",
    "#Sequential 按顺序构成的模型\n",
    "from keras.models import Sequential#Sequential是模型结构，输入层，隐藏层，输出层\n",
    "#Dense 全连接层,Activation激活函数\n",
    "from keras.layers import Dense,Activation\n",
    "import tensorflow as tf\n",
    "\n",
    "\n",
    "model = Sequential()\n",
    "model.add(Dense(32, activation='relu'))\n",
    "model.add(Dense(32, activation='relu'))\n",
    "model.add(Dense(32, activation='relu'))\n",
    "model.add(Dense(1,))\n",
    "#\n",
    "# model.compile(optimizer=tf.keras.optimizers.Adam(0.5),\n",
    "#               loss='categorical_crossentropy',\n",
    "#               metrics=['accuracy'])\n",
    "\n",
    "optimizer = tf.keras.optimizers.RMSprop(0.001)\n",
    "\n",
    "model.compile(loss='mse',\n",
    "              optimizer=optimizer,\n",
    "              metrics=['mae', 'mse'])\n",
    "X=np.linspace(-np.pi,np.pi,256,endpoint=True)#-π to+π的256个值\n",
    "print(\"x的值\",X.shape)\n",
    "S=np.sin(X)"
   ],
   "metadata": {
    "collapsed": false,
    "pycharm": {
     "name": "#%%\n"
    }
   }
  },
  {
   "cell_type": "code",
   "execution_count": 49,
   "outputs": [],
   "source": [
    "x1=[]\n",
    "s1=[]\n",
    "for index in range(len(X)):\n",
    "    x1.append([X[index]])\n",
    "    s1.append([S[index]])\n",
    "x1=np.array(x1)\n",
    "s1=np.array(s1)"
   ],
   "metadata": {
    "collapsed": false,
    "pycharm": {
     "name": "#%%\n"
    }
   }
  },
  {
   "cell_type": "code",
   "execution_count": 50,
   "outputs": [],
   "source": [
    "model.fit(x1,s1,epochs=0, batch_size=32)\n",
    "before_t=[]"
   ],
   "metadata": {
    "collapsed": false,
    "pycharm": {
     "name": "#%%\n"
    }
   }
  },
  {
   "cell_type": "code",
   "execution_count": 51,
   "outputs": [
    {
     "name": "stdout",
     "output_type": "stream",
     "text": [
      "-3.141592653589793\n"
     ]
    },
    {
     "ename": "ValueError",
     "evalue": "in user code:\n\n    File \"C:\\All_Softwares\\Develop_Tools\\Python310\\lib\\site-packages\\keras\\engine\\training.py\", line 1801, in predict_function  *\n        return step_function(self, iterator)\n    File \"C:\\All_Softwares\\Develop_Tools\\Python310\\lib\\site-packages\\keras\\engine\\training.py\", line 1790, in step_function  **\n        outputs = model.distribute_strategy.run(run_step, args=(data,))\n    File \"C:\\All_Softwares\\Develop_Tools\\Python310\\lib\\site-packages\\keras\\engine\\training.py\", line 1783, in run_step  **\n        outputs = model.predict_step(data)\n    File \"C:\\All_Softwares\\Develop_Tools\\Python310\\lib\\site-packages\\keras\\engine\\training.py\", line 1751, in predict_step\n        return self(x, training=False)\n    File \"C:\\All_Softwares\\Develop_Tools\\Python310\\lib\\site-packages\\keras\\utils\\traceback_utils.py\", line 67, in error_handler\n        raise e.with_traceback(filtered_tb) from None\n    File \"C:\\All_Softwares\\Develop_Tools\\Python310\\lib\\site-packages\\keras\\engine\\input_spec.py\", line 228, in assert_input_compatibility\n        raise ValueError(f'Input {input_index} of layer \"{layer_name}\" '\n\n    ValueError: Exception encountered when calling layer \"sequential_8\" (type Sequential).\n    \n    Input 0 of layer \"dense_20\" is incompatible with the layer: expected min_ndim=2, found ndim=1. Full shape received: (None,)\n    \n    Call arguments received:\n      • inputs=tf.Tensor(shape=(None,), dtype=float32)\n      • training=False\n      • mask=None\n",
     "output_type": "error",
     "traceback": [
      "\u001B[1;31m---------------------------------------------------------------------------\u001B[0m",
      "\u001B[1;31mValueError\u001B[0m                                Traceback (most recent call last)",
      "Input \u001B[1;32mIn [51]\u001B[0m, in \u001B[0;36m<cell line: 1>\u001B[1;34m()\u001B[0m\n\u001B[0;32m      2\u001B[0m \u001B[38;5;28mprint\u001B[39m(tempx)\n\u001B[0;32m      3\u001B[0m x_temp\u001B[38;5;241m=\u001B[39mnp\u001B[38;5;241m.\u001B[39marray([tempx])\n\u001B[1;32m----> 4\u001B[0m tempx\u001B[38;5;241m=\u001B[39m\u001B[43mmodel\u001B[49m\u001B[38;5;241;43m.\u001B[39;49m\u001B[43mpredict\u001B[49m\u001B[43m(\u001B[49m\u001B[43mx_temp\u001B[49m\u001B[43m)\u001B[49m\n\u001B[0;32m      5\u001B[0m tempx\u001B[38;5;241m=\u001B[39mtempx[\u001B[38;5;241m0\u001B[39m]\n\u001B[0;32m      7\u001B[0m before_t\u001B[38;5;241m.\u001B[39mappend(tempx)\n",
      "File \u001B[1;32mC:\\All_Softwares\\Develop_Tools\\Python310\\lib\\site-packages\\keras\\utils\\traceback_utils.py:67\u001B[0m, in \u001B[0;36mfilter_traceback.<locals>.error_handler\u001B[1;34m(*args, **kwargs)\u001B[0m\n\u001B[0;32m     65\u001B[0m \u001B[38;5;28;01mexcept\u001B[39;00m \u001B[38;5;167;01mException\u001B[39;00m \u001B[38;5;28;01mas\u001B[39;00m e:  \u001B[38;5;66;03m# pylint: disable=broad-except\u001B[39;00m\n\u001B[0;32m     66\u001B[0m   filtered_tb \u001B[38;5;241m=\u001B[39m _process_traceback_frames(e\u001B[38;5;241m.\u001B[39m__traceback__)\n\u001B[1;32m---> 67\u001B[0m   \u001B[38;5;28;01mraise\u001B[39;00m e\u001B[38;5;241m.\u001B[39mwith_traceback(filtered_tb) \u001B[38;5;28;01mfrom\u001B[39;00m \u001B[38;5;28mNone\u001B[39m\n\u001B[0;32m     68\u001B[0m \u001B[38;5;28;01mfinally\u001B[39;00m:\n\u001B[0;32m     69\u001B[0m   \u001B[38;5;28;01mdel\u001B[39;00m filtered_tb\n",
      "File \u001B[1;32mC:\\All_Softwares\\Develop_Tools\\Python310\\lib\\site-packages\\tensorflow\\python\\framework\\func_graph.py:1147\u001B[0m, in \u001B[0;36mfunc_graph_from_py_func.<locals>.autograph_handler\u001B[1;34m(*args, **kwargs)\u001B[0m\n\u001B[0;32m   1145\u001B[0m \u001B[38;5;28;01mexcept\u001B[39;00m \u001B[38;5;167;01mException\u001B[39;00m \u001B[38;5;28;01mas\u001B[39;00m e:  \u001B[38;5;66;03m# pylint:disable=broad-except\u001B[39;00m\n\u001B[0;32m   1146\u001B[0m   \u001B[38;5;28;01mif\u001B[39;00m \u001B[38;5;28mhasattr\u001B[39m(e, \u001B[38;5;124m\"\u001B[39m\u001B[38;5;124mag_error_metadata\u001B[39m\u001B[38;5;124m\"\u001B[39m):\n\u001B[1;32m-> 1147\u001B[0m     \u001B[38;5;28;01mraise\u001B[39;00m e\u001B[38;5;241m.\u001B[39mag_error_metadata\u001B[38;5;241m.\u001B[39mto_exception(e)\n\u001B[0;32m   1148\u001B[0m   \u001B[38;5;28;01melse\u001B[39;00m:\n\u001B[0;32m   1149\u001B[0m     \u001B[38;5;28;01mraise\u001B[39;00m\n",
      "\u001B[1;31mValueError\u001B[0m: in user code:\n\n    File \"C:\\All_Softwares\\Develop_Tools\\Python310\\lib\\site-packages\\keras\\engine\\training.py\", line 1801, in predict_function  *\n        return step_function(self, iterator)\n    File \"C:\\All_Softwares\\Develop_Tools\\Python310\\lib\\site-packages\\keras\\engine\\training.py\", line 1790, in step_function  **\n        outputs = model.distribute_strategy.run(run_step, args=(data,))\n    File \"C:\\All_Softwares\\Develop_Tools\\Python310\\lib\\site-packages\\keras\\engine\\training.py\", line 1783, in run_step  **\n        outputs = model.predict_step(data)\n    File \"C:\\All_Softwares\\Develop_Tools\\Python310\\lib\\site-packages\\keras\\engine\\training.py\", line 1751, in predict_step\n        return self(x, training=False)\n    File \"C:\\All_Softwares\\Develop_Tools\\Python310\\lib\\site-packages\\keras\\utils\\traceback_utils.py\", line 67, in error_handler\n        raise e.with_traceback(filtered_tb) from None\n    File \"C:\\All_Softwares\\Develop_Tools\\Python310\\lib\\site-packages\\keras\\engine\\input_spec.py\", line 228, in assert_input_compatibility\n        raise ValueError(f'Input {input_index} of layer \"{layer_name}\" '\n\n    ValueError: Exception encountered when calling layer \"sequential_8\" (type Sequential).\n    \n    Input 0 of layer \"dense_20\" is incompatible with the layer: expected min_ndim=2, found ndim=1. Full shape received: (None,)\n    \n    Call arguments received:\n      • inputs=tf.Tensor(shape=(None,), dtype=float32)\n      • training=False\n      • mask=None\n"
     ]
    }
   ],
   "source": [
    "for tempx in X:\n",
    "    print(tempx)\n",
    "    x_temp=np.array([tempx])\n",
    "    tempx=model.predict(x_temp)\n",
    "    tempx=tempx[0]\n",
    "\n",
    "    before_t.append(tempx)\n"
   ],
   "metadata": {
    "collapsed": false,
    "pycharm": {
     "name": "#%%\n"
    }
   }
  },
  {
   "cell_type": "code",
   "execution_count": null,
   "outputs": [],
   "source": [
    "\n",
    "model.fit(x1,s1,epochs=100, batch_size=32)\n",
    "\n",
    "after_t=[]\n",
    "for tempx in X:\n",
    "    print(tempx)\n",
    "    tempx=model.predict([tempx])\n",
    "    tempx=tempx[0]\n",
    "\n",
    "    after_t.append(tempx)\n",
    "    print(tempx)\n",
    "\n",
    "\n",
    "\n",
    "plt.plot(X,S,label='sin(x)')\n",
    "plt.plot(X,before_t,label=\"before_train\")\n",
    "plt.plot(X,after_t,label=\"after_train\",color=\"yellow\")\n",
    "#在python的交互环境中需要这句话才能显示出来\n",
    "plt.legend()\n",
    "plt.show()"
   ],
   "metadata": {
    "collapsed": false,
    "pycharm": {
     "name": "#%%\n"
    }
   }
  },
  {
   "cell_type": "code",
   "execution_count": null,
   "outputs": [],
   "source": [],
   "metadata": {
    "collapsed": false,
    "pycharm": {
     "name": "#%%\n"
    }
   }
  }
 ],
 "metadata": {
  "kernelspec": {
   "display_name": "Python 3",
   "language": "python",
   "name": "python3"
  },
  "language_info": {
   "codemirror_mode": {
    "name": "ipython",
    "version": 2
   },
   "file_extension": ".py",
   "mimetype": "text/x-python",
   "name": "python",
   "nbconvert_exporter": "python",
   "pygments_lexer": "ipython2",
   "version": "2.7.6"
  }
 },
 "nbformat": 4,
 "nbformat_minor": 0
}