{
 "cells": [
  {
   "cell_type": "code",
   "execution_count": 2,
   "outputs": [],
   "source": [
    "# Keras实践——线性回归\n",
    "import keras\n",
    "import numpy as np\n",
    "import matplotlib.pyplot as plt"
   ],
   "metadata": {
    "collapsed": false,
    "pycharm": {
     "name": "#%%\n"
    }
   }
  },
  {
   "cell_type": "code",
   "execution_count": 3,
   "outputs": [],
   "source": [
    "#顺序模型\n",
    "from keras.models import Sequential\n",
    "#全连接层\n",
    "from keras.layers import Dense\n",
    "#使用numpy生成100个随机点\n",
    "x_data = np.random.rand(100)\n",
    "'''\n",
    "loc：float\n",
    "    此概率分布的均值（对应着整个分布的中心centre）\n",
    "scale：float\n",
    "    此概率分布的标准差（对应于分布的宽度，scale越大越矮胖，scale越小，越瘦高）\n",
    "size：int or tuple of ints\n",
    "    输出的shape，默认为None，只输出一个值\n",
    "'''\n",
    "noise = np.random.normal(loc=0,scale=0.01,size=x_data.shape)"
   ],
   "metadata": {
    "collapsed": false,
    "pycharm": {
     "name": "#%%\n"
    }
   }
  },
  {
   "cell_type": "markdown",
   "source": [],
   "metadata": {
    "collapsed": false,
    "pycharm": {
     "name": "#%% md\n"
    }
   }
  },
  {
   "cell_type": "code",
   "execution_count": 4,
   "outputs": [
    {
     "data": {
      "text/plain": "<Figure size 432x288 with 1 Axes>",
      "image/png": "[encoded data removed]"
     },
     "metadata": {
      "needs_background": "light"
     },
     "output_type": "display_data"
    }
   ],
   "source": [
    "y_data = x_data * 0.1 +0.2 +noise\n",
    "\n",
    "#显示随机点\n",
    "plt.scatter(x_data,y_data)\n",
    "plt.show()"
   ],
   "metadata": {
    "collapsed": false,
    "pycharm": {
     "name": "#%%\n"
    }
   }
  },
  {
   "cell_type": "code",
   "execution_count": 5,
   "outputs": [
    {
     "name": "stdout",
     "output_type": "stream",
     "text": [
      "COST 1.0044794082641602\n",
      "COST 0.03313225880265236\n",
      "COST 0.009221706539392471\n",
      "COST 0.0026374494191259146\n",
      "COST 0.0008243420743383467\n",
      "COST 0.00032506740535609424\n",
      "COST 0.00018758204532787204\n",
      "权值 [[0.07279468]] 偏执值 [0.21480721]\n"
     ]
    }
   ],
   "source": [
    "#构建一个顺序模型\n",
    "# Sequential模型可以构建非常复杂的神经网络，包括全连接神经网络、卷积神经网络(CNN)、循环神经网络(RNN)、等等。这里的Sequential更准确的应该理解为堆叠，通过堆叠许多层，构建出深度神经网络。\n",
    "model = Sequential()\n",
    "#在模型中添加一个全连接层\n",
    "model.add(Dense(units=1,input_dim=1))\n",
    "# 优化器选择的是 sgd 随机梯度下降 损失函数 是mse 均方误差\n",
    "model.compile(optimizer='sgd',loss='mse')\n",
    "\n",
    "for step in range(3001):\n",
    "    #每次训练一个批次\n",
    "    cost = model.train_on_batch(x_data,y_data)\n",
    "    #每500次打印一下cost值\n",
    "    if step %500 ==0:\n",
    "        print(\"COST\",cost)\n",
    "#打印权值和偏执值\n",
    "w,b = model.layers[0].get_weights()\n",
    "# w参数的作用，我们可以得到，是决定那个分割平面的方向所在.分割平面的投影就是直线w1x1+w2x2+b=0\n",
    "# b是决定竖直平面沿着垂直于直线方向移动的距离，当b>0的时候，直线往左边移动，当b<0的时候，直线往右边移动.\n",
    "print(\"权值\",w,\"偏执值\",b)"
   ],
   "metadata": {
    "collapsed": false,
    "pycharm": {
     "name": "#%%\n"
    }
   }
  },
  {
   "cell_type": "code",
   "execution_count": 6,
   "outputs": [
    {
     "data": {
      "text/plain": "array([0.81965418, 0.22908347, 0.65211675, 0.18481588, 0.95132895,\n       0.77468427, 0.32790524, 0.78397558, 0.46230389, 0.57326605,\n       0.43452543, 0.11216465, 0.32038735, 0.19543572, 0.02369993,\n       0.1591573 , 0.74644338, 0.39534674, 0.3260384 , 0.45163975,\n       0.52417943, 0.78218782, 0.99825914, 0.52569194, 0.01890104,\n       0.01977992, 0.45869087, 0.00965152, 0.37847571, 0.46376758,\n       0.35163029, 0.16164368, 0.13415985, 0.75425793, 0.69603017,\n       0.30006146, 0.49400629, 0.20796668, 0.51926781, 0.03759421,\n       0.14602081, 0.18136269, 0.15373491, 0.41810563, 0.58219124,\n       0.32240685, 0.15937451, 0.84629749, 0.21250977, 0.74356543,\n       0.9048604 , 0.85287897, 0.23816989, 0.2576104 , 0.75802657,\n       0.04887152, 0.70964018, 0.26994674, 0.13866529, 0.12947087,\n       0.85248282, 0.36599239, 0.71005333, 0.57329098, 0.22182412,\n       0.01187573, 0.22663903, 0.68257258, 0.27526239, 0.16938583,\n       0.34729815, 0.12233945, 0.40690146, 0.00953093, 0.15793717,\n       0.53236883, 0.47775188, 0.24722745, 0.3965217 , 0.96962098,\n       0.42241839, 0.80507816, 0.17447442, 0.61744453, 0.98060339,\n       0.14643525, 0.16241278, 0.3963151 , 0.66110825, 0.60095849,\n       0.79820914, 0.81003756, 0.87301195, 0.48250101, 0.18844217,\n       0.16507138, 0.67084337, 0.97803854, 0.35738194, 0.61990402])"
     },
     "execution_count": 6,
     "metadata": {},
     "output_type": "execute_result"
    }
   ],
   "source": [
    "x_data"
   ],
   "metadata": {
    "collapsed": false,
    "pycharm": {
     "name": "#%%\n"
    }
   }
  },
  {
   "cell_type": "code",
   "execution_count": 9,
   "outputs": [
    {
     "data": {
      "text/plain": "<Figure size 432x288 with 1 Axes>",
      "image/png": "[encoded data removed]"
     },
     "metadata": {
      "needs_background": "light"
     },
     "output_type": "display_data"
    }
   ],
   "source": [
    "# x_data输入网络中，得到预测值\n",
    "y_pred = model.predict(x_data)\n",
    "#显示随机点\n",
    "plt.scatter(x_data,y_data)\n",
    "# 后面是y轴的范围\n",
    "'''\n",
    "format_string 由颜色字符、风格字符、标记字符组成\n",
    "颜色字符\n",
    "'b' 蓝色 'm' 洋红色 magenta\n",
    "'g' 绿色 'y' 黄色\n",
    "'r' 红色 'k' 黑色\n",
    "'w' 白色 'c' 青绿色 cyan\n",
    "'#008000' RGB某颜色 '0.8' 灰度值字符串\n",
    "多条曲线不指定颜色时，会自动选择不同颜色\n",
    "风格字符\n",
    "'‐' 实线\n",
    "'‐‐' 破折线\n",
    "'‐.' 点划线\n",
    "':' 虚线\n",
    "'' ' ' 无线条\n",
    "标记字符\n",
    "'.' 点标记\n",
    "',' 像素标记(极小点)\n",
    "'o' 实心圈标记\n",
    "'v' 倒三角标记\n",
    "'^' 上三角标记\n",
    "'>' 右三角标记\n",
    "'<' 左三角标记...等等\n",
    "'''\n",
    "plt.plot(x_data,y_pred,'r-',0.3)\n",
    "plt.show()"
   ],
   "metadata": {
    "collapsed": false,
    "pycharm": {
     "name": "#%%\n"
    }
   }
  },
  {
   "cell_type": "code",
   "execution_count": 8,
   "outputs": [
    {
     "name": "stdout",
     "output_type": "stream",
     "text": [
      "evs: 78.96%\n"
     ]
    }
   ],
   "source": [
    "# 计算预测的分数\n",
    "from sklearn.metrics import explained_variance_score\n",
    "score=explained_variance_score(y_data,y_pred)\n",
    "print('evs: %.2f%%'%(score*100.0))"
   ],
   "metadata": {
    "collapsed": false,
    "pycharm": {
     "name": "#%%\n"
    }
   }
  },
  {
   "cell_type": "code",
   "execution_count": 38,
   "outputs": [
    {
     "data": {
      "text/plain": "array([[0.21887982]], dtype=float32)"
     },
     "execution_count": 38,
     "metadata": {},
     "output_type": "execute_result"
    }
   ],
   "source": [
    "#随便测一个数据\n",
    "a = np.array([0.2])\n",
    "y3 = model.predict(a)\n",
    "y3"
   ],
   "metadata": {
    "collapsed": false,
    "pycharm": {
     "name": "#%%\n"
    }
   }
  }
 ],
 "metadata": {
  "kernelspec": {
   "display_name": "Python 3",
   "language": "python",
   "name": "python3"
  },
  "language_info": {
   "codemirror_mode": {
    "name": "ipython",
    "version": 2
   },
   "file_extension": ".py",
   "mimetype": "text/x-python",
   "name": "python",
   "nbconvert_exporter": "python",
   "pygments_lexer": "ipython2",
   "version": "2.7.6"
  }
 },
 "nbformat": 4,
 "nbformat_minor": 0
}