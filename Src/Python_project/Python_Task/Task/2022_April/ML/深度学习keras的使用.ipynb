{
 "cells": [
  {
   "cell_type": "code",
   "execution_count": 39,
   "outputs": [],
   "source": [
    "# Keras实践——线性回归\n",
    "import keras\n",
    "import numpy as np\n",
    "import matplotlib.pyplot as plt"
   ],
   "metadata": {
    "collapsed": false,
    "pycharm": {
     "name": "#%%\n"
    }
   }
  },
  {
   "cell_type": "code",
   "execution_count": 40,
   "outputs": [],
   "source": [
    "#顺序模型\n",
    "from keras.models import Sequential\n",
    "#全连接层\n",
    "from keras.layers import Dense\n",
    "#使用numpy生成100个随机点\n",
    "x_data = np.random.rand(100)\n",
    "'''\n",
    "loc：float\n",
    "    此概率分布的均值（对应着整个分布的中心centre）\n",
    "scale：float\n",
    "    此概率分布的标准差（对应于分布的宽度，scale越大越矮胖，scale越小，越瘦高）\n",
    "size：int or tuple of ints\n",
    "    输出的shape，默认为None，只输出一个值\n",
    "'''\n",
    "noise = np.random.normal(loc=0,scale=0.01,size=x_data.shape)"
   ],
   "metadata": {
    "collapsed": false,
    "pycharm": {
     "name": "#%%\n"
    }
   }
  },
  {
   "cell_type": "markdown",
   "source": [],
   "metadata": {
    "collapsed": false,
    "pycharm": {
     "name": "#%% md\n"
    }
   }
  },
  {
   "cell_type": "code",
   "execution_count": 41,
   "outputs": [
    {
     "data": {
      "text/plain": "<Figure size 432x288 with 1 Axes>",
      "image/png": "[encoded data removed]"
     },
     "metadata": {
      "needs_background": "light"
     },
     "output_type": "display_data"
    }
   ],
   "source": [
    "y_data = x_data * 0.1 +0.2 +noise\n",
    "\n",
    "#显示随机点\n",
    "plt.scatter(x_data,y_data)\n",
    "plt.show()"
   ],
   "metadata": {
    "collapsed": false,
    "pycharm": {
     "name": "#%%\n"
    }
   }
  },
  {
   "cell_type": "code",
   "execution_count": 42,
   "outputs": [
    {
     "name": "stdout",
     "output_type": "stream",
     "text": [
      "COST 0.08387579023838043\n",
      "COST 0.010842612013220787\n",
      "COST 0.0029773826245218515\n",
      "COST 0.0008743894286453724\n",
      "COST 0.000312095187837258\n",
      "COST 0.00016174982010852545\n",
      "COST 0.00012155104195699096\n",
      "权值 [[0.11315788]] 偏执值 [0.19404449]\n"
     ]
    }
   ],
   "source": [
    "#构建一个顺序模型\n",
    "# Sequential模型可以构建非常复杂的神经网络，包括全连接神经网络、卷积神经网络(CNN)、循环神经网络(RNN)、等等。这里的Sequential更准确的应该理解为堆叠，通过堆叠许多层，构建出深度神经网络。\n",
    "model = Sequential()\n",
    "#在模型中添加一个全连接层\n",
    "model.add(Dense(units=1,input_dim=1))\n",
    "# 优化器选择的是 sgd 随机梯度下降 损失函数 是mse 均方误差\n",
    "model.compile(optimizer='sgd',loss='mse')\n",
    "\n",
    "for step in range(3001):\n",
    "    #每次训练一个批次\n",
    "    cost = model.train_on_batch(x_data,y_data)\n",
    "    #每500次打印一下cost值\n",
    "    if step %500 ==0:\n",
    "        print(\"COST\",cost)\n",
    "#打印权值和偏执值\n",
    "w,b = model.layers[0].get_weights()\n",
    "# w参数的作用，我们可以得到，是决定那个分割平面的方向所在.分割平面的投影就是直线w1x1+w2x2+b=0\n",
    "# b是决定竖直平面沿着垂直于直线方向移动的距离，当b>0的时候，直线往左边移动，当b<0的时候，直线往右边移动.\n",
    "print(\"权值\",w,\"偏执值\",b)"
   ],
   "metadata": {
    "collapsed": false,
    "pycharm": {
     "name": "#%%\n"
    }
   }
  },
  {
   "cell_type": "code",
   "execution_count": 47,
   "outputs": [
    {
     "data": {
      "text/plain": "array([1.28262906e-01, 6.31284227e-01, 2.56844229e-01, 6.91052225e-01,\n       2.87961829e-01, 2.66828803e-01, 6.12865986e-01, 4.25814746e-01,\n       6.89119781e-01, 3.12484212e-01, 7.06157455e-01, 9.62610683e-01,\n       3.69982115e-02, 1.76477483e-01, 6.53832504e-04, 7.44109065e-02,\n       6.18132481e-01, 3.36664368e-01, 9.14497528e-01, 2.66971560e-01,\n       9.25457372e-01, 6.54170098e-01, 6.69519300e-01, 4.61855835e-01,\n       2.39765671e-01, 5.07122299e-02, 7.92920244e-01, 7.26758283e-01,\n       7.70807287e-01, 7.01800088e-01, 5.56124457e-01, 9.61232062e-01,\n       9.43033348e-01, 4.10182663e-01, 1.25774670e-01, 8.05302874e-01,\n       6.31293960e-01, 7.92588346e-01, 1.05541273e-01, 2.22385036e-01,\n       2.33029880e-01, 1.67529059e-01, 7.49688906e-01, 9.25111298e-02,\n       1.66231684e-01, 2.52268776e-01, 8.06540678e-01, 2.61108247e-01,\n       6.77058695e-01, 9.16609557e-01, 9.77422833e-01, 3.76371061e-02,\n       3.05250276e-01, 5.66688404e-01, 3.26289088e-01, 9.09149805e-01,\n       1.47154519e-01, 5.51078725e-01, 4.63928577e-01, 3.60812328e-01,\n       8.87315457e-01, 3.92525650e-01, 9.74244535e-01, 1.00169539e-01,\n       8.27574143e-01, 4.79030550e-01, 3.51013285e-01, 1.03489022e-02,\n       2.38723787e-01, 7.78334073e-01, 7.50810404e-01, 2.06329089e-01,\n       1.43485659e-01, 3.67913955e-01, 5.99094023e-01, 4.98114609e-01,\n       7.66939783e-01, 4.10149771e-01, 8.55033949e-01, 4.66598194e-01,\n       7.36305836e-01, 8.81812824e-01, 7.37037365e-01, 9.81538502e-01,\n       7.00284624e-01, 6.99458314e-01, 1.88426768e-01, 3.09167372e-01,\n       3.15404249e-02, 6.18769520e-01, 6.27450192e-01, 2.12838565e-01,\n       4.81719518e-01, 7.28395690e-01, 2.67390063e-01, 1.00949235e-02,\n       7.14990833e-01, 4.85948014e-01, 7.39099671e-01, 3.04956064e-01])"
     },
     "execution_count": 47,
     "metadata": {},
     "output_type": "execute_result"
    }
   ],
   "source": [
    "x_data"
   ],
   "metadata": {
    "collapsed": false,
    "pycharm": {
     "name": "#%%\n"
    }
   }
  },
  {
   "cell_type": "code",
   "execution_count": 44,
   "outputs": [
    {
     "data": {
      "text/plain": "<Figure size 432x288 with 1 Axes>",
      "image/png": "[encoded data removed]"
     },
     "metadata": {
      "needs_background": "light"
     },
     "output_type": "display_data"
    }
   ],
   "source": [
    "# x_data输入网络中，得到预测值\n",
    "y_pred = model.predict(x_data)\n",
    "#显示随机点\n",
    "plt.scatter(x_data,y_data)\n",
    "# 后面是y轴的范围\n",
    "'''\n",
    "format_string 由颜色字符、风格字符、标记字符组成\n",
    "颜色字符\n",
    "'b' 蓝色 'm' 洋红色 magenta\n",
    "'g' 绿色 'y' 黄色\n",
    "'r' 红色 'k' 黑色\n",
    "'w' 白色 'c' 青绿色 cyan\n",
    "'#008000' RGB某颜色 '0.8' 灰度值字符串\n",
    "多条曲线不指定颜色时，会自动选择不同颜色\n",
    "风格字符\n",
    "'‐' 实线\n",
    "'‐‐' 破折线\n",
    "'‐.' 点划线\n",
    "':' 虚线\n",
    "'' ' ' 无线条\n",
    "标记字符\n",
    "'.' 点标记\n",
    "',' 像素标记(极小点)\n",
    "'o' 实心圈标记\n",
    "'v' 倒三角标记\n",
    "'^' 上三角标记\n",
    "'>' 右三角标记\n",
    "'<' 左三角标记...等等\n",
    "'''\n",
    "plt.plot(x_data,y_pred,'r-',0.8)\n",
    "plt.show()"
   ],
   "metadata": {
    "collapsed": false,
    "pycharm": {
     "name": "#%%\n"
    }
   }
  },
  {
   "cell_type": "code",
   "execution_count": 32,
   "outputs": [
    {
     "name": "stdout",
     "output_type": "stream",
     "text": [
      "evs: 89.31%\n"
     ]
    }
   ],
   "source": [
    "# 计算预测的分数\n",
    "from sklearn.metrics import explained_variance_score\n",
    "score=explained_variance_score(y_data,y_pred)\n",
    "print('evs: %.2f%%'%(score*100.0))"
   ],
   "metadata": {
    "collapsed": false,
    "pycharm": {
     "name": "#%%\n"
    }
   }
  },
  {
   "cell_type": "code",
   "execution_count": 38,
   "outputs": [
    {
     "data": {
      "text/plain": "array([[0.21887982]], dtype=float32)"
     },
     "execution_count": 38,
     "metadata": {},
     "output_type": "execute_result"
    }
   ],
   "source": [
    "#随便测一个数据\n",
    "a = np.array([0.2])\n",
    "y3 = model.predict(a)\n",
    "y3"
   ],
   "metadata": {
    "collapsed": false,
    "pycharm": {
     "name": "#%%\n"
    }
   }
  }
 ],
 "metadata": {
  "kernelspec": {
   "display_name": "Python 3",
   "language": "python",
   "name": "python3"
  },
  "language_info": {
   "codemirror_mode": {
    "name": "ipython",
    "version": 2
   },
   "file_extension": ".py",
   "mimetype": "text/x-python",
   "name": "python",
   "nbconvert_exporter": "python",
   "pygments_lexer": "ipython2",
   "version": "2.7.6"
  }
 },
 "nbformat": 4,
 "nbformat_minor": 0
}