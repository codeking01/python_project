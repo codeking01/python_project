{
 "cells": [
  {
   "cell_type": "code",
   "execution_count": 1,
   "outputs": [],
   "source": [
    "# Keras实践——线性回归\n",
    "import keras\n",
    "import numpy as np\n",
    "import matplotlib.pyplot as plt"
   ],
   "metadata": {
    "collapsed": false,
    "pycharm": {
     "name": "#%%\n"
    }
   }
  },
  {
   "cell_type": "code",
   "execution_count": 46,
   "outputs": [
    {
     "name": "stderr",
     "output_type": "stream",
     "text": [
      "C:\\Users\\king\\AppData\\Local\\Temp\\ipykernel_16724\\809902489.py:14: FutureWarning: Support for multi-dimensional indexing (e.g. `obj[:, None]`) is deprecated and will be removed in a future version.  Convert to a numpy array before indexing instead.\n",
      "  X_train=data_train.date[:,np.newaxis]\n",
      "C:\\Users\\king\\AppData\\Local\\Temp\\ipykernel_16724\\809902489.py:16: FutureWarning: Support for multi-dimensional indexing (e.g. `obj[:, None]`) is deprecated and will be removed in a future version.  Convert to a numpy array before indexing instead.\n",
      "  X_test=data_test.date[:,np.newaxis]\n",
      "C:\\Users\\king\\AppData\\Local\\Temp\\ipykernel_16724\\809902489.py:17: FutureWarning: Support for multi-dimensional indexing (e.g. `obj[:, None]`) is deprecated and will be removed in a future version.  Convert to a numpy array before indexing instead.\n",
      "  y_test=data_test.price[:,np.newaxis]\n"
     ]
    }
   ],
   "source": [
    "#  ANN 人工神经网络(Artificial Neural Network，ANN)\n",
    "'''载入数据'''\n",
    "# 下面这个被开发者舍弃了已经\n",
    "# from sklearn import datasets\n",
    "# boston = datasets.load_boston()\n",
    "# x,y = boston.data,boston.target\n",
    "from sklearn.metrics import explained_variance_score\n",
    "import numpy as np\n",
    "from sklearn.tree import DecisionTreeRegressor\n",
    "import pandas as pd\n",
    "All_data=pd.read_csv(\"test_tree.csv\")\n",
    "data_train=All_data[All_data.date<15]\n",
    "data_test=All_data[All_data.date>=15]\n",
    "X_train=data_train.date[:,np.newaxis]\n",
    "y_train=data_train.price\n",
    "X_test=data_test.date[:,np.newaxis]\n",
    "y_test=data_test.price[:,np.newaxis]"
   ],
   "metadata": {
    "collapsed": false,
    "pycharm": {
     "name": "#%%\n"
    }
   }
  },
  {
   "cell_type": "code",
   "execution_count": 47,
   "outputs": [],
   "source": [
    "'''引入标准化函数'''\n",
    "from sklearn import preprocessing\n",
    "# 将数据的每一个特征缩放到给定的范围\n",
    "x_MinMax = preprocessing.MinMaxScaler()\n",
    "y_MinMax = preprocessing.MinMaxScaler()\n",
    "''' 将 y 转换成 列 '''\n",
    "import numpy as np\n",
    "# len(y)是行，1是列\n",
    "y = np.array(y_train).reshape(len(y_train),1)\n",
    "'''标准化'''\n",
    "X_train = x_MinMax.fit_transform(X_train.reshape(-1,1))\n",
    "y_train = y_MinMax.fit_transform(y)\n",
    "X_test = x_MinMax.fit_transform(X_test.reshape(-1,1))\n",
    "y_test = y_MinMax.fit_transform(y_test.reshape(-1,1))"
   ],
   "metadata": {
    "collapsed": false,
    "pycharm": {
     "name": "#%%\n"
    }
   }
  },
  {
   "cell_type": "code",
   "execution_count": 48,
   "outputs": [],
   "source": [
    "import numpy as np\n",
    "import pandas as pd\n",
    "import matplotlib.pyplot as plt\n",
    "\n",
    "#顺序模型\n",
    "from keras.models import Sequential\n",
    "#全连接层\n",
    "from keras.layers import Dense\n",
    "#构建一个顺序模型，构建神经网络\n",
    "# Sequential模型可以构建非常复杂的神经网络，包括全连接神经网络、卷积神经网络(CNN)、循环神经网络(RNN)、等等。这里的Sequential更准确的应该理解为堆叠，通过堆叠许多层，构建出深度神经网络。\n",
    "model = Sequential()\n",
    "#在模型中添加一个全连接层\n",
    "model.add(Dense(units=1,input_dim=1,name='dense'))\n",
    "# 优化器选择的是 sgd 随机梯度下降 损失函数 是mse 均方误差\n",
    "model.compile(optimizer='sgd',loss='mse')"
   ],
   "metadata": {
    "collapsed": false,
    "pycharm": {
     "name": "#%%\n"
    }
   }
  },
  {
   "cell_type": "code",
   "execution_count": 49,
   "outputs": [
    {
     "name": "stdout",
     "output_type": "stream",
     "text": [
      "COST 1.0047974586486816\n",
      "COST 0.03665817528963089\n",
      "COST 0.00826982967555523\n",
      "COST 0.001939505571499467\n",
      "COST 0.0005279072793200612\n",
      "COST 0.00021312864555511624\n",
      "COST 0.00014293786080088466\n",
      "权值 [[0.96953034]] 偏执值 [0.02058025]\n"
     ]
    }
   ],
   "source": [
    "for step in range(3001):\n",
    "    #每次训练一个批次\n",
    "    cost = model.train_on_batch(X_train,y_train)\n",
    "    #每500次打印一下cost值\n",
    "    if step %500 ==0:\n",
    "        print(\"COST\",cost)\n",
    "#打印权值和偏执值\n",
    "w,b = model.layers[0].get_weights()\n",
    "# w参数的作用，我们可以得到，是决定那个分割平面的方向所在.分割平面的投影就是直线w1x1+w2x2+b=0\n",
    "# b是决定竖直平面沿着垂直于直线方向移动的距离，当b>0的时候，直线往左边移动，当b<0的时候，直线往右边移动.\n",
    "print(\"权值\",w,\"偏执值\",b)"
   ],
   "metadata": {
    "collapsed": false,
    "pycharm": {
     "name": "#%%\n"
    }
   }
  },
  {
   "cell_type": "code",
   "execution_count": 52,
   "outputs": [
    {
     "data": {
      "text/plain": "<Figure size 432x288 with 1 Axes>",
      "image/png": "[encoded data removed]"
     },
     "metadata": {
      "needs_background": "light"
     },
     "output_type": "display_data"
    }
   ],
   "source": [
    "# x_data输入网络中，得到预测值\n",
    "y_pred = model.predict(X_train)\n",
    "#显示随机点\n",
    "plt.scatter(X_train,y_train)\n",
    "# 后面是y轴的范围\n",
    "'''\n",
    "format_string 由颜色字符、风格字符、标记字符组成\n",
    "颜色字符\n",
    "'b' 蓝色 'm' 洋红色 magenta\n",
    "'g' 绿色 'y' 黄色\n",
    "'r' 红色 'k' 黑色\n",
    "'w' 白色 'c' 青绿色 cyan\n",
    "'#008000' RGB某颜色 '0.8' 灰度值字符串\n",
    "多条曲线不指定颜色时，会自动选择不同颜色\n",
    "风格字符\n",
    "'‐' 实线\n",
    "'‐‐' 破折线\n",
    "'‐.' 点划线\n",
    "':' 虚线\n",
    "'' ' ' 无线条\n",
    "标记字符\n",
    "'.' 点标记\n",
    "',' 像素标记(极小点)\n",
    "'o' 实心圈标记\n",
    "'v' 倒三角标记\n",
    "'^' 上三角标记\n",
    "'>' 右三角标记\n",
    "'<' 左三角标记...等等\n",
    "'''\n",
    "plt.plot(y_train,y_pred,'r-',0.8)\n",
    "plt.show()"
   ],
   "metadata": {
    "collapsed": false,
    "pycharm": {
     "name": "#%%\n"
    }
   }
  },
  {
   "cell_type": "code",
   "execution_count": 53,
   "outputs": [
    {
     "name": "stdout",
     "output_type": "stream",
     "text": [
      "evs: 99.91%\n"
     ]
    }
   ],
   "source": [
    "# 计算预测的分数\n",
    "from sklearn.metrics import explained_variance_score\n",
    "score=explained_variance_score(X_train,y_pred)\n",
    "print('evs: %.2f%%'%(score*100.0))"
   ],
   "metadata": {
    "collapsed": false,
    "pycharm": {
     "name": "#%%\n"
    }
   }
  },
  {
   "cell_type": "code",
   "execution_count": 54,
   "outputs": [
    {
     "data": {
      "text/plain": "array([[0.21448632]], dtype=float32)"
     },
     "execution_count": 54,
     "metadata": {},
     "output_type": "execute_result"
    }
   ],
   "source": [
    "#随便测一个数据\n",
    "a = np.array([0.2])\n",
    "y3 = model.predict(a)\n",
    "y3"
   ],
   "metadata": {
    "collapsed": false,
    "pycharm": {
     "name": "#%%\n"
    }
   }
  },
  {
   "cell_type": "code",
   "execution_count": null,
   "outputs": [],
   "source": [],
   "metadata": {
    "collapsed": false,
    "pycharm": {
     "name": "#%%\n"
    }
   }
  }
 ],
 "metadata": {
  "kernelspec": {
   "display_name": "Python 3",
   "language": "python",
   "name": "python3"
  },
  "language_info": {
   "codemirror_mode": {
    "name": "ipython",
    "version": 2
   },
   "file_extension": ".py",
   "mimetype": "text/x-python",
   "name": "python",
   "nbconvert_exporter": "python",
   "pygments_lexer": "ipython2",
   "version": "2.7.6"
  }
 },
 "nbformat": 4,
 "nbformat_minor": 0
}