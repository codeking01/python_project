{
 "cells": [
  {
   "cell_type": "code",
   "execution_count": 1,
   "outputs": [],
   "source": [
    "import pandas as pd\n",
    "from numpy import unique\n",
    "\n",
    "from src.OtherTasks.ML.PreDeal_Tools import Del_deletion_data, Record_usable_cols, Deal_sorted_Ydata, convert_to_num, \\\n",
    "    get_final_useablecols, all_ydata, delAndGetCols, get_merge_tabledata, deal_verify_ydata, get_former_Ydata\n",
    "import numpy as np\n",
    "# 这个pandas处理数据效果不太好 建议用numpy\n",
    "thedata = pd.read_excel(io='Data613.xlsx', sheet_name='数据标准化-建模用')\n",
    "Preddata = pd.read_excel(io='Data613.xlsx', sheet_name='数据标准化-预测用')\n",
    "# 用来查看数据结果的excel对象\n",
    "from openpyxl import load_workbook\n",
    "filename='C:/Users/king/Desktop/Data623.xlsx'\n",
    "data = load_workbook(filename)\n",
    "sheetnames = data.sheetnames\n",
    "table = data[sheetnames[2]]\n",
    "\n",
    "# 获取数据表对象\n",
    "thedata = np.array(thedata)\n",
    "Preddata = np.array(Preddata)\n",
    "# 将表的内容 7个数据表 挨个处理"
   ],
   "metadata": {
    "collapsed": false,
    "pycharm": {
     "name": "#%%\n"
    }
   }
  },
  {
   "cell_type": "code",
   "execution_count": 2,
   "outputs": [
    {
     "data": {
      "text/plain": "(array([[-1, 1, 2.2134, ..., -0.42138, 2.33126, 0.0133],\n        [-1, 1, 2.2134, ..., -0.42138, 2.33126, 0.0133],\n        [-1, 1, 0.72748, ..., -0.42138, 2.33126, 0.0133],\n        ...,\n        [2, -1, -0.01548, ..., -0.42138, 0.89677, 0.0133],\n        [2, -1, -0.01548, ..., -0.42138, 0.89677, 0.0133],\n        [2, -1, -0.01548, ..., -0.42138, 0.89677, 0.0133]], dtype=object),\n [2, 3, 5, 7, 8])"
     },
     "execution_count": 2,
     "metadata": {},
     "output_type": "execute_result"
    }
   ],
   "source": [
    "# 获取源建模的X数据 传入的对象是获取的excel对象\n",
    "FormerTwo_data, FormerThree_data, FormerFour_data, FormerFive_data, FormerSix_data, FormerSeven_data = get_merge_tabledata(thedata)\n",
    "# 获取预测的X数据\n",
    "Verify_TABLE_TWO, Verify_TABLE_THREE, Verify_TABLE_FOUR, Verify_TABLE_FIVE, Verify_TABLE_SIX, Verify_TABLE_SEVEN = get_merge_tabledata(Preddata)\n",
    "\n",
    "# 删除缺失值过多的列，并保存del_cols\n",
    "tempFormerTwo_data = delAndGetCols(FormerTwo_data)\n",
    "base_Xdata,del_cols = delAndGetCols(FormerTwo_data)\n",
    "# 用del_cols删除验证集X不需要的列\n",
    "Verify_Xdata = np.delete(Verify_TABLE_TWO, del_cols, axis=1)\n",
    "\n",
    "base_Xdata,del_cols"
   ],
   "metadata": {
    "collapsed": false,
    "pycharm": {
     "name": "#%%\n"
    }
   }
  },
  {
   "cell_type": "code",
   "execution_count": 3,
   "outputs": [],
   "source": [
    "# 获取源建模的数据Y_data\n",
    "Original_TableTwoYdata, Original_TableThreeYdata, Original_TableFiveYdata, Original_TableSixYdata, Original_TableSevenYdata=get_former_Ydata(thedata)\n",
    "# 获取预测数据的Y_data\n",
    "Predict_TableTwoYdata, Predict_TableThreeYdata, Predict_TableFiveYdata, Predict_TableSixYdata, Predict_TableSevenYdata=get_former_Ydata(Preddata)"
   ],
   "metadata": {
    "collapsed": false,
    "pycharm": {
     "name": "#%%\n"
    }
   }
  },
  {
   "cell_type": "code",
   "execution_count": 4,
   "outputs": [
    {
     "data": {
      "text/plain": "[8, 9, 10, 11, 12, 13, 14, 15, 16, 17, 23]"
     },
     "execution_count": 4,
     "metadata": {},
     "output_type": "execute_result"
    }
   ],
   "source": [
    "# 将Y取出来，然后取出缺失值过多的列\n",
    "\n",
    "# 获取可用的列\n",
    "final_cols = get_final_useablecols(Original_TableTwoYdata, Predict_TableTwoYdata)\n",
    "final_cols"
   ],
   "metadata": {
    "collapsed": false,
    "pycharm": {
     "name": "#%%\n"
    }
   }
  },
  {
   "cell_type": "code",
   "execution_count": 5,
   "outputs": [],
   "source": [
    "# 获取可以用的Y_data\n",
    "Original_YdataList, Pred_YdataList = all_ydata(final_cols, Original_TableTwoYdata, Predict_TableTwoYdata)"
   ],
   "metadata": {
    "collapsed": false,
    "pycharm": {
     "name": "#%%\n"
    }
   }
  },
  {
   "cell_type": "code",
   "execution_count": 6,
   "outputs": [
    {
     "name": "stdout",
     "output_type": "stream",
     "text": [
      "[] []\n",
      "[array([-1, 0, 1], dtype=object), -1.29822, 0.75665] [-1 0 1]\n",
      "Rfc_train_acc准确率： 1.0\n",
      "Rfc_acc准确率: 0.8933333333333333\n",
      "Gbc_train_acc准确率： 1.0\n",
      "Gbc_acc准确率: 0.9066666666666666\n",
      "Svc_train_acc准确率： 0.9022988505747126\n",
      "SVC准确率： 0.8933333333333333\n"
     ]
    },
    {
     "name": "stderr",
     "output_type": "stream",
     "text": [
      "C:\\All_Softwares\\Develop_Tools\\Python310\\lib\\site-packages\\sklearn\\neural_network\\_multilayer_perceptron.py:692: ConvergenceWarning: Stochastic Optimizer: Maximum iterations (200) reached and the optimization hasn't converged yet.\n",
      "  warnings.warn(\n",
      "C:\\All_Softwares\\Develop_Tools\\Python310\\lib\\site-packages\\sklearn\\neural_network\\_multilayer_perceptron.py:692: ConvergenceWarning: Stochastic Optimizer: Maximum iterations (200) reached and the optimization hasn't converged yet.\n",
      "  warnings.warn(\n"
     ]
    },
    {
     "name": "stdout",
     "output_type": "stream",
     "text": [
      "Dnn_train_acc准确率： 0.9080459770114943\n",
      "DNN准确率： 0.88\n",
      "CNN_train_acc准确率： 0.9022988505747126\n",
      "CNN准确率： 0.88\n",
      "验证集Rfc_acc准确率: 0.6022727272727273\n",
      "验证集Gbc_acc准确率: 0.6022727272727273\n",
      "验证集SVC准确率： 0.6022727272727273\n",
      "验证集DNN准确率： 0.6022727272727273\n",
      "验证集CNN准确率： 0.6022727272727273\n",
      "[] []\n",
      "[array([-1, 0, 1], dtype=object), -2.24214, 0.77777] [-1 0 1]\n",
      "Rfc_train_acc准确率： 1.0\n",
      "Rfc_acc准确率: 0.8933333333333333\n",
      "Gbc_train_acc准确率： 1.0\n",
      "Gbc_acc准确率: 0.88\n",
      "Svc_train_acc准确率： 0.9022988505747126\n",
      "SVC准确率： 0.8933333333333333\n"
     ]
    },
    {
     "name": "stderr",
     "output_type": "stream",
     "text": [
      "C:\\All_Softwares\\Develop_Tools\\Python310\\lib\\site-packages\\sklearn\\neural_network\\_multilayer_perceptron.py:692: ConvergenceWarning: Stochastic Optimizer: Maximum iterations (200) reached and the optimization hasn't converged yet.\n",
      "  warnings.warn(\n",
      "C:\\All_Softwares\\Develop_Tools\\Python310\\lib\\site-packages\\sklearn\\neural_network\\_multilayer_perceptron.py:692: ConvergenceWarning: Stochastic Optimizer: Maximum iterations (200) reached and the optimization hasn't converged yet.\n",
      "  warnings.warn(\n"
     ]
    },
    {
     "name": "stdout",
     "output_type": "stream",
     "text": [
      "Dnn_train_acc准确率： 0.9080459770114943\n",
      "DNN准确率： 0.8933333333333333\n",
      "CNN_train_acc准确率： 0.9080459770114943\n",
      "CNN准确率： 0.8933333333333333\n",
      "验证集Rfc_acc准确率: 0.7386363636363636\n",
      "验证集Gbc_acc准确率: 0.7386363636363636\n",
      "验证集SVC准确率： 0.7386363636363636\n",
      "验证集DNN准确率： 0.7386363636363636\n",
      "验证集CNN准确率： 0.7386363636363636\n",
      "[] []\n",
      "[array([-1, 0, 1], dtype=object), -1.14857, 1.46484] [-1 0 1]\n",
      "Rfc_train_acc准确率： 1.0\n",
      "Rfc_acc准确率: 0.8933333333333333\n",
      "Gbc_train_acc准确率： 1.0\n",
      "Gbc_acc准确率: 0.88\n",
      "Svc_train_acc准确率： 0.9080459770114943\n",
      "SVC准确率： 0.8933333333333333\n"
     ]
    },
    {
     "name": "stderr",
     "output_type": "stream",
     "text": [
      "C:\\All_Softwares\\Develop_Tools\\Python310\\lib\\site-packages\\sklearn\\neural_network\\_multilayer_perceptron.py:692: ConvergenceWarning: Stochastic Optimizer: Maximum iterations (200) reached and the optimization hasn't converged yet.\n",
      "  warnings.warn(\n"
     ]
    },
    {
     "name": "stdout",
     "output_type": "stream",
     "text": [
      "Dnn_train_acc准确率： 0.9080459770114943\n",
      "DNN准确率： 0.8933333333333333\n"
     ]
    },
    {
     "name": "stderr",
     "output_type": "stream",
     "text": [
      "C:\\All_Softwares\\Develop_Tools\\Python310\\lib\\site-packages\\sklearn\\neural_network\\_multilayer_perceptron.py:692: ConvergenceWarning: Stochastic Optimizer: Maximum iterations (200) reached and the optimization hasn't converged yet.\n",
      "  warnings.warn(\n"
     ]
    },
    {
     "name": "stdout",
     "output_type": "stream",
     "text": [
      "CNN_train_acc准确率： 0.9080459770114943\n",
      "CNN准确率： 0.8933333333333333\n",
      "验证集Rfc_acc准确率: 0.8636363636363636\n",
      "验证集Gbc_acc准确率: 0.8636363636363636\n",
      "验证集SVC准确率： 0.8636363636363636\n",
      "验证集DNN准确率： 0.8636363636363636\n",
      "验证集CNN准确率： 0.8636363636363636\n",
      "[] []\n",
      "[array([-1, 0, 1], dtype=object), -1.69665, 1.74072] [-1 0 1]\n",
      "Rfc_train_acc准确率： 1.0\n",
      "Rfc_acc准确率: 0.84\n",
      "Gbc_train_acc准确率： 1.0\n",
      "Gbc_acc准确率: 0.8266666666666667\n",
      "Svc_train_acc准确率： 0.9252873563218391\n",
      "SVC准确率： 0.84\n",
      "Dnn_train_acc准确率： 0.9367816091954023\n",
      "DNN准确率： 0.84\n"
     ]
    },
    {
     "name": "stderr",
     "output_type": "stream",
     "text": [
      "C:\\All_Softwares\\Develop_Tools\\Python310\\lib\\site-packages\\sklearn\\neural_network\\_multilayer_perceptron.py:692: ConvergenceWarning: Stochastic Optimizer: Maximum iterations (200) reached and the optimization hasn't converged yet.\n",
      "  warnings.warn(\n",
      "C:\\All_Softwares\\Develop_Tools\\Python310\\lib\\site-packages\\sklearn\\neural_network\\_multilayer_perceptron.py:692: ConvergenceWarning: Stochastic Optimizer: Maximum iterations (200) reached and the optimization hasn't converged yet.\n",
      "  warnings.warn(\n"
     ]
    },
    {
     "name": "stdout",
     "output_type": "stream",
     "text": [
      "CNN_train_acc准确率： 0.9252873563218391\n",
      "CNN准确率： 0.84\n",
      "验证集Rfc_acc准确率: 0.9431818181818182\n",
      "验证集Gbc_acc准确率: 0.9431818181818182\n",
      "验证集SVC准确率： 0.9431818181818182\n",
      "验证集DNN准确率： 0.9431818181818182\n",
      "验证集CNN准确率： 0.9431818181818182\n",
      "[] []\n",
      "[array([-1, 0, 1], dtype=object), -1.73757, 1.74492] [-1 0 1]\n",
      "Rfc_train_acc准确率： 1.0\n",
      "Rfc_acc准确率: 0.8933333333333333\n",
      "Gbc_train_acc准确率： 1.0\n",
      "Gbc_acc准确率: 0.8666666666666667\n",
      "Svc_train_acc准确率： 0.9080459770114943\n",
      "SVC准确率： 0.8933333333333333\n",
      "Dnn_train_acc准确率： 0.9137931034482759\n",
      "DNN准确率： 0.8666666666666667\n"
     ]
    },
    {
     "name": "stderr",
     "output_type": "stream",
     "text": [
      "C:\\All_Softwares\\Develop_Tools\\Python310\\lib\\site-packages\\sklearn\\neural_network\\_multilayer_perceptron.py:692: ConvergenceWarning: Stochastic Optimizer: Maximum iterations (200) reached and the optimization hasn't converged yet.\n",
      "  warnings.warn(\n",
      "C:\\All_Softwares\\Develop_Tools\\Python310\\lib\\site-packages\\sklearn\\neural_network\\_multilayer_perceptron.py:692: ConvergenceWarning: Stochastic Optimizer: Maximum iterations (200) reached and the optimization hasn't converged yet.\n",
      "  warnings.warn(\n"
     ]
    },
    {
     "name": "stdout",
     "output_type": "stream",
     "text": [
      "CNN_train_acc准确率： 0.9252873563218391\n",
      "CNN准确率： 0.8666666666666667\n",
      "验证集Rfc_acc准确率: 0.9204545454545454\n",
      "验证集Gbc_acc准确率: 0.9204545454545454\n",
      "验证集SVC准确率： 0.9204545454545454\n",
      "验证集DNN准确率： 0.9204545454545454\n",
      "验证集CNN准确率： 0.9204545454545454\n",
      "[] []\n",
      "[array([-1, 0, 1], dtype=object), -1.36231, 1.42653] [-1 0 1]\n",
      "Rfc_train_acc准确率： 1.0\n",
      "Rfc_acc准确率: 0.88\n",
      "Gbc_train_acc准确率： 1.0\n",
      "Gbc_acc准确率: 0.8933333333333333\n",
      "Svc_train_acc准确率： 0.9080459770114943\n",
      "SVC准确率： 0.8933333333333333\n",
      "Dnn_train_acc准确率： 0.9137931034482759\n",
      "DNN准确率： 0.8533333333333334\n"
     ]
    },
    {
     "name": "stderr",
     "output_type": "stream",
     "text": [
      "C:\\All_Softwares\\Develop_Tools\\Python310\\lib\\site-packages\\sklearn\\neural_network\\_multilayer_perceptron.py:692: ConvergenceWarning: Stochastic Optimizer: Maximum iterations (200) reached and the optimization hasn't converged yet.\n",
      "  warnings.warn(\n",
      "C:\\All_Softwares\\Develop_Tools\\Python310\\lib\\site-packages\\sklearn\\neural_network\\_multilayer_perceptron.py:692: ConvergenceWarning: Stochastic Optimizer: Maximum iterations (200) reached and the optimization hasn't converged yet.\n",
      "  warnings.warn(\n"
     ]
    },
    {
     "name": "stdout",
     "output_type": "stream",
     "text": [
      "CNN_train_acc准确率： 0.9137931034482759\n",
      "CNN准确率： 0.8666666666666667\n",
      "验证集Rfc_acc准确率: 0.8863636363636364\n",
      "验证集Gbc_acc准确率: 0.8806818181818182\n",
      "验证集SVC准确率： 0.8863636363636364\n",
      "验证集DNN准确率： 0.8863636363636364\n",
      "验证集CNN准确率： 0.8863636363636364\n",
      "[] []\n",
      "[array([-1, 0, 1], dtype=object), -0.81972, 2.6971] [-1 0]\n",
      "Rfc_train_acc准确率： 1.0\n",
      "Rfc_acc准确率: 0.8933333333333333\n",
      "Gbc_train_acc准确率： 1.0\n",
      "Gbc_acc准确率: 0.8933333333333333\n",
      "Svc_train_acc准确率： 0.896551724137931\n",
      "SVC准确率： 0.8933333333333333\n",
      "Dnn_train_acc准确率： 0.9137931034482759\n",
      "DNN准确率： 0.8933333333333333\n"
     ]
    },
    {
     "name": "stderr",
     "output_type": "stream",
     "text": [
      "C:\\All_Softwares\\Develop_Tools\\Python310\\lib\\site-packages\\sklearn\\neural_network\\_multilayer_perceptron.py:692: ConvergenceWarning: Stochastic Optimizer: Maximum iterations (200) reached and the optimization hasn't converged yet.\n",
      "  warnings.warn(\n",
      "C:\\All_Softwares\\Develop_Tools\\Python310\\lib\\site-packages\\sklearn\\neural_network\\_multilayer_perceptron.py:692: ConvergenceWarning: Stochastic Optimizer: Maximum iterations (200) reached and the optimization hasn't converged yet.\n",
      "  warnings.warn(\n"
     ]
    },
    {
     "name": "stdout",
     "output_type": "stream",
     "text": [
      "CNN_train_acc准确率： 0.9137931034482759\n",
      "CNN准确率： 0.8933333333333333\n",
      "验证集Rfc_acc准确率: 0.7840909090909091\n",
      "验证集Gbc_acc准确率: 0.7840909090909091\n",
      "验证集SVC准确率： 0.7840909090909091\n",
      "验证集DNN准确率： 0.7840909090909091\n",
      "验证集CNN准确率： 0.7840909090909091\n",
      "[] []\n",
      "[array([-1, 0, 1], dtype=object), -1.42854, 0.74336] [-1 0 1]\n",
      "Rfc_train_acc准确率： 1.0\n",
      "Rfc_acc准确率: 0.8939393939393939\n",
      "Gbc_train_acc准确率： 1.0\n",
      "Gbc_acc准确率: 0.8636363636363636\n",
      "Svc_train_acc准确率： 0.9150326797385621\n",
      "SVC准确率： 0.8939393939393939\n",
      "Dnn_train_acc准确率： 0.9215686274509803\n",
      "DNN准确率： 0.8939393939393939\n"
     ]
    },
    {
     "name": "stderr",
     "output_type": "stream",
     "text": [
      "C:\\All_Softwares\\Develop_Tools\\Python310\\lib\\site-packages\\sklearn\\neural_network\\_multilayer_perceptron.py:692: ConvergenceWarning: Stochastic Optimizer: Maximum iterations (200) reached and the optimization hasn't converged yet.\n",
      "  warnings.warn(\n",
      "C:\\All_Softwares\\Develop_Tools\\Python310\\lib\\site-packages\\sklearn\\neural_network\\_multilayer_perceptron.py:692: ConvergenceWarning: Stochastic Optimizer: Maximum iterations (200) reached and the optimization hasn't converged yet.\n",
      "  warnings.warn(\n"
     ]
    },
    {
     "name": "stdout",
     "output_type": "stream",
     "text": [
      "CNN_train_acc准确率： 0.9215686274509803\n",
      "CNN准确率： 0.8939393939393939\n",
      "验证集Rfc_acc准确率: 0.5681818181818182\n",
      "验证集Gbc_acc准确率: 0.5454545454545454\n",
      "验证集SVC准确率： 0.5681818181818182\n",
      "验证集DNN准确率： 0.5681818181818182\n",
      "验证集CNN准确率： 0.5681818181818182\n",
      "[] []\n",
      "[array([-1, 0, 1], dtype=object), -2.22289, 0.99296] [0 1]\n",
      "Rfc_train_acc准确率： 1.0\n",
      "Rfc_acc准确率: 0.8961038961038961\n",
      "Gbc_train_acc准确率： 1.0\n",
      "Gbc_acc准确率: 0.8571428571428571\n",
      "Svc_train_acc准确率： 0.8932584269662921\n",
      "SVC准确率： 0.8961038961038961\n",
      "Dnn_train_acc准确率： 0.9213483146067416\n",
      "DNN准确率： 0.8961038961038961\n"
     ]
    },
    {
     "name": "stderr",
     "output_type": "stream",
     "text": [
      "C:\\All_Softwares\\Develop_Tools\\Python310\\lib\\site-packages\\sklearn\\neural_network\\_multilayer_perceptron.py:692: ConvergenceWarning: Stochastic Optimizer: Maximum iterations (200) reached and the optimization hasn't converged yet.\n",
      "  warnings.warn(\n",
      "C:\\All_Softwares\\Develop_Tools\\Python310\\lib\\site-packages\\sklearn\\neural_network\\_multilayer_perceptron.py:692: ConvergenceWarning: Stochastic Optimizer: Maximum iterations (200) reached and the optimization hasn't converged yet.\n",
      "  warnings.warn(\n"
     ]
    },
    {
     "name": "stdout",
     "output_type": "stream",
     "text": [
      "CNN_train_acc准确率： 0.9325842696629213\n",
      "CNN准确率： 0.8831168831168831\n",
      "验证集Rfc_acc准确率: 0.6875\n",
      "验证集Gbc_acc准确率: 0.6761363636363636\n",
      "验证集SVC准确率： 0.6875\n",
      "验证集DNN准确率： 0.6818181818181818\n",
      "验证集CNN准确率： 0.6818181818181818\n",
      "[] []\n",
      "[array([-1, 0, 1], dtype=object), -2.78541, 1.25287] [0 1]\n",
      "Rfc_train_acc准确率： 1.0\n",
      "Rfc_acc准确率: 0.8873239436619719\n",
      "Gbc_train_acc准确率： 1.0\n",
      "Gbc_acc准确率: 0.9014084507042254\n",
      "Svc_train_acc准确率： 0.896969696969697\n",
      "SVC准确率： 0.9014084507042254\n",
      "Dnn_train_acc准确率： 0.9272727272727272\n",
      "DNN准确率： 0.9295774647887324\n"
     ]
    },
    {
     "name": "stderr",
     "output_type": "stream",
     "text": [
      "C:\\All_Softwares\\Develop_Tools\\Python310\\lib\\site-packages\\sklearn\\neural_network\\_multilayer_perceptron.py:692: ConvergenceWarning: Stochastic Optimizer: Maximum iterations (200) reached and the optimization hasn't converged yet.\n",
      "  warnings.warn(\n",
      "C:\\All_Softwares\\Develop_Tools\\Python310\\lib\\site-packages\\sklearn\\neural_network\\_multilayer_perceptron.py:692: ConvergenceWarning: Stochastic Optimizer: Maximum iterations (200) reached and the optimization hasn't converged yet.\n",
      "  warnings.warn(\n"
     ]
    },
    {
     "name": "stdout",
     "output_type": "stream",
     "text": [
      "CNN_train_acc准确率： 0.9272727272727272\n",
      "CNN准确率： 0.8873239436619719\n",
      "验证集Rfc_acc准确率: 0.9715909090909091\n",
      "验证集Gbc_acc准确率: 0.8977272727272727\n",
      "验证集SVC准确率： 0.9772727272727273\n",
      "验证集DNN准确率： 0.9772727272727273\n",
      "验证集CNN准确率： 0.9772727272727273\n",
      "[] []\n",
      "[array([-1, 0, 1], dtype=object), -1.13671, 3.14485] [-1 0]\n",
      "Rfc_train_acc准确率： 1.0\n",
      "Rfc_acc准确率: 0.9014084507042254\n",
      "Gbc_train_acc准确率： 1.0\n",
      "Gbc_acc准确率: 0.8591549295774648\n",
      "Svc_train_acc准确率： 0.9030303030303031\n",
      "SVC准确率： 0.9014084507042254\n",
      "Dnn_train_acc准确率： 0.9272727272727272\n",
      "DNN准确率： 0.8873239436619719\n"
     ]
    },
    {
     "name": "stderr",
     "output_type": "stream",
     "text": [
      "C:\\All_Softwares\\Develop_Tools\\Python310\\lib\\site-packages\\sklearn\\neural_network\\_multilayer_perceptron.py:692: ConvergenceWarning: Stochastic Optimizer: Maximum iterations (200) reached and the optimization hasn't converged yet.\n",
      "  warnings.warn(\n",
      "C:\\All_Softwares\\Develop_Tools\\Python310\\lib\\site-packages\\sklearn\\neural_network\\_multilayer_perceptron.py:692: ConvergenceWarning: Stochastic Optimizer: Maximum iterations (200) reached and the optimization hasn't converged yet.\n",
      "  warnings.warn(\n"
     ]
    },
    {
     "name": "stdout",
     "output_type": "stream",
     "text": [
      "CNN_train_acc准确率： 0.9212121212121213\n",
      "CNN准确率： 0.8873239436619719\n",
      "验证集Rfc_acc准确率: 0.9886363636363636\n",
      "验证集Gbc_acc准确率: 0.9431818181818182\n",
      "验证集SVC准确率： 0.9943181818181818\n",
      "验证集DNN准确率： 0.9886363636363636\n",
      "验证集CNN准确率： 0.9943181818181818\n"
     ]
    }
   ],
   "source": [
    "# 挨个遍历，取出有用的Y_data\n",
    "# 传入起始的坐标 24,\n",
    "the_column=24\n",
    "start=0\n",
    "for index in final_cols:\n",
    "    # 建模的Y_data\n",
    "    Modeling_Y_data = Original_YdataList[start]\n",
    "    # 预测的Y_data\n",
    "    Pred_Y_data = Pred_YdataList[start]\n",
    "    start += 1\n",
    "    # 处理建模的X_data,Y_data\n",
    "    temp_OriginalXdata = np.column_stack((base_Xdata, Modeling_Y_data))\n",
    "    # 删除缺失的行\n",
    "    temp_OriginalXdata = Del_deletion_data(temp_OriginalXdata, 0)\n",
    "    X_data = temp_OriginalXdata[:, :-1]\n",
    "    Y_data = temp_OriginalXdata[:, -1]\n",
    "    # 处理验证的X_data,Y_data\n",
    "    # 合并数据\n",
    "    temp_verifydata = np.column_stack((Verify_Xdata, Pred_Y_data))\n",
    "    # 删除缺失的行\n",
    "    temp_verifydata = Del_deletion_data(temp_verifydata, 0)\n",
    "    # 获取预测数据的X_data，Y_data\n",
    "    X_verify_data = temp_verifydata[:, :-1]\n",
    "    Y_verify_data = temp_verifydata[:, -1]\n",
    "    print(list(set(np.where(np.isnan(temp_OriginalXdata.astype(float)) == True)[0].tolist())), list(set(np.where(np.isnan(temp_verifydata.astype(float)) == True)[0].tolist())))\n",
    "    # 将建模Y_data分类(-1,0,1)，并且取出边界值\n",
    "    Y_data,Y_data_boundsMin,Y_data_boundsMax=Deal_sorted_Ydata(Y_data)\n",
    "    # 获取预测数据的Y_data Verify_Ydata = Pred_Y_data\n",
    "    Verify_Ydata = deal_verify_ydata(Y_verify_data, Y_data_boundsMin, Y_data_boundsMax)\n",
    "    # 查看是否替换成功\n",
    "    print([unique(Y_data),Y_data_boundsMin,Y_data_boundsMax],np.unique(Verify_Ydata))\n",
    "    # 切分训练数据和测试数据\n",
    "    from sklearn.model_selection import train_test_split\n",
    "    ## 30%测试数据，70%训练数据，stratify=y表示训练数据和测试数据具有相同的类别比例\n",
    "    X_train, X_test, y_train, y_test = train_test_split(X_data, Y_data, test_size=0.3, random_state=2, stratify=Y_data)\n",
    "    from sklearn.metrics import accuracy_score\n",
    "    # 开始训练模型\n",
    "    from sklearn.ensemble import RandomForestClassifier, GradientBoostingClassifier\n",
    "    # 获取模型  随机森林\n",
    "    Rfc = RandomForestClassifier()\n",
    "    Rfc.fit(X_train, y_train.astype(float))\n",
    "    # 训练集准确率\n",
    "    Rfc_train_acc =accuracy_score(y_train.astype(float), Rfc.predict(X_train))\n",
    "    print('Rfc_train_acc准确率：', Rfc_train_acc)\n",
    "    Rfc_pred = Rfc.predict(X_test)\n",
    "    Rfc_acc = accuracy_score(y_test.astype(float), Rfc_pred)\n",
    "    # 测试集准确率\n",
    "    print('Rfc_acc准确率:', Rfc_acc)\n",
    "\n",
    "    # 梯度提升树\n",
    "    Gbc = GradientBoostingClassifier()\n",
    "    Gbc.fit(X_train, y_train.astype(float))\n",
    "    # 训练集准确率\n",
    "    Gbc_train_acc =accuracy_score(y_train.astype(float), Gbc.predict(X_train))\n",
    "    print('Gbc_train_acc准确率：', Gbc_train_acc)\n",
    "    # 测试集准确率\n",
    "    Gbc_pred = Gbc.predict(X_test)\n",
    "    Gbc_acc = accuracy_score(y_test.astype(float), Gbc_pred)\n",
    "    print('Gbc_acc准确率:', Gbc_acc)\n",
    "\n",
    "    # 使用SVM模型\n",
    "    from sklearn.svm import SVC\n",
    "    Svc = SVC()\n",
    "    Svc.fit(X_train, y_train.astype(float))\n",
    "    # 训练集准确率\n",
    "    Svc_train_acc =accuracy_score(y_train.astype(float), Svc.predict(X_train))\n",
    "    print('Svc_train_acc准确率：', Svc_train_acc)\n",
    "    # 测试集准确率\n",
    "    Svc_pred = Svc.predict(X_test)\n",
    "    Svc_acc = accuracy_score(y_test.astype(float), Svc_pred)\n",
    "    print('SVC准确率：', Svc_acc)\n",
    "\n",
    "    # 使用DNN模型\n",
    "    from sklearn.neural_network import MLPClassifier\n",
    "    Dnn = MLPClassifier()\n",
    "    Dnn.fit(X_train, y_train.astype(float))\n",
    "    # 训练集准确率\n",
    "    Dnn_train_acc =accuracy_score(y_train.astype(float), Dnn.predict(X_train))\n",
    "    print('Dnn_train_acc准确率：', Dnn_train_acc)\n",
    "    # 测试集准确率\n",
    "    Dnn_pred = Dnn.predict(X_test)\n",
    "    Dnn_acc = accuracy_score(y_test.astype(float), Dnn_pred)\n",
    "    print('DNN准确率：', Dnn_acc)\n",
    "\n",
    "    # 使用卷积神经网络模型\n",
    "    from sklearn.neural_network import MLPClassifier\n",
    "    CNN = MLPClassifier()\n",
    "    CNN.fit(X_train, y_train.astype(float))\n",
    "    # 训练集准确率\n",
    "    CNN_train_acc =accuracy_score(y_train.astype(float), CNN.predict(X_train))\n",
    "    print('CNN_train_acc准确率：', CNN_train_acc)\n",
    "    # 测试集准确率\n",
    "    CNN_pred = CNN.predict(X_test)\n",
    "    CNN_acc = accuracy_score(y_test.astype(float), CNN_pred)\n",
    "    print('CNN准确率：', CNN_acc)\n",
    "\n",
    "    # 预测数据\n",
    "    Rfc_pred = Rfc.predict(X_verify_data)\n",
    "    Gbc_pred = Gbc.predict(X_verify_data)\n",
    "    Svc_pred = Svc.predict(X_verify_data)\n",
    "    Dnn_pred = Dnn.predict(X_verify_data)\n",
    "    CNN_pred = CNN.predict(X_verify_data)\n",
    "    # 计算准确率\n",
    "    verify_y1 = accuracy_score(Y_verify_data.astype(float), Rfc_pred)\n",
    "    verify_y2 = accuracy_score(Y_verify_data.astype(float), Gbc_pred)\n",
    "    verify_y3 = accuracy_score(Y_verify_data.astype(float), Svc_pred)\n",
    "    verify_y6 = accuracy_score(Y_verify_data.astype(float), Dnn_pred)\n",
    "    verify_y7 = accuracy_score(Y_verify_data.astype(float), CNN_pred)\n",
    "\n",
    "    # 计算准确率\n",
    "    print('验证集Rfc_acc准确率:', verify_y1)\n",
    "    print('验证集Gbc_acc准确率:', verify_y2)\n",
    "    print('验证集SVC准确率：', verify_y3)\n",
    "    print('验证集DNN准确率：', verify_y6)\n",
    "    print('验证集CNN准确率：', verify_y7)\n",
    "\n",
    "    # 将训练集写入到excel中\n",
    "    table.cell(5, the_column+index).value = Rfc_train_acc\n",
    "    table.cell(6, the_column+index).value = Gbc_train_acc\n",
    "    table.cell(7, the_column+index).value = Svc_train_acc\n",
    "    table.cell(8, the_column+index).value = Dnn_train_acc\n",
    "    table.cell(9, the_column+index).value = CNN_train_acc\n",
    "\n",
    "    # 将测试集写入到excel中\n",
    "    table.cell(11, the_column+index).value = Rfc_acc\n",
    "    table.cell(12, the_column+index).value = Gbc_acc\n",
    "    table.cell(13, the_column+index).value = Svc_acc\n",
    "    table.cell(14, the_column+index).value = Dnn_acc\n",
    "    table.cell(15, the_column+index).value = CNN_acc\n",
    "\n",
    "    # 将预测数据写入到excel中\n",
    "    table.cell(17, the_column+index).value = verify_y1\n",
    "    table.cell(18, the_column+index).value = verify_y2\n",
    "    table.cell(19, the_column+index).value = verify_y3\n",
    "    table.cell(20, the_column+index).value = verify_y6\n",
    "    table.cell(21, the_column+index).value = verify_y7\n",
    "\n",
    "    # 保存excel文件\n",
    "    data.save(filename)"
   ],
   "metadata": {
    "collapsed": false,
    "pycharm": {
     "name": "#%%\n"
    }
   }
  },
  {
   "cell_type": "code",
   "execution_count": null,
   "outputs": [],
   "source": [],
   "metadata": {
    "collapsed": false,
    "pycharm": {
     "name": "#%%\n"
    }
   }
  }
 ],
 "metadata": {
  "kernelspec": {
   "display_name": "Python 3",
   "language": "python",
   "name": "python3"
  },
  "language_info": {
   "codemirror_mode": {
    "name": "ipython",
    "version": 2
   },
   "file_extension": ".py",
   "mimetype": "text/x-python",
   "name": "python",
   "nbconvert_exporter": "python",
   "pygments_lexer": "ipython2",
   "version": "2.7.6"
  }
 },
 "nbformat": 4,
 "nbformat_minor": 0
}