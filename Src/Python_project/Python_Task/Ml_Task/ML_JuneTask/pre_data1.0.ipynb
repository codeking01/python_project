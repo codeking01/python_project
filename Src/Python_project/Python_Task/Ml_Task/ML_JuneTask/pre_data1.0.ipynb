{
 "cells": [
  {
   "cell_type": "code",
   "execution_count": 36,
   "outputs": [],
   "source": [
    "import pandas as pd\n",
    "from numpy import unique\n",
    "import numpy as np\n",
    "from PreDeal_Tools import Del_deletion_data, Deal_sorted_Ydata, get_final_useablecols, all_ydata, \\\n",
    "    delAndGetCols, get_merge_tabledata, deal_verify_ydata, get_former_Ydata\n",
    "\n",
    "# 这个pandas处理数据效果不太好 建议用numpy\n",
    "thedata = pd.read_excel(io=r'data_original.xlsx', sheet_name='8000D数据标准化-建模用')\n",
    "Preddata = pd.read_excel(io=r'data_original.xlsx', sheet_name='8000D数据标准化-预测用')\n",
    "# 用来查看数据结果的excel对象\n",
    "from openpyxl import load_workbook\n",
    "\n",
    "filename = 'data_original.xlsx'\n",
    "data = load_workbook(f'{filename}')\n",
    "sheetnames = data.sheetnames\n",
    "# create_sheet\n",
    "if len(sheetnames) <3:\n",
    "    sheetnames.append('预测结果')\n",
    "    data.create_sheet(sheetnames[2], len(sheetnames))\n",
    "    data.save(f'{filename}')\n",
    "# 预测结果的excel表\n",
    "table = data[sheetnames[2]]"
   ],
   "metadata": {
    "collapsed": false
   }
  },
  {
   "cell_type": "code",
   "execution_count": 37,
   "outputs": [],
   "source": [
    "# 获取数据表对象\n",
    "thedata = np.array(thedata)\n",
    "Preddata = np.array(Preddata)"
   ],
   "metadata": {
    "collapsed": false
   }
  },
  {
   "cell_type": "code",
   "execution_count": 40,
   "outputs": [
    {
     "ename": "IndexError",
     "evalue": "index -1 is out of bounds for axis 1 with size 0",
     "output_type": "error",
     "traceback": [
      "\u001B[1;31m---------------------------------------------------------------------------\u001B[0m",
      "\u001B[1;31mIndexError\u001B[0m                                Traceback (most recent call last)",
      "Input \u001B[1;32mIn [40]\u001B[0m, in \u001B[0;36m<cell line: 3>\u001B[1;34m()\u001B[0m\n\u001B[0;32m      1\u001B[0m \u001B[38;5;66;03m# 将表的内容 7个数据表 挨个处理\u001B[39;00m\n\u001B[0;32m      2\u001B[0m \u001B[38;5;66;03m# 获取源建模的X数据 传入的对象是获取的excel对象\u001B[39;00m\n\u001B[1;32m----> 3\u001B[0m FormerTwo_data, FormerThree_data, FormerFour_data, FormerFive_data, FormerSix_data, FormerSeven_data \u001B[38;5;241m=\u001B[39m \u001B[43mget_merge_tabledata\u001B[49m\u001B[43m(\u001B[49m\u001B[43mexcel_data\u001B[49m\u001B[38;5;241;43m=\u001B[39;49m\u001B[43mthedata\u001B[49m\u001B[43m)\u001B[49m\n\u001B[0;32m      4\u001B[0m \u001B[38;5;66;03m# 获取预测的X数据\u001B[39;00m\n\u001B[0;32m      5\u001B[0m Verify_TABLE_TWO, Verify_TABLE_THREE, Verify_TABLE_FOUR, Verify_TABLE_FIVE, Verify_TABLE_SIX, Verify_TABLE_SEVEN \u001B[38;5;241m=\u001B[39m get_merge_tabledata(excel_data\u001B[38;5;241m=\u001B[39mPreddata)\n",
      "File \u001B[1;32mC:\\ALL_Softwares\\Develop_Tools\\Idea_Project\\Src\\Python_project\\Python_Task\\Ml_Task\\ML_JuneTask\\PreDeal_Tools.py:186\u001B[0m, in \u001B[0;36mget_merge_tabledata\u001B[1;34m(excel_data)\u001B[0m\n\u001B[0;32m    184\u001B[0m \u001B[38;5;66;03m# 处理表6\u001B[39;00m\n\u001B[0;32m    185\u001B[0m TABLE_SIX \u001B[38;5;241m=\u001B[39m excel_data[\u001B[38;5;241m3\u001B[39m:, \u001B[38;5;241m131\u001B[39m:\u001B[38;5;241m144\u001B[39m]\n\u001B[1;32m--> 186\u001B[0m TABLE_SIX[:, \u001B[38;5;241m-\u001B[39m\u001B[38;5;241m1\u001B[39m] \u001B[38;5;241m=\u001B[39m convert_to_num(\u001B[43mTABLE_SIX\u001B[49m\u001B[43m[\u001B[49m\u001B[43m:\u001B[49m\u001B[43m,\u001B[49m\u001B[43m \u001B[49m\u001B[38;5;241;43m-\u001B[39;49m\u001B[38;5;241;43m1\u001B[39;49m\u001B[43m]\u001B[49m\u001B[38;5;241m.\u001B[39mastype(\u001B[38;5;28mstr\u001B[39m))\n\u001B[0;32m    187\u001B[0m \u001B[38;5;66;03m# 处理表7\u001B[39;00m\n\u001B[0;32m    188\u001B[0m TABLE_SEVEN \u001B[38;5;241m=\u001B[39m excel_data[\u001B[38;5;241m3\u001B[39m:, \u001B[38;5;241m172\u001B[39m:\u001B[38;5;241m178\u001B[39m]\n",
      "\u001B[1;31mIndexError\u001B[0m: index -1 is out of bounds for axis 1 with size 0"
     ]
    }
   ],
   "source": [
    "# 将表的内容 7个数据表 挨个处理\n",
    "# 获取源建模的X数据 传入的对象是获取的excel对象\n",
    "FormerTwo_data, FormerThree_data, FormerFour_data, FormerFive_data, FormerSix_data, FormerSeven_data = get_merge_tabledata(excel_data=thedata)\n",
    "# 获取预测的X数据\n",
    "Verify_TABLE_TWO, Verify_TABLE_THREE, Verify_TABLE_FOUR, Verify_TABLE_FIVE, Verify_TABLE_SIX, Verify_TABLE_SEVEN = get_merge_tabledata(excel_data=Preddata)\n",
    "# 删除缺失值过多的列，并保存del_cols\n",
    "# tempFormerTwo_data = delAndGetCols(FormerTwo_data)\n",
    "base_Xdata, del_cols = delAndGetCols(FormerSeven_data)\n",
    "# 用del_cols删除验证集X不需要的列\n",
    "Verify_Xdata = np.delete(Verify_TABLE_SEVEN, del_cols, axis=1)"
   ],
   "metadata": {
    "collapsed": false
   }
  },
  {
   "cell_type": "code",
   "execution_count": null,
   "outputs": [],
   "source": [],
   "metadata": {
    "collapsed": false
   }
  }
 ],
 "metadata": {
  "kernelspec": {
   "display_name": "Python 3",
   "language": "python",
   "name": "python3"
  },
  "language_info": {
   "codemirror_mode": {
    "name": "ipython",
    "version": 2
   },
   "file_extension": ".py",
   "mimetype": "text/x-python",
   "name": "python",
   "nbconvert_exporter": "python",
   "pygments_lexer": "ipython2",
   "version": "2.7.6"
  }
 },
 "nbformat": 4,
 "nbformat_minor": 0
}
