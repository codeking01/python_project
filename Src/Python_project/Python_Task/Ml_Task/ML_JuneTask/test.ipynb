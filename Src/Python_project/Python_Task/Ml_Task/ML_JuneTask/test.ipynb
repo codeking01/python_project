{
 "cells": [
  {
   "cell_type": "code",
   "execution_count": 1,
   "outputs": [],
   "source": [
    "from openpyxl import load_workbook\n",
    "data = load_workbook('C:/Users/king/Desktop/Data623.xlsx')\n",
    "sheetnames = data.sheetnames\n",
    "table = data[sheetnames[2]]"
   ],
   "metadata": {
    "collapsed": false,
    "pycharm": {
     "name": "#%%\n"
    }
   }
  },
  {
   "cell_type": "code",
   "execution_count": null,
   "outputs": [],
   "source": [
    "# 数据是从1开始的\n",
    "table.cell(5, 24).value='hello'\n",
    "# 保存数据\n",
    "data.save('C:/Users/king/Desktop/Data623.xlsx')"
   ],
   "metadata": {
    "collapsed": false,
    "pycharm": {
     "name": "#%%\n"
    }
   }
  }
 ],
 "metadata": {
  "kernelspec": {
   "display_name": "Python 3",
   "language": "python",
   "name": "python3"
  },
  "language_info": {
   "codemirror_mode": {
    "name": "ipython",
    "version": 2
   },
   "file_extension": ".py",
   "mimetype": "text/x-python",
   "name": "python",
   "nbconvert_exporter": "python",
   "pygments_lexer": "ipython2",
   "version": "2.7.6"
  }
 },
 "nbformat": 4,
 "nbformat_minor": 0
}