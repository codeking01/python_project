{
 "cells": [
  {
   "cell_type": "code",
   "execution_count": 3,
   "metadata": {
    "collapsed": true,
    "pycharm": {
     "name": "#%%\n"
    }
   },
   "outputs": [
    {
     "name": "stdout",
     "output_type": "stream",
     "text": [
      "状态码： 200\n",
      "响应头信息： {'P3P': 'CP=\"{}\"', 'Content-Length': '7088', 'Cache-Control': 'no-store, must-revalidate, no-cache, max-age=0', 'Content-Type': 'text/html', 'Set-Cookie': 'TSbe9bed7a_27=0821037767ab20005c09daef19f0d752306618d6392a19d401b7e4371f0a4e8543087abb25d3df2e083c935ed6112000f2c7281e06ddf360c6e0d348f196795f6fb7fca213ce58c63520ba7bce9276ee; Path=/'}\n",
      "响应正文： <!DOCTYPE html>\r\n",
      "<html><head>\r\n",
      "<meta http-equiv=\"Pragma\" content=\"no-cache\"/>\r\n",
      "<meta http-equiv=\"Expires\" content=\"-1\"/>\r\n",
      "<meta http-equiv=\"CacheControl\" content=\"no-cache\"/>\r\n",
      "<meta http-equiv=\"Content-Type\" content=\"text/html; charset=utf-8\"/>\r\n",
      "<link rel=\"shortcut icon\" href=\"data:;base64,iVBORw0KGgo=\"/>\r\n",
      "\r\n",
      "<script>\r\n",
      "\r\n",
      "(function(){\r\n",
      "window[\"bobcmn\"] = \"1111101111101020000000220000000520000000127d5e355c200000096300000012application%2fjson300000000300000006/TSPD/300000008TSPD_101300000005https3000000b00821037767ab20000480a62e57993cb337d828dc990dbb3e867934936c17a6fc6c7a581c42856e25087ab782940a28007ba3c65d98658e544d6976da1bbb69267ea82c5ab9bfeb7bbcb7760f666de0493a9246aeaae19624300000089{%22pttab%22%3a%20%22Homopolymer%22%2c%20%22search%22%3a%20%22page%22%2c%20%22PIDs%22%3a%20%2218247%22%2c%20%22pagesize%22%3a%20%2220%22}200000000\";\r\n",
      "\r\n",
      "window.RBNs=!!window.RBNs;try{(function(){(function(){var L=-1,L={J:++L,Ii:\"false\"[L],L:++L,oZ:\"false\"[L],IL:++L,LLL:\"[object Object]\"[L],Os:(L[L]+\"\")[L],zZ:++L,os:\"true\"[L],zL:++L,jL:++L,ji:\"[object Object]\"[L],I:++L,Oo:++L,O_L:++L,o_L:++L};try{L.LZ=(L.LZ=L+\"\")[L.jL]+(L.oz=L.LZ[L.L])+(L.ii=(L.lO+\"\")[L.L])+(!L+\"\")[L.zZ]+(L.Oz=L.LZ[L.I])+(L.lO=\"true\"[L.L])+(L.Ss=\"true\"[L.IL])+L.LZ[L.jL]+L.Oz+L.oz+L.lO,L.ii=L.lO+\"true\"[L.zZ]+L.Oz+L.Ss+L.lO+L.ii,L.lO=L.J[L.LZ][L.LZ],L.lO(L.lO(L.ii+'\"\\\\'+L.L+L.jL+L.L+L.Ii+\"\\\\\"+L.zL+L.J+\"(\"+L.Oz+\"\\\\\"+L.L+L.Oo+\n",
      "L.L+\"\\\\\"+L.L+L.I+L.J+L.os+L.oz+L.Ii+\"\\\\\"+L.zL+L.J+\"\\\\\"+L.L+L.I+L.Oo+\"\\\\\"+L.L+L.jL+L.L+\"\\\\\"+L.L+L.jL+L.I+L.Os+L.oz+\"\\\\\"+L.L+L.I+L.Oo+\"['\\\\\"+L.L+L.I+L.J+L.oZ+\"\\\\\"+L.L+L.Oo+L.L+\"false\"[L.IL]+L.oz+L.oZ+L.Os+\"']\\\\\"+L.zL+L.J+\"===\\\\\"+L.zL+L.J+\"'\\\\\"+L.L+L.I+L.zZ+L.Oz+\"\\\\\"+L.L+L.I+L.IL+\"\\\\\"+L.L+L.jL+L.L+\"\\\\\"+L.L+L.jL+L.I+\"\\\\\"+L.L+L.zL+L.Oo+\"')\\\\\"+L.zL+L.J+\"{\\\\\"+L.L+L.IL+\"\\\\\"+L.L+L.L+\"\\\\\"+L.L+L.I+L.I+L.oZ+\"\\\\\"+L.L+L.I+L.IL+\"\\\\\"+L.zL+L.J+L.os+L.Os+\"\\\\\"+L.L+L.I+L.I+L.ji+\"\\\\\"+L.L+L.Oo+L.L+L.Ss+\"\\\\\"+L.L+L.jL+L.IL+\n",
      "\"\\\\\"+L.L+L.jL+L.zZ+\"\\\\\"+L.L+L.I+L.J+\"\\\\\"+L.zL+L.J+\"=\\\\\"+L.zL+L.J+\"\\\\\"+L.L+L.I+L.Oo+\"\\\\\"+L.L+L.jL+L.L+\"\\\\\"+L.L+L.jL+L.I+L.Os+L.oz+\"\\\\\"+L.L+L.I+L.Oo+\"['\\\\\"+L.L+L.I+L.J+L.oZ+\"\\\\\"+L.L+L.Oo+L.L+\"false\"[L.IL]+L.oz+L.oZ+L.Os+\"'].\\\\\"+L.L+L.I+L.IL+L.os+\"\\\\\"+L.L+L.I+L.J+\"false\"[L.IL]+L.oZ+L.ji+L.os+\"(/.{\"+L.L+\",\"+L.zL+\"}/\\\\\"+L.L+L.zL+L.Oo+\",\\\\\"+L.zL+L.J+L.Ii+L.Ss+\"\\\\\"+L.L+L.jL+L.I+L.ji+L.Oz+\"\\\\\"+L.L+L.jL+L.L+L.oz+\"\\\\\"+L.L+L.jL+L.I+\"\\\\\"+L.zL+L.J+\"(\\\\\"+L.L+L.Oo+L.J+\")\\\\\"+L.zL+L.J+\"{\\\\\"+L.L+L.IL+\"\\\\\"+L.L+L.L+\n",
      "\"\\\\\"+L.L+L.L+\"\\\\\"+L.L+L.L+\"\\\\\"+L.L+L.I+L.IL+L.os+L.Oz+L.Ss+\"\\\\\"+L.L+L.I+L.IL+\"\\\\\"+L.L+L.jL+L.I+\"\\\\\"+L.zL+L.J+\"(\\\\\"+L.L+L.Oo+L.J+\"\\\\\"+L.zL+L.J+\"+\\\\\"+L.zL+L.J+\"\\\\\"+L.L+L.Oo+L.J+\").\\\\\"+L.L+L.I+L.zZ+L.Ss+L.LLL+\"\\\\\"+L.L+L.I+L.zZ+L.Oz+\"\\\\\"+L.L+L.I+L.IL+\"(\"+L.IL+\",\\\\\"+L.zL+L.J+L.zL+\")\\\\\"+L.L+L.IL+\"\\\\\"+L.L+L.L+\"\\\\\"+L.L+L.L+\"});\\\\\"+L.L+L.IL+\"}\\\\\"+L.L+L.IL+'\"')())()}catch(z){L%=5}})();var OL=52;\n",
      "try{var sL,iL,IL=O(12)?1:0,JL=O(468)?1:0,Lo=O(856)?1:0,oo=O(612)?1:0;for(var zo=(O(464),0);zo<iL;++zo)IL+=O(259)?2:1,JL+=O(53)?2:1,Lo+=O(509)?2:1,oo+=O(526)?3:1;sL=IL+JL+Lo+oo;window.ss===sL&&(window.ss=++sL)}catch(io){window.ss=sL}var jo=!0;function Z(L){var z=arguments.length,s=[],J=1;while(J<z)s[J-1]=arguments[J++]-L;return String.fromCharCode.apply(String,s)}\n",
      "function oO(L){var z=35;!L||document[S(z,153,140,150,140,133,140,143,140,151,156,118,151,132,151,136)]&&document[S(z,153,140,150,140,133,140,143,140,151,156,118,151,132,151,136)]!==_(68616527631,z)||(jo=!1);return jo}function OO(){}oO(window[OO[S(OL,162,149,161,153)]]===OO);oO(typeof ie9rgb4!==_(1242178186147,OL));oO(RegExp(\"\\x3c\")[_(1372153,OL)](function(){return\"\\x3c\"})&!RegExp(_(42837,OL))[S(OL,168,153,167,168)](function(){return\"'x3'+'d';\"}));\n",
      "var ZO=window[S(OL,149,168,168,149,151,156,121,170,153,162,168)]||RegExp(S(OL,161,163,150,157,176,149,162,152,166,163,157,152),_(-34,OL))[_(1372153,OL)](window[\"\\x6e\\x61vi\\x67a\\x74\\x6f\\x72\"][\"\\x75\\x73e\\x72A\\x67\\x65\\x6et\"]),sO=+new Date+(O(584)?6E5:497590),SO,JO,Lz,zz=window[S(OL,167,153,168,136,157,161,153,163,169,168)],Zz=ZO?O(586)?3E4:24808:O(583)?6E3:5922;\n",
      "document[S(OL,149,152,152,121,170,153,162,168,128,157,167,168,153,162,153,166)]&&document[Z(OL,149,152,152,121,170,153,162,168,128,157,167,168,153,162,153,166)](S(OL,170,157,167,157,150,157,160,157,168,173,151,156,149,162,155,153),function(L){var z=3;document[S(z,121,108,118,108,101,108,111,108,119,124,86,119,100,119,104)]&&(document[Z(z,121,108,118,108,101,108,111,108,119,124,86,119,100,119,104)]===_(1058781980,z)&&L[S(z,108,118,87,117,120,118,119,104,103)]?Lz=!0:document[S(z,121,108,118,108,101,\n",
      "108,111,108,119,124,86,119,100,119,104)]===_(68616527663,z)&&(SO=+new Date,Lz=!1,sz()))});function _(L,z){L+=z;return L.toString(36)}function sz(){if(!document[S(64,177,181,165,178,185,147,165,172,165,163,180,175,178)])return!0;var L=+new Date;if(L>sO&&(O(266)?6E5:560779)>L-SO)return oO(!1);var z=oO(JO&&!Lz&&SO+Zz<L);SO=L;JO||(JO=!0,zz(function(){JO=!1},O(727)?1:0));return z}sz();var Sz=[O(114)?17795081:23022404,O(398)?27611931586:2147483647,O(232)?1558153217:1513291722];\n",
      "function iz(L){var z=56;L=typeof L===_(1743045620,z)?L:L[Z(z,172,167,139,172,170,161,166,159)](O(968)?21:36);var s=window[L];if(!s[S(z,172,167,139,172,170,161,166,159)])return;var J=\"\"+s;window[L]=function(L,z){JO=!1;return s(L,z)};window[L][S(z,172,167,139,172,170,161,166,159)]=function(){return J}}for(var Iz=(O(503),0);Iz<Sz[_(1294399153,OL)];++Iz)iz(Sz[Iz]);oO(!1!==window[Z(OL,134,118,130,167)]);window.zS={S_:\"08071636e60178000145cd207e9e11b25a8a2ebe17bce09732d862f76657da15d00f581fab781fd9c9ccecce0389c0d6c858c7d56d6f2b5290078b6f32a4351b8541094c312f9589f242a9a8331cd883b5315174b25c8efb61e15ab960509f5726a36b75b543edfd918da64727e8cfbf7696c098221628e2ed39edd3042e215a\"};\n",
      "function Jz(L){var z=+new Date,s;!document[Z(90,203,207,191,204,211,173,191,198,191,189,206,201,204,155,198,198)]||z>sO&&(O(645)?6E5:562412)>z-SO?s=oO(!1):(s=oO(JO&&!Lz&&SO+Zz<z),SO=z,JO||(JO=!0,zz(function(){JO=!1},O(499)?1:0)));return!(arguments[L]^s)}function O(L){return 936>L}function S(L){var z=arguments.length,s=[];for(var J=1;J<z;++J)s.push(arguments[J]-L);return String.fromCharCode.apply(String,s)}\n",
      "(function(L){L||setTimeout(function(){var L=setTimeout(function(){},250);for(var s=0;s<=L;++s)clearTimeout(s)},500)})(!0);})();}catch(x){}finally{ie9rgb4=void(0);};function ie9rgb4(a,b){return a>>b>>0};\n",
      "\r\n",
      "})();\r\n",
      "\r\n",
      "</script>\r\n",
      "\r\n",
      "<script type=\"text/javascript\" src=\"/TSPD/0821037767ab2000b1ca4b8bb9086749bdd3900ffa2a282c172d0a63d6c7aa30dfe416626a6cee66?type=8\"></script>\r\n",
      "\r\n",
      "<script>\r\n",
      "\r\n",
      "(function(){\r\n",
      "window[\"blobfp\"] = \"010101010100e8035c355e7d0d4a003038353430336564663335636433303030303632636264346532303030303163323037343538626337653035646462393338623936653836646437323935396365303365376538623662210068747470733a2f2f72652e73656375726974792e66356161732e636f6d2f72652f\";window[\"slobfp\"] = \"08071636e60b1000f97fbad7b0e9e15d0876755ca905090c\";\r\n",
      "\r\n",
      "\r\n",
      "})();\r\n",
      "\r\n",
      "</script>\r\n",
      "\r\n",
      "<script type=\"text/javascript\" src=\"/TSPD/0821037767ab2000b1ca4b8bb9086749bdd3900ffa2a282c172d0a63d6c7aa30dfe416626a6cee66?type=12\"></script>\r\n",
      "<noscript>Please enable JavaScript to view the page content.<br/>Your support ID is: 16051993665498708154.</noscript>\r\n",
      "</head><body>\r\n",
      "</body></html>\n"
     ]
    }
   ],
   "source": [
    "# auth: code_king\n",
    "# time: 2022/7/10 17:44\n",
    "# file: 爬取聚合物性质.py\n",
    "\n",
    "# 爬取数据库polyinfo 只要sample小于30的\n",
    "# 起始网址： https://polymer.nims.go.jp/PoLyInfo/cgi-bin/p-search.cgi\n",
    "# 判断标签samples是否小于等于30\n",
    "import requests\n",
    "base_url = 'https://polymer.nims.go.jp/PoLyInfo/cgi-bin/p-search.cgi'\n",
    "# 携带data\n",
    "data = {\n",
    "    'pttab': 'Homopolymer',\n",
    "    'search': 'page',\n",
    "    'PIDs': '18247',\n",
    "    'pagesize': '20',\n",
    "}\n",
    "headers={\n",
    "    'User-Agent': 'Mozilla/5.0 (Windows NT 10.0; Win64; x64) AppleWebKit/537.36 (KHTML, like Gecko) Chrome/83.0.4103.116 Safari/537.36',\n",
    "    # 'Referer': 'https://polymer.nims.go.jp/PoLyInfo/cgi-bin/p-search.cgi',\n",
    "    'Cookie':'MOD_AUTH_CAS=a85b2beab11f848f8c62a5b8ec340734; TS0164a68e=01c6fd78ba8513913cb5895b5aac8a24e191edc47683059e0fe7aac14925ac5af00e3c279ee4cff72d8b1f505575c74c832eab0df6e76aed617d66ea33bd4c6bb23b3b11ed; MOD_AUTH_CAS=a45355183aa862ab784f46dff271b674; TS01e31a2a=01c6fd78baee033d4aca09cec7e56668cee5339b751bdaac82238da0b824d7fa31cb99e16a334a6f27fe280e52c567016cc06760bbafba65bf5762d6b0d3f3cbabc37fb742; TS7d5e355c_76=0821037767ab280009f6df1423a368aba2b1f534f81fcf0efb5d11f886d5b7de1f1a32fcbceba3ffcbdc81b17e138e06082168e0df09e800d82fe779feaecc1f9ec166c9923493213c17142960f4343d8d45adddea35512e10b46c24c12594b4bd0bb6ec48fb5df2ee5620794a7b6a1d6d7cfdd0176926f30a1933b3a1d17ef836620220f5967211d17529558d9b176d0c1835cb2999546989f734ae4bff1e262927169daa006c6b0d28bfa4c9ef1ee513358cb38d6f5c4631d5547ed6c0898839999999a983f1c090df8ba1e9e8f3db7e03da92ed958342c24dbddeb2372604039b74bc67e6f326cd7c1c2c2e8b0949955f1bf64f33768d1ca7c3df2b8a38e1a14f49acafee2be9b210dd9e4d437037db7388498726e893974338d8bc6141b6; TSPD_101=0821037767ab280009f6df1423a368aba2b1f534f81fcf0efb5d11f886d5b7de1f1a32fcbceba3ffcbdc81b17e138e06:0821037767ab280009f6df1423a368aba2b1f534f81fcf0efb5d11f886d5b7de1f1a32fcbceba3ffcbdc81b17e138e06082168e0df06380095d352f1d3a6c5ec7c6469338fb7e251863a7c0203e2c629519eeff4aae3c11b69ff877f4fcde8c06c51e10640b27e94e7e5bd2aad9e938d; TS01ec3135=01c6fd78baf435cb08175e5440a06f377cb6fa965a1bdaac82238da0b824d7fa31cb99e16a8644212697385670b5b68024c5aa9688; _ga=GA1.3.2026254283.1657521191; _gid=GA1.3.1409277104.1657521191; TSbe9bed7a_27=0821037767ab20001be9dc8504b72ca2088aa09b929ca90fb1d72e773e34d59439ebb6fbcb82001a0827f8959f112000ee2c003278184fb7e08f140945c0834b472a1509160e275a92b41ac35af3945b'\n",
    "}\n",
    "# 调用post\n",
    "response = requests.post(base_url, json=data)    # response 响应对象\n",
    "# 获取响应状态码\n",
    "print('状态码：', response.status_code)\n",
    "# 获取响应头\n",
    "print('响应头信息：', response.headers)\n",
    "# 获取响应正文\n",
    "print('响应正文：', response.text)\n"
   ]
  },
  {
   "cell_type": "code",
   "execution_count": 4,
   "outputs": [
    {
     "name": "stderr",
     "output_type": "stream",
     "text": [
      "C:\\Users\\king\\AppData\\Local\\Temp\\ipykernel_15204\\125404665.py:9: DeprecationWarning: use options instead of chrome_options\n",
      "  browser = webdriver.Chrome(chrome_options=chrome_options)\n"
     ]
    },
    {
     "ename": "WebDriverException",
     "evalue": "Message: 'chromedriver' executable needs to be in PATH. Please see https://chromedriver.chromium.org/home\n",
     "output_type": "error",
     "traceback": [
      "\u001B[1;31m---------------------------------------------------------------------------\u001B[0m",
      "\u001B[1;31mFileNotFoundError\u001B[0m                         Traceback (most recent call last)",
      "File \u001B[1;32m~\\AppData\\Local\\Programs\\Python\\Python310\\lib\\site-packages\\selenium\\webdriver\\common\\service.py:71\u001B[0m, in \u001B[0;36mService.start\u001B[1;34m(self)\u001B[0m\n\u001B[0;32m     70\u001B[0m     cmd\u001B[38;5;241m.\u001B[39mextend(\u001B[38;5;28mself\u001B[39m\u001B[38;5;241m.\u001B[39mcommand_line_args())\n\u001B[1;32m---> 71\u001B[0m     \u001B[38;5;28mself\u001B[39m\u001B[38;5;241m.\u001B[39mprocess \u001B[38;5;241m=\u001B[39m \u001B[43msubprocess\u001B[49m\u001B[38;5;241;43m.\u001B[39;49m\u001B[43mPopen\u001B[49m\u001B[43m(\u001B[49m\u001B[43mcmd\u001B[49m\u001B[43m,\u001B[49m\u001B[43m \u001B[49m\u001B[43menv\u001B[49m\u001B[38;5;241;43m=\u001B[39;49m\u001B[38;5;28;43mself\u001B[39;49m\u001B[38;5;241;43m.\u001B[39;49m\u001B[43menv\u001B[49m\u001B[43m,\u001B[49m\n\u001B[0;32m     72\u001B[0m \u001B[43m                                    \u001B[49m\u001B[43mclose_fds\u001B[49m\u001B[38;5;241;43m=\u001B[39;49m\u001B[43msystem\u001B[49m\u001B[43m(\u001B[49m\u001B[43m)\u001B[49m\u001B[43m \u001B[49m\u001B[38;5;241;43m!=\u001B[39;49m\u001B[43m \u001B[49m\u001B[38;5;124;43m'\u001B[39;49m\u001B[38;5;124;43mWindows\u001B[39;49m\u001B[38;5;124;43m'\u001B[39;49m\u001B[43m,\u001B[49m\n\u001B[0;32m     73\u001B[0m \u001B[43m                                    \u001B[49m\u001B[43mstdout\u001B[49m\u001B[38;5;241;43m=\u001B[39;49m\u001B[38;5;28;43mself\u001B[39;49m\u001B[38;5;241;43m.\u001B[39;49m\u001B[43mlog_file\u001B[49m\u001B[43m,\u001B[49m\n\u001B[0;32m     74\u001B[0m \u001B[43m                                    \u001B[49m\u001B[43mstderr\u001B[49m\u001B[38;5;241;43m=\u001B[39;49m\u001B[38;5;28;43mself\u001B[39;49m\u001B[38;5;241;43m.\u001B[39;49m\u001B[43mlog_file\u001B[49m\u001B[43m,\u001B[49m\n\u001B[0;32m     75\u001B[0m \u001B[43m                                    \u001B[49m\u001B[43mstdin\u001B[49m\u001B[38;5;241;43m=\u001B[39;49m\u001B[43mPIPE\u001B[49m\u001B[43m,\u001B[49m\n\u001B[0;32m     76\u001B[0m \u001B[43m                                    \u001B[49m\u001B[43mcreationflags\u001B[49m\u001B[38;5;241;43m=\u001B[39;49m\u001B[38;5;28;43mself\u001B[39;49m\u001B[38;5;241;43m.\u001B[39;49m\u001B[43mcreationflags\u001B[49m\u001B[43m)\u001B[49m\n\u001B[0;32m     77\u001B[0m \u001B[38;5;28;01mexcept\u001B[39;00m \u001B[38;5;167;01mTypeError\u001B[39;00m:\n",
      "File \u001B[1;32m~\\AppData\\Local\\Programs\\Python\\Python310\\lib\\subprocess.py:969\u001B[0m, in \u001B[0;36mPopen.__init__\u001B[1;34m(self, args, bufsize, executable, stdin, stdout, stderr, preexec_fn, close_fds, shell, cwd, env, universal_newlines, startupinfo, creationflags, restore_signals, start_new_session, pass_fds, user, group, extra_groups, encoding, errors, text, umask, pipesize)\u001B[0m\n\u001B[0;32m    966\u001B[0m             \u001B[38;5;28mself\u001B[39m\u001B[38;5;241m.\u001B[39mstderr \u001B[38;5;241m=\u001B[39m io\u001B[38;5;241m.\u001B[39mTextIOWrapper(\u001B[38;5;28mself\u001B[39m\u001B[38;5;241m.\u001B[39mstderr,\n\u001B[0;32m    967\u001B[0m                     encoding\u001B[38;5;241m=\u001B[39mencoding, errors\u001B[38;5;241m=\u001B[39merrors)\n\u001B[1;32m--> 969\u001B[0m     \u001B[38;5;28;43mself\u001B[39;49m\u001B[38;5;241;43m.\u001B[39;49m\u001B[43m_execute_child\u001B[49m\u001B[43m(\u001B[49m\u001B[43margs\u001B[49m\u001B[43m,\u001B[49m\u001B[43m \u001B[49m\u001B[43mexecutable\u001B[49m\u001B[43m,\u001B[49m\u001B[43m \u001B[49m\u001B[43mpreexec_fn\u001B[49m\u001B[43m,\u001B[49m\u001B[43m \u001B[49m\u001B[43mclose_fds\u001B[49m\u001B[43m,\u001B[49m\n\u001B[0;32m    970\u001B[0m \u001B[43m                        \u001B[49m\u001B[43mpass_fds\u001B[49m\u001B[43m,\u001B[49m\u001B[43m \u001B[49m\u001B[43mcwd\u001B[49m\u001B[43m,\u001B[49m\u001B[43m \u001B[49m\u001B[43menv\u001B[49m\u001B[43m,\u001B[49m\n\u001B[0;32m    971\u001B[0m \u001B[43m                        \u001B[49m\u001B[43mstartupinfo\u001B[49m\u001B[43m,\u001B[49m\u001B[43m \u001B[49m\u001B[43mcreationflags\u001B[49m\u001B[43m,\u001B[49m\u001B[43m \u001B[49m\u001B[43mshell\u001B[49m\u001B[43m,\u001B[49m\n\u001B[0;32m    972\u001B[0m \u001B[43m                        \u001B[49m\u001B[43mp2cread\u001B[49m\u001B[43m,\u001B[49m\u001B[43m \u001B[49m\u001B[43mp2cwrite\u001B[49m\u001B[43m,\u001B[49m\n\u001B[0;32m    973\u001B[0m \u001B[43m                        \u001B[49m\u001B[43mc2pread\u001B[49m\u001B[43m,\u001B[49m\u001B[43m \u001B[49m\u001B[43mc2pwrite\u001B[49m\u001B[43m,\u001B[49m\n\u001B[0;32m    974\u001B[0m \u001B[43m                        \u001B[49m\u001B[43merrread\u001B[49m\u001B[43m,\u001B[49m\u001B[43m \u001B[49m\u001B[43merrwrite\u001B[49m\u001B[43m,\u001B[49m\n\u001B[0;32m    975\u001B[0m \u001B[43m                        \u001B[49m\u001B[43mrestore_signals\u001B[49m\u001B[43m,\u001B[49m\n\u001B[0;32m    976\u001B[0m \u001B[43m                        \u001B[49m\u001B[43mgid\u001B[49m\u001B[43m,\u001B[49m\u001B[43m \u001B[49m\u001B[43mgids\u001B[49m\u001B[43m,\u001B[49m\u001B[43m \u001B[49m\u001B[43muid\u001B[49m\u001B[43m,\u001B[49m\u001B[43m \u001B[49m\u001B[43mumask\u001B[49m\u001B[43m,\u001B[49m\n\u001B[0;32m    977\u001B[0m \u001B[43m                        \u001B[49m\u001B[43mstart_new_session\u001B[49m\u001B[43m)\u001B[49m\n\u001B[0;32m    978\u001B[0m \u001B[38;5;28;01mexcept\u001B[39;00m:\n\u001B[0;32m    979\u001B[0m     \u001B[38;5;66;03m# Cleanup if the child failed starting.\u001B[39;00m\n",
      "File \u001B[1;32m~\\AppData\\Local\\Programs\\Python\\Python310\\lib\\subprocess.py:1438\u001B[0m, in \u001B[0;36mPopen._execute_child\u001B[1;34m(self, args, executable, preexec_fn, close_fds, pass_fds, cwd, env, startupinfo, creationflags, shell, p2cread, p2cwrite, c2pread, c2pwrite, errread, errwrite, unused_restore_signals, unused_gid, unused_gids, unused_uid, unused_umask, unused_start_new_session)\u001B[0m\n\u001B[0;32m   1437\u001B[0m \u001B[38;5;28;01mtry\u001B[39;00m:\n\u001B[1;32m-> 1438\u001B[0m     hp, ht, pid, tid \u001B[38;5;241m=\u001B[39m \u001B[43m_winapi\u001B[49m\u001B[38;5;241;43m.\u001B[39;49m\u001B[43mCreateProcess\u001B[49m\u001B[43m(\u001B[49m\u001B[43mexecutable\u001B[49m\u001B[43m,\u001B[49m\u001B[43m \u001B[49m\u001B[43margs\u001B[49m\u001B[43m,\u001B[49m\n\u001B[0;32m   1439\u001B[0m \u001B[43m                             \u001B[49m\u001B[38;5;66;43;03m# no special security\u001B[39;49;00m\n\u001B[0;32m   1440\u001B[0m \u001B[43m                             \u001B[49m\u001B[38;5;28;43;01mNone\u001B[39;49;00m\u001B[43m,\u001B[49m\u001B[43m \u001B[49m\u001B[38;5;28;43;01mNone\u001B[39;49;00m\u001B[43m,\u001B[49m\n\u001B[0;32m   1441\u001B[0m \u001B[43m                             \u001B[49m\u001B[38;5;28;43mint\u001B[39;49m\u001B[43m(\u001B[49m\u001B[38;5;129;43;01mnot\u001B[39;49;00m\u001B[43m \u001B[49m\u001B[43mclose_fds\u001B[49m\u001B[43m)\u001B[49m\u001B[43m,\u001B[49m\n\u001B[0;32m   1442\u001B[0m \u001B[43m                             \u001B[49m\u001B[43mcreationflags\u001B[49m\u001B[43m,\u001B[49m\n\u001B[0;32m   1443\u001B[0m \u001B[43m                             \u001B[49m\u001B[43menv\u001B[49m\u001B[43m,\u001B[49m\n\u001B[0;32m   1444\u001B[0m \u001B[43m                             \u001B[49m\u001B[43mcwd\u001B[49m\u001B[43m,\u001B[49m\n\u001B[0;32m   1445\u001B[0m \u001B[43m                             \u001B[49m\u001B[43mstartupinfo\u001B[49m\u001B[43m)\u001B[49m\n\u001B[0;32m   1446\u001B[0m \u001B[38;5;28;01mfinally\u001B[39;00m:\n\u001B[0;32m   1447\u001B[0m     \u001B[38;5;66;03m# Child is launched. Close the parent's copy of those pipe\u001B[39;00m\n\u001B[0;32m   1448\u001B[0m     \u001B[38;5;66;03m# handles that only the child should have open.  You need\u001B[39;00m\n\u001B[1;32m   (...)\u001B[0m\n\u001B[0;32m   1451\u001B[0m     \u001B[38;5;66;03m# pipe will not close when the child process exits and the\u001B[39;00m\n\u001B[0;32m   1452\u001B[0m     \u001B[38;5;66;03m# ReadFile will hang.\u001B[39;00m\n",
      "\u001B[1;31mFileNotFoundError\u001B[0m: [WinError 2] 系统找不到指定的文件。",
      "\nDuring handling of the above exception, another exception occurred:\n",
      "\u001B[1;31mWebDriverException\u001B[0m                        Traceback (most recent call last)",
      "Input \u001B[1;32mIn [4]\u001B[0m, in \u001B[0;36m<cell line: 9>\u001B[1;34m()\u001B[0m\n\u001B[0;32m      7\u001B[0m path \u001B[38;5;241m=\u001B[39m \u001B[38;5;124mr\u001B[39m\u001B[38;5;124m'\u001B[39m\u001B[38;5;124mC:\u001B[39m\u001B[38;5;124m\\\u001B[39m\u001B[38;5;124mProgram Files\u001B[39m\u001B[38;5;124m\\\u001B[39m\u001B[38;5;124mGoogle\u001B[39m\u001B[38;5;124m\\\u001B[39m\u001B[38;5;124mChrome\u001B[39m\u001B[38;5;124m\\\u001B[39m\u001B[38;5;124mApplication\u001B[39m\u001B[38;5;124m\\\u001B[39m\u001B[38;5;124mchromedriver.exe\u001B[39m\u001B[38;5;124m'\u001B[39m\n\u001B[0;32m      8\u001B[0m chrome_options\u001B[38;5;241m.\u001B[39mbinary_location \u001B[38;5;241m=\u001B[39m path\n\u001B[1;32m----> 9\u001B[0m browser \u001B[38;5;241m=\u001B[39m \u001B[43mwebdriver\u001B[49m\u001B[38;5;241;43m.\u001B[39;49m\u001B[43mChrome\u001B[49m\u001B[43m(\u001B[49m\u001B[43mchrome_options\u001B[49m\u001B[38;5;241;43m=\u001B[39;49m\u001B[43mchrome_options\u001B[49m\u001B[43m)\u001B[49m\n\u001B[0;32m     10\u001B[0m browser\u001B[38;5;241m.\u001B[39mget(\u001B[38;5;124m'\u001B[39m\u001B[38;5;124mhttp://www.baidu.com/\u001B[39m\u001B[38;5;124m'\u001B[39m)\n",
      "File \u001B[1;32m~\\AppData\\Local\\Programs\\Python\\Python310\\lib\\site-packages\\selenium\\webdriver\\chrome\\webdriver.py:69\u001B[0m, in \u001B[0;36mWebDriver.__init__\u001B[1;34m(self, executable_path, port, options, service_args, desired_capabilities, service_log_path, chrome_options, service, keep_alive)\u001B[0m\n\u001B[0;32m     66\u001B[0m \u001B[38;5;28;01mif\u001B[39;00m \u001B[38;5;129;01mnot\u001B[39;00m service:\n\u001B[0;32m     67\u001B[0m     service \u001B[38;5;241m=\u001B[39m Service(executable_path, port, service_args, service_log_path)\n\u001B[1;32m---> 69\u001B[0m \u001B[38;5;28;43msuper\u001B[39;49m\u001B[43m(\u001B[49m\u001B[43m)\u001B[49m\u001B[38;5;241;43m.\u001B[39;49m\u001B[38;5;21;43m__init__\u001B[39;49m\u001B[43m(\u001B[49m\u001B[43mDesiredCapabilities\u001B[49m\u001B[38;5;241;43m.\u001B[39;49m\u001B[43mCHROME\u001B[49m\u001B[43m[\u001B[49m\u001B[38;5;124;43m'\u001B[39;49m\u001B[38;5;124;43mbrowserName\u001B[39;49m\u001B[38;5;124;43m'\u001B[39;49m\u001B[43m]\u001B[49m\u001B[43m,\u001B[49m\u001B[43m \u001B[49m\u001B[38;5;124;43m\"\u001B[39;49m\u001B[38;5;124;43mgoog\u001B[39;49m\u001B[38;5;124;43m\"\u001B[39;49m\u001B[43m,\u001B[49m\n\u001B[0;32m     70\u001B[0m \u001B[43m                 \u001B[49m\u001B[43mport\u001B[49m\u001B[43m,\u001B[49m\u001B[43m \u001B[49m\u001B[43moptions\u001B[49m\u001B[43m,\u001B[49m\n\u001B[0;32m     71\u001B[0m \u001B[43m                 \u001B[49m\u001B[43mservice_args\u001B[49m\u001B[43m,\u001B[49m\u001B[43m \u001B[49m\u001B[43mdesired_capabilities\u001B[49m\u001B[43m,\u001B[49m\n\u001B[0;32m     72\u001B[0m \u001B[43m                 \u001B[49m\u001B[43mservice_log_path\u001B[49m\u001B[43m,\u001B[49m\u001B[43m \u001B[49m\u001B[43mservice\u001B[49m\u001B[43m,\u001B[49m\u001B[43m \u001B[49m\u001B[43mkeep_alive\u001B[49m\u001B[43m)\u001B[49m\n",
      "File \u001B[1;32m~\\AppData\\Local\\Programs\\Python\\Python310\\lib\\site-packages\\selenium\\webdriver\\chromium\\webdriver.py:89\u001B[0m, in \u001B[0;36mChromiumDriver.__init__\u001B[1;34m(self, browser_name, vendor_prefix, port, options, service_args, desired_capabilities, service_log_path, service, keep_alive)\u001B[0m\n\u001B[0;32m     86\u001B[0m     \u001B[38;5;28;01mraise\u001B[39;00m \u001B[38;5;167;01mAttributeError\u001B[39;00m(\u001B[38;5;124m'\u001B[39m\u001B[38;5;124mservice cannot be None\u001B[39m\u001B[38;5;124m'\u001B[39m)\n\u001B[0;32m     88\u001B[0m \u001B[38;5;28mself\u001B[39m\u001B[38;5;241m.\u001B[39mservice \u001B[38;5;241m=\u001B[39m service\n\u001B[1;32m---> 89\u001B[0m \u001B[38;5;28;43mself\u001B[39;49m\u001B[38;5;241;43m.\u001B[39;49m\u001B[43mservice\u001B[49m\u001B[38;5;241;43m.\u001B[39;49m\u001B[43mstart\u001B[49m\u001B[43m(\u001B[49m\u001B[43m)\u001B[49m\n\u001B[0;32m     91\u001B[0m \u001B[38;5;28;01mtry\u001B[39;00m:\n\u001B[0;32m     92\u001B[0m     \u001B[38;5;28msuper\u001B[39m()\u001B[38;5;241m.\u001B[39m\u001B[38;5;21m__init__\u001B[39m(\n\u001B[0;32m     93\u001B[0m         command_executor\u001B[38;5;241m=\u001B[39mChromiumRemoteConnection(\n\u001B[0;32m     94\u001B[0m             remote_server_addr\u001B[38;5;241m=\u001B[39m\u001B[38;5;28mself\u001B[39m\u001B[38;5;241m.\u001B[39mservice\u001B[38;5;241m.\u001B[39mservice_url,\n\u001B[0;32m     95\u001B[0m             browser_name\u001B[38;5;241m=\u001B[39mbrowser_name, vendor_prefix\u001B[38;5;241m=\u001B[39mvendor_prefix,\n\u001B[0;32m     96\u001B[0m             keep_alive\u001B[38;5;241m=\u001B[39mkeep_alive, ignore_proxy\u001B[38;5;241m=\u001B[39m_ignore_proxy),\n\u001B[0;32m     97\u001B[0m         options\u001B[38;5;241m=\u001B[39moptions)\n",
      "File \u001B[1;32m~\\AppData\\Local\\Programs\\Python\\Python310\\lib\\site-packages\\selenium\\webdriver\\common\\service.py:81\u001B[0m, in \u001B[0;36mService.start\u001B[1;34m(self)\u001B[0m\n\u001B[0;32m     79\u001B[0m \u001B[38;5;28;01mexcept\u001B[39;00m \u001B[38;5;167;01mOSError\u001B[39;00m \u001B[38;5;28;01mas\u001B[39;00m err:\n\u001B[0;32m     80\u001B[0m     \u001B[38;5;28;01mif\u001B[39;00m err\u001B[38;5;241m.\u001B[39merrno \u001B[38;5;241m==\u001B[39m errno\u001B[38;5;241m.\u001B[39mENOENT:\n\u001B[1;32m---> 81\u001B[0m         \u001B[38;5;28;01mraise\u001B[39;00m WebDriverException(\n\u001B[0;32m     82\u001B[0m             \u001B[38;5;124m\"\u001B[39m\u001B[38;5;124m'\u001B[39m\u001B[38;5;132;01m{}\u001B[39;00m\u001B[38;5;124m'\u001B[39m\u001B[38;5;124m executable needs to be in PATH. \u001B[39m\u001B[38;5;132;01m{}\u001B[39;00m\u001B[38;5;124m\"\u001B[39m\u001B[38;5;241m.\u001B[39mformat(\n\u001B[0;32m     83\u001B[0m                 os\u001B[38;5;241m.\u001B[39mpath\u001B[38;5;241m.\u001B[39mbasename(\u001B[38;5;28mself\u001B[39m\u001B[38;5;241m.\u001B[39mpath), \u001B[38;5;28mself\u001B[39m\u001B[38;5;241m.\u001B[39mstart_error_message)\n\u001B[0;32m     84\u001B[0m         )\n\u001B[0;32m     85\u001B[0m     \u001B[38;5;28;01melif\u001B[39;00m err\u001B[38;5;241m.\u001B[39merrno \u001B[38;5;241m==\u001B[39m errno\u001B[38;5;241m.\u001B[39mEACCES:\n\u001B[0;32m     86\u001B[0m         \u001B[38;5;28;01mraise\u001B[39;00m WebDriverException(\n\u001B[0;32m     87\u001B[0m             \u001B[38;5;124m\"\u001B[39m\u001B[38;5;124m'\u001B[39m\u001B[38;5;132;01m{}\u001B[39;00m\u001B[38;5;124m'\u001B[39m\u001B[38;5;124m executable may have wrong permissions. \u001B[39m\u001B[38;5;132;01m{}\u001B[39;00m\u001B[38;5;124m\"\u001B[39m\u001B[38;5;241m.\u001B[39mformat(\n\u001B[0;32m     88\u001B[0m                 os\u001B[38;5;241m.\u001B[39mpath\u001B[38;5;241m.\u001B[39mbasename(\u001B[38;5;28mself\u001B[39m\u001B[38;5;241m.\u001B[39mpath), \u001B[38;5;28mself\u001B[39m\u001B[38;5;241m.\u001B[39mstart_error_message)\n\u001B[0;32m     89\u001B[0m         )\n",
      "\u001B[1;31mWebDriverException\u001B[0m: Message: 'chromedriver' executable needs to be in PATH. Please see https://chromedriver.chromium.org/home\n"
     ]
    }
   ],
   "source": [
    "# from selenium import webdriver\n",
    "# from selenium.webdriver.chrome.options import Options\n",
    "# from selenium.webdriver.chrome.options import Options\n",
    "# chrome_options = Options()\n",
    "# chrome_options.add_argument('‐‐headless')\n",
    "# chrome_options.add_argument('‐‐disable‐gpu')\n",
    "# path = r'C:\\Program Files\\Google\\Chrome\\Application\\chromedriver.exe'\n",
    "# chrome_options.binary_location = path\n",
    "# browser = webdriver.Chrome(chrome_options=chrome_options)\n",
    "# browser.get('http://www.baidu.com/')\n"
   ],
   "metadata": {
    "collapsed": false,
    "pycharm": {
     "name": "#%%\n"
    }
   }
  },
  {
   "cell_type": "code",
   "execution_count": 7,
   "outputs": [
    {
     "name": "stderr",
     "output_type": "stream",
     "text": [
      "C:\\Users\\king\\AppData\\Local\\Temp\\ipykernel_6292\\2890638549.py:6: DeprecationWarning: executable_path has been deprecated, please pass in a Service object\n",
      "  driver=webdriver.Chrome(executable_path=driver_path)\n"
     ]
    },
    {
     "name": "stdout",
     "output_type": "stream",
     "text": [
      "[{'domain': 'polymer.nims.go.jp', 'httpOnly': False, 'name': 'TSbe9bed7a_27', 'path': '/', 'secure': False, 'value': '0821037767ab2000de20066e25c45243d1a73ed1cd81611cfdebddd15e67b4810e3caa12714e3a2b08ba67f9bd112000eebdb38bf652d1e282d26dfc074ed54d0ebacf6df049e4947c7ed120015b5b4a'}, {'domain': 'polymer.nims.go.jp', 'httpOnly': False, 'name': 'TS01ec3135', 'path': '/', 'secure': False, 'value': '01c6fd78ba52abb32cc3c31ec43ab89f7c3732e8725978da21c949fb1bf04db271e6b6b08e5022a023e8fb92c622b92e30610c8e5e'}, {'domain': 'polymer.nims.go.jp', 'expiry': 1657638018, 'httpOnly': False, 'name': 'TS7d5e355c_76', 'path': '/', 'secure': False, 'value': '0821037767ab280064767b4a4f5d9fbf22a6b89df0bb96c8cc3f2ddc1ef8734fb97d69275c56a9d1d1fbbcb269f3cfc408237a190409e80035c86a9f0f07b377aaf4bc0af402cdd8035e6c24c39aa4312d654d9e1acbbfcb846eec5874cd1514b06b2945f67928cc2a3d86b5ed900c643e97153d14f2bc36ed77940ccf95c60d746ca80828209d0eafdcb74bd8f2d917d2a5bae185c0a027c9677e03eb998b66e7079ebd2f0e3b1304c9492abcea0fdd188182f7b940d2f26048b997f423ab6541b93635916fd5c71552a750e3b199e9579cde11ef827044dc33287cf90c69ee760d1a1f0415d8ef06cf09510cca67dcd14f6d7955c98a8dc46b8089360acb1de52c6c3065bd3acd2bc15abeb2cb9bde5bc6685b3237d1559cc0225f51a7727e'}, {'domain': 'polymer.nims.go.jp', 'httpOnly': False, 'name': 'TSPD_101', 'path': '/', 'secure': False, 'value': '0821037767ab280064767b4a4f5d9fbf22a6b89df0bb96c8cc3f2ddc1ef8734fb97d69275c56a9d1d1fbbcb269f3cfc4:0821037767ab280064767b4a4f5d9fbf22a6b89df0bb96c8cc3f2ddc1ef8734fb97d69275c56a9d1d1fbbcb269f3cfc408237a1904063800239972945ff49a9888b5601641017bb8446b7a80e9904c178371c28c47ad7419eaa3ee6ea3c9bfb3df62878e0b56e223589cf449c6388161'}, {'domain': 'polymer.nims.go.jp', 'httpOnly': False, 'name': 'TS0164a68e', 'path': '/PoLyInfo/cgi-bin/', 'secure': False, 'value': '01c6fd78bae4c2cf625dbfd7349fe60f4cde7cd8655978da21c949fb1bf04db271e6b6b08ef3e6b5ebf267c34c01200ecfa0cd8569573a5a5f1b5657585f7e8446bfdc3668'}, {'domain': 'polymer.nims.go.jp', 'httpOnly': True, 'name': 'MOD_AUTH_CAS', 'path': '/PoLyInfo/cgi-bin/', 'secure': False, 'value': '5d4863a074e6afd3adcffc6f691671e1'}]\n"
     ]
    }
   ],
   "source": [
    "import random\n",
    "import time\n",
    "from selenium import webdriver\n",
    "from selenium.webdriver.common.by import By\n",
    "driver_path=r\"C:\\Program Files\\Google\\Chrome\\Application\\chromedriver.exe\"\n",
    "driver=webdriver.Chrome(executable_path=driver_path)\n",
    "driver.get('https://polymer.nims.go.jp/PoLyInfo/cgi-bin/p-search.cgi')\n",
    "driver.maximize_window()\n",
    "time.sleep(10)\n",
    "# input = ['siupgw@163.com','ygwtro@163.com','fcojif@163.com','ddhdkb@163.com','tfrbzf@163.com']\n",
    "# number =random.randint(0,4)\n",
    "# random_id = input[number]\n",
    "# driver.find_element_by_xpath('//*[@id=\"username\"]').send_keys(str(random_id))\n",
    "# driver.find_element_by_xpath('//*[@id=\"password\"]').send_keys('Hxy18833417830@')\n",
    "driver.find_element(By.XPATH,'//*[@id=\"username\"]').send_keys('1094234526@qq.com')\n",
    "driver.find_element(By.XPATH,'//*[@id=\"password\"]').send_keys('@Codeking990416')\n",
    "driver.implicitly_wait(8)\n",
    "driver.find_element(By.XPATH,'//*[@id=\"fm1\"]/div/button/span').click()\n",
    "list=driver.get_cookies()\n",
    "print(list)"
   ],
   "metadata": {
    "collapsed": false,
    "pycharm": {
     "name": "#%%\n"
    }
   }
  },
  {
   "cell_type": "code",
   "execution_count": null,
   "outputs": [],
   "source": [],
   "metadata": {
    "collapsed": false,
    "pycharm": {
     "name": "#%%\n"
    }
   }
  }
 ],
 "metadata": {
  "kernelspec": {
   "display_name": "Python 3",
   "language": "python",
   "name": "python3"
  },
  "language_info": {
   "codemirror_mode": {
    "name": "ipython",
    "version": 2
   },
   "file_extension": ".py",
   "mimetype": "text/x-python",
   "name": "python",
   "nbconvert_exporter": "python",
   "pygments_lexer": "ipython2",
   "version": "2.7.6"
  }
 },
 "nbformat": 4,
 "nbformat_minor": 0
}