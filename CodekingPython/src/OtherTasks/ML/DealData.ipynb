{
 "cells": [
  {
   "cell_type": "code",
   "execution_count": 45,
   "outputs": [],
   "source": [
    "import pandas as pd\n",
    "\n",
    "# 这个pandas处理数据效果不太好 建议用numpy\n",
    "thedata = pd.read_excel(io='Data613.xlsx', sheet_name='数据标准化-建模用')\n",
    "Preddata = pd.read_excel(io='Data613.xlsx', sheet_name='数据标准化-预测用')\n",
    "import numpy as np\n",
    "\n",
    "thedata = np.array(thedata)\n",
    "Preddata = np.array(Preddata)\n",
    "# 将表的内容 7个数据表 挨个处理"
   ],
   "metadata": {
    "collapsed": false,
    "pycharm": {
     "name": "#%%\n"
    }
   }
  },
  {
   "cell_type": "code",
   "execution_count": 46,
   "outputs": [
    {
     "data": {
      "text/plain": "array([['a', 'h'],\n       ['a', 'h'],\n       ['a', 'h'],\n       ['a', 'h'],\n       ['a', 'h'],\n       ['a', 'h'],\n       ['a', 'h'],\n       ['a', 'h'],\n       ['a', 'h'],\n       ['a', 'h'],\n       ['a', 'h'],\n       ['a', 'h'],\n       ['a', 'h'],\n       ['a', 'h'],\n       ['a', 'h'],\n       ['a', 'h'],\n       ['a', 'h'],\n       ['a', 'h'],\n       ['a', 'h'],\n       ['a', 'h'],\n       ['a', 'h'],\n       ['a', 'h'],\n       ['a', 'h'],\n       ['a', 'h'],\n       ['a', 'h'],\n       ['a', 'h'],\n       ['a', 'h'],\n       ['a', 'h'],\n       ['a', 'h'],\n       ['a', 'h'],\n       ['a', 'h'],\n       ['a', 'h'],\n       ['a', 'h'],\n       ['a', 'h'],\n       ['a', 'h'],\n       ['a', 'g'],\n       ['a', 'g'],\n       ['a', 'h'],\n       ['a', 'h'],\n       ['a', 'h'],\n       ['a', 'h'],\n       ['a', 'h'],\n       ['a', 'h'],\n       ['a', 'g'],\n       ['a', 'g'],\n       ['a', 'h'],\n       ['a', 'h'],\n       ['a', 'h'],\n       ['a', 'g'],\n       ['a', 'g'],\n       ['a', 'g'],\n       ['a', 'g'],\n       ['a', 'g'],\n       ['a', 'g'],\n       ['a', 'g'],\n       ['a', 'g'],\n       ['a', 'g'],\n       ['a', 'g'],\n       ['a', 'g'],\n       ['a', 'g'],\n       ['a', 'g'],\n       ['a', 'g'],\n       ['a', 'g'],\n       ['a', 'j'],\n       ['a', 'j'],\n       ['a', 'j'],\n       ['a', 'j'],\n       ['a', 'j'],\n       ['a', 'j'],\n       ['a', 'j'],\n       ['a', 'j'],\n       ['a', 'j'],\n       ['a', 'j'],\n       ['a', 'j'],\n       ['a', 'j'],\n       ['a', 'j'],\n       ['a', 'j'],\n       ['a', 'j'],\n       ['a', 'j'],\n       ['a', 'j'],\n       ['a', 'j'],\n       ['a', 'j'],\n       ['a', 'j'],\n       ['a', 'j'],\n       ['a', 'j'],\n       ['a', 'j'],\n       ['a', 'j'],\n       ['a', 'j'],\n       ['a', 'j'],\n       ['a', 'j'],\n       ['a', 'j'],\n       ['a', 'j'],\n       ['a', 'j'],\n       ['a', 'j'],\n       ['a', 'j'],\n       ['a', 'j'],\n       ['a', 'j'],\n       ['a', 'j'],\n       ['a', 'j'],\n       ['a', 'j'],\n       ['a', 'j'],\n       ['a', 'j'],\n       ['a', 'j'],\n       ['a', 'j'],\n       ['a', 'j'],\n       ['a', 'j'],\n       ['a', 'j'],\n       ['a', 'j'],\n       ['a', 'j'],\n       ['a', 'j'],\n       ['a', 'j'],\n       ['a', 'j'],\n       ['a', 'j'],\n       ['a', 'j'],\n       ['a', 'j'],\n       ['a', 'j'],\n       ['a', 'j'],\n       ['a', 'j'],\n       ['a', 'h'],\n       ['a', 'h'],\n       ['a', 'j'],\n       ['a', 'j'],\n       ['a', 'j'],\n       ['a', 'j'],\n       ['a', 'j'],\n       ['a', 'j'],\n       ['a', 'j'],\n       ['a', 'j'],\n       ['a', 'j'],\n       ['a', 'j'],\n       ['a', 'j'],\n       ['a', 'j'],\n       ['a', 'j'],\n       ['a', 'j'],\n       ['a', 'j'],\n       ['a', 'j'],\n       ['a', 'j'],\n       ['a', 'j'],\n       ['a', 'j'],\n       ['a', 'j'],\n       ['a', 'j'],\n       ['a', 'j'],\n       ['a', 'j'],\n       ['a', 'j'],\n       ['a', 'j'],\n       ['a', 'j'],\n       ['a', 'j'],\n       ['a', 'j'],\n       ['a', 'j'],\n       ['a', 'j'],\n       ['a', 'j'],\n       ['a', 'j'],\n       ['a', 'j'],\n       ['a', 'j'],\n       ['a', 'j'],\n       ['a', 'j'],\n       ['a', 'j'],\n       ['a', 'j'],\n       ['a', 'j'],\n       ['a', 'j'],\n       ['a', 'j'],\n       ['a', 'j'],\n       ['a', 'j'],\n       ['a', 'f'],\n       ['a', 'j'],\n       ['a', 'f'],\n       ['a', 'f'],\n       ['a', 'f'],\n       ['a', 'f'],\n       ['a', 'f'],\n       ['a', 'f'],\n       ['a', 'j'],\n       ['a', 'j'],\n       ['a', 'j'],\n       ['a', 'j'],\n       ['e', 'j'],\n       ['e', 'j'],\n       ['e', 'j'],\n       ['e', 'j'],\n       ['e', 'j'],\n       ['e', 'j'],\n       ['e', 'j'],\n       ['a', 'j'],\n       ['a', 'j'],\n       ['a', 'j'],\n       ['e', 'j'],\n       ['e', 'j'],\n       ['a', 'j'],\n       ['a', 'j'],\n       ['a', 'j'],\n       ['a', 'j'],\n       ['a', 'f'],\n       ['a', 'f'],\n       ['e', 'f'],\n       ['e', 'f'],\n       ['e', 'f'],\n       ['a', 'f'],\n       ['a', 'f'],\n       ['a', 'j'],\n       ['a', 'j'],\n       ['a', 'j'],\n       ['a', 'j'],\n       ['a', 'j'],\n       ['e', 'j'],\n       ['e', 'j'],\n       ['e', 'j'],\n       ['e', 'j'],\n       ['e', 'j'],\n       ['a', 'j'],\n       ['a', 'f'],\n       ['e', 'f'],\n       ['e', 'f'],\n       ['e', 'f'],\n       ['e', 'j'],\n       ['e', 'j'],\n       ['e', 'j'],\n       ['a', 'j'],\n       ['a', 'j'],\n       ['a', 'j'],\n       ['a', 'j'],\n       ['a', 'j'],\n       ['a', 'j'],\n       ['e', 'j'],\n       ['a', 'j'],\n       ['a', 'j'],\n       ['a', 'j'],\n       ['a', 'j'],\n       ['a', 'j'],\n       ['a', 'j'],\n       ['e', 'j'],\n       ['e', 'j'],\n       ['e', 'f'],\n       ['a', 'f'],\n       ['b', 'f'],\n       ['c', 'f'],\n       ['a', 'f'],\n       ['a', 'f'],\n       ['a', 'f'],\n       ['e', 'f'],\n       ['e', 'f'],\n       ['e', 'f'],\n       ['e', 'j'],\n       ['d', 'j'],\n       ['d', 'f'],\n       ['d', 'f'],\n       ['d', 'f'],\n       ['e', 'f'],\n       ['a', 'f'],\n       ['a', 'f'],\n       ['a', 'f'],\n       ['a', 'f'],\n       ['a', 'f'],\n       ['a', 'j'],\n       ['a', 'f'],\n       ['a', 'f'],\n       ['a', 'f'],\n       ['a', 'f'],\n       ['d', 'j'],\n       ['d', 'j'],\n       ['d', 'j'],\n       ['d', 'j'],\n       ['d', 'f'],\n       ['d', 'f'],\n       ['d', 'f'],\n       ['d', 'f'],\n       ['d', 'j'],\n       ['d', 'j'],\n       ['d', 'f'],\n       ['d', 'f'],\n       ['d', 'f']], dtype=object)"
     },
     "execution_count": 46,
     "metadata": {},
     "output_type": "execute_result"
    }
   ],
   "source": [
    "# 这个数据是公共部分 需要转化为数字\n",
    "Commonhead = thedata[3:, 4:6]\n",
    "Commonhead"
   ],
   "metadata": {
    "collapsed": false,
    "pycharm": {
     "name": "#%%\n"
    }
   }
  },
  {
   "cell_type": "code",
   "execution_count": 47,
   "outputs": [
    {
     "data": {
      "text/plain": "array([[-1, 1],\n       [-1, 1],\n       [-1, 1],\n       [-1, 1],\n       [-1, 1],\n       [-1, 1],\n       [-1, 1],\n       [-1, 1],\n       [-1, 1],\n       [-1, 1],\n       [-1, 1],\n       [-1, 1],\n       [-1, 1],\n       [-1, 1],\n       [-1, 1],\n       [-1, 1],\n       [-1, 1],\n       [-1, 1],\n       [-1, 1],\n       [-1, 1],\n       [-1, 1],\n       [-1, 1],\n       [-1, 1],\n       [-1, 1],\n       [-1, 1],\n       [-1, 1],\n       [-1, 1],\n       [-1, 1],\n       [-1, 1],\n       [-1, 1],\n       [-1, 1],\n       [-1, 1],\n       [-1, 1],\n       [-1, 1],\n       [-1, 1],\n       [-1, 0],\n       [-1, 0],\n       [-1, 1],\n       [-1, 1],\n       [-1, 1],\n       [-1, 1],\n       [-1, 1],\n       [-1, 1],\n       [-1, 0],\n       [-1, 0],\n       [-1, 1],\n       [-1, 1],\n       [-1, 1],\n       [-1, 0],\n       [-1, 0],\n       [-1, 0],\n       [-1, 0],\n       [-1, 0],\n       [-1, 0],\n       [-1, 0],\n       [-1, 0],\n       [-1, 0],\n       [-1, 0],\n       [-1, 0],\n       [-1, 0],\n       [-1, 0],\n       [-1, 0],\n       [-1, 0],\n       [-1, 2],\n       [-1, 2],\n       [-1, 2],\n       [-1, 2],\n       [-1, 2],\n       [-1, 2],\n       [-1, 2],\n       [-1, 2],\n       [-1, 2],\n       [-1, 2],\n       [-1, 2],\n       [-1, 2],\n       [-1, 2],\n       [-1, 2],\n       [-1, 2],\n       [-1, 2],\n       [-1, 2],\n       [-1, 2],\n       [-1, 2],\n       [-1, 2],\n       [-1, 2],\n       [-1, 2],\n       [-1, 2],\n       [-1, 2],\n       [-1, 2],\n       [-1, 2],\n       [-1, 2],\n       [-1, 2],\n       [-1, 2],\n       [-1, 2],\n       [-1, 2],\n       [-1, 2],\n       [-1, 2],\n       [-1, 2],\n       [-1, 2],\n       [-1, 2],\n       [-1, 2],\n       [-1, 2],\n       [-1, 2],\n       [-1, 2],\n       [-1, 2],\n       [-1, 2],\n       [-1, 2],\n       [-1, 2],\n       [-1, 2],\n       [-1, 2],\n       [-1, 2],\n       [-1, 2],\n       [-1, 2],\n       [-1, 2],\n       [-1, 2],\n       [-1, 2],\n       [-1, 2],\n       [-1, 2],\n       [-1, 2],\n       [-1, 1],\n       [-1, 1],\n       [-1, 2],\n       [-1, 2],\n       [-1, 2],\n       [-1, 2],\n       [-1, 2],\n       [-1, 2],\n       [-1, 2],\n       [-1, 2],\n       [-1, 2],\n       [-1, 2],\n       [-1, 2],\n       [-1, 2],\n       [-1, 2],\n       [-1, 2],\n       [-1, 2],\n       [-1, 2],\n       [-1, 2],\n       [-1, 2],\n       [-1, 2],\n       [-1, 2],\n       [-1, 2],\n       [-1, 2],\n       [-1, 2],\n       [-1, 2],\n       [-1, 2],\n       [-1, 2],\n       [-1, 2],\n       [-1, 2],\n       [-1, 2],\n       [-1, 2],\n       [-1, 2],\n       [-1, 2],\n       [-1, 2],\n       [-1, 2],\n       [-1, 2],\n       [-1, 2],\n       [-1, 2],\n       [-1, 2],\n       [-1, 2],\n       [-1, 2],\n       [-1, 2],\n       [-1, 2],\n       [-1, 2],\n       [-1, -1],\n       [-1, 2],\n       [-1, -1],\n       [-1, -1],\n       [-1, -1],\n       [-1, -1],\n       [-1, -1],\n       [-1, -1],\n       [-1, 2],\n       [-1, 2],\n       [-1, 2],\n       [-1, 2],\n       [3, 2],\n       [3, 2],\n       [3, 2],\n       [3, 2],\n       [3, 2],\n       [3, 2],\n       [3, 2],\n       [-1, 2],\n       [-1, 2],\n       [-1, 2],\n       [3, 2],\n       [3, 2],\n       [-1, 2],\n       [-1, 2],\n       [-1, 2],\n       [-1, 2],\n       [-1, -1],\n       [-1, -1],\n       [3, -1],\n       [3, -1],\n       [3, -1],\n       [-1, -1],\n       [-1, -1],\n       [-1, 2],\n       [-1, 2],\n       [-1, 2],\n       [-1, 2],\n       [-1, 2],\n       [3, 2],\n       [3, 2],\n       [3, 2],\n       [3, 2],\n       [3, 2],\n       [-1, 2],\n       [-1, -1],\n       [3, -1],\n       [3, -1],\n       [3, -1],\n       [3, 2],\n       [3, 2],\n       [3, 2],\n       [-1, 2],\n       [-1, 2],\n       [-1, 2],\n       [-1, 2],\n       [-1, 2],\n       [-1, 2],\n       [3, 2],\n       [-1, 2],\n       [-1, 2],\n       [-1, 2],\n       [-1, 2],\n       [-1, 2],\n       [-1, 2],\n       [3, 2],\n       [3, 2],\n       [3, -1],\n       [-1, -1],\n       [0, -1],\n       [1, -1],\n       [-1, -1],\n       [-1, -1],\n       [-1, -1],\n       [3, -1],\n       [3, -1],\n       [3, -1],\n       [3, 2],\n       [2, 2],\n       [2, -1],\n       [2, -1],\n       [2, -1],\n       [3, -1],\n       [-1, -1],\n       [-1, -1],\n       [-1, -1],\n       [-1, -1],\n       [-1, -1],\n       [-1, 2],\n       [-1, -1],\n       [-1, -1],\n       [-1, -1],\n       [-1, -1],\n       [2, 2],\n       [2, 2],\n       [2, 2],\n       [2, 2],\n       [2, -1],\n       [2, -1],\n       [2, -1],\n       [2, -1],\n       [2, 2],\n       [2, 2],\n       [2, -1],\n       [2, -1],\n       [2, -1]], dtype=object)"
     },
     "execution_count": 47,
     "metadata": {},
     "output_type": "execute_result"
    }
   ],
   "source": [
    "# 处理带关键字的\n",
    "def convert_to_num(dealdata):\n",
    "    # 取出每一列的唯一值\n",
    "    unique_value = np.unique(dealdata)\n",
    "    index = -1\n",
    "    # 把关键字挨个处理\n",
    "    for i in unique_value:\n",
    "        dealdata = np.where(dealdata == f\"{i}\", index, dealdata)\n",
    "        index += 1\n",
    "    return dealdata\n",
    "\n",
    "\n",
    "# 替换的方法 取出第1列\n",
    "Commonhead[:, 0] = convert_to_num(Commonhead[:, 0])\n",
    "Commonhead[:, 1] = convert_to_num(Commonhead[:, 1])\n",
    "Commonhead"
   ],
   "metadata": {
    "collapsed": false,
    "pycharm": {
     "name": "#%%\n"
    }
   }
  },
  {
   "cell_type": "code",
   "execution_count": 48,
   "outputs": [
    {
     "data": {
      "text/plain": "array(['0', '0', '0', '0', '0', '0', '0', '0', '0', '0', '0', '0', '0',\n       '0', '0', '0', '0', '0', '0', '0', '0', '0', '0', '0', '0', '0',\n       '0', '0', '0', '0', '-1', '-1', '0', '0', '0', '0', '0', '0', '0',\n       '0', '0', '0', '1', '1', '1', '1', '1', '1', '1', '1', '1', '1',\n       '1', '0', '0', '-1', '-1', '-1', '0', '-1', '-1', '-1', '0', '-1',\n       '-1', '0', '0', '1', '1', '1', '1', '1', '1', '-1', '1', '1', '-1',\n       '1', '1', '-1', '-1', '-1', '-1', '-1', '1', '1', '1', '1', '1',\n       '1', '1', '1', '1', '1', '1', '1', '1', '1', '1', '1', '1', '1',\n       '1', '1', '1', '1', '1', '1', '1', '1', '1', '0', '1', '1', '1',\n       '1', '1', '1', '1', '0', '1', '1', '1', '1', '1', '1', '1', '1',\n       '1', '1', '1', '1', '1', '1', '1', '1', '1', '1', '1', '1', '1',\n       '1', '1', '1', '1', '1', '1', '1', '1', '1', '1', '1', '1', '1',\n       '1', '1', '1', '1', '1', '1', '1', '1', '1', '1', '1', '1', '1',\n       '1', '1', '1', '1', '1', '1', '1', '1', '1', '1', '1', '1', '1',\n       '1', '1', '1', '1', '1', '1', '1', '1', '1', '1', '1', '1', '1',\n       '1', '1', '1', '-1', '-1', '1', '1', '1', '1', '1', '1', '1', '1',\n       '1', '1', '-1', '1', '1', '1', '1', '1', '1', '1', '1', '1', '1',\n       '1', '1', '1', '1', '1', '1', '1', '1', '1', '1', '1', '1', '1',\n       '1', '1', '1', '1', '1', '1', '1', '-1', '-1', '1', '1', '1', '1',\n       '1', '1', '1', '1', '1', '1', '1', '1', '1', '1', '1', '1', '1',\n       '1', '1', '1', '1', '1', '1', '1', '1', '1', '1', '1', '1'],\n      dtype=object)"
     },
     "execution_count": 48,
     "metadata": {},
     "output_type": "execute_result"
    }
   ],
   "source": [
    "TABLE_ONE = thedata[3:, 6:19]\n",
    "# 这个地方必须转成字符串  .astype(str)\n",
    "TABLE_ONE[:, 12] = convert_to_num(TABLE_ONE[:, 12].astype(str))\n",
    "TABLE_ONE[:, 12]"
   ],
   "metadata": {
    "collapsed": false,
    "pycharm": {
     "name": "#%%\n"
    }
   }
  },
  {
   "cell_type": "code",
   "execution_count": 49,
   "outputs": [],
   "source": [
    "TABLE_ONE = thedata[3:, 6:19]\n",
    "# 处理掉汉字\n",
    "TABLE_ONE[:, 12] = convert_to_num(TABLE_ONE[:, 12].astype(str))\n",
    "TABLE_TWO = thedata[3:, 19:23]"
   ],
   "metadata": {
    "collapsed": false,
    "pycharm": {
     "name": "#%%\n"
    }
   }
  },
  {
   "cell_type": "code",
   "execution_count": 50,
   "outputs": [
    {
     "data": {
      "text/plain": "array([[nan, nan, 2.2134, ..., -0.42138, 2.33126, 0.0133],\n       [nan, nan, 2.2134, ..., -0.42138, 2.33126, 0.0133],\n       [nan, nan, 0.72748, ..., -0.42138, 2.33126, 0.0133],\n       ...,\n       [-0.45089, 0.2917, -0.01548, ..., -0.42138, 0.89677, 0.0133],\n       [-0.32033, 0.5073, -0.01548, ..., -0.42138, 0.89677, 0.0133],\n       [-0.32033, 0.184, -0.01548, ..., -0.42138, 0.89677, 0.0133]],\n      dtype=object)"
     },
     "execution_count": 50,
     "metadata": {},
     "output_type": "execute_result"
    }
   ],
   "source": [
    "tempXdata = np.column_stack((TABLE_ONE, TABLE_TWO))\n",
    "tempXdata"
   ],
   "metadata": {
    "collapsed": false,
    "pycharm": {
     "name": "#%%\n"
    }
   }
  },
  {
   "cell_type": "code",
   "execution_count": 51,
   "outputs": [],
   "source": [
    "# 先判断缺失数据的的条件 这个以百分之70为基准\n",
    "def Del_deletion_data(datavalue, flag):\n",
    "    # 删除缺失值过多的列\n",
    "    if flag == 1:\n",
    "        del_cols = []\n",
    "        # 先拿到元数据的长度\n",
    "        baseLength = datavalue.shape[0]\n",
    "        # 这个 用来保存需要删除的列\n",
    "        iterLength = datavalue.shape[1]\n",
    "        for i in range(iterLength):\n",
    "            temp = []\n",
    "            temp = np.where(np.isnan(datavalue[:, i].astype(float)) == True)[0].tolist() + temp\n",
    "            # print(temp)\n",
    "            # 用集合去重\n",
    "            c = set(temp)\n",
    "            # 计算缺失的总行数\n",
    "            lack_of_rows = len(c)\n",
    "            if lack_of_rows > 0.3 * baseLength:\n",
    "                del_cols.append(i)\n",
    "                # print(datavalue)\n",
    "        # flag是1则删除列，如果是0则删除行\n",
    "        final_data = np.delete(datavalue, del_cols, axis=flag)\n",
    "        # elif flag == 0:\n",
    "        #     del_raws=[]+temp\n",
    "    # 删除含有缺失值的行\n",
    "    elif flag == 0:\n",
    "        # 筛选出含有缺失值的行，用set去重\n",
    "        del_raws=set(np.where(np.isnan(datavalue.astype(float)) == True)[0].tolist())\n",
    "        del_raws=list(del_raws)\n",
    "        final_data = np.delete(datavalue, del_raws, axis=flag)\n",
    "    return final_data"
   ],
   "metadata": {
    "collapsed": false,
    "pycharm": {
     "name": "#%%\n"
    }
   }
  },
  {
   "cell_type": "code",
   "execution_count": 52,
   "outputs": [
    {
     "data": {
      "text/plain": "array([[2.2134, -1.07136, 0.11031, ..., -0.42138, 2.33126, 0.0133],\n       [2.2134, -1.07136, 0.46461, ..., -0.42138, 2.33126, 0.0133],\n       [0.72748, 0.44016, -1.66119, ..., -0.42138, 2.33126, 0.0133],\n       ...,\n       [-0.01548, -0.16445, 0.28746, ..., -0.42138, 0.89677, 0.0133],\n       [-0.01548, -0.16445, 0.37603, ..., -0.42138, 0.89677, 0.0133],\n       [-0.01548, -0.16445, 0.55318, ..., -0.42138, 0.89677, 0.0133]],\n      dtype=object)"
     },
     "execution_count": 52,
     "metadata": {},
     "output_type": "execute_result"
    }
   ],
   "source": [
    "# 删除部分的缺失值过多的列\n",
    "base_Xdata = Del_deletion_data(tempXdata, 1)\n",
    "base_Xdata"
   ],
   "metadata": {
    "collapsed": false,
    "pycharm": {
     "name": "#%%\n"
    }
   }
  },
  {
   "cell_type": "code",
   "execution_count": 53,
   "outputs": [
    {
     "data": {
      "text/plain": "array([[nan, nan, nan, ..., nan, nan, nan],\n       [nan, nan, nan, ..., nan, nan, nan],\n       [nan, nan, nan, ..., nan, nan, nan],\n       ...,\n       [nan, nan, nan, ..., nan, nan, nan],\n       [nan, nan, nan, ..., nan, nan, nan],\n       [nan, nan, nan, ..., nan, nan, nan]], dtype=object)"
     },
     "execution_count": 53,
     "metadata": {},
     "output_type": "execute_result"
    }
   ],
   "source": [
    "# 将Y取出来，然后取出缺失值过多的列\n",
    "Original_Ydata = thedata[3:, 23:61]\n",
    "Original_Ydata"
   ],
   "metadata": {
    "collapsed": false,
    "pycharm": {
     "name": "#%%\n"
    }
   }
  },
  {
   "cell_type": "code",
   "execution_count": 54,
   "outputs": [
    {
     "data": {
      "text/plain": "array([[nan, nan, nan, ..., nan, nan, nan],\n       [nan, nan, nan, ..., nan, nan, nan],\n       [nan, nan, nan, ..., nan, nan, nan],\n       ...,\n       [nan, nan, nan, ..., nan, nan, nan],\n       [nan, nan, nan, ..., nan, nan, nan],\n       [nan, nan, nan, ..., -0.56921, -0.17836, -0.46192]], dtype=object)"
     },
     "execution_count": 54,
     "metadata": {},
     "output_type": "execute_result"
    }
   ],
   "source": [
    "pred_Ydata = Preddata[3:, 23:61]\n",
    "pred_Ydata"
   ],
   "metadata": {
    "collapsed": false,
    "pycharm": {
     "name": "#%%\n"
    }
   }
  },
  {
   "cell_type": "code",
   "execution_count": 55,
   "outputs": [
    {
     "data": {
      "text/plain": "[8, 9, 10, 11, 12, 13, 14, 15, 16, 17, 18, 19, 20, 21, 22, 23]"
     },
     "execution_count": 55,
     "metadata": {},
     "output_type": "execute_result"
    }
   ],
   "source": [
    "# 将 数据比较一下:① 必须是两边都有的数据才可以进行预测或者建模，②数据量必须是超过70%\n",
    "def Record_usable_cols(datavalue):\n",
    "    # 先拿到元数据的长度\n",
    "    baseLength = datavalue.shape[0]\n",
    "    iterLength = datavalue.shape[1]\n",
    "    # 这个 用来保存需要删除的列\n",
    "    del_cols = []\n",
    "    for i in range(iterLength):\n",
    "        temp = []\n",
    "        # 根据缺失值，将索引存到列表中\n",
    "        temp = np.where(np.isnan(datavalue[:, i].astype(float)) == True)[0].tolist() + temp\n",
    "        # print(temp)\n",
    "        # 用集合去重\n",
    "        c = set(temp)\n",
    "        # 计算缺失的总行数\n",
    "        lack_of_rows = len(c)\n",
    "        if (lack_of_rows < 0.3 * baseLength):\n",
    "            del_cols.append(i)\n",
    "            # print(datavalue)\n",
    "    return del_cols\n",
    "\n",
    "# 将两个数据的能用的列合并\n",
    "Original_Ydata_usableCols = Record_usable_cols(Original_Ydata)\n",
    "pred_Ydata_usableCols = Record_usable_cols(pred_Ydata)\n",
    "final_cols = list(set(Original_Ydata_usableCols + pred_Ydata_usableCols))\n",
    "# 这个里面的内容可以用来建模与预测\n",
    "final_cols"
   ],
   "metadata": {
    "collapsed": false,
    "pycharm": {
     "name": "#%%\n"
    }
   }
  },
  {
   "cell_type": "code",
   "execution_count": 56,
   "outputs": [
    {
     "data": {
      "text/plain": "array([0.8798, -1.29384, -1.36073, -1.2107, -1.28946, -1.29447, -1.29196,\n       -1.28571, -1.29196, -1.29321, -1.29009, -1.29071, -1.29196,\n       -1.29509, -1.28821, -1.28571, -1.29134, -1.2107, -1.29134,\n       -1.28571, -1.21132, -1.2107, -1.28509, -1.29009, -1.29196,\n       -1.29822, -1.29572, -1.29509, -1.29447, -1.28884, -1.29196,\n       -1.28696, -1.21007, -1.28509, -1.29634, -1.29196, -1.29196,\n       -1.29071, -1.29634, -1.28884, -1.2107, -1.2107, 0.83354, -1.29196,\n       -1.28634, -1.29697, -1.35448, -1.28571, -1.29447, -1.29196,\n       -1.29822, -1.29822, 0.79603, -1.29009, -1.29634, 0.82104, 0.80041,\n       -1.29572, -1.3251, -1.29009, -1.29196, 1.1061, -1.29196, -1.29697,\n       -1.29822, -1.29447, -1.29196, -1.29634, -1.29572, -1.29634,\n       -1.29697, nan, nan, nan, nan, nan, nan, nan, nan, nan, nan, nan,\n       nan, nan, -1.22882, -1.29196, -1.2307, -1.29509, -1.29321,\n       -1.29447, -1.29196, -1.29196, 0.74602, 0.74664, 0.74664, 0.52097,\n       0.74664, 0.74852, 0.74727, 0.74789, 0.74602, -1.29509, -1.29572,\n       0.53409, 0.74727, -1.29509, -1.22945, 0.74789, -1.29572, -1.29384,\n       -1.2282, -1.34948, -1.23008, 0.74852, -1.22945, -1.23008, -1.29196,\n       0.75227, 0.75227, -1.29572, -1.2307, -1.29259, 0.74789, -1.29196,\n       -1.23008, -1.2307, 0.74789, -1.23008, -1.29071, 0.74852, 0.74602,\n       -1.19319, 0.75165, -1.29509, -1.29509, -1.2282, -1.29447, -1.23008,\n       0.74664, 0.74727, 0.74602, -1.55203, -1.29384, -1.29321, -1.22445,\n       -1.29384, 0.74602, -1.29447, -1.32447, 0.74914, 0.74914, -1.29384,\n       -1.15381, -1.23008, 0.74789, -1.29447, 0.74789, -1.34948, -1.38574,\n       0.74852, -1.40199, -1.44825, -1.27071, -1.22945, -1.22695,\n       -1.22382, 0.74852, 0.74789, 0.74914, 0.74727, 0.45845, -1.15443,\n       -1.29384, -1.29259, -1.2282, 0.74602, 0.74977, 0.74602, 0.4722,\n       0.74914, 0.75039, 0.75352, 0.74914, 0.74664, 0.45783, 0.74789,\n       0.75352, 0.74664, 0.4522, 0.74977, -1.2232, -1.29572, 0.48658,\n       0.74852, 0.74914, 0.74852, 0.74789, 0.46033, -1.23008, -1.22945,\n       -1.29384, -1.15443, 0.74852, 0.74664, 0.74914, 0.75039, 0.75227,\n       0.74727, 0.74789, 0.75165, 0.4522, 0.74664, 0.75102, 0.4697,\n       0.74914, 0.74602, 0.74727, 0.74602, 0.45845, 0.74789, 0.74977,\n       0.74602, 0.75665, 0.7529, 0.74977, 0.74602, 0.75477, 0.75039,\n       0.75165, 0.74852, 0.75477, 0.75415, 0.75039, 0.75039, 0.74727,\n       0.74914, 0.74852, 0.74852, 0.75102, 0.74477, 0.74602, 0.75415,\n       0.74914, 0.75352, 0.75852, 0.75352, 1.09048, 0.74789, 0.75102,\n       0.75415, 0.75352, 0.75102, 0.74852, 0.4522, 0.74789, 0.47158,\n       -1.29509, 0.7754, 0.7679, 0.75665, 0.75227, 0.75039, 0.75352,\n       0.74852, 0.75227, 0.75665, 0.7554, 0.74977, 0.75415, 0.75227],\n      dtype=object)"
     },
     "execution_count": 56,
     "metadata": {},
     "output_type": "execute_result"
    }
   ],
   "source": [
    "# 取出Y_data 元数据\n",
    "Y_data = Original_Ydata[:, final_cols[0]]\n",
    "Y_data\n",
    "# 将Y的内容排序,然后分成-1，0，1\n",
    "# Y_data.tolist()\n",
    "# Y_data.sort()"
   ],
   "metadata": {
    "collapsed": false,
    "pycharm": {
     "name": "#%%\n"
    }
   }
  },
  {
   "cell_type": "code",
   "execution_count": 57,
   "outputs": [
    {
     "data": {
      "text/plain": "array([0.8798, -1.29384, -1.36073, -1.2107, -1.28946, -1.29447, -1.29196,\n       -1.28571, -1.29196, -1.29321, -1.29009, -1.29071, -1.29196,\n       -1.29509, -1.28821, -1.28571, -1.29134, -1.2107, -1.29134,\n       -1.28571, -1.21132, -1.2107, -1.28509, -1.29009, -1.29196,\n       -1.29822, -1.29572, -1.29509, -1.29447, -1.28884, -1.21007,\n       -1.28509, -1.29634, -1.29196, -1.29196, -1.29071, -1.29634,\n       -1.28884, -1.2107, -1.2107, 0.83354, -1.29196, -1.28634, -1.29697,\n       -1.35448, -1.28571, -1.29447, -1.29196, -1.29822, -1.29822,\n       0.79603, -1.29009, -1.29634, 0.80041, -1.29572, -1.3251, -1.29009,\n       -1.29196, 1.1061, -1.29196, -1.29697, -1.29822, -1.29447, -1.29196,\n       -1.29634, -1.29572, -1.29634, -1.29697, -1.22882, -1.29196,\n       -1.2307, -1.29509, -1.29321, -1.29447, -1.29196, -1.29196, 0.74602,\n       0.74664, 0.74664, 0.52097, 0.74664, 0.74852, 0.74727, 0.74789,\n       0.74602, -1.29509, -1.29572, 0.53409, 0.74727, -1.29509, -1.22945,\n       0.74789, -1.29572, -1.29384, -1.2282, -1.34948, -1.23008, 0.74852,\n       -1.22945, -1.23008, -1.29196, 0.75227, 0.75227, -1.29572, -1.2307,\n       -1.29259, 0.74789, -1.29196, -1.23008, -1.2307, 0.74789, -1.23008,\n       -1.29071, 0.74852, 0.74602, -1.19319, 0.75165, -1.29509, -1.29509,\n       -1.2282, -1.29447, -1.23008, 0.74664, 0.74727, 0.74602, -1.55203,\n       -1.29384, -1.29321, -1.22445, -1.29384, 0.74602, -1.29447,\n       -1.32447, 0.74914, 0.74914, -1.29384, -1.15381, -1.23008, 0.74789,\n       -1.29447, 0.74789, -1.34948, -1.38574, 0.74852, -1.40199, -1.44825,\n       -1.27071, -1.22945, -1.22695, -1.22382, 0.74852, 0.74789, 0.74914,\n       0.74727, 0.45845, -1.15443, -1.29384, -1.29259, -1.2282, 0.74602,\n       0.74977, 0.74602, 0.4722, 0.74914, 0.75039, 0.75352, 0.74914,\n       0.74664, 0.45783, 0.74789, 0.75352, 0.74664, 0.4522, 0.74977,\n       -1.2232, -1.29572, 0.48658, 0.74852, 0.74914, 0.74852, -1.23008,\n       -1.22945, -1.29384, -1.15443, 0.74852, 0.74664, 0.74914, 0.75039,\n       0.75227, 0.74727, 0.75165, 0.4522, 0.74664, 0.75102, 0.4697,\n       0.74914, 0.74602, 0.74727, 0.74602, 0.45845, 0.74789, 0.74977,\n       0.74602, 0.75665, 0.7529, 0.74977, 0.74602, 0.75477, 0.75039,\n       0.75165, 0.74852, 0.75477, 0.75415, 0.75039, 0.75039, 0.74727,\n       0.74914, 0.74852, 0.74852, 0.75102, 0.75415, 0.74914, 0.75352,\n       0.75852, 0.75352, 1.09048, 0.74789, 0.75102, 0.75415, 0.75352,\n       0.75102, 0.74852, 0.4522, 0.74789, 0.47158, -1.29509, 0.7754,\n       0.7679, 0.75665, 0.75227, 0.75039, 0.75352, 0.74852, 0.75227,\n       0.75665, 0.7554, 0.74977, 0.75415, 0.75227], dtype=object)"
     },
     "execution_count": 57,
     "metadata": {},
     "output_type": "execute_result"
    }
   ],
   "source": [
    "# 将数据合并，然后将数据缺失值删除整行，然后拆分开\n",
    "# 将 Commonhead,base_Xdata,Y_data\n",
    "temp_data = np.column_stack((Commonhead, base_Xdata, Y_data))\n",
    "# 删除缺失的行\n",
    "temp_data = Del_deletion_data(temp_data, 0)\n",
    "X_data = temp_data[:,:-1]\n",
    "Y_data = temp_data[:,-1]\n",
    "Y_data"
   ],
   "metadata": {
    "collapsed": false,
    "pycharm": {
     "name": "#%%\n"
    }
   }
  },
  {
   "cell_type": "code",
   "execution_count": 86,
   "outputs": [
    {
     "data": {
      "text/plain": "array([[-1, 1, 2.2134, ..., -0.42138, 2.33126, 0.0133],\n       [-1, 1, 2.2134, ..., -0.42138, 2.33126, 0.0133],\n       [-1, 1, 0.72748, ..., -0.42138, 2.33126, 0.0133],\n       ...,\n       [2, -1, -0.01548, ..., -0.42138, 0.89677, 0.0133],\n       [2, -1, -0.01548, ..., -0.42138, 0.89677, 0.0133],\n       [2, -1, -0.01548, ..., -0.42138, 0.89677, 0.0133]], dtype=object)"
     },
     "execution_count": 86,
     "metadata": {},
     "output_type": "execute_result"
    }
   ],
   "source": [
    "X_data"
   ],
   "metadata": {
    "collapsed": false,
    "pycharm": {
     "name": "#%%\n"
    }
   }
  },
  {
   "cell_type": "code",
   "execution_count": 58,
   "outputs": [
    {
     "data": {
      "text/plain": "[]"
     },
     "execution_count": 58,
     "metadata": {},
     "output_type": "execute_result"
    }
   ],
   "source": [
    "# 检验一下是否将所有的空值删除完毕，这个地方是用来做验证的 返回为空列表则删除成功！\n",
    "list(set(np.where(np.isnan(temp_data.astype(float)) == True)[0].tolist()))"
   ],
   "metadata": {
    "collapsed": false,
    "pycharm": {
     "name": "#%%\n"
    }
   }
  },
  {
   "cell_type": "code",
   "execution_count": 77,
   "outputs": [],
   "source": [
    "'''\n",
    "    import numpy as np\n",
    "    arr = np.array([2, 1, 3, 5, 2, 44, 11])\n",
    "    # print('原来顺序：', arr)\n",
    "    # argsort是用来排序，会将里面内容按照从大到小给出索引，取反就是从小到大了\n",
    "    order = np.argsort(-arr)\n",
    "    # 创建一个全零的形状和原数组一样\n",
    "    recovery_arr = np.zeros_like(arr)\n",
    "    for idx, num in enumerate(arr):\n",
    "        recovery_arr[order[idx]] = num\n",
    "'''\n",
    "# 更改Y_data的为-1 0 1\n",
    "def Deal_sorted_Ydata(data):\n",
    "    # 用来记录原顺序的数组，取反\n",
    "    order = np.argsort(-data)\n",
    "    data=sorted(data)\n",
    "    # sorted返回的是数组类型，这个地方需要转成ndarray\n",
    "    data=np.array(data)\n",
    "    # 根据5%为1，中间90%为0，后5%为-1\n",
    "    data_length=data.shape[0]\n",
    "    data[0:int(data_length*0.05)]=1\n",
    "    data[int(data_length*0.05):int(data_length*0.95)]=0\n",
    "    data[int(data_length*0.95):]=-1\n",
    "    # 恢复原来的顺序\n",
    "    recovery_arr = np.zeros_like(data)\n",
    "    for idx, num in enumerate(data):\n",
    "        recovery_arr[order[idx]] = num\n",
    "    return recovery_arr"
   ],
   "metadata": {
    "collapsed": false,
    "pycharm": {
     "name": "#%%\n"
    }
   }
  },
  {
   "cell_type": "code",
   "execution_count": null,
   "outputs": [],
   "source": [
    "'''\n",
    "    from copy import copy\n",
    "    Y_data_sec=copy(Y_data)\n",
    "    Y_data_sec=Deal_sorted_Ydata(Y_data_sec)\n",
    "    Y_data_sec\n",
    "'''"
   ],
   "metadata": {
    "collapsed": false,
    "pycharm": {
     "name": "#%%\n"
    }
   }
  },
  {
   "cell_type": "code",
   "execution_count": 87,
   "outputs": [
    {
     "data": {
      "text/plain": "array([ 1.,  0., -1.,  0.,  0.,  0.,  0.,  0.,  0.,  0.,  0.,  0.,  0.,\n        0.,  0.,  0.,  0.,  0.,  0.,  0.,  0.,  0.,  0.,  0.,  0., -1.,\n        0.,  0.,  0.,  0.,  0.,  0.,  0.,  0.,  0.,  0.,  0.,  0.,  0.,\n        0.,  1.,  0.,  0.,  0., -1.,  0.,  0.,  0., -1.,  0.,  1.,  0.,\n        0.,  1.,  0., -1.,  0.,  0.,  1.,  0.,  0., -1.,  0.,  0.,  0.,\n        0.,  0.,  0.,  0.,  0.,  0.,  0.,  0.,  0.,  0.,  0.,  0.,  0.,\n        0.,  0.,  0.,  0.,  0.,  0.,  0.,  0.,  0.,  0.,  0.,  0.,  0.,\n        0.,  0.,  0.,  0., -1.,  0.,  0.,  0.,  0.,  0.,  0.,  0.,  0.,\n        0.,  0.,  0.,  0.,  0.,  0.,  0.,  0.,  0.,  0.,  0.,  0.,  0.,\n        0.,  0.,  0.,  0.,  0.,  0.,  0.,  0., -1.,  0.,  0.,  0.,  0.,\n        0.,  0., -1.,  0.,  0.,  0.,  0.,  0.,  0.,  0.,  0., -1., -1.,\n        0., -1., -1.,  0.,  0.,  0.,  0.,  0.,  0.,  0.,  0.,  0.,  0.,\n        0.,  0.,  0.,  0.,  0.,  0.,  0.,  0.,  0.,  0.,  0.,  0.,  0.,\n        0.,  0.,  0.,  0.,  0.,  0.,  0.,  0.,  0.,  0.,  0.,  0.,  0.,\n        0.,  0.,  0.,  0.,  0.,  0.,  0.,  0.,  0.,  0.,  0.,  0.,  0.,\n        0.,  0.,  0.,  0.,  0.,  0.,  0.,  0.,  1.,  0.,  0.,  0.,  0.,\n        0.,  0.,  0.,  0.,  0.,  0.,  0.,  0.,  0.,  0.,  0.,  0.,  0.,\n        0.,  0.,  1.,  0.,  1.,  0.,  0.,  0.,  0.,  0.,  0.,  0.,  0.,\n        0.,  0.,  1.,  1.,  1.,  0.,  0.,  0.,  0.,  0.,  1.,  0.,  0.,\n        0.,  0.])"
     },
     "execution_count": 87,
     "metadata": {},
     "output_type": "execute_result"
    }
   ],
   "source": [
    "Y_data=Deal_sorted_Ydata(Y_data)\n",
    "Y_data"
   ],
   "metadata": {
    "collapsed": false,
    "pycharm": {
     "name": "#%%\n"
    }
   }
  },
  {
   "cell_type": "code",
   "execution_count": 106,
   "outputs": [],
   "source": [
    "# 切分训练数据和测试数据\n",
    "from sklearn.model_selection import train_test_split\n",
    "\n",
    "## 30%测试数据，70%训练数据，stratify=y表示训练数据和测试数据具有相同的类别比例\n",
    "X_train, X_test, y_train, y_test = train_test_split(X_data, Y_data, test_size=0.3)\n",
    "# 开始训练模型\n",
    "from sklearn.metrics import r2_score\n",
    "from sklearn.ensemble import RandomForestClassifier, GradientBoostingClassifier\n",
    "\n",
    "# 开始训练模型 采取随机森林测试\n",
    "# 获取模型  随机森林\n",
    "Rfc=RandomForestClassifier(max_depth=15)\n",
    "# 梯度提升树\n",
    "Gbc=GradientBoostingClassifier(max_depth=15)"
   ],
   "metadata": {
    "collapsed": false,
    "pycharm": {
     "name": "#%%\n"
    }
   }
  },
  {
   "cell_type": "code",
   "execution_count": 91,
   "outputs": [
    {
     "name": "stdout",
     "output_type": "stream",
     "text": [
      "1.0\n",
      "1.0\n"
     ]
    }
   ],
   "source": [
    "'''\n",
    "  # 训练模型\n",
    "    Rfc.fit(X_data, Y_data.astype(int).astype(float))\n",
    "    Gbc.fit(X_data, Y_data.astype(int).astype(float))\n",
    "    y_1 = Rfc.predict(X_data)\n",
    "    y_2 = Gbc.predict(X_data)\n",
    "    # 预测结果，用的 r2_score\n",
    "    #计算拟合的结果（测试集的）\n",
    "    y1_score=r2_score(Y_data,y_1)\n",
    "    y2_score=r2_score(Y_data,y_2)\n",
    "    print(y1_score)\n",
    "    print(y2_score)\n",
    "    直接过拟合，结果为1\n",
    "'''"
   ],
   "metadata": {
    "collapsed": false,
    "pycharm": {
     "name": "#%%\n"
    }
   }
  },
  {
   "cell_type": "code",
   "execution_count": 107,
   "outputs": [
    {
     "data": {
      "text/plain": "(array([[3, -1, -0.01548, ..., -0.42138, -0.89635, 0.0133],\n        [3, 2, 1.47044, ..., -0.42138, -0.89635, 0.0133],\n        [-1, 2, -1.5014, ..., 1.55866, 0.00021, 0.0133],\n        ...,\n        [3, 2, -0.01548, ..., -0.42138, -0.89635, 0.0133],\n        [-1, 2, -1.5014, ..., -0.42138, 1.79333, 0.0133],\n        [-1, -1, -0.01548, ..., -0.42138, 1.34505, 0.0133]], dtype=object),\n array([[-1, -1, -0.01548, ..., -0.42138, 0.89677, 0.0133],\n        [-1, -1, -0.01548, ..., 1.55866, 0.89677, 0.0133],\n        [3, -1, -0.01548, ..., -0.42138, -0.89635, 0.0133],\n        ...,\n        [-1, 2, -0.01548, ..., -0.42138, 0.89677, 0.0133],\n        [-1, 2, -1.5014, ..., -0.42138, 0.00021, 0.0133],\n        [3, 2, 0.72748, ..., -0.42138, -0.89635, 0.0133]], dtype=object),\n array([ 0.,  0.,  0.,  0.,  0.,  1.,  0.,  0.,  0., -1.,  0.,  0.,  0.,\n         0.,  0.,  0.,  0.,  0.,  0.,  0.,  0.,  0.,  0.,  0.,  0.,  0.,\n         0.,  0.,  0., -1.,  0.,  0.,  0.,  0.,  0.,  0.,  0.,  0.,  1.,\n         0.,  0.,  0.,  0.,  0.,  0.,  0.,  0.,  0.,  1.,  0.,  0.,  0.,\n         0.,  0.,  0., -1.,  0.,  0., -1.,  0.,  0.,  0.,  0.,  0.,  0.,\n        -1.,  0.,  0.,  0.,  1.,  0.,  0.,  0.,  0., -1.,  0.,  0.,  0.,\n         0.,  1.,  0., -1.,  0.,  0.,  0.,  0.,  0.,  0.,  0.,  0., -1.,\n         0.,  0.,  0.,  0.,  0.,  0.,  1.,  0.,  0.,  0.,  0.,  0.,  0.,\n        -1.,  0.,  0.,  0.,  0.,  0.,  0.,  0.,  0.,  1.,  0.,  0.,  0.,\n         0.,  0.,  1.,  0.,  0.,  0.,  0.,  0.,  0.,  0.,  0.,  0.,  0.,\n         0.,  0.,  0.,  0.,  0.,  0.,  0.,  0.,  0.,  0.,  0., -1.,  0.,\n         0.,  0.,  0.,  0.,  0.,  0.,  0.,  0.,  0.,  0.,  0.,  0.,  0.,\n         0.,  1.,  0.,  0.,  0., -1.,  0.,  0.,  0.,  0.,  0.,  0.,  0.,\n         0.,  0.,  0.,  0.,  0.]),\n array([ 0.,  0.,  0.,  0.,  0.,  0.,  0.,  0.,  0.,  0.,  0.,  0.,  0.,\n         0.,  0.,  0.,  0.,  0.,  0.,  0.,  0., -1.,  0.,  0.,  0.,  0.,\n         0.,  0.,  0.,  0.,  0.,  0.,  0.,  0.,  0.,  0.,  1., -1.,  0.,\n         0.,  0.,  0.,  0.,  0.,  0.,  0.,  0.,  0.,  0.,  0.,  0.,  0.,\n         0.,  0.,  0.,  0.,  0.,  0.,  1.,  0.,  0.,  0.,  0.,  1.,  0.,\n         0.,  0.,  0.,  0.,  0.,  0.,  0.,  0.,  0.,  0.]))"
     },
     "execution_count": 107,
     "metadata": {},
     "output_type": "execute_result"
    }
   ],
   "source": [
    "X_train, X_test, y_train, y_test"
   ],
   "metadata": {
    "collapsed": false,
    "pycharm": {
     "name": "#%%\n"
    }
   }
  },
  {
   "cell_type": "code",
   "execution_count": 119,
   "outputs": [],
   "source": [
    "# 训练模型\n",
    "Rfc.fit(X_train, y_train)\n",
    "Gbc.fit(X_train, y_train)\n",
    "y_1 = Rfc.predict(X_test)\n",
    "y_2 = Gbc.predict(X_test)"
   ],
   "metadata": {
    "collapsed": false,
    "pycharm": {
     "name": "#%%\n"
    }
   }
  },
  {
   "cell_type": "code",
   "execution_count": 133,
   "outputs": [
    {
     "name": "stdout",
     "output_type": "stream",
     "text": [
      "0.9333333333333333\n",
      "0.9066666666666666\n"
     ]
    }
   ],
   "source": [
    "from sklearn.metrics import accuracy_score\n",
    "# 预测结果，用的 r2_score 这个不能用r2，会出问题，这个地方使用准确率更好\n",
    "#计算拟合的结果（测试集的）\n",
    "y1_score=accuracy_score(y_test,y_1)\n",
    "y2_score=accuracy_score(y_test,y_2)\n",
    "print(y1_score)\n",
    "print(y2_score)"
   ],
   "metadata": {
    "collapsed": false,
    "pycharm": {
     "name": "#%%\n"
    }
   }
  },
  {
   "cell_type": "code",
   "execution_count": 127,
   "outputs": [
    {
     "data": {
      "text/plain": "array([[ 0.,  0.,  0.,  0.,  0.,  0.,  0.,  0.,  0.,  0.,  0.,  0.,  0.,\n         0.,  0.,  0.,  0.,  0.,  0.,  0.,  0.,  0.,  0.,  0.,  0.,  0.,\n         0.,  0.,  0.,  0.,  0.,  0.,  0.,  0.,  0.,  0.,  0.,  0.,  0.,\n         0.,  0.,  0.,  0.,  0.,  0.,  0.,  0.,  0.,  0.,  0.,  0.,  0.,\n         0.,  0.,  0.,  0.,  0.,  0.,  0.,  0.,  0.,  0.,  0.,  0.,  0.,\n         0.,  0.,  0.,  0.,  0.,  0.,  0.,  0.,  0.,  0.],\n       [ 0.,  0.,  0.,  0.,  0.,  0.,  0.,  0.,  0.,  0.,  0.,  0.,  0.,\n         0.,  0.,  0.,  0.,  0.,  0.,  0.,  0., -1.,  0.,  0.,  0.,  0.,\n         0.,  0.,  0.,  0.,  0.,  0.,  0.,  0.,  0.,  0.,  1., -1.,  0.,\n         0.,  0.,  0.,  0.,  0.,  0.,  0.,  0.,  0.,  0.,  0.,  0.,  0.,\n         0.,  0.,  0.,  0.,  0.,  0.,  1.,  0.,  0.,  0.,  0.,  1.,  0.,\n         0.,  0.,  0.,  0.,  0.,  0.,  0.,  0.,  0.,  0.]])"
     },
     "execution_count": 127,
     "metadata": {},
     "output_type": "execute_result"
    }
   ],
   "source": [
    "np.array([y_1.tolist(),y_test.tolist()])"
   ],
   "metadata": {
    "collapsed": false,
    "pycharm": {
     "name": "#%%\n"
    }
   }
  },
  {
   "cell_type": "code",
   "execution_count": 117,
   "outputs": [
    {
     "data": {
      "text/plain": "0.9333333333333333"
     },
     "execution_count": 117,
     "metadata": {},
     "output_type": "execute_result"
    }
   ],
   "source": [
    "k=0\n",
    "for i in range(y_1.shape[0]):\n",
    "    if y_test[i]==y_1[i]:\n",
    "        k+=1\n",
    "k/y_test.shape[0]"
   ],
   "metadata": {
    "collapsed": false,
    "pycharm": {
     "name": "#%%\n"
    }
   }
  },
  {
   "cell_type": "code",
   "execution_count": 131,
   "outputs": [
    {
     "data": {
      "text/plain": "0.0"
     },
     "execution_count": 131,
     "metadata": {},
     "output_type": "execute_result"
    }
   ],
   "source": [
    "r2_score([1,1],[1,2])"
   ],
   "metadata": {
    "collapsed": false,
    "pycharm": {
     "name": "#%%\n"
    }
   }
  },
  {
   "cell_type": "code",
   "execution_count": null,
   "outputs": [],
   "source": [],
   "metadata": {
    "collapsed": false,
    "pycharm": {
     "name": "#%%\n"
    }
   }
  }
 ],
 "metadata": {
  "kernelspec": {
   "display_name": "Python 3",
   "language": "python",
   "name": "python3"
  },
  "language_info": {
   "codemirror_mode": {
    "name": "ipython",
    "version": 2
   },
   "file_extension": ".py",
   "mimetype": "text/x-python",
   "name": "python",
   "nbconvert_exporter": "python",
   "pygments_lexer": "ipython2",
   "version": "2.7.6"
  }
 },
 "nbformat": 4,
 "nbformat_minor": 0
}