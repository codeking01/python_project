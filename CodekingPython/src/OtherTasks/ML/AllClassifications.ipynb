{
 "cells": [
  {
   "cell_type": "code",
   "execution_count": 1,
   "outputs": [],
   "source": [
    "import numpy as np\n",
    "from openpyxl import load_workbook\n",
    "def Create_sheet(final_data, savepath):\n",
    "    global table\n",
    "    # 操作excel先把excel的数据筛选出来\n",
    "    save_path = '%s' % savepath\n",
    "    data = load_workbook(save_path)\n",
    "    data.create_sheet()\n",
    "    # 取第一张表\n",
    "    sheetnames = data.sheetnames\n",
    "    # 获取第一张表\n",
    "    table = data[sheetnames[1]]\n",
    "    table.title = '%s' % final_data\n",
    "    data.save(save_path)\n",
    "\n",
    "\n",
    "def get_worksheet(readpath, sheetname):\n",
    "    read_path = '%s' % readpath\n",
    "    data = load_workbook(read_path)\n",
    "    data.create_sheet()\n",
    "    ws = data[('%s' % sheetname)]\n",
    "    return ws\n",
    "\n",
    "# 新建一个FinalData表\n",
    "# Create_sheet('FinalData')\n",
    "# 获取指定表\n",
    "# ws1=get_worksheet(readpath='5_25Test.xlsx', sheetname='原始数据')\n"
   ],
   "metadata": {
    "collapsed": false,
    "pycharm": {
     "name": "#%%\n"
    }
   }
  },
  {
   "cell_type": "code",
   "execution_count": 72,
   "outputs": [],
   "source": [
    "import pandas as pd\n",
    "# 这个pandas处理数据效果不太好 建议用numpy\n",
    "thedata=pd.read_excel('5_25Test.xlsx')"
   ],
   "metadata": {
    "collapsed": false,
    "pycharm": {
     "name": "#%%\n"
    }
   }
  },
  {
   "cell_type": "code",
   "execution_count": 73,
   "outputs": [
    {
     "data": {
      "text/plain": "0   Con-2 Con-3 Con-4 Con-5 Con-6 Con-7 Con-8 Con-9 Con-10 Con-11  ...  Str31  \\\n1      L1  1055  4300   380    干法     0     0  1500   1200    700  ...   0.07   \n2      L1  1055  4300   380    干法     0   0.5  1500   1200    700  ...    NaN   \n3      L1  1055  4300   380    干法     0     1  1500   1200    700  ...  0.062   \n4      L1  1055  4300   380    干法     0   1.5  1500   1200    700  ...  0.063   \n5      L1  1055  4300   380    干法     0     2  1500   1200    700  ...  0.063   \n..    ...   ...   ...   ...   ...   ...   ...   ...    ...    ...  ...    ...   \n289    L3  1100  8300   NaN    湿法     0   0.5     0   1000    800  ...  0.082   \n290    L3  1100  8300   NaN    湿法     0     1     0   1000    800  ...  0.074   \n291    L3  1100  8300   NaN    湿法     0   1.5     0   1000    800  ...   0.08   \n292    L3  1100  8300   NaN    湿法     0     2     0   1000    800  ...  0.083   \n293    L3  1100  8300   NaN    湿法     0     1   500   1000    800  ...  0.073   \n\n0    Str32  Str33  Str34  Str35 Str36  Str37  Str38  Str39  Str40  \n1     0.08  0.065  0.068  0.077   0.1   0.07   0.09  0.071   0.08  \n2      NaN    NaN    NaN    NaN   NaN    NaN    NaN    NaN    NaN  \n3     0.07  0.072  0.068   0.07  0.08  0.064  0.094  0.068  0.072  \n4     0.05  0.071   0.07  0.061  0.07  0.062  0.068  0.076   0.08  \n5     0.08   0.07  0.079    0.1   0.1   0.06  0.103  0.097  0.068  \n..     ...    ...    ...    ...   ...    ...    ...    ...    ...  \n289   0.08   0.09  0.083   0.08  0.05   0.09  0.098  0.116   0.09  \n290   0.09   0.09  0.083    0.1  0.05   0.08  0.111   0.09   0.13  \n291   0.07   0.08  0.086   0.07   0.1   0.08  0.105  0.092   0.08  \n292  0.067   0.07  0.093   0.09  0.11  0.095    0.1   0.11    0.1  \n293  0.061   0.08  0.083    0.1  0.05   0.11  0.094   0.08    0.1  \n\n[293 rows x 65 columns]",
      "text/html": "<div>\n<style scoped>\n    .dataframe tbody tr th:only-of-type {\n        vertical-align: middle;\n    }\n\n    .dataframe tbody tr th {\n        vertical-align: top;\n    }\n\n    .dataframe thead th {\n        text-align: right;\n    }\n</style>\n<table border=\"1\" class=\"dataframe\">\n  <thead>\n    <tr style=\"text-align: right;\">\n      <th></th>\n      <th>Con-2</th>\n      <th>Con-3</th>\n      <th>Con-4</th>\n      <th>Con-5</th>\n      <th>Con-6</th>\n      <th>Con-7</th>\n      <th>Con-8</th>\n      <th>Con-9</th>\n      <th>Con-10</th>\n      <th>Con-11</th>\n      <th>...</th>\n      <th>Str31</th>\n      <th>Str32</th>\n      <th>Str33</th>\n      <th>Str34</th>\n      <th>Str35</th>\n      <th>Str36</th>\n      <th>Str37</th>\n      <th>Str38</th>\n      <th>Str39</th>\n      <th>Str40</th>\n    </tr>\n  </thead>\n  <tbody>\n    <tr>\n      <th>1</th>\n      <td>L1</td>\n      <td>1055</td>\n      <td>4300</td>\n      <td>380</td>\n      <td>干法</td>\n      <td>0</td>\n      <td>0</td>\n      <td>1500</td>\n      <td>1200</td>\n      <td>700</td>\n      <td>...</td>\n      <td>0.07</td>\n      <td>0.08</td>\n      <td>0.065</td>\n      <td>0.068</td>\n      <td>0.077</td>\n      <td>0.1</td>\n      <td>0.07</td>\n      <td>0.09</td>\n      <td>0.071</td>\n      <td>0.08</td>\n    </tr>\n    <tr>\n      <th>2</th>\n      <td>L1</td>\n      <td>1055</td>\n      <td>4300</td>\n      <td>380</td>\n      <td>干法</td>\n      <td>0</td>\n      <td>0.5</td>\n      <td>1500</td>\n      <td>1200</td>\n      <td>700</td>\n      <td>...</td>\n      <td>NaN</td>\n      <td>NaN</td>\n      <td>NaN</td>\n      <td>NaN</td>\n      <td>NaN</td>\n      <td>NaN</td>\n      <td>NaN</td>\n      <td>NaN</td>\n      <td>NaN</td>\n      <td>NaN</td>\n    </tr>\n    <tr>\n      <th>3</th>\n      <td>L1</td>\n      <td>1055</td>\n      <td>4300</td>\n      <td>380</td>\n      <td>干法</td>\n      <td>0</td>\n      <td>1</td>\n      <td>1500</td>\n      <td>1200</td>\n      <td>700</td>\n      <td>...</td>\n      <td>0.062</td>\n      <td>0.07</td>\n      <td>0.072</td>\n      <td>0.068</td>\n      <td>0.07</td>\n      <td>0.08</td>\n      <td>0.064</td>\n      <td>0.094</td>\n      <td>0.068</td>\n      <td>0.072</td>\n    </tr>\n    <tr>\n      <th>4</th>\n      <td>L1</td>\n      <td>1055</td>\n      <td>4300</td>\n      <td>380</td>\n      <td>干法</td>\n      <td>0</td>\n      <td>1.5</td>\n      <td>1500</td>\n      <td>1200</td>\n      <td>700</td>\n      <td>...</td>\n      <td>0.063</td>\n      <td>0.05</td>\n      <td>0.071</td>\n      <td>0.07</td>\n      <td>0.061</td>\n      <td>0.07</td>\n      <td>0.062</td>\n      <td>0.068</td>\n      <td>0.076</td>\n      <td>0.08</td>\n    </tr>\n    <tr>\n      <th>5</th>\n      <td>L1</td>\n      <td>1055</td>\n      <td>4300</td>\n      <td>380</td>\n      <td>干法</td>\n      <td>0</td>\n      <td>2</td>\n      <td>1500</td>\n      <td>1200</td>\n      <td>700</td>\n      <td>...</td>\n      <td>0.063</td>\n      <td>0.08</td>\n      <td>0.07</td>\n      <td>0.079</td>\n      <td>0.1</td>\n      <td>0.1</td>\n      <td>0.06</td>\n      <td>0.103</td>\n      <td>0.097</td>\n      <td>0.068</td>\n    </tr>\n    <tr>\n      <th>...</th>\n      <td>...</td>\n      <td>...</td>\n      <td>...</td>\n      <td>...</td>\n      <td>...</td>\n      <td>...</td>\n      <td>...</td>\n      <td>...</td>\n      <td>...</td>\n      <td>...</td>\n      <td>...</td>\n      <td>...</td>\n      <td>...</td>\n      <td>...</td>\n      <td>...</td>\n      <td>...</td>\n      <td>...</td>\n      <td>...</td>\n      <td>...</td>\n      <td>...</td>\n      <td>...</td>\n    </tr>\n    <tr>\n      <th>289</th>\n      <td>L3</td>\n      <td>1100</td>\n      <td>8300</td>\n      <td>NaN</td>\n      <td>湿法</td>\n      <td>0</td>\n      <td>0.5</td>\n      <td>0</td>\n      <td>1000</td>\n      <td>800</td>\n      <td>...</td>\n      <td>0.082</td>\n      <td>0.08</td>\n      <td>0.09</td>\n      <td>0.083</td>\n      <td>0.08</td>\n      <td>0.05</td>\n      <td>0.09</td>\n      <td>0.098</td>\n      <td>0.116</td>\n      <td>0.09</td>\n    </tr>\n    <tr>\n      <th>290</th>\n      <td>L3</td>\n      <td>1100</td>\n      <td>8300</td>\n      <td>NaN</td>\n      <td>湿法</td>\n      <td>0</td>\n      <td>1</td>\n      <td>0</td>\n      <td>1000</td>\n      <td>800</td>\n      <td>...</td>\n      <td>0.074</td>\n      <td>0.09</td>\n      <td>0.09</td>\n      <td>0.083</td>\n      <td>0.1</td>\n      <td>0.05</td>\n      <td>0.08</td>\n      <td>0.111</td>\n      <td>0.09</td>\n      <td>0.13</td>\n    </tr>\n    <tr>\n      <th>291</th>\n      <td>L3</td>\n      <td>1100</td>\n      <td>8300</td>\n      <td>NaN</td>\n      <td>湿法</td>\n      <td>0</td>\n      <td>1.5</td>\n      <td>0</td>\n      <td>1000</td>\n      <td>800</td>\n      <td>...</td>\n      <td>0.08</td>\n      <td>0.07</td>\n      <td>0.08</td>\n      <td>0.086</td>\n      <td>0.07</td>\n      <td>0.1</td>\n      <td>0.08</td>\n      <td>0.105</td>\n      <td>0.092</td>\n      <td>0.08</td>\n    </tr>\n    <tr>\n      <th>292</th>\n      <td>L3</td>\n      <td>1100</td>\n      <td>8300</td>\n      <td>NaN</td>\n      <td>湿法</td>\n      <td>0</td>\n      <td>2</td>\n      <td>0</td>\n      <td>1000</td>\n      <td>800</td>\n      <td>...</td>\n      <td>0.083</td>\n      <td>0.067</td>\n      <td>0.07</td>\n      <td>0.093</td>\n      <td>0.09</td>\n      <td>0.11</td>\n      <td>0.095</td>\n      <td>0.1</td>\n      <td>0.11</td>\n      <td>0.1</td>\n    </tr>\n    <tr>\n      <th>293</th>\n      <td>L3</td>\n      <td>1100</td>\n      <td>8300</td>\n      <td>NaN</td>\n      <td>湿法</td>\n      <td>0</td>\n      <td>1</td>\n      <td>500</td>\n      <td>1000</td>\n      <td>800</td>\n      <td>...</td>\n      <td>0.073</td>\n      <td>0.061</td>\n      <td>0.08</td>\n      <td>0.083</td>\n      <td>0.1</td>\n      <td>0.05</td>\n      <td>0.11</td>\n      <td>0.094</td>\n      <td>0.08</td>\n      <td>0.1</td>\n    </tr>\n  </tbody>\n</table>\n<p>293 rows × 65 columns</p>\n</div>"
     },
     "execution_count": 73,
     "metadata": {},
     "output_type": "execute_result"
    }
   ],
   "source": [
    "import numpy as np\n",
    "data=thedata.iloc[1:,2:67]\n",
    "# 设置列标题\n",
    "data.columns=thedata.iloc[0,2:67]\n",
    "# 将列名全部拿到\n",
    "col_names=np.array(thedata.iloc[0,2:67])\n",
    "data"
   ],
   "metadata": {
    "collapsed": false,
    "pycharm": {
     "name": "#%%\n"
    }
   }
  },
  {
   "cell_type": "code",
   "execution_count": 79,
   "outputs": [
    {
     "data": {
      "text/plain": "'L1'"
     },
     "execution_count": 79,
     "metadata": {},
     "output_type": "execute_result"
    }
   ],
   "source": [
    "thedata=np.array(data)\n",
    "thedata.any()"
   ],
   "metadata": {
    "collapsed": false,
    "pycharm": {
     "name": "#%%\n"
    }
   }
  },
  {
   "cell_type": "code",
   "execution_count": 310,
   "outputs": [
    {
     "data": {
      "text/plain": "0   Con-2  Con-3 Con-4  Con-5 Con-6  Con-7  Con-8  Con-9  Con-10  Con-11  ...  \\\n1      L1   1055  4300  380.0    干法    0.0    0.0   1500    1200     700  ...   \n2      L1   1055  4300  380.0    干法    0.0    0.5   1500    1200     700  ...   \n3      L1   1055  4300  380.0    干法    0.0    1.0   1500    1200     700  ...   \n4      L1   1055  4300  380.0    干法    0.0    1.5   1500    1200     700  ...   \n5      L1   1055  4300  380.0    干法    0.0    2.0   1500    1200     700  ...   \n..    ...    ...   ...    ...   ...    ...    ...    ...     ...     ...  ...   \n289    L3   1100  8300    NaN    湿法    0.0    0.5      0    1000     800  ...   \n290    L3   1100  8300    NaN    湿法    0.0    1.0      0    1000     800  ...   \n291    L3   1100  8300    NaN    湿法    0.0    1.5      0    1000     800  ...   \n292    L3   1100  8300    NaN    湿法    0.0    2.0      0    1000     800  ...   \n293    L3   1100  8300    NaN    湿法    0.0    1.0    500    1000     800  ...   \n\n0    Str31  Str32  Str33  Str34  Str35  Str36  Str37  Str38  Str39  Str40  \n1    0.070  0.080  0.065  0.068  0.077   0.10  0.070  0.090  0.071  0.080  \n2      NaN    NaN    NaN    NaN    NaN    NaN    NaN    NaN    NaN    NaN  \n3    0.062  0.070  0.072  0.068  0.070   0.08  0.064  0.094  0.068  0.072  \n4    0.063  0.050  0.071  0.070  0.061   0.07  0.062  0.068  0.076  0.080  \n5    0.063  0.080  0.070  0.079  0.100   0.10  0.060  0.103  0.097  0.068  \n..     ...    ...    ...    ...    ...    ...    ...    ...    ...    ...  \n289  0.082  0.080  0.090  0.083  0.080   0.05  0.090  0.098  0.116  0.090  \n290  0.074  0.090  0.090  0.083  0.100   0.05  0.080  0.111  0.090  0.130  \n291  0.080  0.070  0.080  0.086  0.070   0.10  0.080  0.105  0.092  0.080  \n292  0.083  0.067  0.070  0.093  0.090   0.11  0.095  0.100  0.110  0.100  \n293  0.073  0.061  0.080  0.083  0.100   0.05  0.110  0.094  0.080  0.100  \n\n[293 rows x 65 columns]",
      "text/html": "<div>\n<style scoped>\n    .dataframe tbody tr th:only-of-type {\n        vertical-align: middle;\n    }\n\n    .dataframe tbody tr th {\n        vertical-align: top;\n    }\n\n    .dataframe thead th {\n        text-align: right;\n    }\n</style>\n<table border=\"1\" class=\"dataframe\">\n  <thead>\n    <tr style=\"text-align: right;\">\n      <th></th>\n      <th>Con-2</th>\n      <th>Con-3</th>\n      <th>Con-4</th>\n      <th>Con-5</th>\n      <th>Con-6</th>\n      <th>Con-7</th>\n      <th>Con-8</th>\n      <th>Con-9</th>\n      <th>Con-10</th>\n      <th>Con-11</th>\n      <th>...</th>\n      <th>Str31</th>\n      <th>Str32</th>\n      <th>Str33</th>\n      <th>Str34</th>\n      <th>Str35</th>\n      <th>Str36</th>\n      <th>Str37</th>\n      <th>Str38</th>\n      <th>Str39</th>\n      <th>Str40</th>\n    </tr>\n  </thead>\n  <tbody>\n    <tr>\n      <th>1</th>\n      <td>L1</td>\n      <td>1055</td>\n      <td>4300</td>\n      <td>380.0</td>\n      <td>干法</td>\n      <td>0.0</td>\n      <td>0.0</td>\n      <td>1500</td>\n      <td>1200</td>\n      <td>700</td>\n      <td>...</td>\n      <td>0.070</td>\n      <td>0.080</td>\n      <td>0.065</td>\n      <td>0.068</td>\n      <td>0.077</td>\n      <td>0.10</td>\n      <td>0.070</td>\n      <td>0.090</td>\n      <td>0.071</td>\n      <td>0.080</td>\n    </tr>\n    <tr>\n      <th>2</th>\n      <td>L1</td>\n      <td>1055</td>\n      <td>4300</td>\n      <td>380.0</td>\n      <td>干法</td>\n      <td>0.0</td>\n      <td>0.5</td>\n      <td>1500</td>\n      <td>1200</td>\n      <td>700</td>\n      <td>...</td>\n      <td>NaN</td>\n      <td>NaN</td>\n      <td>NaN</td>\n      <td>NaN</td>\n      <td>NaN</td>\n      <td>NaN</td>\n      <td>NaN</td>\n      <td>NaN</td>\n      <td>NaN</td>\n      <td>NaN</td>\n    </tr>\n    <tr>\n      <th>3</th>\n      <td>L1</td>\n      <td>1055</td>\n      <td>4300</td>\n      <td>380.0</td>\n      <td>干法</td>\n      <td>0.0</td>\n      <td>1.0</td>\n      <td>1500</td>\n      <td>1200</td>\n      <td>700</td>\n      <td>...</td>\n      <td>0.062</td>\n      <td>0.070</td>\n      <td>0.072</td>\n      <td>0.068</td>\n      <td>0.070</td>\n      <td>0.08</td>\n      <td>0.064</td>\n      <td>0.094</td>\n      <td>0.068</td>\n      <td>0.072</td>\n    </tr>\n    <tr>\n      <th>4</th>\n      <td>L1</td>\n      <td>1055</td>\n      <td>4300</td>\n      <td>380.0</td>\n      <td>干法</td>\n      <td>0.0</td>\n      <td>1.5</td>\n      <td>1500</td>\n      <td>1200</td>\n      <td>700</td>\n      <td>...</td>\n      <td>0.063</td>\n      <td>0.050</td>\n      <td>0.071</td>\n      <td>0.070</td>\n      <td>0.061</td>\n      <td>0.07</td>\n      <td>0.062</td>\n      <td>0.068</td>\n      <td>0.076</td>\n      <td>0.080</td>\n    </tr>\n    <tr>\n      <th>5</th>\n      <td>L1</td>\n      <td>1055</td>\n      <td>4300</td>\n      <td>380.0</td>\n      <td>干法</td>\n      <td>0.0</td>\n      <td>2.0</td>\n      <td>1500</td>\n      <td>1200</td>\n      <td>700</td>\n      <td>...</td>\n      <td>0.063</td>\n      <td>0.080</td>\n      <td>0.070</td>\n      <td>0.079</td>\n      <td>0.100</td>\n      <td>0.10</td>\n      <td>0.060</td>\n      <td>0.103</td>\n      <td>0.097</td>\n      <td>0.068</td>\n    </tr>\n    <tr>\n      <th>...</th>\n      <td>...</td>\n      <td>...</td>\n      <td>...</td>\n      <td>...</td>\n      <td>...</td>\n      <td>...</td>\n      <td>...</td>\n      <td>...</td>\n      <td>...</td>\n      <td>...</td>\n      <td>...</td>\n      <td>...</td>\n      <td>...</td>\n      <td>...</td>\n      <td>...</td>\n      <td>...</td>\n      <td>...</td>\n      <td>...</td>\n      <td>...</td>\n      <td>...</td>\n      <td>...</td>\n    </tr>\n    <tr>\n      <th>289</th>\n      <td>L3</td>\n      <td>1100</td>\n      <td>8300</td>\n      <td>NaN</td>\n      <td>湿法</td>\n      <td>0.0</td>\n      <td>0.5</td>\n      <td>0</td>\n      <td>1000</td>\n      <td>800</td>\n      <td>...</td>\n      <td>0.082</td>\n      <td>0.080</td>\n      <td>0.090</td>\n      <td>0.083</td>\n      <td>0.080</td>\n      <td>0.05</td>\n      <td>0.090</td>\n      <td>0.098</td>\n      <td>0.116</td>\n      <td>0.090</td>\n    </tr>\n    <tr>\n      <th>290</th>\n      <td>L3</td>\n      <td>1100</td>\n      <td>8300</td>\n      <td>NaN</td>\n      <td>湿法</td>\n      <td>0.0</td>\n      <td>1.0</td>\n      <td>0</td>\n      <td>1000</td>\n      <td>800</td>\n      <td>...</td>\n      <td>0.074</td>\n      <td>0.090</td>\n      <td>0.090</td>\n      <td>0.083</td>\n      <td>0.100</td>\n      <td>0.05</td>\n      <td>0.080</td>\n      <td>0.111</td>\n      <td>0.090</td>\n      <td>0.130</td>\n    </tr>\n    <tr>\n      <th>291</th>\n      <td>L3</td>\n      <td>1100</td>\n      <td>8300</td>\n      <td>NaN</td>\n      <td>湿法</td>\n      <td>0.0</td>\n      <td>1.5</td>\n      <td>0</td>\n      <td>1000</td>\n      <td>800</td>\n      <td>...</td>\n      <td>0.080</td>\n      <td>0.070</td>\n      <td>0.080</td>\n      <td>0.086</td>\n      <td>0.070</td>\n      <td>0.10</td>\n      <td>0.080</td>\n      <td>0.105</td>\n      <td>0.092</td>\n      <td>0.080</td>\n    </tr>\n    <tr>\n      <th>292</th>\n      <td>L3</td>\n      <td>1100</td>\n      <td>8300</td>\n      <td>NaN</td>\n      <td>湿法</td>\n      <td>0.0</td>\n      <td>2.0</td>\n      <td>0</td>\n      <td>1000</td>\n      <td>800</td>\n      <td>...</td>\n      <td>0.083</td>\n      <td>0.067</td>\n      <td>0.070</td>\n      <td>0.093</td>\n      <td>0.090</td>\n      <td>0.11</td>\n      <td>0.095</td>\n      <td>0.100</td>\n      <td>0.110</td>\n      <td>0.100</td>\n    </tr>\n    <tr>\n      <th>293</th>\n      <td>L3</td>\n      <td>1100</td>\n      <td>8300</td>\n      <td>NaN</td>\n      <td>湿法</td>\n      <td>0.0</td>\n      <td>1.0</td>\n      <td>500</td>\n      <td>1000</td>\n      <td>800</td>\n      <td>...</td>\n      <td>0.073</td>\n      <td>0.061</td>\n      <td>0.080</td>\n      <td>0.083</td>\n      <td>0.100</td>\n      <td>0.05</td>\n      <td>0.110</td>\n      <td>0.094</td>\n      <td>0.080</td>\n      <td>0.100</td>\n    </tr>\n  </tbody>\n</table>\n<p>293 rows × 65 columns</p>\n</div>"
     },
     "execution_count": 310,
     "metadata": {},
     "output_type": "execute_result"
    }
   ],
   "source": [
    "data=thedata.iloc[1:,2:67]\n",
    "# 设置列标题\n",
    "data.columns=thedata.iloc[0,2:67]\n",
    "# data\n",
    "# 读取指定的行 处理掉'/'\n",
    "# data=data.loc[:,'Con-4'].replace('/','NaN')\n",
    "data=data.loc[:,:].replace('/','NaN')\n",
    "data\n",
    "# data.iloc[:,'Con-4']"
   ],
   "metadata": {
    "collapsed": false,
    "pycharm": {
     "name": "#%%\n"
    }
   }
  },
  {
   "cell_type": "code",
   "execution_count": 302,
   "outputs": [
    {
     "data": {
      "text/plain": "0          per1\n1    184.699997\n2    187.300003\n3    188.699997\n4    188.800003\n5           185\n..          ...\n289         NaN\n290         NaN\n291         NaN\n292         NaN\n293         NaN\n\n[293 rows x 1 columns]",
      "text/html": "<div>\n<style scoped>\n    .dataframe tbody tr th:only-of-type {\n        vertical-align: middle;\n    }\n\n    .dataframe tbody tr th {\n        vertical-align: top;\n    }\n\n    .dataframe thead th {\n        text-align: right;\n    }\n</style>\n<table border=\"1\" class=\"dataframe\">\n  <thead>\n    <tr style=\"text-align: right;\">\n      <th></th>\n      <th>per1</th>\n    </tr>\n  </thead>\n  <tbody>\n    <tr>\n      <th>1</th>\n      <td>184.699997</td>\n    </tr>\n    <tr>\n      <th>2</th>\n      <td>187.300003</td>\n    </tr>\n    <tr>\n      <th>3</th>\n      <td>188.699997</td>\n    </tr>\n    <tr>\n      <th>4</th>\n      <td>188.800003</td>\n    </tr>\n    <tr>\n      <th>5</th>\n      <td>185</td>\n    </tr>\n    <tr>\n      <th>...</th>\n      <td>...</td>\n    </tr>\n    <tr>\n      <th>289</th>\n      <td>NaN</td>\n    </tr>\n    <tr>\n      <th>290</th>\n      <td>NaN</td>\n    </tr>\n    <tr>\n      <th>291</th>\n      <td>NaN</td>\n    </tr>\n    <tr>\n      <th>292</th>\n      <td>NaN</td>\n    </tr>\n    <tr>\n      <th>293</th>\n      <td>NaN</td>\n    </tr>\n  </tbody>\n</table>\n<p>293 rows × 1 columns</p>\n</div>"
     },
     "execution_count": 302,
     "metadata": {},
     "output_type": "execute_result"
    }
   ],
   "source": [
    "# 读取Y_data\n",
    "Y_data=thedata.iloc[1:,67:68]\n",
    "\n",
    "# 设置列标题\n",
    "Y_data.columns=thedata.iloc[0,67:68]\n",
    "Y_data"
   ],
   "metadata": {
    "collapsed": false,
    "pycharm": {
     "name": "#%%\n"
    }
   }
  },
  {
   "cell_type": "code",
   "execution_count": 303,
   "outputs": [
    {
     "data": {
      "text/plain": "0   Con-2  Con-3 Con-4  Con-5 Con-6  Con-7  Con-8  Con-9  Con-10  Con-11  ...  \\\n10     L1   1055  4300  380.0    干法    0.0    0.0   1500    1200     700  ...   \n11     L1   1055  4300  380.0    干法    0.0    0.5   1500    1200     700  ...   \n12     L1   1055  4300  380.0    干法    0.0    1.0   1500    1200     700  ...   \n13     L1   1055  4300  380.0    干法    0.0    1.5   1500    1200     700  ...   \n14     L1   1055  4300  380.0    干法    0.0    2.0   1500    1200     700  ...   \n..    ...    ...   ...    ...   ...    ...    ...    ...     ...     ...  ...   \n230    L3   1100  4300  270.0    干法    0.0    6.0    500    1000     800  ...   \n238    L3   1080  6300  270.0    湿法    0.0    3.0      0    1000     800  ...   \n241    L3   1080  6300  270.0    干法    0.0    3.0    500    1000     800  ...   \n242    L3   1080  6300  270.0    干法    0.0    4.0    500    1000     800  ...   \n243    L3   1080  6300  270.0    干法    0.0    5.0    500    1000     800  ...   \n\n0    Str32  Str33  Str34  Str35  Str36  Str37  Str38  Str39  Str40        per1  \n10   0.060  0.052  0.069  0.080   0.10  0.060  0.086  0.073  0.093  187.899994  \n11   0.080  0.077  0.073  0.070   1.00  0.090  0.082  0.061  0.090  185.899994  \n12   0.080  0.065  0.070  0.080   0.10  0.090  0.075  0.075  0.093  188.300003  \n13   0.060  0.066  0.070  0.070   0.08  0.060  0.081  0.073  0.077  187.300003  \n14   0.050  0.058  0.072  0.070   0.04  0.050  0.107  0.081  0.090       183.5  \n..     ...    ...    ...    ...    ...    ...    ...    ...    ...         ...  \n230  0.070  0.070  0.073  0.070   0.05  0.080  0.078  0.083  0.080  188.100006  \n238  0.078  0.077  0.075  0.079   0.07  0.085  0.087  0.080  0.080  188.199997  \n241  0.070  0.070  0.075  0.070   0.08  0.080  0.086  0.076  0.090  184.399994  \n242  0.080  0.060  0.076  0.075   0.20  0.070  0.091  0.073  0.080  182.100006  \n243  0.060  0.070  0.076  0.070   0.20  0.050  0.076  0.071  0.080  182.899994  \n\n[113 rows x 66 columns]",
      "text/html": "<div>\n<style scoped>\n    .dataframe tbody tr th:only-of-type {\n        vertical-align: middle;\n    }\n\n    .dataframe tbody tr th {\n        vertical-align: top;\n    }\n\n    .dataframe thead th {\n        text-align: right;\n    }\n</style>\n<table border=\"1\" class=\"dataframe\">\n  <thead>\n    <tr style=\"text-align: right;\">\n      <th></th>\n      <th>Con-2</th>\n      <th>Con-3</th>\n      <th>Con-4</th>\n      <th>Con-5</th>\n      <th>Con-6</th>\n      <th>Con-7</th>\n      <th>Con-8</th>\n      <th>Con-9</th>\n      <th>Con-10</th>\n      <th>Con-11</th>\n      <th>...</th>\n      <th>Str32</th>\n      <th>Str33</th>\n      <th>Str34</th>\n      <th>Str35</th>\n      <th>Str36</th>\n      <th>Str37</th>\n      <th>Str38</th>\n      <th>Str39</th>\n      <th>Str40</th>\n      <th>per1</th>\n    </tr>\n  </thead>\n  <tbody>\n    <tr>\n      <th>10</th>\n      <td>L1</td>\n      <td>1055</td>\n      <td>4300</td>\n      <td>380.0</td>\n      <td>干法</td>\n      <td>0.0</td>\n      <td>0.0</td>\n      <td>1500</td>\n      <td>1200</td>\n      <td>700</td>\n      <td>...</td>\n      <td>0.060</td>\n      <td>0.052</td>\n      <td>0.069</td>\n      <td>0.080</td>\n      <td>0.10</td>\n      <td>0.060</td>\n      <td>0.086</td>\n      <td>0.073</td>\n      <td>0.093</td>\n      <td>187.899994</td>\n    </tr>\n    <tr>\n      <th>11</th>\n      <td>L1</td>\n      <td>1055</td>\n      <td>4300</td>\n      <td>380.0</td>\n      <td>干法</td>\n      <td>0.0</td>\n      <td>0.5</td>\n      <td>1500</td>\n      <td>1200</td>\n      <td>700</td>\n      <td>...</td>\n      <td>0.080</td>\n      <td>0.077</td>\n      <td>0.073</td>\n      <td>0.070</td>\n      <td>1.00</td>\n      <td>0.090</td>\n      <td>0.082</td>\n      <td>0.061</td>\n      <td>0.090</td>\n      <td>185.899994</td>\n    </tr>\n    <tr>\n      <th>12</th>\n      <td>L1</td>\n      <td>1055</td>\n      <td>4300</td>\n      <td>380.0</td>\n      <td>干法</td>\n      <td>0.0</td>\n      <td>1.0</td>\n      <td>1500</td>\n      <td>1200</td>\n      <td>700</td>\n      <td>...</td>\n      <td>0.080</td>\n      <td>0.065</td>\n      <td>0.070</td>\n      <td>0.080</td>\n      <td>0.10</td>\n      <td>0.090</td>\n      <td>0.075</td>\n      <td>0.075</td>\n      <td>0.093</td>\n      <td>188.300003</td>\n    </tr>\n    <tr>\n      <th>13</th>\n      <td>L1</td>\n      <td>1055</td>\n      <td>4300</td>\n      <td>380.0</td>\n      <td>干法</td>\n      <td>0.0</td>\n      <td>1.5</td>\n      <td>1500</td>\n      <td>1200</td>\n      <td>700</td>\n      <td>...</td>\n      <td>0.060</td>\n      <td>0.066</td>\n      <td>0.070</td>\n      <td>0.070</td>\n      <td>0.08</td>\n      <td>0.060</td>\n      <td>0.081</td>\n      <td>0.073</td>\n      <td>0.077</td>\n      <td>187.300003</td>\n    </tr>\n    <tr>\n      <th>14</th>\n      <td>L1</td>\n      <td>1055</td>\n      <td>4300</td>\n      <td>380.0</td>\n      <td>干法</td>\n      <td>0.0</td>\n      <td>2.0</td>\n      <td>1500</td>\n      <td>1200</td>\n      <td>700</td>\n      <td>...</td>\n      <td>0.050</td>\n      <td>0.058</td>\n      <td>0.072</td>\n      <td>0.070</td>\n      <td>0.04</td>\n      <td>0.050</td>\n      <td>0.107</td>\n      <td>0.081</td>\n      <td>0.090</td>\n      <td>183.5</td>\n    </tr>\n    <tr>\n      <th>...</th>\n      <td>...</td>\n      <td>...</td>\n      <td>...</td>\n      <td>...</td>\n      <td>...</td>\n      <td>...</td>\n      <td>...</td>\n      <td>...</td>\n      <td>...</td>\n      <td>...</td>\n      <td>...</td>\n      <td>...</td>\n      <td>...</td>\n      <td>...</td>\n      <td>...</td>\n      <td>...</td>\n      <td>...</td>\n      <td>...</td>\n      <td>...</td>\n      <td>...</td>\n      <td>...</td>\n    </tr>\n    <tr>\n      <th>230</th>\n      <td>L3</td>\n      <td>1100</td>\n      <td>4300</td>\n      <td>270.0</td>\n      <td>干法</td>\n      <td>0.0</td>\n      <td>6.0</td>\n      <td>500</td>\n      <td>1000</td>\n      <td>800</td>\n      <td>...</td>\n      <td>0.070</td>\n      <td>0.070</td>\n      <td>0.073</td>\n      <td>0.070</td>\n      <td>0.05</td>\n      <td>0.080</td>\n      <td>0.078</td>\n      <td>0.083</td>\n      <td>0.080</td>\n      <td>188.100006</td>\n    </tr>\n    <tr>\n      <th>238</th>\n      <td>L3</td>\n      <td>1080</td>\n      <td>6300</td>\n      <td>270.0</td>\n      <td>湿法</td>\n      <td>0.0</td>\n      <td>3.0</td>\n      <td>0</td>\n      <td>1000</td>\n      <td>800</td>\n      <td>...</td>\n      <td>0.078</td>\n      <td>0.077</td>\n      <td>0.075</td>\n      <td>0.079</td>\n      <td>0.07</td>\n      <td>0.085</td>\n      <td>0.087</td>\n      <td>0.080</td>\n      <td>0.080</td>\n      <td>188.199997</td>\n    </tr>\n    <tr>\n      <th>241</th>\n      <td>L3</td>\n      <td>1080</td>\n      <td>6300</td>\n      <td>270.0</td>\n      <td>干法</td>\n      <td>0.0</td>\n      <td>3.0</td>\n      <td>500</td>\n      <td>1000</td>\n      <td>800</td>\n      <td>...</td>\n      <td>0.070</td>\n      <td>0.070</td>\n      <td>0.075</td>\n      <td>0.070</td>\n      <td>0.08</td>\n      <td>0.080</td>\n      <td>0.086</td>\n      <td>0.076</td>\n      <td>0.090</td>\n      <td>184.399994</td>\n    </tr>\n    <tr>\n      <th>242</th>\n      <td>L3</td>\n      <td>1080</td>\n      <td>6300</td>\n      <td>270.0</td>\n      <td>干法</td>\n      <td>0.0</td>\n      <td>4.0</td>\n      <td>500</td>\n      <td>1000</td>\n      <td>800</td>\n      <td>...</td>\n      <td>0.080</td>\n      <td>0.060</td>\n      <td>0.076</td>\n      <td>0.075</td>\n      <td>0.20</td>\n      <td>0.070</td>\n      <td>0.091</td>\n      <td>0.073</td>\n      <td>0.080</td>\n      <td>182.100006</td>\n    </tr>\n    <tr>\n      <th>243</th>\n      <td>L3</td>\n      <td>1080</td>\n      <td>6300</td>\n      <td>270.0</td>\n      <td>干法</td>\n      <td>0.0</td>\n      <td>5.0</td>\n      <td>500</td>\n      <td>1000</td>\n      <td>800</td>\n      <td>...</td>\n      <td>0.060</td>\n      <td>0.070</td>\n      <td>0.076</td>\n      <td>0.070</td>\n      <td>0.20</td>\n      <td>0.050</td>\n      <td>0.076</td>\n      <td>0.071</td>\n      <td>0.080</td>\n      <td>182.899994</td>\n    </tr>\n  </tbody>\n</table>\n<p>113 rows × 66 columns</p>\n</div>"
     },
     "execution_count": 303,
     "metadata": {},
     "output_type": "execute_result"
    }
   ],
   "source": [
    "# 合并数据\n",
    "tempdata=data.join(Y_data)\n",
    "# tempdata\n",
    "# 删除缺失值\n",
    "#  todo 处理少于80% 直接不考虑这个因素\n",
    "tempdata=tempdata.dropna(axis=0)\n",
    "tempdata"
   ],
   "metadata": {
    "collapsed": false,
    "pycharm": {
     "name": "#%%\n"
    }
   }
  },
  {
   "cell_type": "code",
   "execution_count": 304,
   "outputs": [
    {
     "data": {
      "text/plain": "0          per1\n10   187.899994\n11   185.899994\n12   188.300003\n13   187.300003\n14        183.5\n..          ...\n230  188.100006\n238  188.199997\n241  184.399994\n242  182.100006\n243  182.899994\n\n[113 rows x 1 columns]",
      "text/html": "<div>\n<style scoped>\n    .dataframe tbody tr th:only-of-type {\n        vertical-align: middle;\n    }\n\n    .dataframe tbody tr th {\n        vertical-align: top;\n    }\n\n    .dataframe thead th {\n        text-align: right;\n    }\n</style>\n<table border=\"1\" class=\"dataframe\">\n  <thead>\n    <tr style=\"text-align: right;\">\n      <th></th>\n      <th>per1</th>\n    </tr>\n  </thead>\n  <tbody>\n    <tr>\n      <th>10</th>\n      <td>187.899994</td>\n    </tr>\n    <tr>\n      <th>11</th>\n      <td>185.899994</td>\n    </tr>\n    <tr>\n      <th>12</th>\n      <td>188.300003</td>\n    </tr>\n    <tr>\n      <th>13</th>\n      <td>187.300003</td>\n    </tr>\n    <tr>\n      <th>14</th>\n      <td>183.5</td>\n    </tr>\n    <tr>\n      <th>...</th>\n      <td>...</td>\n    </tr>\n    <tr>\n      <th>230</th>\n      <td>188.100006</td>\n    </tr>\n    <tr>\n      <th>238</th>\n      <td>188.199997</td>\n    </tr>\n    <tr>\n      <th>241</th>\n      <td>184.399994</td>\n    </tr>\n    <tr>\n      <th>242</th>\n      <td>182.100006</td>\n    </tr>\n    <tr>\n      <th>243</th>\n      <td>182.899994</td>\n    </tr>\n  </tbody>\n</table>\n<p>113 rows × 1 columns</p>\n</div>"
     },
     "execution_count": 304,
     "metadata": {},
     "output_type": "execute_result"
    }
   ],
   "source": [
    "# 分开 X数据集 和Y数据集\n",
    "X_data=tempdata.iloc[:,0:65]\n",
    "Y_data=tempdata.iloc[:,65:66]\n",
    "Y_data"
   ],
   "metadata": {
    "collapsed": false,
    "pycharm": {
     "name": "#%%\n"
    }
   }
  },
  {
   "cell_type": "code",
   "execution_count": 305,
   "outputs": [
    {
     "data": {
      "text/plain": "0   Con-2  Con-3 Con-4  Con-5 Con-6  Con-7  Con-8  Con-9  Con-10  Con-11  ...  \\\n10      1   1055  4300  380.0     0    0.0    0.0   1500    1200     700  ...   \n11      1   1055  4300  380.0     0    0.0    0.5   1500    1200     700  ...   \n12      1   1055  4300  380.0     0    0.0    1.0   1500    1200     700  ...   \n13      1   1055  4300  380.0     0    0.0    1.5   1500    1200     700  ...   \n14      1   1055  4300  380.0     0    0.0    2.0   1500    1200     700  ...   \n..    ...    ...   ...    ...   ...    ...    ...    ...     ...     ...  ...   \n230     3   1100  4300  270.0     0    0.0    6.0    500    1000     800  ...   \n238     3   1080  6300  270.0     1    0.0    3.0      0    1000     800  ...   \n241     3   1080  6300  270.0     0    0.0    3.0    500    1000     800  ...   \n242     3   1080  6300  270.0     0    0.0    4.0    500    1000     800  ...   \n243     3   1080  6300  270.0     0    0.0    5.0    500    1000     800  ...   \n\n0    Str31  Str32  Str33  Str34  Str35  Str36  Str37  Str38  Str39  Str40  \n10   0.064  0.060  0.052  0.069  0.080   0.10  0.060  0.086  0.073  0.093  \n11   0.063  0.080  0.077  0.073  0.070   1.00  0.090  0.082  0.061  0.090  \n12   0.064  0.080  0.065  0.070  0.080   0.10  0.090  0.075  0.075  0.093  \n13   0.065  0.060  0.066  0.070  0.070   0.08  0.060  0.081  0.073  0.077  \n14   0.070  0.050  0.058  0.072  0.070   0.04  0.050  0.107  0.081  0.090  \n..     ...    ...    ...    ...    ...    ...    ...    ...    ...    ...  \n230  0.067  0.070  0.070  0.073  0.070   0.05  0.080  0.078  0.083  0.080  \n238  0.074  0.078  0.077  0.075  0.079   0.07  0.085  0.087  0.080  0.080  \n241  0.067  0.070  0.070  0.075  0.070   0.08  0.080  0.086  0.076  0.090  \n242  0.064  0.080  0.060  0.076  0.075   0.20  0.070  0.091  0.073  0.080  \n243  0.077  0.060  0.070  0.076  0.070   0.20  0.050  0.076  0.071  0.080  \n\n[113 rows x 65 columns]",
      "text/html": "<div>\n<style scoped>\n    .dataframe tbody tr th:only-of-type {\n        vertical-align: middle;\n    }\n\n    .dataframe tbody tr th {\n        vertical-align: top;\n    }\n\n    .dataframe thead th {\n        text-align: right;\n    }\n</style>\n<table border=\"1\" class=\"dataframe\">\n  <thead>\n    <tr style=\"text-align: right;\">\n      <th></th>\n      <th>Con-2</th>\n      <th>Con-3</th>\n      <th>Con-4</th>\n      <th>Con-5</th>\n      <th>Con-6</th>\n      <th>Con-7</th>\n      <th>Con-8</th>\n      <th>Con-9</th>\n      <th>Con-10</th>\n      <th>Con-11</th>\n      <th>...</th>\n      <th>Str31</th>\n      <th>Str32</th>\n      <th>Str33</th>\n      <th>Str34</th>\n      <th>Str35</th>\n      <th>Str36</th>\n      <th>Str37</th>\n      <th>Str38</th>\n      <th>Str39</th>\n      <th>Str40</th>\n    </tr>\n  </thead>\n  <tbody>\n    <tr>\n      <th>10</th>\n      <td>1</td>\n      <td>1055</td>\n      <td>4300</td>\n      <td>380.0</td>\n      <td>0</td>\n      <td>0.0</td>\n      <td>0.0</td>\n      <td>1500</td>\n      <td>1200</td>\n      <td>700</td>\n      <td>...</td>\n      <td>0.064</td>\n      <td>0.060</td>\n      <td>0.052</td>\n      <td>0.069</td>\n      <td>0.080</td>\n      <td>0.10</td>\n      <td>0.060</td>\n      <td>0.086</td>\n      <td>0.073</td>\n      <td>0.093</td>\n    </tr>\n    <tr>\n      <th>11</th>\n      <td>1</td>\n      <td>1055</td>\n      <td>4300</td>\n      <td>380.0</td>\n      <td>0</td>\n      <td>0.0</td>\n      <td>0.5</td>\n      <td>1500</td>\n      <td>1200</td>\n      <td>700</td>\n      <td>...</td>\n      <td>0.063</td>\n      <td>0.080</td>\n      <td>0.077</td>\n      <td>0.073</td>\n      <td>0.070</td>\n      <td>1.00</td>\n      <td>0.090</td>\n      <td>0.082</td>\n      <td>0.061</td>\n      <td>0.090</td>\n    </tr>\n    <tr>\n      <th>12</th>\n      <td>1</td>\n      <td>1055</td>\n      <td>4300</td>\n      <td>380.0</td>\n      <td>0</td>\n      <td>0.0</td>\n      <td>1.0</td>\n      <td>1500</td>\n      <td>1200</td>\n      <td>700</td>\n      <td>...</td>\n      <td>0.064</td>\n      <td>0.080</td>\n      <td>0.065</td>\n      <td>0.070</td>\n      <td>0.080</td>\n      <td>0.10</td>\n      <td>0.090</td>\n      <td>0.075</td>\n      <td>0.075</td>\n      <td>0.093</td>\n    </tr>\n    <tr>\n      <th>13</th>\n      <td>1</td>\n      <td>1055</td>\n      <td>4300</td>\n      <td>380.0</td>\n      <td>0</td>\n      <td>0.0</td>\n      <td>1.5</td>\n      <td>1500</td>\n      <td>1200</td>\n      <td>700</td>\n      <td>...</td>\n      <td>0.065</td>\n      <td>0.060</td>\n      <td>0.066</td>\n      <td>0.070</td>\n      <td>0.070</td>\n      <td>0.08</td>\n      <td>0.060</td>\n      <td>0.081</td>\n      <td>0.073</td>\n      <td>0.077</td>\n    </tr>\n    <tr>\n      <th>14</th>\n      <td>1</td>\n      <td>1055</td>\n      <td>4300</td>\n      <td>380.0</td>\n      <td>0</td>\n      <td>0.0</td>\n      <td>2.0</td>\n      <td>1500</td>\n      <td>1200</td>\n      <td>700</td>\n      <td>...</td>\n      <td>0.070</td>\n      <td>0.050</td>\n      <td>0.058</td>\n      <td>0.072</td>\n      <td>0.070</td>\n      <td>0.04</td>\n      <td>0.050</td>\n      <td>0.107</td>\n      <td>0.081</td>\n      <td>0.090</td>\n    </tr>\n    <tr>\n      <th>...</th>\n      <td>...</td>\n      <td>...</td>\n      <td>...</td>\n      <td>...</td>\n      <td>...</td>\n      <td>...</td>\n      <td>...</td>\n      <td>...</td>\n      <td>...</td>\n      <td>...</td>\n      <td>...</td>\n      <td>...</td>\n      <td>...</td>\n      <td>...</td>\n      <td>...</td>\n      <td>...</td>\n      <td>...</td>\n      <td>...</td>\n      <td>...</td>\n      <td>...</td>\n      <td>...</td>\n    </tr>\n    <tr>\n      <th>230</th>\n      <td>3</td>\n      <td>1100</td>\n      <td>4300</td>\n      <td>270.0</td>\n      <td>0</td>\n      <td>0.0</td>\n      <td>6.0</td>\n      <td>500</td>\n      <td>1000</td>\n      <td>800</td>\n      <td>...</td>\n      <td>0.067</td>\n      <td>0.070</td>\n      <td>0.070</td>\n      <td>0.073</td>\n      <td>0.070</td>\n      <td>0.05</td>\n      <td>0.080</td>\n      <td>0.078</td>\n      <td>0.083</td>\n      <td>0.080</td>\n    </tr>\n    <tr>\n      <th>238</th>\n      <td>3</td>\n      <td>1080</td>\n      <td>6300</td>\n      <td>270.0</td>\n      <td>1</td>\n      <td>0.0</td>\n      <td>3.0</td>\n      <td>0</td>\n      <td>1000</td>\n      <td>800</td>\n      <td>...</td>\n      <td>0.074</td>\n      <td>0.078</td>\n      <td>0.077</td>\n      <td>0.075</td>\n      <td>0.079</td>\n      <td>0.07</td>\n      <td>0.085</td>\n      <td>0.087</td>\n      <td>0.080</td>\n      <td>0.080</td>\n    </tr>\n    <tr>\n      <th>241</th>\n      <td>3</td>\n      <td>1080</td>\n      <td>6300</td>\n      <td>270.0</td>\n      <td>0</td>\n      <td>0.0</td>\n      <td>3.0</td>\n      <td>500</td>\n      <td>1000</td>\n      <td>800</td>\n      <td>...</td>\n      <td>0.067</td>\n      <td>0.070</td>\n      <td>0.070</td>\n      <td>0.075</td>\n      <td>0.070</td>\n      <td>0.08</td>\n      <td>0.080</td>\n      <td>0.086</td>\n      <td>0.076</td>\n      <td>0.090</td>\n    </tr>\n    <tr>\n      <th>242</th>\n      <td>3</td>\n      <td>1080</td>\n      <td>6300</td>\n      <td>270.0</td>\n      <td>0</td>\n      <td>0.0</td>\n      <td>4.0</td>\n      <td>500</td>\n      <td>1000</td>\n      <td>800</td>\n      <td>...</td>\n      <td>0.064</td>\n      <td>0.080</td>\n      <td>0.060</td>\n      <td>0.076</td>\n      <td>0.075</td>\n      <td>0.20</td>\n      <td>0.070</td>\n      <td>0.091</td>\n      <td>0.073</td>\n      <td>0.080</td>\n    </tr>\n    <tr>\n      <th>243</th>\n      <td>3</td>\n      <td>1080</td>\n      <td>6300</td>\n      <td>270.0</td>\n      <td>0</td>\n      <td>0.0</td>\n      <td>5.0</td>\n      <td>500</td>\n      <td>1000</td>\n      <td>800</td>\n      <td>...</td>\n      <td>0.077</td>\n      <td>0.060</td>\n      <td>0.070</td>\n      <td>0.076</td>\n      <td>0.070</td>\n      <td>0.20</td>\n      <td>0.050</td>\n      <td>0.076</td>\n      <td>0.071</td>\n      <td>0.080</td>\n    </tr>\n  </tbody>\n</table>\n<p>113 rows × 65 columns</p>\n</div>"
     },
     "execution_count": 305,
     "metadata": {},
     "output_type": "execute_result"
    }
   ],
   "source": [
    "# 分别处理X的数据和Y的数据\n",
    "# 处理非数值的数据\n",
    "X_data.loc[:,'Con-2']=X_data.loc[:,'Con-2'].replace('L1','1')\n",
    "X_data.loc[:,'Con-2']=X_data.loc[:,'Con-2'].replace('L2','2')\n",
    "X_data.loc[:,'Con-2']=X_data.loc[:,'Con-2'].replace('L3','3')\n",
    "X_data.loc[:,'Con-2']=X_data.loc[:,'Con-2'].replace('L4','4')\n",
    "# todo 查找关键字\n",
    "X_data.loc[:,'Con-6']=X_data.loc[:,'Con-6'].replace('干法','0')\n",
    "X_data.loc[:,'Con-6']=X_data.loc[:,'Con-6'].replace('湿法','1')\n",
    "X_data"
   ],
   "metadata": {
    "collapsed": false,
    "pycharm": {
     "name": "#%%\n"
    }
   }
  },
  {
   "cell_type": "code",
   "execution_count": 306,
   "outputs": [
    {
     "name": "stderr",
     "output_type": "stream",
     "text": [
      "C:\\Users\\king\\AppData\\Local\\Temp\\ipykernel_16060\\2161628864.py:10: DeprecationWarning: `np.float` is a deprecated alias for the builtin `float`. To silence this warning, use `float` by itself. Doing this will not modify any behavior and is safe. If you specifically wanted the numpy scalar type, use `np.float64` here.\n",
      "Deprecated in NumPy 1.20; for more details and guidance: https://numpy.org/devdocs/release/1.20.0-notes.html#deprecations\n",
      "  curvalue=np.float(Y_data.iloc[curindex])\n"
     ]
    },
    {
     "data": {
      "text/plain": "0   per1\n10     1\n11     1\n12     1\n13     1\n14     0\n..   ...\n230    1\n238    1\n241    0\n242    0\n243    0\n\n[113 rows x 1 columns]",
      "text/html": "<div>\n<style scoped>\n    .dataframe tbody tr th:only-of-type {\n        vertical-align: middle;\n    }\n\n    .dataframe tbody tr th {\n        vertical-align: top;\n    }\n\n    .dataframe thead th {\n        text-align: right;\n    }\n</style>\n<table border=\"1\" class=\"dataframe\">\n  <thead>\n    <tr style=\"text-align: right;\">\n      <th></th>\n      <th>per1</th>\n    </tr>\n  </thead>\n  <tbody>\n    <tr>\n      <th>10</th>\n      <td>1</td>\n    </tr>\n    <tr>\n      <th>11</th>\n      <td>1</td>\n    </tr>\n    <tr>\n      <th>12</th>\n      <td>1</td>\n    </tr>\n    <tr>\n      <th>13</th>\n      <td>1</td>\n    </tr>\n    <tr>\n      <th>14</th>\n      <td>0</td>\n    </tr>\n    <tr>\n      <th>...</th>\n      <td>...</td>\n    </tr>\n    <tr>\n      <th>230</th>\n      <td>1</td>\n    </tr>\n    <tr>\n      <th>238</th>\n      <td>1</td>\n    </tr>\n    <tr>\n      <th>241</th>\n      <td>0</td>\n    </tr>\n    <tr>\n      <th>242</th>\n      <td>0</td>\n    </tr>\n    <tr>\n      <th>243</th>\n      <td>0</td>\n    </tr>\n  </tbody>\n</table>\n<p>113 rows × 1 columns</p>\n</div>"
     },
     "execution_count": 306,
     "metadata": {},
     "output_type": "execute_result"
    }
   ],
   "source": [
    "# 处理Y的值\n",
    "# 取前5% 为1 后5%为-1 其余的为0\n",
    "# 先找出最大值   int(Y_data.max())\n",
    "# 1. 当`df[2]>0.6`时，用`df[1]`的值替代`df[3]`的值，否则用df[0]的值保持。\n",
    "flag=float(Y_data.max())*0.95\n",
    "flag\n",
    "# 依次处理数据\n",
    "# todo 转变成 np array\n",
    "for curindex in range(0,len(Y_data)):\n",
    "    # curvalue =Y_data.iloc[curindex:curindex+1,:]\n",
    "    curvalue=np.float(Y_data.iloc[curindex])\n",
    "    # print(curvalue)\n",
    "    # 如果在前 0.05 设置为1\n",
    "    if(curvalue >flag):\n",
    "        Y_data.iloc[curindex:curindex+1,:]=1\n",
    "    # 如果在后0.05 设置为-1\n",
    "    elif(curvalue <(1-flag)):\n",
    "        Y_data.iloc[curindex:curindex+1,:]=-1\n",
    "    # 其他情况 为0\n",
    "    else:\n",
    "        Y_data.iloc[curindex:curindex+1,:]=0\n",
    "\n",
    "# Y_data[3] = np.where(Y_data[2]>int(Y_data.max()), Y_data[1], Y_data[0])\n",
    "\n",
    "Y_data"
   ],
   "metadata": {
    "collapsed": false,
    "pycharm": {
     "name": "#%%\n"
    }
   }
  },
  {
   "cell_type": "code",
   "execution_count": 345,
   "outputs": [],
   "source": [
    "# print(X_data.isnull().any())\n",
    "X_data=np.array(X_data)\n",
    "X_data[X_data=='NaN']='@'\n",
    "if '@' in X_data:\n",
    "    print(1123)"
   ],
   "metadata": {
    "collapsed": false,
    "pycharm": {
     "name": "#%%\n"
    }
   }
  },
  {
   "cell_type": "code",
   "execution_count": 333,
   "outputs": [
    {
     "ename": "ValueError",
     "evalue": "Input contains NaN, infinity or a value too large for dtype('float32').",
     "output_type": "error",
     "traceback": [
      "\u001B[1;31m---------------------------------------------------------------------------\u001B[0m",
      "\u001B[1;31mValueError\u001B[0m                                Traceback (most recent call last)",
      "Input \u001B[1;32mIn [333]\u001B[0m, in \u001B[0;36m<cell line: 11>\u001B[1;34m()\u001B[0m\n\u001B[0;32m      9\u001B[0m Gbc\u001B[38;5;241m=\u001B[39mGradientBoostingClassifier()\n\u001B[0;32m     10\u001B[0m \u001B[38;5;66;03m# 训练模型\u001B[39;00m\n\u001B[1;32m---> 11\u001B[0m \u001B[43mRfc\u001B[49m\u001B[38;5;241;43m.\u001B[39;49m\u001B[43mfit\u001B[49m\u001B[43m(\u001B[49m\u001B[43mX_data\u001B[49m\u001B[43m,\u001B[49m\u001B[43m \u001B[49m\u001B[43mY_data\u001B[49m\u001B[38;5;241;43m.\u001B[39;49m\u001B[43mastype\u001B[49m\u001B[43m(\u001B[49m\u001B[43mfloat64\u001B[49m\u001B[43m)\u001B[49m\u001B[43m)\u001B[49m\n\u001B[0;32m     12\u001B[0m Gbc\u001B[38;5;241m.\u001B[39mfit(X_data, Y_data\u001B[38;5;241m.\u001B[39mastype(float64))\n\u001B[0;32m     13\u001B[0m y_1 \u001B[38;5;241m=\u001B[39m Rfc\u001B[38;5;241m.\u001B[39mpredict(X_data)\n",
      "File \u001B[1;32mC:\\All_Softwares\\Develop_Tools\\Python310\\lib\\site-packages\\sklearn\\ensemble\\_forest.py:327\u001B[0m, in \u001B[0;36mBaseForest.fit\u001B[1;34m(self, X, y, sample_weight)\u001B[0m\n\u001B[0;32m    325\u001B[0m \u001B[38;5;28;01mif\u001B[39;00m issparse(y):\n\u001B[0;32m    326\u001B[0m     \u001B[38;5;28;01mraise\u001B[39;00m \u001B[38;5;167;01mValueError\u001B[39;00m(\u001B[38;5;124m\"\u001B[39m\u001B[38;5;124msparse multilabel-indicator for y is not supported.\u001B[39m\u001B[38;5;124m\"\u001B[39m)\n\u001B[1;32m--> 327\u001B[0m X, y \u001B[38;5;241m=\u001B[39m \u001B[38;5;28;43mself\u001B[39;49m\u001B[38;5;241;43m.\u001B[39;49m\u001B[43m_validate_data\u001B[49m\u001B[43m(\u001B[49m\n\u001B[0;32m    328\u001B[0m \u001B[43m    \u001B[49m\u001B[43mX\u001B[49m\u001B[43m,\u001B[49m\u001B[43m \u001B[49m\u001B[43my\u001B[49m\u001B[43m,\u001B[49m\u001B[43m \u001B[49m\u001B[43mmulti_output\u001B[49m\u001B[38;5;241;43m=\u001B[39;49m\u001B[38;5;28;43;01mTrue\u001B[39;49;00m\u001B[43m,\u001B[49m\u001B[43m \u001B[49m\u001B[43maccept_sparse\u001B[49m\u001B[38;5;241;43m=\u001B[39;49m\u001B[38;5;124;43m\"\u001B[39;49m\u001B[38;5;124;43mcsc\u001B[39;49m\u001B[38;5;124;43m\"\u001B[39;49m\u001B[43m,\u001B[49m\u001B[43m \u001B[49m\u001B[43mdtype\u001B[49m\u001B[38;5;241;43m=\u001B[39;49m\u001B[43mDTYPE\u001B[49m\n\u001B[0;32m    329\u001B[0m \u001B[43m\u001B[49m\u001B[43m)\u001B[49m\n\u001B[0;32m    330\u001B[0m \u001B[38;5;28;01mif\u001B[39;00m sample_weight \u001B[38;5;129;01mis\u001B[39;00m \u001B[38;5;129;01mnot\u001B[39;00m \u001B[38;5;28;01mNone\u001B[39;00m:\n\u001B[0;32m    331\u001B[0m     sample_weight \u001B[38;5;241m=\u001B[39m _check_sample_weight(sample_weight, X)\n",
      "File \u001B[1;32mC:\\All_Softwares\\Develop_Tools\\Python310\\lib\\site-packages\\sklearn\\base.py:581\u001B[0m, in \u001B[0;36mBaseEstimator._validate_data\u001B[1;34m(self, X, y, reset, validate_separately, **check_params)\u001B[0m\n\u001B[0;32m    579\u001B[0m         y \u001B[38;5;241m=\u001B[39m check_array(y, \u001B[38;5;241m*\u001B[39m\u001B[38;5;241m*\u001B[39mcheck_y_params)\n\u001B[0;32m    580\u001B[0m     \u001B[38;5;28;01melse\u001B[39;00m:\n\u001B[1;32m--> 581\u001B[0m         X, y \u001B[38;5;241m=\u001B[39m check_X_y(X, y, \u001B[38;5;241m*\u001B[39m\u001B[38;5;241m*\u001B[39mcheck_params)\n\u001B[0;32m    582\u001B[0m     out \u001B[38;5;241m=\u001B[39m X, y\n\u001B[0;32m    584\u001B[0m \u001B[38;5;28;01mif\u001B[39;00m \u001B[38;5;129;01mnot\u001B[39;00m no_val_X \u001B[38;5;129;01mand\u001B[39;00m check_params\u001B[38;5;241m.\u001B[39mget(\u001B[38;5;124m\"\u001B[39m\u001B[38;5;124mensure_2d\u001B[39m\u001B[38;5;124m\"\u001B[39m, \u001B[38;5;28;01mTrue\u001B[39;00m):\n",
      "File \u001B[1;32mC:\\All_Softwares\\Develop_Tools\\Python310\\lib\\site-packages\\sklearn\\utils\\validation.py:964\u001B[0m, in \u001B[0;36mcheck_X_y\u001B[1;34m(X, y, accept_sparse, accept_large_sparse, dtype, order, copy, force_all_finite, ensure_2d, allow_nd, multi_output, ensure_min_samples, ensure_min_features, y_numeric, estimator)\u001B[0m\n\u001B[0;32m    961\u001B[0m \u001B[38;5;28;01mif\u001B[39;00m y \u001B[38;5;129;01mis\u001B[39;00m \u001B[38;5;28;01mNone\u001B[39;00m:\n\u001B[0;32m    962\u001B[0m     \u001B[38;5;28;01mraise\u001B[39;00m \u001B[38;5;167;01mValueError\u001B[39;00m(\u001B[38;5;124m\"\u001B[39m\u001B[38;5;124my cannot be None\u001B[39m\u001B[38;5;124m\"\u001B[39m)\n\u001B[1;32m--> 964\u001B[0m X \u001B[38;5;241m=\u001B[39m \u001B[43mcheck_array\u001B[49m\u001B[43m(\u001B[49m\n\u001B[0;32m    965\u001B[0m \u001B[43m    \u001B[49m\u001B[43mX\u001B[49m\u001B[43m,\u001B[49m\n\u001B[0;32m    966\u001B[0m \u001B[43m    \u001B[49m\u001B[43maccept_sparse\u001B[49m\u001B[38;5;241;43m=\u001B[39;49m\u001B[43maccept_sparse\u001B[49m\u001B[43m,\u001B[49m\n\u001B[0;32m    967\u001B[0m \u001B[43m    \u001B[49m\u001B[43maccept_large_sparse\u001B[49m\u001B[38;5;241;43m=\u001B[39;49m\u001B[43maccept_large_sparse\u001B[49m\u001B[43m,\u001B[49m\n\u001B[0;32m    968\u001B[0m \u001B[43m    \u001B[49m\u001B[43mdtype\u001B[49m\u001B[38;5;241;43m=\u001B[39;49m\u001B[43mdtype\u001B[49m\u001B[43m,\u001B[49m\n\u001B[0;32m    969\u001B[0m \u001B[43m    \u001B[49m\u001B[43morder\u001B[49m\u001B[38;5;241;43m=\u001B[39;49m\u001B[43morder\u001B[49m\u001B[43m,\u001B[49m\n\u001B[0;32m    970\u001B[0m \u001B[43m    \u001B[49m\u001B[43mcopy\u001B[49m\u001B[38;5;241;43m=\u001B[39;49m\u001B[43mcopy\u001B[49m\u001B[43m,\u001B[49m\n\u001B[0;32m    971\u001B[0m \u001B[43m    \u001B[49m\u001B[43mforce_all_finite\u001B[49m\u001B[38;5;241;43m=\u001B[39;49m\u001B[43mforce_all_finite\u001B[49m\u001B[43m,\u001B[49m\n\u001B[0;32m    972\u001B[0m \u001B[43m    \u001B[49m\u001B[43mensure_2d\u001B[49m\u001B[38;5;241;43m=\u001B[39;49m\u001B[43mensure_2d\u001B[49m\u001B[43m,\u001B[49m\n\u001B[0;32m    973\u001B[0m \u001B[43m    \u001B[49m\u001B[43mallow_nd\u001B[49m\u001B[38;5;241;43m=\u001B[39;49m\u001B[43mallow_nd\u001B[49m\u001B[43m,\u001B[49m\n\u001B[0;32m    974\u001B[0m \u001B[43m    \u001B[49m\u001B[43mensure_min_samples\u001B[49m\u001B[38;5;241;43m=\u001B[39;49m\u001B[43mensure_min_samples\u001B[49m\u001B[43m,\u001B[49m\n\u001B[0;32m    975\u001B[0m \u001B[43m    \u001B[49m\u001B[43mensure_min_features\u001B[49m\u001B[38;5;241;43m=\u001B[39;49m\u001B[43mensure_min_features\u001B[49m\u001B[43m,\u001B[49m\n\u001B[0;32m    976\u001B[0m \u001B[43m    \u001B[49m\u001B[43mestimator\u001B[49m\u001B[38;5;241;43m=\u001B[39;49m\u001B[43mestimator\u001B[49m\u001B[43m,\u001B[49m\n\u001B[0;32m    977\u001B[0m \u001B[43m\u001B[49m\u001B[43m)\u001B[49m\n\u001B[0;32m    979\u001B[0m y \u001B[38;5;241m=\u001B[39m _check_y(y, multi_output\u001B[38;5;241m=\u001B[39mmulti_output, y_numeric\u001B[38;5;241m=\u001B[39my_numeric)\n\u001B[0;32m    981\u001B[0m check_consistent_length(X, y)\n",
      "File \u001B[1;32mC:\\All_Softwares\\Develop_Tools\\Python310\\lib\\site-packages\\sklearn\\utils\\validation.py:800\u001B[0m, in \u001B[0;36mcheck_array\u001B[1;34m(array, accept_sparse, accept_large_sparse, dtype, order, copy, force_all_finite, ensure_2d, allow_nd, ensure_min_samples, ensure_min_features, estimator)\u001B[0m\n\u001B[0;32m    794\u001B[0m         \u001B[38;5;28;01mraise\u001B[39;00m \u001B[38;5;167;01mValueError\u001B[39;00m(\n\u001B[0;32m    795\u001B[0m             \u001B[38;5;124m\"\u001B[39m\u001B[38;5;124mFound array with dim \u001B[39m\u001B[38;5;132;01m%d\u001B[39;00m\u001B[38;5;124m. \u001B[39m\u001B[38;5;132;01m%s\u001B[39;00m\u001B[38;5;124m expected <= 2.\u001B[39m\u001B[38;5;124m\"\u001B[39m\n\u001B[0;32m    796\u001B[0m             \u001B[38;5;241m%\u001B[39m (array\u001B[38;5;241m.\u001B[39mndim, estimator_name)\n\u001B[0;32m    797\u001B[0m         )\n\u001B[0;32m    799\u001B[0m     \u001B[38;5;28;01mif\u001B[39;00m force_all_finite:\n\u001B[1;32m--> 800\u001B[0m         \u001B[43m_assert_all_finite\u001B[49m\u001B[43m(\u001B[49m\u001B[43marray\u001B[49m\u001B[43m,\u001B[49m\u001B[43m \u001B[49m\u001B[43mallow_nan\u001B[49m\u001B[38;5;241;43m=\u001B[39;49m\u001B[43mforce_all_finite\u001B[49m\u001B[43m \u001B[49m\u001B[38;5;241;43m==\u001B[39;49m\u001B[43m \u001B[49m\u001B[38;5;124;43m\"\u001B[39;49m\u001B[38;5;124;43mallow-nan\u001B[39;49m\u001B[38;5;124;43m\"\u001B[39;49m\u001B[43m)\u001B[49m\n\u001B[0;32m    802\u001B[0m \u001B[38;5;28;01mif\u001B[39;00m ensure_min_samples \u001B[38;5;241m>\u001B[39m \u001B[38;5;241m0\u001B[39m:\n\u001B[0;32m    803\u001B[0m     n_samples \u001B[38;5;241m=\u001B[39m _num_samples(array)\n",
      "File \u001B[1;32mC:\\All_Softwares\\Develop_Tools\\Python310\\lib\\site-packages\\sklearn\\utils\\validation.py:114\u001B[0m, in \u001B[0;36m_assert_all_finite\u001B[1;34m(X, allow_nan, msg_dtype)\u001B[0m\n\u001B[0;32m    107\u001B[0m     \u001B[38;5;28;01mif\u001B[39;00m (\n\u001B[0;32m    108\u001B[0m         allow_nan\n\u001B[0;32m    109\u001B[0m         \u001B[38;5;129;01mand\u001B[39;00m np\u001B[38;5;241m.\u001B[39misinf(X)\u001B[38;5;241m.\u001B[39many()\n\u001B[0;32m    110\u001B[0m         \u001B[38;5;129;01mor\u001B[39;00m \u001B[38;5;129;01mnot\u001B[39;00m allow_nan\n\u001B[0;32m    111\u001B[0m         \u001B[38;5;129;01mand\u001B[39;00m \u001B[38;5;129;01mnot\u001B[39;00m np\u001B[38;5;241m.\u001B[39misfinite(X)\u001B[38;5;241m.\u001B[39mall()\n\u001B[0;32m    112\u001B[0m     ):\n\u001B[0;32m    113\u001B[0m         type_err \u001B[38;5;241m=\u001B[39m \u001B[38;5;124m\"\u001B[39m\u001B[38;5;124minfinity\u001B[39m\u001B[38;5;124m\"\u001B[39m \u001B[38;5;28;01mif\u001B[39;00m allow_nan \u001B[38;5;28;01melse\u001B[39;00m \u001B[38;5;124m\"\u001B[39m\u001B[38;5;124mNaN, infinity\u001B[39m\u001B[38;5;124m\"\u001B[39m\n\u001B[1;32m--> 114\u001B[0m         \u001B[38;5;28;01mraise\u001B[39;00m \u001B[38;5;167;01mValueError\u001B[39;00m(\n\u001B[0;32m    115\u001B[0m             msg_err\u001B[38;5;241m.\u001B[39mformat(\n\u001B[0;32m    116\u001B[0m                 type_err, msg_dtype \u001B[38;5;28;01mif\u001B[39;00m msg_dtype \u001B[38;5;129;01mis\u001B[39;00m \u001B[38;5;129;01mnot\u001B[39;00m \u001B[38;5;28;01mNone\u001B[39;00m \u001B[38;5;28;01melse\u001B[39;00m X\u001B[38;5;241m.\u001B[39mdtype\n\u001B[0;32m    117\u001B[0m             )\n\u001B[0;32m    118\u001B[0m         )\n\u001B[0;32m    119\u001B[0m \u001B[38;5;66;03m# for object dtype data, we only check for NaNs (GH-13254)\u001B[39;00m\n\u001B[0;32m    120\u001B[0m \u001B[38;5;28;01melif\u001B[39;00m X\u001B[38;5;241m.\u001B[39mdtype \u001B[38;5;241m==\u001B[39m np\u001B[38;5;241m.\u001B[39mdtype(\u001B[38;5;124m\"\u001B[39m\u001B[38;5;124mobject\u001B[39m\u001B[38;5;124m\"\u001B[39m) \u001B[38;5;129;01mand\u001B[39;00m \u001B[38;5;129;01mnot\u001B[39;00m allow_nan:\n",
      "\u001B[1;31mValueError\u001B[0m: Input contains NaN, infinity or a value too large for dtype('float32')."
     ]
    }
   ],
   "source": [
    "from numpy import float64\n",
    "from sklearn.metrics import r2_score\n",
    "from sklearn.ensemble import RandomForestClassifier, GradientBoostingClassifier\n",
    "\n",
    "# 开始训练模型 采取随机森林测试\n",
    "# 获取模型  随机森林\n",
    "Rfc=RandomForestClassifier()\n",
    "# 梯度提升树\n",
    "Gbc=GradientBoostingClassifier()\n",
    "# 训练模型\n",
    "Rfc.fit(X_data, Y_data.astype(float64))\n",
    "Gbc.fit(X_data, Y_data.astype(float64))\n",
    "y_1 = Rfc.predict(X_data)\n",
    "y_2 = Gbc.predict(X_data)\n",
    "\n",
    "# 预测结果，用的 r2_score\n",
    "#计算拟合的结果（测试集的）\n",
    "y1_score=r2_score(Y_data,y_1)\n",
    "y2_score=r2_score(Y_data,y_2)\n",
    "\n",
    "print(y1_score)\n",
    "print(y2_score)"
   ],
   "metadata": {
    "collapsed": false,
    "pycharm": {
     "name": "#%%\n"
    }
   }
  },
  {
   "cell_type": "code",
   "execution_count": null,
   "outputs": [],
   "source": [
    "# 分分割线-------------------------------------------------------------------------------------------------"
   ],
   "metadata": {
    "collapsed": false,
    "pycharm": {
     "name": "#%%\n"
    }
   }
  },
  {
   "cell_type": "code",
   "execution_count": 84,
   "outputs": [],
   "source": [
    "# 直接删除有缺失值的\n",
    "data=data.dropna(axis=0)\n",
    "# 查看存在缺失值\n",
    "data.any()\n",
    "# data.isnull()"
   ],
   "metadata": {
    "collapsed": false,
    "pycharm": {
     "name": "#%%\n"
    }
   }
  },
  {
   "cell_type": "code",
   "execution_count": 97,
   "outputs": [
    {
     "data": {
      "text/plain": "0   Con-2  Con-3 Con-4  Con-5 Con-6  Con-7  Con-8  Con-9  Con-10  Con-11  ...  \\\n10      1   1055  4300  380.0     0    0.0    0.0   1500    1200     700  ...   \n11      1   1055  4300  380.0     0    0.0    0.5   1500    1200     700  ...   \n12      1   1055  4300  380.0     0    0.0    1.0   1500    1200     700  ...   \n13      1   1055  4300  380.0     0    0.0    1.5   1500    1200     700  ...   \n14      1   1055  4300  380.0     0    0.0    2.0   1500    1200     700  ...   \n..    ...    ...   ...    ...   ...    ...    ...    ...     ...     ...  ...   \n230     3   1100  4300  270.0     0    0.0    6.0    500    1000     800  ...   \n238     3   1080  6300  270.0     1    0.0    3.0      0    1000     800  ...   \n241     3   1080  6300  270.0     0    0.0    3.0    500    1000     800  ...   \n242     3   1080  6300  270.0     0    0.0    4.0    500    1000     800  ...   \n243     3   1080  6300  270.0     0    0.0    5.0    500    1000     800  ...   \n\n0    Str31  Str32  Str33  Str34  Str35  Str36  Str37  Str38  Str39  Str40  \n10   0.064  0.060  0.052  0.069  0.080   0.10  0.060  0.086  0.073  0.093  \n11   0.063  0.080  0.077  0.073  0.070   1.00  0.090  0.082  0.061  0.090  \n12   0.064  0.080  0.065  0.070  0.080   0.10  0.090  0.075  0.075  0.093  \n13   0.065  0.060  0.066  0.070  0.070   0.08  0.060  0.081  0.073  0.077  \n14   0.070  0.050  0.058  0.072  0.070   0.04  0.050  0.107  0.081  0.090  \n..     ...    ...    ...    ...    ...    ...    ...    ...    ...    ...  \n230  0.067  0.070  0.070  0.073  0.070   0.05  0.080  0.078  0.083  0.080  \n238  0.074  0.078  0.077  0.075  0.079   0.07  0.085  0.087  0.080  0.080  \n241  0.067  0.070  0.070  0.075  0.070   0.08  0.080  0.086  0.076  0.090  \n242  0.064  0.080  0.060  0.076  0.075   0.20  0.070  0.091  0.073  0.080  \n243  0.077  0.060  0.070  0.076  0.070   0.20  0.050  0.076  0.071  0.080  \n\n[126 rows x 65 columns]",
      "text/html": "<div>\n<style scoped>\n    .dataframe tbody tr th:only-of-type {\n        vertical-align: middle;\n    }\n\n    .dataframe tbody tr th {\n        vertical-align: top;\n    }\n\n    .dataframe thead th {\n        text-align: right;\n    }\n</style>\n<table border=\"1\" class=\"dataframe\">\n  <thead>\n    <tr style=\"text-align: right;\">\n      <th></th>\n      <th>Con-2</th>\n      <th>Con-3</th>\n      <th>Con-4</th>\n      <th>Con-5</th>\n      <th>Con-6</th>\n      <th>Con-7</th>\n      <th>Con-8</th>\n      <th>Con-9</th>\n      <th>Con-10</th>\n      <th>Con-11</th>\n      <th>...</th>\n      <th>Str31</th>\n      <th>Str32</th>\n      <th>Str33</th>\n      <th>Str34</th>\n      <th>Str35</th>\n      <th>Str36</th>\n      <th>Str37</th>\n      <th>Str38</th>\n      <th>Str39</th>\n      <th>Str40</th>\n    </tr>\n  </thead>\n  <tbody>\n    <tr>\n      <th>10</th>\n      <td>1</td>\n      <td>1055</td>\n      <td>4300</td>\n      <td>380.0</td>\n      <td>0</td>\n      <td>0.0</td>\n      <td>0.0</td>\n      <td>1500</td>\n      <td>1200</td>\n      <td>700</td>\n      <td>...</td>\n      <td>0.064</td>\n      <td>0.060</td>\n      <td>0.052</td>\n      <td>0.069</td>\n      <td>0.080</td>\n      <td>0.10</td>\n      <td>0.060</td>\n      <td>0.086</td>\n      <td>0.073</td>\n      <td>0.093</td>\n    </tr>\n    <tr>\n      <th>11</th>\n      <td>1</td>\n      <td>1055</td>\n      <td>4300</td>\n      <td>380.0</td>\n      <td>0</td>\n      <td>0.0</td>\n      <td>0.5</td>\n      <td>1500</td>\n      <td>1200</td>\n      <td>700</td>\n      <td>...</td>\n      <td>0.063</td>\n      <td>0.080</td>\n      <td>0.077</td>\n      <td>0.073</td>\n      <td>0.070</td>\n      <td>1.00</td>\n      <td>0.090</td>\n      <td>0.082</td>\n      <td>0.061</td>\n      <td>0.090</td>\n    </tr>\n    <tr>\n      <th>12</th>\n      <td>1</td>\n      <td>1055</td>\n      <td>4300</td>\n      <td>380.0</td>\n      <td>0</td>\n      <td>0.0</td>\n      <td>1.0</td>\n      <td>1500</td>\n      <td>1200</td>\n      <td>700</td>\n      <td>...</td>\n      <td>0.064</td>\n      <td>0.080</td>\n      <td>0.065</td>\n      <td>0.070</td>\n      <td>0.080</td>\n      <td>0.10</td>\n      <td>0.090</td>\n      <td>0.075</td>\n      <td>0.075</td>\n      <td>0.093</td>\n    </tr>\n    <tr>\n      <th>13</th>\n      <td>1</td>\n      <td>1055</td>\n      <td>4300</td>\n      <td>380.0</td>\n      <td>0</td>\n      <td>0.0</td>\n      <td>1.5</td>\n      <td>1500</td>\n      <td>1200</td>\n      <td>700</td>\n      <td>...</td>\n      <td>0.065</td>\n      <td>0.060</td>\n      <td>0.066</td>\n      <td>0.070</td>\n      <td>0.070</td>\n      <td>0.08</td>\n      <td>0.060</td>\n      <td>0.081</td>\n      <td>0.073</td>\n      <td>0.077</td>\n    </tr>\n    <tr>\n      <th>14</th>\n      <td>1</td>\n      <td>1055</td>\n      <td>4300</td>\n      <td>380.0</td>\n      <td>0</td>\n      <td>0.0</td>\n      <td>2.0</td>\n      <td>1500</td>\n      <td>1200</td>\n      <td>700</td>\n      <td>...</td>\n      <td>0.070</td>\n      <td>0.050</td>\n      <td>0.058</td>\n      <td>0.072</td>\n      <td>0.070</td>\n      <td>0.04</td>\n      <td>0.050</td>\n      <td>0.107</td>\n      <td>0.081</td>\n      <td>0.090</td>\n    </tr>\n    <tr>\n      <th>...</th>\n      <td>...</td>\n      <td>...</td>\n      <td>...</td>\n      <td>...</td>\n      <td>...</td>\n      <td>...</td>\n      <td>...</td>\n      <td>...</td>\n      <td>...</td>\n      <td>...</td>\n      <td>...</td>\n      <td>...</td>\n      <td>...</td>\n      <td>...</td>\n      <td>...</td>\n      <td>...</td>\n      <td>...</td>\n      <td>...</td>\n      <td>...</td>\n      <td>...</td>\n      <td>...</td>\n    </tr>\n    <tr>\n      <th>230</th>\n      <td>3</td>\n      <td>1100</td>\n      <td>4300</td>\n      <td>270.0</td>\n      <td>0</td>\n      <td>0.0</td>\n      <td>6.0</td>\n      <td>500</td>\n      <td>1000</td>\n      <td>800</td>\n      <td>...</td>\n      <td>0.067</td>\n      <td>0.070</td>\n      <td>0.070</td>\n      <td>0.073</td>\n      <td>0.070</td>\n      <td>0.05</td>\n      <td>0.080</td>\n      <td>0.078</td>\n      <td>0.083</td>\n      <td>0.080</td>\n    </tr>\n    <tr>\n      <th>238</th>\n      <td>3</td>\n      <td>1080</td>\n      <td>6300</td>\n      <td>270.0</td>\n      <td>1</td>\n      <td>0.0</td>\n      <td>3.0</td>\n      <td>0</td>\n      <td>1000</td>\n      <td>800</td>\n      <td>...</td>\n      <td>0.074</td>\n      <td>0.078</td>\n      <td>0.077</td>\n      <td>0.075</td>\n      <td>0.079</td>\n      <td>0.07</td>\n      <td>0.085</td>\n      <td>0.087</td>\n      <td>0.080</td>\n      <td>0.080</td>\n    </tr>\n    <tr>\n      <th>241</th>\n      <td>3</td>\n      <td>1080</td>\n      <td>6300</td>\n      <td>270.0</td>\n      <td>0</td>\n      <td>0.0</td>\n      <td>3.0</td>\n      <td>500</td>\n      <td>1000</td>\n      <td>800</td>\n      <td>...</td>\n      <td>0.067</td>\n      <td>0.070</td>\n      <td>0.070</td>\n      <td>0.075</td>\n      <td>0.070</td>\n      <td>0.08</td>\n      <td>0.080</td>\n      <td>0.086</td>\n      <td>0.076</td>\n      <td>0.090</td>\n    </tr>\n    <tr>\n      <th>242</th>\n      <td>3</td>\n      <td>1080</td>\n      <td>6300</td>\n      <td>270.0</td>\n      <td>0</td>\n      <td>0.0</td>\n      <td>4.0</td>\n      <td>500</td>\n      <td>1000</td>\n      <td>800</td>\n      <td>...</td>\n      <td>0.064</td>\n      <td>0.080</td>\n      <td>0.060</td>\n      <td>0.076</td>\n      <td>0.075</td>\n      <td>0.20</td>\n      <td>0.070</td>\n      <td>0.091</td>\n      <td>0.073</td>\n      <td>0.080</td>\n    </tr>\n    <tr>\n      <th>243</th>\n      <td>3</td>\n      <td>1080</td>\n      <td>6300</td>\n      <td>270.0</td>\n      <td>0</td>\n      <td>0.0</td>\n      <td>5.0</td>\n      <td>500</td>\n      <td>1000</td>\n      <td>800</td>\n      <td>...</td>\n      <td>0.077</td>\n      <td>0.060</td>\n      <td>0.070</td>\n      <td>0.076</td>\n      <td>0.070</td>\n      <td>0.20</td>\n      <td>0.050</td>\n      <td>0.076</td>\n      <td>0.071</td>\n      <td>0.080</td>\n    </tr>\n  </tbody>\n</table>\n<p>126 rows × 65 columns</p>\n</div>"
     },
     "execution_count": 97,
     "metadata": {},
     "output_type": "execute_result"
    }
   ],
   "source": [
    "X_data=data\n",
    "# 获取X的数据集\n",
    "X_data"
   ],
   "metadata": {
    "collapsed": false,
    "pycharm": {
     "name": "#%%\n"
    }
   }
  },
  {
   "cell_type": "code",
   "execution_count": 99,
   "outputs": [
    {
     "name": "stderr",
     "output_type": "stream",
     "text": [
      "C:\\Users\\king\\AppData\\Local\\Temp\\ipykernel_16060\\2228878737.py:2: SettingWithCopyWarning: \n",
      "A value is trying to be set on a copy of a slice from a DataFrame.\n",
      "Try using .loc[row_indexer,col_indexer] = value instead\n",
      "\n",
      "See the caveats in the documentation: https://pandas.pydata.org/pandas-docs/stable/user_guide/indexing.html#returning-a-view-versus-a-copy\n",
      "  X_data.loc[:,'Con-2']=X_data.loc[:,'Con-2'].replace('L1','1')\n",
      "C:\\Users\\king\\AppData\\Local\\Temp\\ipykernel_16060\\2228878737.py:3: SettingWithCopyWarning: \n",
      "A value is trying to be set on a copy of a slice from a DataFrame.\n",
      "Try using .loc[row_indexer,col_indexer] = value instead\n",
      "\n",
      "See the caveats in the documentation: https://pandas.pydata.org/pandas-docs/stable/user_guide/indexing.html#returning-a-view-versus-a-copy\n",
      "  X_data.loc[:,'Con-2']=X_data.loc[:,'Con-2'].replace('L2','2')\n",
      "C:\\Users\\king\\AppData\\Local\\Temp\\ipykernel_16060\\2228878737.py:4: SettingWithCopyWarning: \n",
      "A value is trying to be set on a copy of a slice from a DataFrame.\n",
      "Try using .loc[row_indexer,col_indexer] = value instead\n",
      "\n",
      "See the caveats in the documentation: https://pandas.pydata.org/pandas-docs/stable/user_guide/indexing.html#returning-a-view-versus-a-copy\n",
      "  X_data.loc[:,'Con-2']=X_data.loc[:,'Con-2'].replace('L3','3')\n",
      "C:\\Users\\king\\AppData\\Local\\Temp\\ipykernel_16060\\2228878737.py:5: SettingWithCopyWarning: \n",
      "A value is trying to be set on a copy of a slice from a DataFrame.\n",
      "Try using .loc[row_indexer,col_indexer] = value instead\n",
      "\n",
      "See the caveats in the documentation: https://pandas.pydata.org/pandas-docs/stable/user_guide/indexing.html#returning-a-view-versus-a-copy\n",
      "  X_data.loc[:,'Con-2']=X_data.loc[:,'Con-2'].replace('L4','4')\n",
      "C:\\Users\\king\\AppData\\Local\\Temp\\ipykernel_16060\\2228878737.py:7: SettingWithCopyWarning: \n",
      "A value is trying to be set on a copy of a slice from a DataFrame.\n",
      "Try using .loc[row_indexer,col_indexer] = value instead\n",
      "\n",
      "See the caveats in the documentation: https://pandas.pydata.org/pandas-docs/stable/user_guide/indexing.html#returning-a-view-versus-a-copy\n",
      "  X_data.loc[:,'Con-6']=X_data.loc[:,'Con-6'].replace('干法','0')\n",
      "C:\\Users\\king\\AppData\\Local\\Temp\\ipykernel_16060\\2228878737.py:8: SettingWithCopyWarning: \n",
      "A value is trying to be set on a copy of a slice from a DataFrame.\n",
      "Try using .loc[row_indexer,col_indexer] = value instead\n",
      "\n",
      "See the caveats in the documentation: https://pandas.pydata.org/pandas-docs/stable/user_guide/indexing.html#returning-a-view-versus-a-copy\n",
      "  X_data.loc[:,'Con-6']=X_data.loc[:,'Con-6'].replace('湿法','1')\n"
     ]
    },
    {
     "data": {
      "text/plain": "0   Con-2  Con-3 Con-4  Con-5 Con-6  Con-7  Con-8  Con-9  Con-10  Con-11  ...  \\\n10      1   1055  4300  380.0     0    0.0    0.0   1500    1200     700  ...   \n11      1   1055  4300  380.0     0    0.0    0.5   1500    1200     700  ...   \n12      1   1055  4300  380.0     0    0.0    1.0   1500    1200     700  ...   \n13      1   1055  4300  380.0     0    0.0    1.5   1500    1200     700  ...   \n14      1   1055  4300  380.0     0    0.0    2.0   1500    1200     700  ...   \n..    ...    ...   ...    ...   ...    ...    ...    ...     ...     ...  ...   \n230     3   1100  4300  270.0     0    0.0    6.0    500    1000     800  ...   \n238     3   1080  6300  270.0     1    0.0    3.0      0    1000     800  ...   \n241     3   1080  6300  270.0     0    0.0    3.0    500    1000     800  ...   \n242     3   1080  6300  270.0     0    0.0    4.0    500    1000     800  ...   \n243     3   1080  6300  270.0     0    0.0    5.0    500    1000     800  ...   \n\n0    Str31  Str32  Str33  Str34  Str35  Str36  Str37  Str38  Str39  Str40  \n10   0.064  0.060  0.052  0.069  0.080   0.10  0.060  0.086  0.073  0.093  \n11   0.063  0.080  0.077  0.073  0.070   1.00  0.090  0.082  0.061  0.090  \n12   0.064  0.080  0.065  0.070  0.080   0.10  0.090  0.075  0.075  0.093  \n13   0.065  0.060  0.066  0.070  0.070   0.08  0.060  0.081  0.073  0.077  \n14   0.070  0.050  0.058  0.072  0.070   0.04  0.050  0.107  0.081  0.090  \n..     ...    ...    ...    ...    ...    ...    ...    ...    ...    ...  \n230  0.067  0.070  0.070  0.073  0.070   0.05  0.080  0.078  0.083  0.080  \n238  0.074  0.078  0.077  0.075  0.079   0.07  0.085  0.087  0.080  0.080  \n241  0.067  0.070  0.070  0.075  0.070   0.08  0.080  0.086  0.076  0.090  \n242  0.064  0.080  0.060  0.076  0.075   0.20  0.070  0.091  0.073  0.080  \n243  0.077  0.060  0.070  0.076  0.070   0.20  0.050  0.076  0.071  0.080  \n\n[126 rows x 65 columns]",
      "text/html": "<div>\n<style scoped>\n    .dataframe tbody tr th:only-of-type {\n        vertical-align: middle;\n    }\n\n    .dataframe tbody tr th {\n        vertical-align: top;\n    }\n\n    .dataframe thead th {\n        text-align: right;\n    }\n</style>\n<table border=\"1\" class=\"dataframe\">\n  <thead>\n    <tr style=\"text-align: right;\">\n      <th></th>\n      <th>Con-2</th>\n      <th>Con-3</th>\n      <th>Con-4</th>\n      <th>Con-5</th>\n      <th>Con-6</th>\n      <th>Con-7</th>\n      <th>Con-8</th>\n      <th>Con-9</th>\n      <th>Con-10</th>\n      <th>Con-11</th>\n      <th>...</th>\n      <th>Str31</th>\n      <th>Str32</th>\n      <th>Str33</th>\n      <th>Str34</th>\n      <th>Str35</th>\n      <th>Str36</th>\n      <th>Str37</th>\n      <th>Str38</th>\n      <th>Str39</th>\n      <th>Str40</th>\n    </tr>\n  </thead>\n  <tbody>\n    <tr>\n      <th>10</th>\n      <td>1</td>\n      <td>1055</td>\n      <td>4300</td>\n      <td>380.0</td>\n      <td>0</td>\n      <td>0.0</td>\n      <td>0.0</td>\n      <td>1500</td>\n      <td>1200</td>\n      <td>700</td>\n      <td>...</td>\n      <td>0.064</td>\n      <td>0.060</td>\n      <td>0.052</td>\n      <td>0.069</td>\n      <td>0.080</td>\n      <td>0.10</td>\n      <td>0.060</td>\n      <td>0.086</td>\n      <td>0.073</td>\n      <td>0.093</td>\n    </tr>\n    <tr>\n      <th>11</th>\n      <td>1</td>\n      <td>1055</td>\n      <td>4300</td>\n      <td>380.0</td>\n      <td>0</td>\n      <td>0.0</td>\n      <td>0.5</td>\n      <td>1500</td>\n      <td>1200</td>\n      <td>700</td>\n      <td>...</td>\n      <td>0.063</td>\n      <td>0.080</td>\n      <td>0.077</td>\n      <td>0.073</td>\n      <td>0.070</td>\n      <td>1.00</td>\n      <td>0.090</td>\n      <td>0.082</td>\n      <td>0.061</td>\n      <td>0.090</td>\n    </tr>\n    <tr>\n      <th>12</th>\n      <td>1</td>\n      <td>1055</td>\n      <td>4300</td>\n      <td>380.0</td>\n      <td>0</td>\n      <td>0.0</td>\n      <td>1.0</td>\n      <td>1500</td>\n      <td>1200</td>\n      <td>700</td>\n      <td>...</td>\n      <td>0.064</td>\n      <td>0.080</td>\n      <td>0.065</td>\n      <td>0.070</td>\n      <td>0.080</td>\n      <td>0.10</td>\n      <td>0.090</td>\n      <td>0.075</td>\n      <td>0.075</td>\n      <td>0.093</td>\n    </tr>\n    <tr>\n      <th>13</th>\n      <td>1</td>\n      <td>1055</td>\n      <td>4300</td>\n      <td>380.0</td>\n      <td>0</td>\n      <td>0.0</td>\n      <td>1.5</td>\n      <td>1500</td>\n      <td>1200</td>\n      <td>700</td>\n      <td>...</td>\n      <td>0.065</td>\n      <td>0.060</td>\n      <td>0.066</td>\n      <td>0.070</td>\n      <td>0.070</td>\n      <td>0.08</td>\n      <td>0.060</td>\n      <td>0.081</td>\n      <td>0.073</td>\n      <td>0.077</td>\n    </tr>\n    <tr>\n      <th>14</th>\n      <td>1</td>\n      <td>1055</td>\n      <td>4300</td>\n      <td>380.0</td>\n      <td>0</td>\n      <td>0.0</td>\n      <td>2.0</td>\n      <td>1500</td>\n      <td>1200</td>\n      <td>700</td>\n      <td>...</td>\n      <td>0.070</td>\n      <td>0.050</td>\n      <td>0.058</td>\n      <td>0.072</td>\n      <td>0.070</td>\n      <td>0.04</td>\n      <td>0.050</td>\n      <td>0.107</td>\n      <td>0.081</td>\n      <td>0.090</td>\n    </tr>\n    <tr>\n      <th>...</th>\n      <td>...</td>\n      <td>...</td>\n      <td>...</td>\n      <td>...</td>\n      <td>...</td>\n      <td>...</td>\n      <td>...</td>\n      <td>...</td>\n      <td>...</td>\n      <td>...</td>\n      <td>...</td>\n      <td>...</td>\n      <td>...</td>\n      <td>...</td>\n      <td>...</td>\n      <td>...</td>\n      <td>...</td>\n      <td>...</td>\n      <td>...</td>\n      <td>...</td>\n      <td>...</td>\n    </tr>\n    <tr>\n      <th>230</th>\n      <td>3</td>\n      <td>1100</td>\n      <td>4300</td>\n      <td>270.0</td>\n      <td>0</td>\n      <td>0.0</td>\n      <td>6.0</td>\n      <td>500</td>\n      <td>1000</td>\n      <td>800</td>\n      <td>...</td>\n      <td>0.067</td>\n      <td>0.070</td>\n      <td>0.070</td>\n      <td>0.073</td>\n      <td>0.070</td>\n      <td>0.05</td>\n      <td>0.080</td>\n      <td>0.078</td>\n      <td>0.083</td>\n      <td>0.080</td>\n    </tr>\n    <tr>\n      <th>238</th>\n      <td>3</td>\n      <td>1080</td>\n      <td>6300</td>\n      <td>270.0</td>\n      <td>1</td>\n      <td>0.0</td>\n      <td>3.0</td>\n      <td>0</td>\n      <td>1000</td>\n      <td>800</td>\n      <td>...</td>\n      <td>0.074</td>\n      <td>0.078</td>\n      <td>0.077</td>\n      <td>0.075</td>\n      <td>0.079</td>\n      <td>0.07</td>\n      <td>0.085</td>\n      <td>0.087</td>\n      <td>0.080</td>\n      <td>0.080</td>\n    </tr>\n    <tr>\n      <th>241</th>\n      <td>3</td>\n      <td>1080</td>\n      <td>6300</td>\n      <td>270.0</td>\n      <td>0</td>\n      <td>0.0</td>\n      <td>3.0</td>\n      <td>500</td>\n      <td>1000</td>\n      <td>800</td>\n      <td>...</td>\n      <td>0.067</td>\n      <td>0.070</td>\n      <td>0.070</td>\n      <td>0.075</td>\n      <td>0.070</td>\n      <td>0.08</td>\n      <td>0.080</td>\n      <td>0.086</td>\n      <td>0.076</td>\n      <td>0.090</td>\n    </tr>\n    <tr>\n      <th>242</th>\n      <td>3</td>\n      <td>1080</td>\n      <td>6300</td>\n      <td>270.0</td>\n      <td>0</td>\n      <td>0.0</td>\n      <td>4.0</td>\n      <td>500</td>\n      <td>1000</td>\n      <td>800</td>\n      <td>...</td>\n      <td>0.064</td>\n      <td>0.080</td>\n      <td>0.060</td>\n      <td>0.076</td>\n      <td>0.075</td>\n      <td>0.20</td>\n      <td>0.070</td>\n      <td>0.091</td>\n      <td>0.073</td>\n      <td>0.080</td>\n    </tr>\n    <tr>\n      <th>243</th>\n      <td>3</td>\n      <td>1080</td>\n      <td>6300</td>\n      <td>270.0</td>\n      <td>0</td>\n      <td>0.0</td>\n      <td>5.0</td>\n      <td>500</td>\n      <td>1000</td>\n      <td>800</td>\n      <td>...</td>\n      <td>0.077</td>\n      <td>0.060</td>\n      <td>0.070</td>\n      <td>0.076</td>\n      <td>0.070</td>\n      <td>0.20</td>\n      <td>0.050</td>\n      <td>0.076</td>\n      <td>0.071</td>\n      <td>0.080</td>\n    </tr>\n  </tbody>\n</table>\n<p>126 rows × 65 columns</p>\n</div>"
     },
     "execution_count": 99,
     "metadata": {},
     "output_type": "execute_result"
    }
   ],
   "source": [
    "# 处理非数值的数据\n",
    "X_data.loc[:,'Con-2']=X_data.loc[:,'Con-2'].replace('L1','1')\n",
    "X_data.loc[:,'Con-2']=X_data.loc[:,'Con-2'].replace('L2','2')\n",
    "X_data.loc[:,'Con-2']=X_data.loc[:,'Con-2'].replace('L3','3')\n",
    "X_data.loc[:,'Con-2']=X_data.loc[:,'Con-2'].replace('L4','4')\n",
    "\n",
    "X_data.loc[:,'Con-6']=X_data.loc[:,'Con-6'].replace('干法','0')\n",
    "X_data.loc[:,'Con-6']=X_data.loc[:,'Con-6'].replace('湿法','1')\n",
    "X_data"
   ],
   "metadata": {
    "collapsed": false,
    "pycharm": {
     "name": "#%%\n"
    }
   }
  },
  {
   "cell_type": "code",
   "execution_count": 86,
   "outputs": [],
   "source": [
    "from pandas import DataFrame\n",
    "import numpy as np\n",
    "# 找到有缺失数据的索引\n",
    "# NullLine=data[data.isnull().values==True]\n",
    "# # NullLine.index.values\n",
    "# # 删除多行数据 可以传列表 axis 0代表行 1代表列\n",
    "# a=data.drop(NullLine.index.values,axis=0)\n",
    "# a"
   ],
   "metadata": {
    "collapsed": false,
    "pycharm": {
     "name": "#%%\n"
    }
   }
  },
  {
   "cell_type": "code",
   "execution_count": 89,
   "outputs": [],
   "source": [
    "import numpy as np\n",
    "# 找到有缺失数据的索引\n",
    "# NullLine=data[data.isnull().values==True]\n",
    "# type(np.array(NullLine))\n",
    "# for i in  NullLine.index:\n",
    "#     X_data = data.drop([NullLine[0]])\n",
    "# 找到索引\n",
    "# NullIndex=NullLine.index.values[0]\n",
    "# X_data = data.drop(data.index[NullIndex])\n",
    "# X_data"
   ],
   "metadata": {
    "collapsed": false,
    "pycharm": {
     "name": "#%%\n"
    }
   }
  },
  {
   "cell_type": "code",
   "execution_count": 88,
   "outputs": [],
   "source": [
    "# 读取指定的行 处理掉'/'\n",
    "# data.loc[:,'Con-4'].replace('/','NaN')\n",
    "# b=data.drop(NullLine.index.values,axis=0)\n",
    "# b\n",
    "# data.isnull().T.any()"
   ],
   "metadata": {
    "collapsed": false,
    "pycharm": {
     "name": "#%%\n"
    }
   }
  },
  {
   "cell_type": "code",
   "execution_count": 90,
   "outputs": [],
   "source": [
    "#获取Y的数据集\n",
    "# per1 到 per26  per9 到per12 没用数据"
   ],
   "metadata": {
    "collapsed": false,
    "pycharm": {
     "name": "#%%\n"
    }
   }
  },
  {
   "cell_type": "code",
   "execution_count": 104,
   "outputs": [
    {
     "data": {
      "text/plain": "0   Con-2  Con-3 Con-4  Con-5 Con-6  Con-7  Con-8  Con-9  Con-10  Con-11  ...  \\\n10      1   1055  4300  380.0     0    0.0    0.0   1500    1200     700  ...   \n11      1   1055  4300  380.0     0    0.0    0.5   1500    1200     700  ...   \n12      1   1055  4300  380.0     0    0.0    1.0   1500    1200     700  ...   \n13      1   1055  4300  380.0     0    0.0    1.5   1500    1200     700  ...   \n14      1   1055  4300  380.0     0    0.0    2.0   1500    1200     700  ...   \n..    ...    ...   ...    ...   ...    ...    ...    ...     ...     ...  ...   \n230     3   1100  4300  270.0     0    0.0    6.0    500    1000     800  ...   \n238     3   1080  6300  270.0     1    0.0    3.0      0    1000     800  ...   \n241     3   1080  6300  270.0     0    0.0    3.0    500    1000     800  ...   \n242     3   1080  6300  270.0     0    0.0    4.0    500    1000     800  ...   \n243     3   1080  6300  270.0     0    0.0    5.0    500    1000     800  ...   \n\n0    Str31  Str32  Str33  Str34  Str35  Str36  Str37  Str38  Str39  Str40  \n10   0.064  0.060  0.052  0.069  0.080   0.10  0.060  0.086  0.073  0.093  \n11   0.063  0.080  0.077  0.073  0.070   1.00  0.090  0.082  0.061  0.090  \n12   0.064  0.080  0.065  0.070  0.080   0.10  0.090  0.075  0.075  0.093  \n13   0.065  0.060  0.066  0.070  0.070   0.08  0.060  0.081  0.073  0.077  \n14   0.070  0.050  0.058  0.072  0.070   0.04  0.050  0.107  0.081  0.090  \n..     ...    ...    ...    ...    ...    ...    ...    ...    ...    ...  \n230  0.067  0.070  0.070  0.073  0.070   0.05  0.080  0.078  0.083  0.080  \n238  0.074  0.078  0.077  0.075  0.079   0.07  0.085  0.087  0.080  0.080  \n241  0.067  0.070  0.070  0.075  0.070   0.08  0.080  0.086  0.076  0.090  \n242  0.064  0.080  0.060  0.076  0.075   0.20  0.070  0.091  0.073  0.080  \n243  0.077  0.060  0.070  0.076  0.070   0.20  0.050  0.076  0.071  0.080  \n\n[126 rows x 65 columns]",
      "text/html": "<div>\n<style scoped>\n    .dataframe tbody tr th:only-of-type {\n        vertical-align: middle;\n    }\n\n    .dataframe tbody tr th {\n        vertical-align: top;\n    }\n\n    .dataframe thead th {\n        text-align: right;\n    }\n</style>\n<table border=\"1\" class=\"dataframe\">\n  <thead>\n    <tr style=\"text-align: right;\">\n      <th></th>\n      <th>Con-2</th>\n      <th>Con-3</th>\n      <th>Con-4</th>\n      <th>Con-5</th>\n      <th>Con-6</th>\n      <th>Con-7</th>\n      <th>Con-8</th>\n      <th>Con-9</th>\n      <th>Con-10</th>\n      <th>Con-11</th>\n      <th>...</th>\n      <th>Str31</th>\n      <th>Str32</th>\n      <th>Str33</th>\n      <th>Str34</th>\n      <th>Str35</th>\n      <th>Str36</th>\n      <th>Str37</th>\n      <th>Str38</th>\n      <th>Str39</th>\n      <th>Str40</th>\n    </tr>\n  </thead>\n  <tbody>\n    <tr>\n      <th>10</th>\n      <td>1</td>\n      <td>1055</td>\n      <td>4300</td>\n      <td>380.0</td>\n      <td>0</td>\n      <td>0.0</td>\n      <td>0.0</td>\n      <td>1500</td>\n      <td>1200</td>\n      <td>700</td>\n      <td>...</td>\n      <td>0.064</td>\n      <td>0.060</td>\n      <td>0.052</td>\n      <td>0.069</td>\n      <td>0.080</td>\n      <td>0.10</td>\n      <td>0.060</td>\n      <td>0.086</td>\n      <td>0.073</td>\n      <td>0.093</td>\n    </tr>\n    <tr>\n      <th>11</th>\n      <td>1</td>\n      <td>1055</td>\n      <td>4300</td>\n      <td>380.0</td>\n      <td>0</td>\n      <td>0.0</td>\n      <td>0.5</td>\n      <td>1500</td>\n      <td>1200</td>\n      <td>700</td>\n      <td>...</td>\n      <td>0.063</td>\n      <td>0.080</td>\n      <td>0.077</td>\n      <td>0.073</td>\n      <td>0.070</td>\n      <td>1.00</td>\n      <td>0.090</td>\n      <td>0.082</td>\n      <td>0.061</td>\n      <td>0.090</td>\n    </tr>\n    <tr>\n      <th>12</th>\n      <td>1</td>\n      <td>1055</td>\n      <td>4300</td>\n      <td>380.0</td>\n      <td>0</td>\n      <td>0.0</td>\n      <td>1.0</td>\n      <td>1500</td>\n      <td>1200</td>\n      <td>700</td>\n      <td>...</td>\n      <td>0.064</td>\n      <td>0.080</td>\n      <td>0.065</td>\n      <td>0.070</td>\n      <td>0.080</td>\n      <td>0.10</td>\n      <td>0.090</td>\n      <td>0.075</td>\n      <td>0.075</td>\n      <td>0.093</td>\n    </tr>\n    <tr>\n      <th>13</th>\n      <td>1</td>\n      <td>1055</td>\n      <td>4300</td>\n      <td>380.0</td>\n      <td>0</td>\n      <td>0.0</td>\n      <td>1.5</td>\n      <td>1500</td>\n      <td>1200</td>\n      <td>700</td>\n      <td>...</td>\n      <td>0.065</td>\n      <td>0.060</td>\n      <td>0.066</td>\n      <td>0.070</td>\n      <td>0.070</td>\n      <td>0.08</td>\n      <td>0.060</td>\n      <td>0.081</td>\n      <td>0.073</td>\n      <td>0.077</td>\n    </tr>\n    <tr>\n      <th>14</th>\n      <td>1</td>\n      <td>1055</td>\n      <td>4300</td>\n      <td>380.0</td>\n      <td>0</td>\n      <td>0.0</td>\n      <td>2.0</td>\n      <td>1500</td>\n      <td>1200</td>\n      <td>700</td>\n      <td>...</td>\n      <td>0.070</td>\n      <td>0.050</td>\n      <td>0.058</td>\n      <td>0.072</td>\n      <td>0.070</td>\n      <td>0.04</td>\n      <td>0.050</td>\n      <td>0.107</td>\n      <td>0.081</td>\n      <td>0.090</td>\n    </tr>\n    <tr>\n      <th>...</th>\n      <td>...</td>\n      <td>...</td>\n      <td>...</td>\n      <td>...</td>\n      <td>...</td>\n      <td>...</td>\n      <td>...</td>\n      <td>...</td>\n      <td>...</td>\n      <td>...</td>\n      <td>...</td>\n      <td>...</td>\n      <td>...</td>\n      <td>...</td>\n      <td>...</td>\n      <td>...</td>\n      <td>...</td>\n      <td>...</td>\n      <td>...</td>\n      <td>...</td>\n      <td>...</td>\n    </tr>\n    <tr>\n      <th>230</th>\n      <td>3</td>\n      <td>1100</td>\n      <td>4300</td>\n      <td>270.0</td>\n      <td>0</td>\n      <td>0.0</td>\n      <td>6.0</td>\n      <td>500</td>\n      <td>1000</td>\n      <td>800</td>\n      <td>...</td>\n      <td>0.067</td>\n      <td>0.070</td>\n      <td>0.070</td>\n      <td>0.073</td>\n      <td>0.070</td>\n      <td>0.05</td>\n      <td>0.080</td>\n      <td>0.078</td>\n      <td>0.083</td>\n      <td>0.080</td>\n    </tr>\n    <tr>\n      <th>238</th>\n      <td>3</td>\n      <td>1080</td>\n      <td>6300</td>\n      <td>270.0</td>\n      <td>1</td>\n      <td>0.0</td>\n      <td>3.0</td>\n      <td>0</td>\n      <td>1000</td>\n      <td>800</td>\n      <td>...</td>\n      <td>0.074</td>\n      <td>0.078</td>\n      <td>0.077</td>\n      <td>0.075</td>\n      <td>0.079</td>\n      <td>0.07</td>\n      <td>0.085</td>\n      <td>0.087</td>\n      <td>0.080</td>\n      <td>0.080</td>\n    </tr>\n    <tr>\n      <th>241</th>\n      <td>3</td>\n      <td>1080</td>\n      <td>6300</td>\n      <td>270.0</td>\n      <td>0</td>\n      <td>0.0</td>\n      <td>3.0</td>\n      <td>500</td>\n      <td>1000</td>\n      <td>800</td>\n      <td>...</td>\n      <td>0.067</td>\n      <td>0.070</td>\n      <td>0.070</td>\n      <td>0.075</td>\n      <td>0.070</td>\n      <td>0.08</td>\n      <td>0.080</td>\n      <td>0.086</td>\n      <td>0.076</td>\n      <td>0.090</td>\n    </tr>\n    <tr>\n      <th>242</th>\n      <td>3</td>\n      <td>1080</td>\n      <td>6300</td>\n      <td>270.0</td>\n      <td>0</td>\n      <td>0.0</td>\n      <td>4.0</td>\n      <td>500</td>\n      <td>1000</td>\n      <td>800</td>\n      <td>...</td>\n      <td>0.064</td>\n      <td>0.080</td>\n      <td>0.060</td>\n      <td>0.076</td>\n      <td>0.075</td>\n      <td>0.20</td>\n      <td>0.070</td>\n      <td>0.091</td>\n      <td>0.073</td>\n      <td>0.080</td>\n    </tr>\n    <tr>\n      <th>243</th>\n      <td>3</td>\n      <td>1080</td>\n      <td>6300</td>\n      <td>270.0</td>\n      <td>0</td>\n      <td>0.0</td>\n      <td>5.0</td>\n      <td>500</td>\n      <td>1000</td>\n      <td>800</td>\n      <td>...</td>\n      <td>0.077</td>\n      <td>0.060</td>\n      <td>0.070</td>\n      <td>0.076</td>\n      <td>0.070</td>\n      <td>0.20</td>\n      <td>0.050</td>\n      <td>0.076</td>\n      <td>0.071</td>\n      <td>0.080</td>\n    </tr>\n  </tbody>\n</table>\n<p>126 rows × 65 columns</p>\n</div>"
     },
     "execution_count": 104,
     "metadata": {},
     "output_type": "execute_result"
    }
   ],
   "source": [
    "X_data"
   ],
   "metadata": {
    "collapsed": false,
    "pycharm": {
     "name": "#%%\n"
    }
   }
  },
  {
   "cell_type": "code",
   "execution_count": 139,
   "outputs": [
    {
     "data": {
      "text/plain": "0          per1\n1    184.699997\n2    187.300003\n3    188.699997\n4    188.800003\n5           185\n..          ...\n289         NaN\n290         NaN\n291         NaN\n292         NaN\n293         NaN\n\n[293 rows x 1 columns]",
      "text/html": "<div>\n<style scoped>\n    .dataframe tbody tr th:only-of-type {\n        vertical-align: middle;\n    }\n\n    .dataframe tbody tr th {\n        vertical-align: top;\n    }\n\n    .dataframe thead th {\n        text-align: right;\n    }\n</style>\n<table border=\"1\" class=\"dataframe\">\n  <thead>\n    <tr style=\"text-align: right;\">\n      <th></th>\n      <th>per1</th>\n    </tr>\n  </thead>\n  <tbody>\n    <tr>\n      <th>1</th>\n      <td>184.699997</td>\n    </tr>\n    <tr>\n      <th>2</th>\n      <td>187.300003</td>\n    </tr>\n    <tr>\n      <th>3</th>\n      <td>188.699997</td>\n    </tr>\n    <tr>\n      <th>4</th>\n      <td>188.800003</td>\n    </tr>\n    <tr>\n      <th>5</th>\n      <td>185</td>\n    </tr>\n    <tr>\n      <th>...</th>\n      <td>...</td>\n    </tr>\n    <tr>\n      <th>289</th>\n      <td>NaN</td>\n    </tr>\n    <tr>\n      <th>290</th>\n      <td>NaN</td>\n    </tr>\n    <tr>\n      <th>291</th>\n      <td>NaN</td>\n    </tr>\n    <tr>\n      <th>292</th>\n      <td>NaN</td>\n    </tr>\n    <tr>\n      <th>293</th>\n      <td>NaN</td>\n    </tr>\n  </tbody>\n</table>\n<p>293 rows × 1 columns</p>\n</div>"
     },
     "execution_count": 139,
     "metadata": {},
     "output_type": "execute_result"
    }
   ],
   "source": [
    "# 读取Y_data\n",
    "Y_data=thedata.iloc[1:,67:68]\n",
    "Y_data\n",
    "# 设置列标题\n",
    "Y_data.columns=thedata.iloc[0,67:68]\n",
    "Y_data\n"
   ],
   "metadata": {
    "collapsed": false,
    "pycharm": {
     "name": "#%%\n"
    }
   }
  }
 ],
 "metadata": {
  "kernelspec": {
   "display_name": "Python 3",
   "language": "python",
   "name": "python3"
  },
  "language_info": {
   "codemirror_mode": {
    "name": "ipython",
    "version": 2
   },
   "file_extension": ".py",
   "mimetype": "text/x-python",
   "name": "python",
   "nbconvert_exporter": "python",
   "pygments_lexer": "ipython2",
   "version": "2.7.6"
  }
 },
 "nbformat": 4,
 "nbformat_minor": 0
}