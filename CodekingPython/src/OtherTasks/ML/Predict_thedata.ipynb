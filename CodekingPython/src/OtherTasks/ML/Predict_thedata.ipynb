{
 "cells": [
  {
   "cell_type": "code",
   "execution_count": 557,
   "metadata": {
    "collapsed": true,
    "pycharm": {
     "name": "#%%\n"
    }
   },
   "outputs": [],
   "source": [
    "import pandas as pd\n",
    "\n",
    "# 这个pandas处理数据效果不太好 建议用numpy\n",
    "thedata = pd.read_excel(io='Data613.xlsx', sheet_name='数据标准化-建模用')\n",
    "Preddata = pd.read_excel(io='Data613.xlsx', sheet_name='数据标准化-预测用')\n",
    "import numpy as np\n",
    "\n",
    "thedata = np.array(thedata)\n",
    "Preddata = np.array(Preddata)\n",
    "# 将表的内容 7个数据表 挨个处理"
   ]
  },
  {
   "cell_type": "code",
   "execution_count": 558,
   "outputs": [],
   "source": [
    "from copy import copy\n",
    "from math import ceil\n",
    "# 所有的方法汇总\n",
    "# 先判断缺失数据的的条件 这个以百分之70为基准\n",
    "def Del_deletion_data(datavalue, flag):\n",
    "    # 删除缺失值过多的列\n",
    "    if flag == 1:\n",
    "        del_cols = []\n",
    "        # 先拿到元数据的长度\n",
    "        baseLength = datavalue.shape[0]\n",
    "        # 这个 用来保存需要删除的列\n",
    "        iterLength = datavalue.shape[1]\n",
    "        for i in range(iterLength):\n",
    "            temp = []\n",
    "            temp = np.where(np.isnan(datavalue[:, i].astype(float)) == True)[0].tolist() + temp\n",
    "            # print(temp)\n",
    "            # 用集合去重\n",
    "            c = set(temp)\n",
    "            # 计算缺失的总行数\n",
    "            lack_of_rows = len(c)\n",
    "            if lack_of_rows > 0.3 * baseLength:\n",
    "                del_cols.append(i)\n",
    "                # print(datavalue)\n",
    "        # flag是1则删除列，如果是0则删除行\n",
    "        final_data = np.delete(datavalue, del_cols, axis=flag)\n",
    "        # elif flag == 0:\n",
    "        #     del_raws=[]+temp\n",
    "        return final_data,del_cols\n",
    "    # 删除含有缺失值的行\n",
    "    elif flag == 0:\n",
    "        # 筛选出含有缺失值的行，用set去重\n",
    "        del_raws=set(np.where(np.isnan(datavalue.astype(float)) == True)[0].tolist())\n",
    "        del_raws=list(del_raws)\n",
    "        final_data = np.delete(datavalue, del_raws, axis=flag)\n",
    "    return final_data\n",
    "\n",
    "# 将 数据比较一下:① 必须是两边都有的数据才可以进行预测或者建模，②数据量必须是超过70%\n",
    "def Record_usable_cols(datavalue):\n",
    "    # 先拿到元数据的长度\n",
    "    baseLength = datavalue.shape[0]\n",
    "    iterLength = datavalue.shape[1]\n",
    "    # 这个 用来保存需要删除的列\n",
    "    del_cols = []\n",
    "    for i in range(iterLength):\n",
    "        temp = []\n",
    "        # 根据缺失值，将索引存到列表中\n",
    "        temp = np.where(np.isnan(datavalue[:, i].astype(float)) == True)[0].tolist() + temp\n",
    "        # print(temp)\n",
    "        # 用集合去重\n",
    "        c = set(temp)\n",
    "        # 计算缺失的总行数\n",
    "        lack_of_rows = len(c)\n",
    "        if (lack_of_rows < 0.3 * baseLength):\n",
    "            del_cols.append(i)\n",
    "            # print(datavalue)\n",
    "    return del_cols\n",
    "\n",
    "# 将两个数据的能用的列合并 判断两边的数据是否都存在\n",
    "# Original_Ydata_usableCols = Record_usable_cols(Original_Ydata)\n",
    "# pred_Ydata_usableCols = Record_usable_cols(pred_Ydata)\n",
    "# final_cols = list(set(Original_Ydata_usableCols + pred_Ydata_usableCols))\n",
    "# 这个里面的内容可以用来建模与预测\n",
    "# final_cols\n",
    "\n",
    "# 更改Y_data的为-1 0 1\n",
    "def Deal_sorted_Ydata(data):\n",
    "    # 用来记录原顺序的数组，取反\n",
    "    # order = np.argsort(-data)\n",
    "    sort_data=copy(data)\n",
    "    sort_data=sorted(sort_data)\n",
    "    # sorted返回的是数组类型，这个地方需要转成ndarray\n",
    "    sort_data=np.array(sort_data)\n",
    "    data_length=sort_data.shape[0]\n",
    "    # 根据5%为1，中间90%为0，后5%为-1\n",
    "    # 这个地方要考虑临界条件，当处于临界条件的值，全部分配给两端\n",
    "    bound_min_value=data[int(ceil(0.05*data_length))]\n",
    "    bound_max_value=data[int(ceil(0.95*data_length))]\n",
    "    print('min长度',int(ceil(0.05*data_length)))\n",
    "    print(bound_min_value,bound_max_value)\n",
    "    data=np.where(data<=bound_min_value,-1,data)\n",
    "    print('data-1: ',data)\n",
    "    data=np.where(data>=bound_max_value,1,data)\n",
    "    print('data1: ',data)\n",
    "    data=np.where((data!=1)&(data!=-1),0,data)\n",
    "    print('data0: ',data)\n",
    "    # data[0:int(data_length*0.05)]=1\n",
    "    # data[int(data_length*0.05):int(data_length*0.95)]=0\n",
    "    # data[int(data_length*0.95):]=-1\n",
    "    # 恢复原来的顺序\n",
    "    # recovery_arr = np.zeros_like(data)\n",
    "    # for idx, num in enumerate(data):\n",
    "    #     recovery_arr[order[idx]] = num\n",
    "    return data,bound_min_value,bound_max_value"
   ],
   "metadata": {
    "collapsed": false,
    "pycharm": {
     "name": "#%%\n"
    }
   }
  },
  {
   "cell_type": "code",
   "execution_count": 559,
   "outputs": [
    {
     "data": {
      "text/plain": "array([[-1, 1],\n       [-1, 1],\n       [-1, 1],\n       [-1, 1],\n       [-1, 1],\n       [-1, 1],\n       [-1, 1],\n       [-1, 1],\n       [-1, 1],\n       [-1, 1],\n       [-1, 1],\n       [-1, 1],\n       [-1, 1],\n       [-1, 1],\n       [-1, 1],\n       [-1, 1],\n       [-1, 1],\n       [-1, 1],\n       [-1, 1],\n       [-1, 1],\n       [-1, 1],\n       [-1, 1],\n       [-1, 1],\n       [-1, 1],\n       [-1, 1],\n       [-1, 1],\n       [-1, 1],\n       [-1, 1],\n       [-1, 1],\n       [-1, 1],\n       [-1, 1],\n       [-1, 1],\n       [-1, 1],\n       [-1, 1],\n       [-1, 1],\n       [-1, 0],\n       [-1, 0],\n       [-1, 1],\n       [-1, 1],\n       [-1, 1],\n       [-1, 1],\n       [-1, 1],\n       [-1, 1],\n       [-1, 0],\n       [-1, 0],\n       [-1, 1],\n       [-1, 1],\n       [-1, 1],\n       [-1, 0],\n       [-1, 0],\n       [-1, 0],\n       [-1, 0],\n       [-1, 0],\n       [-1, 0],\n       [-1, 0],\n       [-1, 0],\n       [-1, 0],\n       [-1, 0],\n       [-1, 0],\n       [-1, 0],\n       [-1, 0],\n       [-1, 0],\n       [-1, 0],\n       [-1, 2],\n       [-1, 2],\n       [-1, 2],\n       [-1, 2],\n       [-1, 2],\n       [-1, 2],\n       [-1, 2],\n       [-1, 2],\n       [-1, 2],\n       [-1, 2],\n       [-1, 2],\n       [-1, 2],\n       [-1, 2],\n       [-1, 2],\n       [-1, 2],\n       [-1, 2],\n       [-1, 2],\n       [-1, 2],\n       [-1, 2],\n       [-1, 2],\n       [-1, 2],\n       [-1, 2],\n       [-1, 2],\n       [-1, 2],\n       [-1, 2],\n       [-1, 2],\n       [-1, 2],\n       [-1, 2],\n       [-1, 2],\n       [-1, 2],\n       [-1, 2],\n       [-1, 2],\n       [-1, 2],\n       [-1, 2],\n       [-1, 2],\n       [-1, 2],\n       [-1, 2],\n       [-1, 2],\n       [-1, 2],\n       [-1, 2],\n       [-1, 2],\n       [-1, 2],\n       [-1, 2],\n       [-1, 2],\n       [-1, 2],\n       [-1, 2],\n       [-1, 2],\n       [-1, 2],\n       [-1, 2],\n       [-1, 2],\n       [-1, 2],\n       [-1, 2],\n       [-1, 2],\n       [-1, 2],\n       [-1, 2],\n       [-1, 1],\n       [-1, 1],\n       [-1, 2],\n       [-1, 2],\n       [-1, 2],\n       [-1, 2],\n       [-1, 2],\n       [-1, 2],\n       [-1, 2],\n       [-1, 2],\n       [-1, 2],\n       [-1, 2],\n       [-1, 2],\n       [-1, 2],\n       [-1, 2],\n       [-1, 2],\n       [-1, 2],\n       [-1, 2],\n       [-1, 2],\n       [-1, 2],\n       [-1, 2],\n       [-1, 2],\n       [-1, 2],\n       [-1, 2],\n       [-1, 2],\n       [-1, 2],\n       [-1, 2],\n       [-1, 2],\n       [-1, 2],\n       [-1, 2],\n       [-1, 2],\n       [-1, 2],\n       [-1, 2],\n       [-1, 2],\n       [-1, 2],\n       [-1, 2],\n       [-1, 2],\n       [-1, 2],\n       [-1, 2],\n       [-1, 2],\n       [-1, 2],\n       [-1, 2],\n       [-1, 2],\n       [-1, 2],\n       [-1, 2],\n       [-1, -1],\n       [-1, 2],\n       [-1, -1],\n       [-1, -1],\n       [-1, -1],\n       [-1, -1],\n       [-1, -1],\n       [-1, -1],\n       [-1, 2],\n       [-1, 2],\n       [-1, 2],\n       [-1, 2],\n       [3, 2],\n       [3, 2],\n       [3, 2],\n       [3, 2],\n       [3, 2],\n       [3, 2],\n       [3, 2],\n       [-1, 2],\n       [-1, 2],\n       [-1, 2],\n       [3, 2],\n       [3, 2],\n       [-1, 2],\n       [-1, 2],\n       [-1, 2],\n       [-1, 2],\n       [-1, -1],\n       [-1, -1],\n       [3, -1],\n       [3, -1],\n       [3, -1],\n       [-1, -1],\n       [-1, -1],\n       [-1, 2],\n       [-1, 2],\n       [-1, 2],\n       [-1, 2],\n       [-1, 2],\n       [3, 2],\n       [3, 2],\n       [3, 2],\n       [3, 2],\n       [3, 2],\n       [-1, 2],\n       [-1, -1],\n       [3, -1],\n       [3, -1],\n       [3, -1],\n       [3, 2],\n       [3, 2],\n       [3, 2],\n       [-1, 2],\n       [-1, 2],\n       [-1, 2],\n       [-1, 2],\n       [-1, 2],\n       [-1, 2],\n       [3, 2],\n       [-1, 2],\n       [-1, 2],\n       [-1, 2],\n       [-1, 2],\n       [-1, 2],\n       [-1, 2],\n       [3, 2],\n       [3, 2],\n       [3, -1],\n       [-1, -1],\n       [0, -1],\n       [1, -1],\n       [-1, -1],\n       [-1, -1],\n       [-1, -1],\n       [3, -1],\n       [3, -1],\n       [3, -1],\n       [3, 2],\n       [2, 2],\n       [2, -1],\n       [2, -1],\n       [2, -1],\n       [3, -1],\n       [-1, -1],\n       [-1, -1],\n       [-1, -1],\n       [-1, -1],\n       [-1, -1],\n       [-1, 2],\n       [-1, -1],\n       [-1, -1],\n       [-1, -1],\n       [-1, -1],\n       [2, 2],\n       [2, 2],\n       [2, 2],\n       [2, 2],\n       [2, -1],\n       [2, -1],\n       [2, -1],\n       [2, -1],\n       [2, 2],\n       [2, 2],\n       [2, -1],\n       [2, -1],\n       [2, -1]], dtype=object)"
     },
     "execution_count": 559,
     "metadata": {},
     "output_type": "execute_result"
    }
   ],
   "source": [
    "# 这个数据是公共部分 需要转化为数字\n",
    "Commonhead = thedata[3:, 4:6]\n",
    "# 处理带关键字的\n",
    "def convert_to_num(dealdata):\n",
    "    # 取出每一列的唯一值\n",
    "    unique_value = np.unique(dealdata)\n",
    "    index = -1\n",
    "    # 把关键字挨个处理\n",
    "    for i in unique_value:\n",
    "        dealdata = np.where(dealdata == f\"{i}\", index, dealdata)\n",
    "        index += 1\n",
    "    return dealdata\n",
    "\n",
    "\n",
    "# 替换的方法 取出第1列\n",
    "Commonhead[:, 0] = convert_to_num(Commonhead[:, 0])\n",
    "Commonhead[:, 1] = convert_to_num(Commonhead[:, 1])\n",
    "Commonhead"
   ],
   "metadata": {
    "collapsed": false,
    "pycharm": {
     "name": "#%%\n"
    }
   }
  },
  {
   "cell_type": "code",
   "execution_count": 560,
   "outputs": [],
   "source": [
    "# 处理表1和表2\n",
    "TABLE_ONE = thedata[3:, 6:19]\n",
    "# 这个地方必须转成字符串  .astype(str)\n",
    "TABLE_ONE[:, 12] = convert_to_num(TABLE_ONE[:, 12].astype(str))\n",
    "# 处理掉汉字\n",
    "TABLE_ONE[:, 12] = convert_to_num(TABLE_ONE[:, 12].astype(str))\n",
    "TABLE_TWO = thedata[3:, 19:23]"
   ],
   "metadata": {
    "collapsed": false,
    "pycharm": {
     "name": "#%%\n"
    }
   }
  },
  {
   "cell_type": "code",
   "execution_count": 561,
   "outputs": [
    {
     "data": {
      "text/plain": "array([[nan, nan, 2.2134, ..., -0.42138, 2.33126, 0.0133],\n       [nan, nan, 2.2134, ..., -0.42138, 2.33126, 0.0133],\n       [nan, nan, 0.72748, ..., -0.42138, 2.33126, 0.0133],\n       ...,\n       [-0.45089, 0.2917, -0.01548, ..., -0.42138, 0.89677, 0.0133],\n       [-0.32033, 0.5073, -0.01548, ..., -0.42138, 0.89677, 0.0133],\n       [-0.32033, 0.184, -0.01548, ..., -0.42138, 0.89677, 0.0133]],\n      dtype=object)"
     },
     "execution_count": 561,
     "metadata": {},
     "output_type": "execute_result"
    }
   ],
   "source": [
    "# 合并一下数据\n",
    "tempXdata = np.column_stack((TABLE_ONE, TABLE_TWO))\n",
    "tempXdata"
   ],
   "metadata": {
    "collapsed": false,
    "pycharm": {
     "name": "#%%\n"
    }
   }
  },
  {
   "cell_type": "code",
   "execution_count": 562,
   "outputs": [
    {
     "data": {
      "text/plain": "(array([[2.2134, -1.07136, 0.11031, ..., -0.42138, 2.33126, 0.0133],\n        [2.2134, -1.07136, 0.46461, ..., -0.42138, 2.33126, 0.0133],\n        [0.72748, 0.44016, -1.66119, ..., -0.42138, 2.33126, 0.0133],\n        ...,\n        [-0.01548, -0.16445, 0.28746, ..., -0.42138, 0.89677, 0.0133],\n        [-0.01548, -0.16445, 0.37603, ..., -0.42138, 0.89677, 0.0133],\n        [-0.01548, -0.16445, 0.55318, ..., -0.42138, 0.89677, 0.0133]],\n       dtype=object),\n [0, 1, 3, 5, 6])"
     },
     "execution_count": 562,
     "metadata": {},
     "output_type": "execute_result"
    }
   ],
   "source": [
    "# 删除部分的缺失值过多的列\n",
    "temp_data = Del_deletion_data(tempXdata, 1)\n",
    "base_Xdata = temp_data[0]\n",
    "# 获取需要删除的列\n",
    "del_cols = temp_data[1]\n",
    "base_Xdata,del_cols"
   ],
   "metadata": {
    "collapsed": false,
    "pycharm": {
     "name": "#%%\n"
    }
   }
  },
  {
   "cell_type": "code",
   "execution_count": 563,
   "outputs": [
    {
     "data": {
      "text/plain": "(array([[nan, nan, nan, ..., nan, nan, nan],\n        [nan, nan, nan, ..., nan, nan, nan],\n        [nan, nan, nan, ..., nan, nan, nan],\n        ...,\n        [nan, nan, nan, ..., nan, nan, nan],\n        [nan, nan, nan, ..., nan, nan, nan],\n        [nan, nan, nan, ..., nan, nan, nan]], dtype=object),\n array([[nan, nan, nan, ..., nan, nan, nan],\n        [nan, nan, nan, ..., nan, nan, nan],\n        [nan, nan, nan, ..., nan, nan, nan],\n        ...,\n        [nan, nan, nan, ..., nan, nan, nan],\n        [nan, nan, nan, ..., nan, nan, nan],\n        [nan, nan, nan, ..., -0.56921, -0.17836, -0.46192]], dtype=object))"
     },
     "execution_count": 563,
     "metadata": {},
     "output_type": "execute_result"
    }
   ],
   "source": [
    "# 将Y取出来，然后取出缺失值过多的列\n",
    "Original_Ydata = thedata[3:, 23:61]\n",
    "pred_Ydata = Preddata[3:, 23:61]\n",
    "Original_Ydata,pred_Ydata"
   ],
   "metadata": {
    "collapsed": false,
    "pycharm": {
     "name": "#%%\n"
    }
   }
  },
  {
   "cell_type": "code",
   "execution_count": 564,
   "outputs": [
    {
     "data": {
      "text/plain": "[8, 9, 10, 11, 12, 13, 14, 15, 16, 17, 23]"
     },
     "execution_count": 564,
     "metadata": {},
     "output_type": "execute_result"
    }
   ],
   "source": [
    "# 将两个数据的能用的列合并 判断两边的数据是否都存在\n",
    "Original_Ydata_usableCols = Record_usable_cols(Original_Ydata)\n",
    "pred_Ydata_usableCols = Record_usable_cols(pred_Ydata)\n",
    "# 取出交集\n",
    "# list(set(a).intersection(b))\n",
    "final_cols=list(set(Original_Ydata_usableCols).intersection(pred_Ydata_usableCols))\n",
    "# final_cols = list(set(Original_Ydata_usableCols + pred_Ydata_usableCols))\n",
    "# 这个里面的内容可以用来建模与预测(可用的列)\n",
    "final_cols"
   ],
   "metadata": {
    "collapsed": false,
    "pycharm": {
     "name": "#%%\n"
    }
   }
  },
  {
   "cell_type": "code",
   "execution_count": 565,
   "outputs": [
    {
     "data": {
      "text/plain": "array([0.8798, -1.29384, -1.36073, -1.2107, -1.28946, -1.29447, -1.29196,\n       -1.28571, -1.29196, -1.29321, -1.29009, -1.29071, -1.29196,\n       -1.29509, -1.28821, -1.28571, -1.29134, -1.2107, -1.29134,\n       -1.28571, -1.21132, -1.2107, -1.28509, -1.29009, -1.29196,\n       -1.29822, -1.29572, -1.29509, -1.29447, -1.28884, -1.29196,\n       -1.28696, -1.21007, -1.28509, -1.29634, -1.29196, -1.29196,\n       -1.29071, -1.29634, -1.28884, -1.2107, -1.2107, 0.83354, -1.29196,\n       -1.28634, -1.29697, -1.35448, -1.28571, -1.29447, -1.29196,\n       -1.29822, -1.29822, 0.79603, -1.29009, -1.29634, 0.82104, 0.80041,\n       -1.29572, -1.3251, -1.29009, -1.29196, 1.1061, -1.29196, -1.29697,\n       -1.29822, -1.29447, -1.29196, -1.29634, -1.29572, -1.29634,\n       -1.29697, nan, nan, nan, nan, nan, nan, nan, nan, nan, nan, nan,\n       nan, nan, -1.22882, -1.29196, -1.2307, -1.29509, -1.29321,\n       -1.29447, -1.29196, -1.29196, 0.74602, 0.74664, 0.74664, 0.52097,\n       0.74664, 0.74852, 0.74727, 0.74789, 0.74602, -1.29509, -1.29572,\n       0.53409, 0.74727, -1.29509, -1.22945, 0.74789, -1.29572, -1.29384,\n       -1.2282, -1.34948, -1.23008, 0.74852, -1.22945, -1.23008, -1.29196,\n       0.75227, 0.75227, -1.29572, -1.2307, -1.29259, 0.74789, -1.29196,\n       -1.23008, -1.2307, 0.74789, -1.23008, -1.29071, 0.74852, 0.74602,\n       -1.19319, 0.75165, -1.29509, -1.29509, -1.2282, -1.29447, -1.23008,\n       0.74664, 0.74727, 0.74602, -1.55203, -1.29384, -1.29321, -1.22445,\n       -1.29384, 0.74602, -1.29447, -1.32447, 0.74914, 0.74914, -1.29384,\n       -1.15381, -1.23008, 0.74789, -1.29447, 0.74789, -1.34948, -1.38574,\n       0.74852, -1.40199, -1.44825, -1.27071, -1.22945, -1.22695,\n       -1.22382, 0.74852, 0.74789, 0.74914, 0.74727, 0.45845, -1.15443,\n       -1.29384, -1.29259, -1.2282, 0.74602, 0.74977, 0.74602, 0.4722,\n       0.74914, 0.75039, 0.75352, 0.74914, 0.74664, 0.45783, 0.74789,\n       0.75352, 0.74664, 0.4522, 0.74977, -1.2232, -1.29572, 0.48658,\n       0.74852, 0.74914, 0.74852, 0.74789, 0.46033, -1.23008, -1.22945,\n       -1.29384, -1.15443, 0.74852, 0.74664, 0.74914, 0.75039, 0.75227,\n       0.74727, 0.74789, 0.75165, 0.4522, 0.74664, 0.75102, 0.4697,\n       0.74914, 0.74602, 0.74727, 0.74602, 0.45845, 0.74789, 0.74977,\n       0.74602, 0.75665, 0.7529, 0.74977, 0.74602, 0.75477, 0.75039,\n       0.75165, 0.74852, 0.75477, 0.75415, 0.75039, 0.75039, 0.74727,\n       0.74914, 0.74852, 0.74852, 0.75102, 0.74477, 0.74602, 0.75415,\n       0.74914, 0.75352, 0.75852, 0.75352, 1.09048, 0.74789, 0.75102,\n       0.75415, 0.75352, 0.75102, 0.74852, 0.4522, 0.74789, 0.47158,\n       -1.29509, 0.7754, 0.7679, 0.75665, 0.75227, 0.75039, 0.75352,\n       0.74852, 0.75227, 0.75665, 0.7554, 0.74977, 0.75415, 0.75227],\n      dtype=object)"
     },
     "execution_count": 565,
     "metadata": {},
     "output_type": "execute_result"
    }
   ],
   "source": [
    "# 取出Y_data 元数据\n",
    "Y_data = Original_Ydata[:, final_cols[0]]\n",
    "Y_data"
   ],
   "metadata": {
    "collapsed": false,
    "pycharm": {
     "name": "#%%\n"
    }
   }
  },
  {
   "cell_type": "code",
   "execution_count": 566,
   "outputs": [
    {
     "data": {
      "text/plain": "(array([[2.2134, -1.07136, 0.11031, ..., -0.42138, 2.33126, 0.0133],\n        [2.2134, -1.07136, 0.46461, ..., -0.42138, 2.33126, 0.0133],\n        [0.72748, 0.44016, -1.66119, ..., -0.42138, 2.33126, 0.0133],\n        ...,\n        [-0.01548, -0.16445, 0.28746, ..., -0.42138, 0.89677, 0.0133],\n        [-0.01548, -0.16445, 0.37603, ..., -0.42138, 0.89677, 0.0133],\n        [-0.01548, -0.16445, 0.55318, ..., -0.42138, 0.89677, 0.0133]],\n       dtype=object),\n array([0.8798, -1.29384, -1.36073, -1.2107, -1.28946, -1.29447, -1.29196,\n        -1.28571, -1.29196, -1.29321, -1.29009, -1.29071, -1.29196,\n        -1.29509, -1.28821, -1.28571, -1.29134, -1.2107, -1.29134,\n        -1.28571, -1.21132, -1.2107, -1.28509, -1.29009, -1.29196,\n        -1.29822, -1.29572, -1.29509, -1.29447, -1.28884, -1.21007,\n        -1.28509, -1.29634, -1.29196, -1.29196, -1.29071, -1.29634,\n        -1.28884, -1.2107, -1.2107, 0.83354, -1.29196, -1.28634, -1.29697,\n        -1.35448, -1.28571, -1.29447, -1.29196, -1.29822, -1.29822,\n        0.79603, -1.29009, -1.29634, 0.80041, -1.29572, -1.3251, -1.29009,\n        -1.29196, 1.1061, -1.29196, -1.29697, -1.29822, -1.29447, -1.29196,\n        -1.29634, -1.29572, -1.29634, -1.29697, -1.22882, -1.29196,\n        -1.2307, -1.29509, -1.29321, -1.29447, -1.29196, -1.29196, 0.74602,\n        0.74664, 0.74664, 0.52097, 0.74664, 0.74852, 0.74727, 0.74789,\n        0.74602, -1.29509, -1.29572, 0.53409, 0.74727, -1.29509, -1.22945,\n        0.74789, -1.29572, -1.29384, -1.2282, -1.34948, -1.23008, 0.74852,\n        -1.22945, -1.23008, -1.29196, 0.75227, 0.75227, -1.29572, -1.2307,\n        -1.29259, 0.74789, -1.29196, -1.23008, -1.2307, 0.74789, -1.23008,\n        -1.29071, 0.74852, 0.74602, -1.19319, 0.75165, -1.29509, -1.29509,\n        -1.2282, -1.29447, -1.23008, 0.74664, 0.74727, 0.74602, -1.55203,\n        -1.29384, -1.29321, -1.22445, -1.29384, 0.74602, -1.29447,\n        -1.32447, 0.74914, 0.74914, -1.29384, -1.15381, -1.23008, 0.74789,\n        -1.29447, 0.74789, -1.34948, -1.38574, 0.74852, -1.40199, -1.44825,\n        -1.27071, -1.22945, -1.22695, -1.22382, 0.74852, 0.74789, 0.74914,\n        0.74727, 0.45845, -1.15443, -1.29384, -1.29259, -1.2282, 0.74602,\n        0.74977, 0.74602, 0.4722, 0.74914, 0.75039, 0.75352, 0.74914,\n        0.74664, 0.45783, 0.74789, 0.75352, 0.74664, 0.4522, 0.74977,\n        -1.2232, -1.29572, 0.48658, 0.74852, 0.74914, 0.74852, -1.23008,\n        -1.22945, -1.29384, -1.15443, 0.74852, 0.74664, 0.74914, 0.75039,\n        0.75227, 0.74727, 0.75165, 0.4522, 0.74664, 0.75102, 0.4697,\n        0.74914, 0.74602, 0.74727, 0.74602, 0.45845, 0.74789, 0.74977,\n        0.74602, 0.75665, 0.7529, 0.74977, 0.74602, 0.75477, 0.75039,\n        0.75165, 0.74852, 0.75477, 0.75415, 0.75039, 0.75039, 0.74727,\n        0.74914, 0.74852, 0.74852, 0.75102, 0.75415, 0.74914, 0.75352,\n        0.75852, 0.75352, 1.09048, 0.74789, 0.75102, 0.75415, 0.75352,\n        0.75102, 0.74852, 0.4522, 0.74789, 0.47158, -1.29509, 0.7754,\n        0.7679, 0.75665, 0.75227, 0.75039, 0.75352, 0.74852, 0.75227,\n        0.75665, 0.7554, 0.74977, 0.75415, 0.75227], dtype=object))"
     },
     "execution_count": 566,
     "metadata": {},
     "output_type": "execute_result"
    }
   ],
   "source": [
    "temp_data = np.column_stack(( base_Xdata, Y_data))\n",
    "# 删除缺失的行\n",
    "temp_data = Del_deletion_data(temp_data, 0)\n",
    "X_data = temp_data[:,:-1]\n",
    "Y_data = temp_data[:,-1]\n",
    "X_data,Y_data"
   ],
   "metadata": {
    "collapsed": false,
    "pycharm": {
     "name": "#%%\n"
    }
   }
  },
  {
   "cell_type": "code",
   "execution_count": 567,
   "outputs": [
    {
     "data": {
      "text/plain": "array([[2.2134, -1.07136, 0.11031, ..., 2.33126, 0.0133, 0.8798],\n       [2.2134, -1.07136, 0.46461, ..., 2.33126, 0.0133, -1.29384],\n       [0.72748, 0.44016, -1.66119, ..., 2.33126, 0.0133, -1.36073],\n       ...,\n       [-0.01548, -0.16445, 0.28746, ..., 0.89677, 0.0133, 0.74977],\n       [-0.01548, -0.16445, 0.37603, ..., 0.89677, 0.0133, 0.75415],\n       [-0.01548, -0.16445, 0.55318, ..., 0.89677, 0.0133, 0.75227]],\n      dtype=object)"
     },
     "execution_count": 567,
     "metadata": {},
     "output_type": "execute_result"
    }
   ],
   "source": [
    "temp_data"
   ],
   "metadata": {
    "collapsed": false,
    "pycharm": {
     "name": "#%%\n"
    }
   }
  },
  {
   "cell_type": "code",
   "execution_count": 568,
   "outputs": [
    {
     "data": {
      "text/plain": "[]"
     },
     "execution_count": 568,
     "metadata": {},
     "output_type": "execute_result"
    }
   ],
   "source": [
    "# 检验一下是否将所有的空值删除完毕，这个地方是用来做验证的 返回为空列表则删除成功！\n",
    "list(set(np.where(np.isnan(temp_data.astype(float)) == True)[0].tolist()))"
   ],
   "metadata": {
    "collapsed": false,
    "pycharm": {
     "name": "#%%\n"
    }
   }
  },
  {
   "cell_type": "code",
   "execution_count": 569,
   "outputs": [
    {
     "name": "stdout",
     "output_type": "stream",
     "text": [
      "min长度 13\n",
      "-1.29509 0.7679\n",
      "data-1:  [0.8798 -1.29384 -1 -1.2107 -1.28946 -1.29447 -1.29196 -1.28571 -1.29196\n",
      " -1.29321 -1.29009 -1.29071 -1.29196 -1 -1.28821 -1.28571 -1.29134 -1.2107\n",
      " -1.29134 -1.28571 -1.21132 -1.2107 -1.28509 -1.29009 -1.29196 -1 -1 -1\n",
      " -1.29447 -1.28884 -1.21007 -1.28509 -1 -1.29196 -1.29196 -1.29071 -1\n",
      " -1.28884 -1.2107 -1.2107 0.83354 -1.29196 -1.28634 -1 -1 -1.28571\n",
      " -1.29447 -1.29196 -1 -1 0.79603 -1.29009 -1 0.80041 -1 -1 -1.29009\n",
      " -1.29196 1.1061 -1.29196 -1 -1 -1.29447 -1.29196 -1 -1 -1 -1 -1.22882\n",
      " -1.29196 -1.2307 -1 -1.29321 -1.29447 -1.29196 -1.29196 0.74602 0.74664\n",
      " 0.74664 0.52097 0.74664 0.74852 0.74727 0.74789 0.74602 -1 -1 0.53409\n",
      " 0.74727 -1 -1.22945 0.74789 -1 -1.29384 -1.2282 -1 -1.23008 0.74852\n",
      " -1.22945 -1.23008 -1.29196 0.75227 0.75227 -1 -1.2307 -1.29259 0.74789\n",
      " -1.29196 -1.23008 -1.2307 0.74789 -1.23008 -1.29071 0.74852 0.74602\n",
      " -1.19319 0.75165 -1 -1 -1.2282 -1.29447 -1.23008 0.74664 0.74727 0.74602\n",
      " -1 -1.29384 -1.29321 -1.22445 -1.29384 0.74602 -1.29447 -1 0.74914\n",
      " 0.74914 -1.29384 -1.15381 -1.23008 0.74789 -1.29447 0.74789 -1 -1 0.74852\n",
      " -1 -1 -1.27071 -1.22945 -1.22695 -1.22382 0.74852 0.74789 0.74914 0.74727\n",
      " 0.45845 -1.15443 -1.29384 -1.29259 -1.2282 0.74602 0.74977 0.74602 0.4722\n",
      " 0.74914 0.75039 0.75352 0.74914 0.74664 0.45783 0.74789 0.75352 0.74664\n",
      " 0.4522 0.74977 -1.2232 -1 0.48658 0.74852 0.74914 0.74852 -1.23008\n",
      " -1.22945 -1.29384 -1.15443 0.74852 0.74664 0.74914 0.75039 0.75227\n",
      " 0.74727 0.75165 0.4522 0.74664 0.75102 0.4697 0.74914 0.74602 0.74727\n",
      " 0.74602 0.45845 0.74789 0.74977 0.74602 0.75665 0.7529 0.74977 0.74602\n",
      " 0.75477 0.75039 0.75165 0.74852 0.75477 0.75415 0.75039 0.75039 0.74727\n",
      " 0.74914 0.74852 0.74852 0.75102 0.75415 0.74914 0.75352 0.75852 0.75352\n",
      " 1.09048 0.74789 0.75102 0.75415 0.75352 0.75102 0.74852 0.4522 0.74789\n",
      " 0.47158 -1 0.7754 0.7679 0.75665 0.75227 0.75039 0.75352 0.74852 0.75227\n",
      " 0.75665 0.7554 0.74977 0.75415 0.75227]\n",
      "data1:  [1 -1.29384 -1 -1.2107 -1.28946 -1.29447 -1.29196 -1.28571 -1.29196\n",
      " -1.29321 -1.29009 -1.29071 -1.29196 -1 -1.28821 -1.28571 -1.29134 -1.2107\n",
      " -1.29134 -1.28571 -1.21132 -1.2107 -1.28509 -1.29009 -1.29196 -1 -1 -1\n",
      " -1.29447 -1.28884 -1.21007 -1.28509 -1 -1.29196 -1.29196 -1.29071 -1\n",
      " -1.28884 -1.2107 -1.2107 1 -1.29196 -1.28634 -1 -1 -1.28571 -1.29447\n",
      " -1.29196 -1 -1 1 -1.29009 -1 1 -1 -1 -1.29009 -1.29196 1 -1.29196 -1 -1\n",
      " -1.29447 -1.29196 -1 -1 -1 -1 -1.22882 -1.29196 -1.2307 -1 -1.29321\n",
      " -1.29447 -1.29196 -1.29196 0.74602 0.74664 0.74664 0.52097 0.74664\n",
      " 0.74852 0.74727 0.74789 0.74602 -1 -1 0.53409 0.74727 -1 -1.22945 0.74789\n",
      " -1 -1.29384 -1.2282 -1 -1.23008 0.74852 -1.22945 -1.23008 -1.29196\n",
      " 0.75227 0.75227 -1 -1.2307 -1.29259 0.74789 -1.29196 -1.23008 -1.2307\n",
      " 0.74789 -1.23008 -1.29071 0.74852 0.74602 -1.19319 0.75165 -1 -1 -1.2282\n",
      " -1.29447 -1.23008 0.74664 0.74727 0.74602 -1 -1.29384 -1.29321 -1.22445\n",
      " -1.29384 0.74602 -1.29447 -1 0.74914 0.74914 -1.29384 -1.15381 -1.23008\n",
      " 0.74789 -1.29447 0.74789 -1 -1 0.74852 -1 -1 -1.27071 -1.22945 -1.22695\n",
      " -1.22382 0.74852 0.74789 0.74914 0.74727 0.45845 -1.15443 -1.29384\n",
      " -1.29259 -1.2282 0.74602 0.74977 0.74602 0.4722 0.74914 0.75039 0.75352\n",
      " 0.74914 0.74664 0.45783 0.74789 0.75352 0.74664 0.4522 0.74977 -1.2232 -1\n",
      " 0.48658 0.74852 0.74914 0.74852 -1.23008 -1.22945 -1.29384 -1.15443\n",
      " 0.74852 0.74664 0.74914 0.75039 0.75227 0.74727 0.75165 0.4522 0.74664\n",
      " 0.75102 0.4697 0.74914 0.74602 0.74727 0.74602 0.45845 0.74789 0.74977\n",
      " 0.74602 0.75665 0.7529 0.74977 0.74602 0.75477 0.75039 0.75165 0.74852\n",
      " 0.75477 0.75415 0.75039 0.75039 0.74727 0.74914 0.74852 0.74852 0.75102\n",
      " 0.75415 0.74914 0.75352 0.75852 0.75352 1 0.74789 0.75102 0.75415 0.75352\n",
      " 0.75102 0.74852 0.4522 0.74789 0.47158 -1 1 1 0.75665 0.75227 0.75039\n",
      " 0.75352 0.74852 0.75227 0.75665 0.7554 0.74977 0.75415 0.75227]\n",
      "data0:  [1 0 -1 0 0 0 0 0 0 0 0 0 0 -1 0 0 0 0 0 0 0 0 0 0 0 -1 -1 -1 0 0 0 0 -1 0\n",
      " 0 0 -1 0 0 0 1 0 0 -1 -1 0 0 0 -1 -1 1 0 -1 1 -1 -1 0 0 1 0 -1 -1 0 0 -1\n",
      " -1 -1 -1 0 0 0 -1 0 0 0 0 0 0 0 0 0 0 0 0 0 -1 -1 0 0 -1 0 0 -1 0 0 -1 0\n",
      " 0 0 0 0 0 0 -1 0 0 0 0 0 0 0 0 0 0 0 0 0 -1 -1 0 0 0 0 0 0 -1 0 0 0 0 0 0\n",
      " -1 0 0 0 0 0 0 0 0 -1 -1 0 -1 -1 0 0 0 0 0 0 0 0 0 0 0 0 0 0 0 0 0 0 0 0\n",
      " 0 0 0 0 0 0 0 0 0 -1 0 0 0 0 0 0 0 0 0 0 0 0 0 0 0 0 0 0 0 0 0 0 0 0 0 0\n",
      " 0 0 0 0 0 0 0 0 0 0 0 0 0 0 0 0 0 0 0 0 0 0 0 1 0 0 0 0 0 0 0 0 0 -1 1 1\n",
      " 0 0 0 0 0 0 0 0 0 0 0]\n"
     ]
    }
   ],
   "source": [
    "# 替换为-1，0，1的分类\n",
    "temp_data=Deal_sorted_Ydata(Y_data)\n",
    "Y_data=temp_data[0]\n",
    "Y_data_boundsMin=temp_data[1]\n",
    "Y_data_boundsMax=temp_data[2]"
   ],
   "metadata": {
    "collapsed": false,
    "pycharm": {
     "name": "#%%\n"
    }
   }
  },
  {
   "cell_type": "code",
   "execution_count": 570,
   "outputs": [
    {
     "data": {
      "text/plain": "array([-1, 0, 1], dtype=object)"
     },
     "execution_count": 570,
     "metadata": {},
     "output_type": "execute_result"
    }
   ],
   "source": [
    "from numpy import unique\n",
    "unique(Y_data)"
   ],
   "metadata": {
    "collapsed": false,
    "pycharm": {
     "name": "#%%\n"
    }
   }
  },
  {
   "cell_type": "code",
   "execution_count": 571,
   "outputs": [],
   "source": [
    "# 切分训练数据和测试数据\n",
    "from sklearn.model_selection import train_test_split\n",
    "## 30%测试数据，70%训练数据，stratify=y表示训练数据和测试数据具有相同的类别比例\n",
    "X_train, X_test, y_train, y_test = train_test_split(X_data, Y_data, test_size=0.3, stratify=Y_data)"
   ],
   "metadata": {
    "collapsed": false,
    "pycharm": {
     "name": "#%%\n"
    }
   }
  },
  {
   "cell_type": "code",
   "execution_count": 572,
   "outputs": [],
   "source": [
    "from sklearn.metrics import accuracy_score\n",
    "# 开始训练模型\n",
    "from sklearn.metrics import r2_score\n",
    "from sklearn.ensemble import RandomForestClassifier, GradientBoostingClassifier\n",
    "\n",
    "# 获取模型  随机森林\n",
    "Rfc=RandomForestClassifier(max_depth=20)\n",
    "# 梯度提升树\n",
    "Gbc=GradientBoostingClassifier(max_depth=20)\n",
    "# 训练模型\n",
    "Rfc.fit(X_train, y_train.astype(float))\n",
    "Gbc.fit(X_train, y_train.astype(float))\n",
    "y_1 = Rfc.predict(X_test)\n",
    "y_2 = Gbc.predict(X_test)"
   ],
   "metadata": {
    "collapsed": false,
    "pycharm": {
     "name": "#%%\n"
    }
   }
  },
  {
   "cell_type": "code",
   "execution_count": 573,
   "outputs": [
    {
     "data": {
      "text/plain": "array([[ 0.,  0.,  0.,  0.,  0.,  0.,  0.,  0.,  0.,  0.,  0.,  0.,  0.,\n         0.,  0.,  0.,  0.,  0.,  0.,  0.,  0.,  0.,  0.,  0.,  0., -1.,\n         0.,  0.,  0.,  0.,  0.,  0.,  0.,  0.,  0.,  0.,  0.,  0.,  0.,\n         0.,  0.,  0.,  0.,  0.,  0.,  0.,  0.,  0., -1.,  0.,  0.,  0.,\n         0.,  0.,  0.,  0.,  0.,  0.,  0., -1.,  0.,  0.,  0.,  0.,  0.,\n         0.,  0.,  0.,  0.,  0.,  0.,  0.,  0.,  0.,  0.],\n       [ 0.,  0.,  0.,  0.,  0.,  0.,  0.,  0.,  0.,  0., -1.,  0.,  0.,\n         0.,  0.,  0., -1.,  0.,  0.,  0.,  0., -1.,  0.,  0.,  0., -1.,\n         0.,  1.,  0.,  0., -1.,  0.,  0.,  0.,  0.,  0.,  0.,  0.,  0.,\n         0.,  0.,  0.,  0.,  0.,  0.,  0.,  0.,  0., -1.,  0.,  0.,  0.,\n         0.,  0.,  0.,  0.,  0.,  0.,  0., -1.,  0.,  0.,  0., -1.,  0.,\n        -1.,  0.,  0.,  0.,  0.,  0.,  0.,  0.,  0.,  0.]])"
     },
     "execution_count": 573,
     "metadata": {},
     "output_type": "execute_result"
    }
   ],
   "source": [
    "np.array([y_1,y_2])"
   ],
   "metadata": {
    "collapsed": false,
    "pycharm": {
     "name": "#%%\n"
    }
   }
  },
  {
   "cell_type": "code",
   "execution_count": 574,
   "outputs": [
    {
     "data": {
      "text/plain": "array([0, 0, -1, 0, 1, -1, 0, 0, 0, 0, 0, 0, -1, 1, 0, 0, 0, 0, 0, 0, 0,\n       0, 0, 0, 0, -1, -1, 0, 0, 0, 0, 0, 0, 0, 0, 0, 0, 0, 0, 0, -1, 0,\n       0, 0, 0, 0, 0, 0, 0, 0, 0, 0, 0, 0, 0, 0, 0, 0, 0, -1, 0, 0, 0, 0,\n       -1, 0, 0, 0, 0, -1, -1, 0, 0, -1, 0], dtype=object)"
     },
     "execution_count": 574,
     "metadata": {},
     "output_type": "execute_result"
    }
   ],
   "source": [
    "y_test"
   ],
   "metadata": {
    "collapsed": false,
    "pycharm": {
     "name": "#%%\n"
    }
   }
  },
  {
   "cell_type": "code",
   "execution_count": 575,
   "outputs": [
    {
     "data": {
      "text/plain": "0.84"
     },
     "execution_count": 575,
     "metadata": {},
     "output_type": "execute_result"
    }
   ],
   "source": [
    "k=0\n",
    "for i in range(y_1.shape[0]):\n",
    "    if y_test[i]==y_1[i]:\n",
    "        k+=1\n",
    "k/y_test.shape[0]"
   ],
   "metadata": {
    "collapsed": false,
    "pycharm": {
     "name": "#%%\n"
    }
   }
  },
  {
   "cell_type": "code",
   "execution_count": 576,
   "outputs": [
    {
     "name": "stdout",
     "output_type": "stream",
     "text": [
      "0.7466666666666667\n",
      "0.7466666666666667\n"
     ]
    }
   ],
   "source": [
    "# 计算准确率\n",
    "y1_score=accuracy_score(y_test.astype(float), y_2)\n",
    "y2_score=accuracy_score(y_test.astype(float), y_2)\n",
    "print(y1_score)\n",
    "print(y2_score)"
   ],
   "metadata": {
    "collapsed": false,
    "pycharm": {
     "name": "#%%\n"
    }
   }
  },
  {
   "cell_type": "code",
   "execution_count": 577,
   "outputs": [
    {
     "name": "stderr",
     "output_type": "stream",
     "text": [
      "C:\\Users\\king\\AppData\\Local\\Temp\\ipykernel_7532\\2037761800.py:4: RuntimeWarning: invalid value encountered in greater_equal\n",
      "  pred_Ydata=np.where(pred_Ydata>=Y_data_boundsMax,1,pred_Ydata)\n",
      "C:\\Users\\king\\AppData\\Local\\Temp\\ipykernel_7532\\2037761800.py:5: RuntimeWarning: invalid value encountered in less_equal\n",
      "  pred_Ydata=np.where(pred_Ydata<=Y_data_boundsMin,-1,pred_Ydata)\n",
      "C:\\Users\\king\\AppData\\Local\\Temp\\ipykernel_7532\\2037761800.py:6: RuntimeWarning: invalid value encountered in greater\n",
      "  pred_Ydata=np.where((pred_Ydata>Y_data_boundsMin)&(pred_Ydata<Y_data_boundsMax),0,pred_Ydata)\n",
      "C:\\Users\\king\\AppData\\Local\\Temp\\ipykernel_7532\\2037761800.py:6: RuntimeWarning: invalid value encountered in less\n",
      "  pred_Ydata=np.where((pred_Ydata>Y_data_boundsMin)&(pred_Ydata<Y_data_boundsMax),0,pred_Ydata)\n"
     ]
    },
    {
     "data": {
      "text/plain": "array([1, 0, 0, 0, 0, 0, 0, 0, 0, 0, 0, 0, 0, 0, 0, 0, 0, 0, 0, 0, 0, 0,\n       0, 0, 0, 0, 0, 0, 0, 0, 0, 0, 0, 0, 0, 0, 0, 0, 0, 0, 0, 0, 1, 0,\n       0, 0, 0, 0, 0, 0, 0, 0, 1, 0, 0, 1, 1, 0, 0, 0, 0, 1, 0, 0, 0, 0,\n       0, 0, 0, 0, 0, nan, nan, nan, nan, nan, nan, nan, nan, nan, nan,\n       nan, nan, nan, 0, 0, 0, 0, 0, 0, 0, 0, 0, 0, 0, 0, 0, 0, 0, 0, 0,\n       0, 0, 0, 0, 0, 0, 0, 0, 0, 0, 0, 0, 0, 0, 0, 0, 0, 0, 0, 0, 0, 0,\n       0, 0, 0, 0, 0, 0, 0, 0, 0, 0, 0, 0, 0, 0, 0, 0, 0, 0, 0, 0, 0, 0,\n       0, 0, 0, 0, 0, 0, 0, 0, 0, 0, 0, 0, 0, 0, 0, 0, 0, 0, 0, 0, 0, 0,\n       0, 0, 0, 0, 0, 0, 0, 0, 0, 0, 0, 0, 0, 0, 0, 0, 0, 0, 0, 0, 0, 0,\n       0, 0, 0, 0, 0, 0, 0, 0, 0, 0, 0, 0, 0, 0, 0, 0, 0, 0, 0, 0, 0, 0,\n       0, 0, 0, 0, 0, 0, 0, 0, 0, 0, 0, 0, 0, 0, 0, 0, 0, 0, 0, 0, 0, 0,\n       0, 0, 0, 0, 0, 0, 0, 0, 0, 0, 0, 0, 0, 1, 0, 0, 0, 0, 0, 0, 0, 0,\n       0, 0, 1, 1, 0, 0, 0, 0, 0, 0, 0, 0, 0, 0, 0], dtype=object)"
     },
     "execution_count": 577,
     "metadata": {},
     "output_type": "execute_result"
    }
   ],
   "source": [
    "# 获取预测数据\n",
    "pred_Ydata = Original_Ydata[:, final_cols[0]]\n",
    "# 将pred_Ydata 替换成-1，0，1的分类\n",
    "pred_Ydata=np.where(pred_Ydata>=Y_data_boundsMax,1,pred_Ydata)\n",
    "pred_Ydata=np.where(pred_Ydata<=Y_data_boundsMin,-1,pred_Ydata)\n",
    "pred_Ydata=np.where((pred_Ydata>Y_data_boundsMin)&(pred_Ydata<Y_data_boundsMax),0,pred_Ydata)\n",
    "pred_Ydata"
   ],
   "metadata": {
    "collapsed": false,
    "pycharm": {
     "name": "#%%\n"
    }
   }
  },
  {
   "cell_type": "code",
   "execution_count": 578,
   "outputs": [],
   "source": [
    "# 合并数据\n",
    "temp_data = np.column_stack(( X_data, Y_data))\n",
    "# 删除缺失的行\n",
    "temp_data = Del_deletion_data(temp_data, 0)\n",
    "# 获取预测数据的X_data，Y_data\n",
    "X_verify_data = temp_data[:,:-1]\n",
    "Y_verify_data = temp_data[:,-1]"
   ],
   "metadata": {
    "collapsed": false,
    "pycharm": {
     "name": "#%%\n"
    }
   }
  },
  {
   "cell_type": "code",
   "execution_count": 579,
   "outputs": [
    {
     "name": "stdout",
     "output_type": "stream",
     "text": [
      "0.9518072289156626\n",
      "0.9236947791164659\n"
     ]
    }
   ],
   "source": [
    "# 预测数据\n",
    "y_1 = Rfc.predict(X_verify_data)\n",
    "y_2 = Gbc.predict(X_verify_data)\n",
    "# 计算准确率\n",
    "verify_y1=accuracy_score(Y_verify_data.astype(float), y_1)\n",
    "verify_y2=accuracy_score(Y_verify_data.astype(float), y_2)\n",
    "print(verify_y1)\n",
    "print(verify_y2)\n"
   ],
   "metadata": {
    "collapsed": false,
    "pycharm": {
     "name": "#%%\n"
    }
   }
  }
 ],
 "metadata": {
  "kernelspec": {
   "display_name": "Python 3",
   "language": "python",
   "name": "python3"
  },
  "language_info": {
   "codemirror_mode": {
    "name": "ipython",
    "version": 2
   },
   "file_extension": ".py",
   "mimetype": "text/x-python",
   "name": "python",
   "nbconvert_exporter": "python",
   "pygments_lexer": "ipython2",
   "version": "2.7.6"
  }
 },
 "nbformat": 4,
 "nbformat_minor": 0
}