{
 "cells": [
  {
   "cell_type": "code",
   "execution_count": 63,
   "metadata": {
    "collapsed": true,
    "pycharm": {
     "name": "#%%\n"
    }
   },
   "outputs": [],
   "source": [
    "import pandas as pd\n",
    "from numpy import unique\n",
    "\n",
    "from src.OtherTasks.ML.PreDeal_Tools import Del_deletion_data, Record_usable_cols, Deal_sorted_Ydata, convert_to_num,get_final_useablecols, all_ydata, delAndGetCols\n",
    "import numpy as np\n",
    "# 这个pandas处理数据效果不太好 建议用numpy\n",
    "thedata = pd.read_excel(io='Data613.xlsx', sheet_name='数据标准化-建模用')\n",
    "Preddata = pd.read_excel(io='Data613.xlsx', sheet_name='数据标准化-预测用')\n",
    "\n",
    "# 获取数据表对象\n",
    "thedata = np.array(thedata)\n",
    "Preddata = np.array(Preddata)\n",
    "# 将表的内容 7个数据表 挨个处理"
   ]
  },
  {
   "cell_type": "code",
   "execution_count": 64,
   "outputs": [],
   "source": [
    "def get_merge_tabledata(excel_data):\n",
    "    # 这个数据是公共部分 需要转化为数字\n",
    "    Commonhead = excel_data[3:, 4:6]\n",
    "    # 替换的方法 取出第1列\n",
    "    Commonhead[:, 0] = convert_to_num(Commonhead[:, 0])\n",
    "    Commonhead[:, 1] = convert_to_num(Commonhead[:, 1])\n",
    "    # 处理表1和表2\n",
    "    TABLE_ONE = excel_data[3:, 6:19]\n",
    "    # 这个地方必须转成字符串   处理掉汉字\n",
    "    TABLE_ONE[:, 12] = convert_to_num(TABLE_ONE[:, 12].astype(str))\n",
    "    TABLE_TWO = excel_data[3:, 19:23]\n",
    "    # 处理表3\n",
    "    TABLE_THREE = excel_data[3:, 61:66]\n",
    "    # 这个地方必须转成字符串   处理掉汉字\n",
    "    TABLE_THREE[:, -1] = convert_to_num(TABLE_THREE[:, -1].astype(str))\n",
    "    # 处理表4\n",
    "    TABLE_FOUR = excel_data[3:, 88:101]\n",
    "    TABLE_FOUR[:, -1] = convert_to_num(TABLE_FOUR[:, -1].astype(str))\n",
    "    # 处理表5\n",
    "    TABLE_FIVE = excel_data[3:, 101:107]\n",
    "    TABLE_FIVE[:, -1] = convert_to_num(TABLE_FIVE[:, -1].astype(str))\n",
    "    # 处理表6\n",
    "    TABLE_SIX = excel_data[3:, 131:144]\n",
    "    TABLE_SIX[:, -1] = convert_to_num(TABLE_SIX[:, -1].astype(str))\n",
    "    # 处理表7\n",
    "    TABLE_SEVEN = excel_data[3:, 172:178]\n",
    "    TABLE_SEVEN[:, -1] = convert_to_num(TABLE_SEVEN[:, -1].astype(str))\n",
    "    # 合并一下数据\n",
    "    mergeTwo_data = np.column_stack((Commonhead, TABLE_ONE, TABLE_TWO))\n",
    "    mergeThree_data = np.column_stack((mergeTwo_data, TABLE_THREE))\n",
    "    mergeFour_data = np.column_stack(( mergeThree_data, TABLE_FOUR))\n",
    "    mergeFive_data = np.column_stack((mergeFour_data, TABLE_FIVE))\n",
    "    mergeSix_data = np.column_stack((mergeFive_data, TABLE_SIX))\n",
    "    mergeSeven_data = np.column_stack((mergeSix_data, TABLE_SEVEN))\n",
    "    return mergeTwo_data, mergeThree_data, mergeFour_data, mergeFive_data, mergeSix_data, mergeSeven_data"
   ],
   "metadata": {
    "collapsed": false,
    "pycharm": {
     "name": "#%%\n"
    }
   }
  },
  {
   "cell_type": "code",
   "execution_count": 65,
   "outputs": [],
   "source": [
    "# # 这个数据是公共部分 需要转化为数字\n",
    "# Commonhead = thedata[3:, 4:6]\n",
    "# # 替换的方法 取出第1列\n",
    "# Commonhead[:, 0] = convert_to_num(Commonhead[:, 0])\n",
    "# Commonhead[:, 1] = convert_to_num(Commonhead[:, 1])\n",
    "# Commonhead"
   ],
   "metadata": {
    "collapsed": false,
    "pycharm": {
     "name": "#%%\n"
    }
   }
  },
  {
   "cell_type": "code",
   "execution_count": 66,
   "outputs": [],
   "source": [
    "# # 处理所有的X_data\n",
    "# # 处理表1和表2\n",
    "# TABLE_ONE = thedata[3:, 6:19]\n",
    "# # 这个地方必须转成字符串   处理掉汉字\n",
    "# TABLE_ONE[:, 12] = convert_to_num(TABLE_ONE[:, 12].astype(str))\n",
    "# TABLE_TWO = thedata[3:, 19:23]\n",
    "# # 处理表3\n",
    "# TABLE_THREE = thedata[3:, 61:66]\n",
    "# # 这个地方必须转成字符串   处理掉汉字\n",
    "# TABLE_THREE[:, -1] = convert_to_num(TABLE_THREE[:, -1].astype(str))\n",
    "# # 处理表4\n",
    "# TABLE_FOUR = thedata[3:, 88:101]\n",
    "# TABLE_FOUR[:, -1] = convert_to_num(TABLE_FOUR[:, -1].astype(str))\n",
    "# # 处理表5\n",
    "# TABLE_FIVE = thedata[3:, 101:107]\n",
    "# TABLE_FIVE[:, -1] = convert_to_num(TABLE_FIVE[:, -1].astype(str))\n",
    "# # 处理表6\n",
    "# TABLE_SIX = thedata[3:, 131:144]\n",
    "# TABLE_SIX[:, -1] = convert_to_num(TABLE_SIX[:, -1].astype(str))\n",
    "# # 处理表7\n",
    "# TABLE_SEVEN = thedata[3:, 172:178]\n",
    "# TABLE_SEVEN[:, -1] = convert_to_num(TABLE_SEVEN[:, -1].astype(str))"
   ],
   "metadata": {
    "collapsed": false,
    "pycharm": {
     "name": "#%%\n"
    }
   }
  },
  {
   "cell_type": "code",
   "execution_count": 67,
   "outputs": [],
   "source": [
    "# 合并一下数据\n",
    "# FormerTwo_data = np.column_stack((Commonhead, TABLE_ONE, TABLE_TWO))\n",
    "# FormerThree_data = np.column_stack((FormerTwo_data, TABLE_THREE))\n",
    "# FormerFour_data = np.column_stack((FormerThree_data, TABLE_FOUR))\n",
    "# FormerFive_data = np.column_stack((FormerFour_data, TABLE_FIVE))\n",
    "# FormerSix_data = np.column_stack((FormerFive_data, TABLE_SIX))\n",
    "# FormerSeven_data = np.column_stack((FormerSix_data, TABLE_SEVEN))\n",
    "# FormerTwo_data"
   ],
   "metadata": {
    "collapsed": false,
    "pycharm": {
     "name": "#%%\n"
    }
   }
  },
  {
   "cell_type": "code",
   "execution_count": 68,
   "outputs": [
    {
     "data": {
      "text/plain": "(array([[-1, 1, 2.2134, ..., -0.42138, 2.33126, 0.0133],\n        [-1, 1, 2.2134, ..., -0.42138, 2.33126, 0.0133],\n        [-1, 1, 0.72748, ..., -0.42138, 2.33126, 0.0133],\n        ...,\n        [2, -1, -0.01548, ..., -0.42138, 0.89677, 0.0133],\n        [2, -1, -0.01548, ..., -0.42138, 0.89677, 0.0133],\n        [2, -1, -0.01548, ..., -0.42138, 0.89677, 0.0133]], dtype=object),\n [2, 3, 5, 7, 8])"
     },
     "execution_count": 68,
     "metadata": {},
     "output_type": "execute_result"
    }
   ],
   "source": [
    "# 获取源建模的X数据 传入的对象是获取的excel对象\n",
    "FormerTwo_data, FormerThree_data, FormerFour_data, FormerFive_data, FormerSix_data, FormerSeven_data = get_merge_tabledata(thedata)\n",
    "# 获取预测的X数据\n",
    "Verify_TABLE_TWO, Verify_TABLE_THREE, Verify_TABLE_FOUR, Verify_TABLE_FIVE, Verify_TABLE_SIX, Verify_TABLE_SEVEN = get_merge_tabledata(Preddata)\n",
    "\n",
    "tempFormerTwo_data = delAndGetCols(FormerTwo_data)\n",
    "base_Xdata = tempFormerTwo_data[0]\n",
    "del_cols = tempFormerTwo_data[1]\n",
    "# 用del_cols删除验证集X不需要的列\n",
    "Verify_Xdata = np.delete(Verify_TABLE_TWO, del_cols, axis=1)\n",
    "\n",
    "tempFormerTwo_data"
   ],
   "metadata": {
    "collapsed": false,
    "pycharm": {
     "name": "#%%\n"
    }
   }
  },
  {
   "cell_type": "code",
   "execution_count": 69,
   "outputs": [],
   "source": [
    "def get_former_Ydata(excel_data):\n",
    "    # 处理所有建模的Y_data\n",
    "    Merge_TableTwoYdata = excel_data[3:, 23:61]\n",
    "    Merge_TableThreeYdata = excel_data[3:, 66:88]\n",
    "    # 没有Original_TableFourYdata\n",
    "    Merge_TableFiveYdata = excel_data[3:, 107:131]\n",
    "    Merge_TableSixYdata = excel_data[3:, 144:172]\n",
    "    Merge_TableSevenYdata = excel_data[1:, 178:249]\n",
    "    return Merge_TableTwoYdata, Merge_TableThreeYdata, Merge_TableFiveYdata, Merge_TableSixYdata, Merge_TableSevenYdata\n",
    "\n",
    "# 获取源建模的数据Y_data\n",
    "Original_TableTwoYdata, Original_TableThreeYdata, Original_TableFiveYdata, Original_TableSixYdata, Original_TableSevenYdata=get_former_Ydata(thedata)\n",
    "# 获取预测数据的Y_data\n",
    "Predict_TableTwoYdata, Predict_TableThreeYdata, Predict_TableFiveYdata, Predict_TableSixYdata, Predict_TableSevenYdata=get_former_Ydata(Preddata)"
   ],
   "metadata": {
    "collapsed": false,
    "pycharm": {
     "name": "#%%\n"
    }
   }
  },
  {
   "cell_type": "code",
   "execution_count": 70,
   "outputs": [],
   "source": [
    "# # 处理所有预测的Y_data\n",
    "# Pred_TableTwoYdata = Preddata[3:, 23:61]\n",
    "# Pred_TableThreeYdata = Preddata[3:, 66:88]\n",
    "# # 没有Pred_TableFourYdata\n",
    "# Pred_TableFiveYdata = Preddata[3:, 107:131]\n",
    "# Pred_TableSixYdata = Preddata[3:, 144:172]\n",
    "# Pred_TableSevenYdata = Preddata[1:, 178:249]"
   ],
   "metadata": {
    "collapsed": false,
    "pycharm": {
     "name": "#%%\n"
    }
   }
  },
  {
   "cell_type": "code",
   "execution_count": 71,
   "outputs": [
    {
     "data": {
      "text/plain": "[8, 9, 10, 11, 12, 13, 14, 15, 16, 17, 23]"
     },
     "execution_count": 71,
     "metadata": {},
     "output_type": "execute_result"
    }
   ],
   "source": [
    "# 将Y取出来，然后取出缺失值过多的列\n",
    "\n",
    "# 获取可用的列\n",
    "final_cols = get_final_useablecols(Original_TableTwoYdata, Predict_TableTwoYdata)\n",
    "final_cols"
   ],
   "metadata": {
    "collapsed": false,
    "pycharm": {
     "name": "#%%\n"
    }
   }
  },
  {
   "cell_type": "code",
   "execution_count": 72,
   "outputs": [],
   "source": [
    "# 获取可以用的Y_data\n",
    "Original_YdataList, Pred_YdataList = all_ydata(final_cols, Original_TableTwoYdata, Predict_TableTwoYdata)\n",
    "# todo 到时候遍历这个列表，然后依次计算\n",
    "# 建模的Y_data\n",
    "Modeling_Y_data = Original_YdataList[6]\n",
    "# 预测的Y_data\n",
    "Pred_Y_data = Pred_YdataList[6]"
   ],
   "metadata": {
    "collapsed": false,
    "pycharm": {
     "name": "#%%\n"
    }
   }
  },
  {
   "cell_type": "code",
   "execution_count": 73,
   "outputs": [
    {
     "name": "stderr",
     "output_type": "stream",
     "text": [
      "C:\\All_Softwares\\Develop_Tools\\Idea_Project\\CodekingPython\\src\\OtherTasks\\ML\\PreDeal_Tools.py:92: RuntimeWarning: invalid value encountered in less_equal\n",
      "  min_data = np.where(data <= bound_min_value)\n",
      "C:\\All_Softwares\\Develop_Tools\\Idea_Project\\CodekingPython\\src\\OtherTasks\\ML\\PreDeal_Tools.py:94: RuntimeWarning: invalid value encountered in greater_equal\n",
      "  max_data = np.where(data >= bound_max_value)\n",
      "C:\\All_Softwares\\Develop_Tools\\Idea_Project\\CodekingPython\\src\\OtherTasks\\ML\\PreDeal_Tools.py:96: RuntimeWarning: invalid value encountered in greater\n",
      "  normal_data = np.where((data > bound_min_value) & (data < bound_max_value))\n",
      "C:\\All_Softwares\\Develop_Tools\\Idea_Project\\CodekingPython\\src\\OtherTasks\\ML\\PreDeal_Tools.py:96: RuntimeWarning: invalid value encountered in less\n",
      "  normal_data = np.where((data > bound_min_value) & (data < bound_max_value))\n"
     ]
    }
   ],
   "source": [
    "# 将建模Y_data分类，并且取出边界值\n",
    "Y_data,Y_data_boundsMin,Y_data_boundsMax=Deal_sorted_Ydata(Modeling_Y_data)"
   ],
   "metadata": {
    "collapsed": false,
    "pycharm": {
     "name": "#%%\n"
    }
   }
  },
  {
   "cell_type": "code",
   "execution_count": 74,
   "outputs": [
    {
     "data": {
      "text/plain": "(array([-1, 0, nan, nan, nan, nan, nan, nan, nan, nan, nan, 0, nan, nan,\n        nan, 0, nan, 0, 1], dtype=object),\n -0.06839,\n 0.62144)"
     },
     "execution_count": 74,
     "metadata": {},
     "output_type": "execute_result"
    }
   ],
   "source": [
    "# 查看是否替换成功\n",
    "unique(Y_data),Y_data_boundsMin,Y_data_boundsMax"
   ],
   "metadata": {
    "collapsed": false,
    "pycharm": {
     "name": "#%%\n"
    }
   }
  },
  {
   "cell_type": "code",
   "execution_count": 75,
   "outputs": [
    {
     "data": {
      "text/plain": "array([-1, 0, 1], dtype=object)"
     },
     "execution_count": 75,
     "metadata": {},
     "output_type": "execute_result"
    }
   ],
   "source": [
    "def deal_verify_ydata(Verify_Ydata,Y_data_boundsMin,Y_data_boundsMax):\n",
    "    # 将pred_Ydata 替换成-1，0，1的分类\n",
    "    min_data = np.where(Verify_Ydata <= Y_data_boundsMin)\n",
    "    # print('min_data', min_data)\n",
    "    max_data = np.where(Verify_Ydata >= Y_data_boundsMax)\n",
    "    # print('max_data', max_data)\n",
    "    normal_data = np.where((Verify_Ydata > Y_data_boundsMin) & (Verify_Ydata < Y_data_boundsMax))\n",
    "    # print('normal_data', normal_data)\n",
    "    # 统一进行替换为-1，1，0\n",
    "    Verify_Ydata[min_data] = -1\n",
    "    Verify_Ydata[max_data] = 1\n",
    "    Verify_Ydata[normal_data] = 0\n",
    "    return Verify_Ydata\n",
    "# 获取预测数据的Y_data\n",
    "# Verify_Ydata = Pred_Y_data\n",
    "Verify_Ydata=deal_verify_ydata(Pred_Y_data,Y_data_boundsMin,Y_data_boundsMax)\n",
    "np.unique(Verify_Ydata)"
   ],
   "metadata": {
    "collapsed": false,
    "pycharm": {
     "name": "#%%\n"
    }
   }
  },
  {
   "cell_type": "code",
   "execution_count": 76,
   "outputs": [
    {
     "data": {
      "text/plain": "array([0, 1, 1, 1, 1, 0, 1, 1, 1, 0, 1, 1, 1, 1, 1, 1, 1, 1, 1, 1, 1, 1,\n       1, 1, 1, 1, 1, 1, 1, 1, 1, 1, 1, 1, 1, 1, 1, 1, 1, 0, 1, 1, 1, 1,\n       1, 1, 1, 1, 0, 1, 0, -1, -1, -1, -1, -1, -1, -1, -1, 0, 0, 0, -1,\n       0, -1, 0, -1, -1, 1, 1, 0, 1, 0, 1, 0, -1, -1, -1, -1, -1, -1, -1,\n       -1, -1, -1, -1, 0, -1, -1, 0, 0, -1, 0, 0, 0, 1, 0, -1, 0, 0, 0,\n       -1, -1, 0, 0, 0, -1, 0, 0, 1, -1, 1, 1, -1, -1, -1, -1, 0, 0, 0, 1,\n       0, -1, -1, -1, -1, 1, 0, 0, 0, -1, 0, -1, -1, -1, 0, -1, 0, -1, 0,\n       -1, 0, 0, -1, 1, 1, 0, 0, 0, 0, -1, -1, 0, -1, -1, 0, 0, 0, 0, -1,\n       -1, -1, 0, -1, -1, -1, -1, -1, -1, -1, -1, -1, -1, -1, -1, 0, -1,\n       -1, -1, -1, 0, 0, 1, 0, 0, -1, -1, 0, 0, -1, -1, -1, -1, 0, -1, -1,\n       -1, -1, -1, -1, -1, -1, -1, -1, -1, -1, -1, -1, -1, -1, -1, 0, 0,\n       -1, -1, -1, 0, -1, -1, -1, 0, -1, -1, -1, -1, 0, -1, -1, -1, -1,\n       -1, -1, -1, -1, -1, 0, -1, -1, 0, 0, -1, 0, -1, 0, -1, -1, 0, -1,\n       0], dtype=object)"
     },
     "execution_count": 76,
     "metadata": {},
     "output_type": "execute_result"
    }
   ],
   "source": [
    "temp_OriginalXdata = np.column_stack((base_Xdata, Modeling_Y_data))\n",
    "# 删除缺失的行\n",
    "temp_OriginalXdata = Del_deletion_data(temp_OriginalXdata, 0)\n",
    "X_data = temp_OriginalXdata[:, :-1]\n",
    "Y_data = temp_OriginalXdata[:, -1]\n",
    "Y_data"
   ],
   "metadata": {
    "collapsed": false,
    "pycharm": {
     "name": "#%%\n"
    }
   }
  },
  {
   "cell_type": "code",
   "execution_count": 77,
   "outputs": [],
   "source": [
    "# 合并数据\n",
    "temp_verifydata = np.column_stack((Verify_Xdata, Verify_Ydata))\n",
    "# 删除缺失的行\n",
    "temp_verifydata = Del_deletion_data(temp_verifydata, 0)\n",
    "# 获取预测数据的X_data，Y_data\n",
    "X_verify_data = temp_verifydata[:, :-1]\n",
    "Y_verify_data = temp_verifydata[:, -1]"
   ],
   "metadata": {
    "collapsed": false,
    "pycharm": {
     "name": "#%%\n"
    }
   }
  },
  {
   "cell_type": "code",
   "execution_count": 78,
   "outputs": [
    {
     "data": {
      "text/plain": "[]"
     },
     "execution_count": 78,
     "metadata": {},
     "output_type": "execute_result"
    }
   ],
   "source": [
    "# 检验一下是否将所有的空值删除完毕，这个地方是用来做验证的 返回为空列表则删除成功！\n",
    "list(set(np.where(np.isnan(temp_OriginalXdata.astype(float)) == True)[0].tolist()))"
   ],
   "metadata": {
    "collapsed": false,
    "pycharm": {
     "name": "#%%\n"
    }
   }
  },
  {
   "cell_type": "code",
   "execution_count": 79,
   "outputs": [],
   "source": [
    "# 将Y_data分类，并且取出边界值\n",
    "# Y_data,Y_data_boundsMin,Y_data_boundsMax=Deal_sorted_Ydata(Y_data)"
   ],
   "metadata": {
    "collapsed": false,
    "pycharm": {
     "name": "#%%\n"
    }
   }
  },
  {
   "cell_type": "code",
   "execution_count": 80,
   "outputs": [],
   "source": [
    "# Y_data_boundsMin,Y_data_boundsMax"
   ],
   "metadata": {
    "collapsed": false,
    "pycharm": {
     "name": "#%%\n"
    }
   }
  },
  {
   "cell_type": "code",
   "execution_count": 81,
   "outputs": [],
   "source": [
    "# np.where((Y_data > Y_data_boundsMin) & (Y_data < Y_data_boundsMax))[0]\n",
    "# len(np.where((Y_data > Y_data_boundsMax))[0])+len(np.where((Y_data < Y_data_boundsMin))[0])"
   ],
   "metadata": {
    "collapsed": false,
    "pycharm": {
     "name": "#%%\n"
    }
   }
  },
  {
   "cell_type": "code",
   "execution_count": 82,
   "outputs": [],
   "source": [
    "# Y_data"
   ],
   "metadata": {
    "collapsed": false,
    "pycharm": {
     "name": "#%%\n"
    }
   }
  },
  {
   "cell_type": "code",
   "execution_count": 83,
   "outputs": [],
   "source": [
    "# from numpy import unique\n",
    "# # 查看是否替换成功\n",
    "# unique(Y_data),Y_data_boundsMin,Y_data_boundsMax"
   ],
   "metadata": {
    "collapsed": false,
    "pycharm": {
     "name": "#%%\n"
    }
   }
  },
  {
   "cell_type": "code",
   "execution_count": 84,
   "outputs": [],
   "source": [
    "# 切分训练数据和测试数据\n",
    "from sklearn.model_selection import train_test_split\n",
    "## 30%测试数据，70%训练数据，stratify=y表示训练数据和测试数据具有相同的类别比例\n",
    "X_train, X_test, y_train, y_test = train_test_split(X_data, Y_data, test_size=0.2, random_state=2)"
   ],
   "metadata": {
    "collapsed": false,
    "pycharm": {
     "name": "#%%\n"
    }
   }
  },
  {
   "cell_type": "code",
   "execution_count": 85,
   "outputs": [
    {
     "name": "stdout",
     "output_type": "stream",
     "text": [
      "Rfc_acc准确率: 0.62\n",
      "Gbc_acc准确率: 0.58\n",
      "SVC准确率： 0.7\n",
      "KNC准确率： 0.62\n",
      "ABC准确率： 0.56\n"
     ]
    },
    {
     "name": "stderr",
     "output_type": "stream",
     "text": [
      "C:\\All_Softwares\\Develop_Tools\\Python310\\lib\\site-packages\\sklearn\\neural_network\\_multilayer_perceptron.py:692: ConvergenceWarning: Stochastic Optimizer: Maximum iterations (200) reached and the optimization hasn't converged yet.\n",
      "  warnings.warn(\n"
     ]
    },
    {
     "name": "stdout",
     "output_type": "stream",
     "text": [
      "DNN准确率： 0.68\n",
      "CNN准确率： 0.64\n",
      "LDA准确率： 0.7\n",
      "QDA准确率： 0.28\n"
     ]
    },
    {
     "name": "stderr",
     "output_type": "stream",
     "text": [
      "C:\\All_Softwares\\Develop_Tools\\Python310\\lib\\site-packages\\sklearn\\neural_network\\_multilayer_perceptron.py:692: ConvergenceWarning: Stochastic Optimizer: Maximum iterations (200) reached and the optimization hasn't converged yet.\n",
      "  warnings.warn(\n",
      "C:\\All_Softwares\\Develop_Tools\\Python310\\lib\\site-packages\\sklearn\\discriminant_analysis.py:878: UserWarning: Variables are collinear\n",
      "  warnings.warn(\"Variables are collinear\")\n",
      "C:\\All_Softwares\\Develop_Tools\\Python310\\lib\\site-packages\\sklearn\\discriminant_analysis.py:903: RuntimeWarning: divide by zero encountered in power\n",
      "  X2 = np.dot(Xm, R * (S ** (-0.5)))\n",
      "C:\\All_Softwares\\Develop_Tools\\Python310\\lib\\site-packages\\sklearn\\discriminant_analysis.py:903: RuntimeWarning: invalid value encountered in multiply\n",
      "  X2 = np.dot(Xm, R * (S ** (-0.5)))\n",
      "C:\\All_Softwares\\Develop_Tools\\Python310\\lib\\site-packages\\sklearn\\discriminant_analysis.py:906: RuntimeWarning: divide by zero encountered in log\n",
      "  u = np.asarray([np.sum(np.log(s)) for s in self.scalings_])\n"
     ]
    }
   ],
   "source": [
    "from sklearn.metrics import accuracy_score\n",
    "# 开始训练模型\n",
    "from sklearn.ensemble import RandomForestClassifier, GradientBoostingClassifier\n",
    "# 获取模型  随机森林\n",
    "Rfc = RandomForestClassifier()\n",
    "Rfc.fit(X_train, y_train.astype(float))\n",
    "Rfc_pred = Rfc.predict(X_test)\n",
    "Rfc_acc= accuracy_score(y_test.astype(float), Rfc_pred)\n",
    "print('Rfc_acc准确率:', Rfc_acc)\n",
    "\n",
    "# 梯度提升树\n",
    "Gbc = GradientBoostingClassifier()\n",
    "Gbc.fit(X_train, y_train.astype(float))\n",
    "Gbc_pred = Gbc.predict(X_test)\n",
    "Gbc_acc=accuracy_score(y_test.astype(float), Gbc_pred)\n",
    "print('Gbc_acc准确率:',Gbc_acc)\n",
    "\n",
    "# 使用SVM模型\n",
    "from sklearn.svm import SVC\n",
    "Svc = SVC()\n",
    "Svc.fit(X_train, y_train.astype(float))\n",
    "Svc_pred = Svc.predict(X_test)\n",
    "Svc_acc = accuracy_score(y_test.astype(float), Svc_pred)\n",
    "print('SVC准确率：', Svc_acc)\n",
    "\n",
    "# 使用KNN模型\n",
    "from sklearn.neighbors import KNeighborsClassifier\n",
    "Knc = KNeighborsClassifier()\n",
    "Knc.fit(X_train, y_train.astype(float))\n",
    "Knc_pred = Knc.predict(X_test)\n",
    "Knc_acc = accuracy_score(y_test.astype(float), Knc_pred)\n",
    "print('KNC准确率：', Knc_acc)\n",
    "\n",
    "# 使用AdaBoost模型\n",
    "from sklearn.ensemble import AdaBoostClassifier\n",
    "Abc = AdaBoostClassifier()\n",
    "Abc.fit(X_train, y_train.astype(float))\n",
    "Abc_pred = Abc.predict(X_test)\n",
    "Abc_acc = accuracy_score(y_test.astype(float), Abc_pred)\n",
    "print('ABC准确率：', Abc_acc)\n",
    "\n",
    "# 使用DNN模型\n",
    "from sklearn.neural_network import MLPClassifier\n",
    "Dnn = MLPClassifier()\n",
    "Dnn.fit(X_train, y_train.astype(float))\n",
    "Dnn_pred = Dnn.predict(X_test)\n",
    "Dnn_acc = accuracy_score(y_test.astype(float), Dnn_pred)\n",
    "print('DNN准确率：', Dnn_acc)\n",
    "\n",
    "# 使用卷积神经网络模型\n",
    "from sklearn.neural_network import MLPClassifier\n",
    "CNN = MLPClassifier()\n",
    "CNN.fit(X_train, y_train.astype(float))\n",
    "CNN_pred = CNN.predict(X_test)\n",
    "CNN_acc = accuracy_score(y_test.astype(float), CNN_pred)\n",
    "print('CNN准确率：', CNN_acc)\n",
    "\n",
    "# 使用LDA模型\n",
    "from sklearn.discriminant_analysis import LinearDiscriminantAnalysis\n",
    "Lda = LinearDiscriminantAnalysis()\n",
    "Lda.fit(X_train, y_train.astype(float))\n",
    "Lda_pred = Lda.predict(X_test)\n",
    "Lda_acc = accuracy_score(y_test.astype(float), Lda_pred)\n",
    "print('LDA准确率：', Lda_acc)\n",
    "\n",
    "# 使用QDA模型\n",
    "from sklearn.discriminant_analysis import QuadraticDiscriminantAnalysis\n",
    "Qda = QuadraticDiscriminantAnalysis()\n",
    "Qda.fit(X_train, y_train.astype(float))\n",
    "Qda_pred = Qda.predict(X_test)\n",
    "Qda_acc = accuracy_score(y_test.astype(float), Qda_pred)\n",
    "print('QDA准确率：', Qda_acc)\n"
   ],
   "metadata": {
    "collapsed": false,
    "pycharm": {
     "name": "#%%\n"
    }
   }
  },
  {
   "cell_type": "code",
   "execution_count": 86,
   "outputs": [
    {
     "data": {
      "text/plain": "0.62"
     },
     "execution_count": 86,
     "metadata": {},
     "output_type": "execute_result"
    }
   ],
   "source": [
    "k = 0\n",
    "for i in range(Rfc_pred.shape[0]):\n",
    "    if y_test[i] == Rfc_pred[i]:\n",
    "        k += 1\n",
    "k / y_test.shape[0]"
   ],
   "metadata": {
    "collapsed": false,
    "pycharm": {
     "name": "#%%\n"
    }
   }
  },
  {
   "cell_type": "code",
   "execution_count": 87,
   "outputs": [],
   "source": [
    "# def deal_verify_ydata(Verify_Ydata,Y_data_boundsMin,Y_data_boundsMax):\n",
    "#     # 将pred_Ydata 替换成-1，0，1的分类\n",
    "#     min_data = np.where(Verify_Ydata <= Y_data_boundsMin)\n",
    "#     # print('min_data', min_data)\n",
    "#     max_data = np.where(Verify_Ydata >= Y_data_boundsMax)\n",
    "#     # print('max_data', max_data)\n",
    "#     normal_data = np.where((Verify_Ydata > Y_data_boundsMin) & (Verify_Ydata < Y_data_boundsMax))\n",
    "#     # print('normal_data', normal_data)\n",
    "#     # 统一进行替换为-1，1，0\n",
    "#     Verify_Ydata[min_data] = -1\n",
    "#     Verify_Ydata[max_data] = 1\n",
    "#     Verify_Ydata[normal_data] = 0\n",
    "#     return Verify_Ydata\n",
    "#\n",
    "# # 获取预测数据的Y_data\n",
    "# # Verify_Ydata = Pred_Y_data\n",
    "# Verify_Ydata=deal_verify_ydata(Pred_Y_data,Y_data_boundsMin,Y_data_boundsMax)\n",
    "# np.unique(Verify_Ydata)"
   ],
   "metadata": {
    "collapsed": false,
    "pycharm": {
     "name": "#%%\n"
    }
   }
  },
  {
   "cell_type": "code",
   "execution_count": 88,
   "outputs": [],
   "source": [
    "# # Commonhead\n",
    "# # 这个数据是公共部分 需要转化为数字\n",
    "# Commonhead = Preddata[3:, 4:6]\n",
    "# # 替换的方法 取出第1列\n",
    "# Commonhead[:, 0] = convert_to_num(Commonhead[:, 0])\n",
    "# Commonhead[:, 1] = convert_to_num(Commonhead[:, 1])\n",
    "# # 获取预测数据X_data 处理表1和表2\n",
    "# Verify_TABLE_ONE = Preddata[3:, 6:19]\n",
    "# # 这个地方必须转成字符串   处理掉汉字\n",
    "# Verify_TABLE_ONE[:, 12] = convert_to_num(Verify_TABLE_ONE[:, 12].astype(str))\n",
    "# Verify_TABLE_TWO = Preddata[3:, 19:23]"
   ],
   "metadata": {
    "collapsed": false,
    "pycharm": {
     "name": "#%%\n"
    }
   }
  },
  {
   "cell_type": "code",
   "execution_count": 89,
   "outputs": [],
   "source": [
    "# # 获取预测的合并的表\n",
    "# Verify_TABLE_TWO, Verify_TABLE_THREE, Verify_TABLE_FOUR, Verify_TABLE_FIVE, Verify_TABLE_SIX, Verify_TABLE_SEVEN = get_merge_tabledata(Preddata)\n",
    "# Verify_Xdata = np.delete(Verify_TABLE_TWO, del_cols, axis=1)\n",
    "\n",
    "# 获取X_data 临时合并表1和表2，并且删除缺失的列，用之前保存的del_cols\n",
    "# Verify_Xdata = np.column_stack((Commonhead, Verify_TABLE_ONE, Verify_TABLE_TWO))"
   ],
   "metadata": {
    "collapsed": false,
    "pycharm": {
     "name": "#%%\n"
    }
   }
  },
  {
   "cell_type": "code",
   "execution_count": 90,
   "outputs": [],
   "source": [
    "# Verify_TABLE_ONE, Verify_TABLE_TWO"
   ],
   "metadata": {
    "collapsed": false,
    "pycharm": {
     "name": "#%%\n"
    }
   }
  },
  {
   "cell_type": "code",
   "execution_count": 91,
   "outputs": [],
   "source": [
    "# # 合并数据\n",
    "# temp_data = np.column_stack((Verify_Xdata, Verify_Ydata))\n",
    "# # 删除缺失的行\n",
    "# temp_data = Del_deletion_data(temp_data, 0)\n",
    "# # 获取预测数据的X_data，Y_data\n",
    "# X_verify_data = temp_data[:, :-1]\n",
    "# Y_verify_data = temp_data[:, -1]"
   ],
   "metadata": {
    "collapsed": false,
    "pycharm": {
     "name": "#%%\n"
    }
   }
  },
  {
   "cell_type": "code",
   "execution_count": 92,
   "outputs": [],
   "source": [
    "# np.array([Y_verify_data, Rfc_pred])"
   ],
   "metadata": {
    "collapsed": false,
    "pycharm": {
     "name": "#%%\n"
    }
   }
  },
  {
   "cell_type": "code",
   "execution_count": 93,
   "outputs": [
    {
     "name": "stderr",
     "output_type": "stream",
     "text": [
      "C:\\All_Softwares\\Develop_Tools\\Python310\\lib\\site-packages\\sklearn\\discriminant_analysis.py:903: RuntimeWarning: divide by zero encountered in power\n",
      "  X2 = np.dot(Xm, R * (S ** (-0.5)))\n"
     ]
    },
    {
     "name": "stdout",
     "output_type": "stream",
     "text": [
      "Gbc 0.8011363636363636\n",
      "Rfc 0.7045454545454546\n",
      "Svc 0.8068181818181818\n",
      "Knc 0.6875\n",
      "Abc 0.11931818181818182\n",
      "Dnn 0.8011363636363636\n",
      "CNN 0.7443181818181818\n",
      "Lda 0.7329545454545454\n",
      "Qda 0.0625\n"
     ]
    },
    {
     "name": "stderr",
     "output_type": "stream",
     "text": [
      "C:\\All_Softwares\\Develop_Tools\\Python310\\lib\\site-packages\\sklearn\\discriminant_analysis.py:903: RuntimeWarning: invalid value encountered in multiply\n",
      "  X2 = np.dot(Xm, R * (S ** (-0.5)))\n",
      "C:\\All_Softwares\\Develop_Tools\\Python310\\lib\\site-packages\\sklearn\\discriminant_analysis.py:906: RuntimeWarning: divide by zero encountered in log\n",
      "  u = np.asarray([np.sum(np.log(s)) for s in self.scalings_])\n"
     ]
    }
   ],
   "source": [
    "# 预测数据\n",
    "Rfc_pred = Rfc.predict(X_verify_data)\n",
    "Gbc_pred = Gbc.predict(X_verify_data)\n",
    "Svc_pred = Svc.predict(X_verify_data)\n",
    "Knc_pred = Knc.predict(X_verify_data)\n",
    "Abc_pred = Abc.predict(X_verify_data)\n",
    "Dnn_pred = Dnn.predict(X_verify_data)\n",
    "CNN_pred = CNN.predict(X_verify_data)\n",
    "Lda_pred = Lda.predict(X_verify_data)\n",
    "Qda_pred = Qda.predict(X_verify_data)\n",
    "# 计算准确率\n",
    "verify_y1 = accuracy_score(Y_verify_data.astype(float), Rfc_pred)\n",
    "verify_y2 = accuracy_score(Y_verify_data.astype(float), Gbc_pred)\n",
    "verify_y3 = accuracy_score(Y_verify_data.astype(float), Svc_pred)\n",
    "verify_y4 = accuracy_score(Y_verify_data.astype(float), Knc_pred)\n",
    "verify_y5 = accuracy_score(Y_verify_data.astype(float), Abc_pred)\n",
    "verify_y6 = accuracy_score(Y_verify_data.astype(float), Dnn_pred)\n",
    "verify_y7 = accuracy_score(Y_verify_data.astype(float), CNN_pred)\n",
    "verify_y8 = accuracy_score(Y_verify_data.astype(float), Lda_pred)\n",
    "verify_y9 = accuracy_score(Y_verify_data.astype(float), Qda_pred)\n",
    "\n",
    "print('Gbc', verify_y1)\n",
    "print('Rfc', verify_y2)\n",
    "print('Svc', verify_y3)\n",
    "print('Knc', verify_y4)\n",
    "print('Abc', verify_y5)\n",
    "print('Dnn', verify_y6)\n",
    "print('CNN', verify_y7)\n",
    "print('Lda', verify_y8)\n",
    "print('Qda', verify_y9)\n"
   ],
   "metadata": {
    "collapsed": false,
    "pycharm": {
     "name": "#%%\n"
    }
   }
  }
 ],
 "metadata": {
  "kernelspec": {
   "display_name": "Python 3",
   "language": "python",
   "name": "python3"
  },
  "language_info": {
   "codemirror_mode": {
    "name": "ipython",
    "version": 2
   },
   "file_extension": ".py",
   "mimetype": "text/x-python",
   "name": "python",
   "nbconvert_exporter": "python",
   "pygments_lexer": "ipython2",
   "version": "2.7.6"
  }
 },
 "nbformat": 4,
 "nbformat_minor": 0
}